{
 "cells": [
  {
   "cell_type": "markdown",
   "metadata": {},
   "source": [
    "爬虫新闻网站"
   ]
  },
  {
   "cell_type": "code",
   "execution_count": 3,
   "metadata": {},
   "outputs": [
    {
     "name": "stdout",
     "output_type": "stream",
     "text": [
      "正在爬取第 1 页...\n",
      "正在爬取第 2 页...\n",
      "正在爬取第 3 页...\n",
      "正在爬取第 4 页...\n",
      "正在爬取第 5 页...\n",
      "正在爬取第 6 页...\n",
      "正在爬取第 7 页...\n",
      "正在爬取第 8 页...\n",
      "正在爬取第 9 页...\n",
      "正在爬取第 10 页...\n",
      "爬取完成，数据已保存至 chinanews_scroll_news.csv\n"
     ]
    }
   ],
   "source": [
    "import requests\n",
    "from bs4 import BeautifulSoup\n",
    "import csv\n",
    "import time\n",
    "\n",
    "# 设置请求头，模拟浏览器访问\n",
    "headers = {\n",
    "    'User-Agent': 'Mozilla/5.0 (Windows NT 10.0; Win64; x64) AppleWebKit/537.36 (KHTML, like Gecko) Chrome/119.0.0.0 Safari/537.36'\n",
    "}\n",
    "\n",
    "# 目标URL模板\n",
    "base_url = \"https://www.chinanews.com.cn/scroll-news/news{}.html\"\n",
    "\n",
    "# 结果保存文件\n",
    "output_file = \"chinanews_scroll_news.csv\"\n",
    "\n",
    "# 写入CSV文件头\n",
    "with open(output_file, mode='w', encoding='utf-8-sig', newline='') as file:\n",
    "    writer = csv.writer(file)\n",
    "    writer.writerow([\"标题\", \"链接\", \"类别\", \"发布时间\"])\n",
    "\n",
    "# 爬取10页\n",
    "for page in range(1, 11):\n",
    "    print(f\"正在爬取第 {page} 页...\")\n",
    "    url = base_url.format(page)\n",
    "    response = requests.get(url, headers=headers)\n",
    "    response.encoding = 'utf-8'\n",
    "\n",
    "    # 检查请求是否成功\n",
    "    if response.status_code != 200:\n",
    "        print(f\"第 {page} 页请求失败，状态码：{response.status_code}\")\n",
    "        continue\n",
    "\n",
    "    # 解析HTML\n",
    "    soup = BeautifulSoup(response.text, 'html.parser')\n",
    "    news_list = soup.select('.content_list ul li')\n",
    "\n",
    "    # 提取新闻数据\n",
    "    with open(output_file, mode='a', encoding='utf-8-sig', newline='') as file:\n",
    "        writer = csv.writer(file)\n",
    "\n",
    "        for news in news_list:\n",
    "            # 获取分类\n",
    "            category_tag = news.select_one('.dd_lm a')\n",
    "\n",
    "            if category_tag and category_tag.text.strip() in ['视频', '图片']:\n",
    "                continue\n",
    "        \n",
    "            category = category_tag.text.strip() if category_tag else '无分类'\n",
    "\n",
    "            # 获取标题和链接\n",
    "            title_tag = news.select_one('.dd_bt a')\n",
    "            if title_tag:\n",
    "                title = title_tag.text.strip()\n",
    "                link = title_tag['href']\n",
    "                if not link.startswith('http'):\n",
    "                    link = \"https://www.chinanews.com.cn\" + link\n",
    "            else:\n",
    "                continue\n",
    "\n",
    "            # 获取发布时间\n",
    "            time_tag = news.select_one('.dd_time')\n",
    "            pub_time = time_tag.text.strip() if time_tag else '无时间'\n",
    "\n",
    "            # 写入CSV\n",
    "            writer.writerow([title, link, category, pub_time])\n",
    "\n",
    "    # 延迟以避免被封IP\n",
    "    time.sleep(2)\n",
    "\n",
    "print(f\"爬取完成，数据已保存至 {output_file}\")\n"
   ]
  }
 ],
 "metadata": {
  "kernelspec": {
   "display_name": "Python 3",
   "language": "python",
   "name": "python3"
  },
  "language_info": {
   "codemirror_mode": {
    "name": "ipython",
    "version": 3
   },
   "file_extension": ".py",
   "mimetype": "text/x-python",
   "name": "python",
   "nbconvert_exporter": "python",
   "pygments_lexer": "ipython3",
   "version": "3.11.9"
  }
 },
 "nbformat": 4,
 "nbformat_minor": 2
}
