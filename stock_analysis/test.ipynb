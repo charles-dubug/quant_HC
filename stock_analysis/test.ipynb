{
 "cells": [
  {
   "cell_type": "code",
   "execution_count": 1,
   "metadata": {},
   "outputs": [],
   "source": [
    "import utils\n",
    "import adata"
   ]
  },
  {
   "cell_type": "code",
   "execution_count": 2,
   "metadata": {},
   "outputs": [
    {
     "name": "stdout",
     "output_type": "stream",
     "text": [
      "{'analysis': '止损价设定为16.80元（略低于近期关键支撑位16.84元），因主力资金持续净流出且量价背离，跌破支撑可能加速下跌。止盈价设定为17.40元（接近前高阻力位17.24-17.28元区域上沿），因资金外流压力下上行空间受限，需警惕反弹后遇阻回落。',\n",
      " 'prediction': 4,\n",
      " 'reason': '尽管股价近期呈现上涨趋势，但资金流向数据显示主力资金在近1日、5日、10日均持续净流出（-44.7万、-26.0万、-1.5亿元），尤其是特大单和大单资金在10日累计净流出显著（-5440万、-9516万），暗示大资金撤离。同时，K线成交量在上涨过程中逐步萎缩（如3月10日成交量较3月7日下降53%），换手率从2.08%降至0.97%，呈现量价背离。此外，近5日特大单净流入仅为短期现象，无法抵消长期资金外流压力。综合判断，主力资金撤离与量能不足可能导致未来回调压力加剧。',\n",
      " 'stock_code': '601168',\n",
      " 'stop_loss': 16.8,\n",
      " 'take_profit': 17.4}\n",
      "\n",
      "-------------------------------------------------------\n",
      "\n",
      "{'analysis': '止损价设定为10.5元，基于近5日最低价10.59元（2025-03-07）下破后的风险容忍空间；止盈价设定为11.0元，因该位置接近3月6日高点10.85元和2月28日前压力区。主力资金持续净流出且散户接盘现象显著，短期反弹缺乏资金支撑，止损点反映技术支撑失效风险，止盈点锁定潜在反弹阻力。',\n",
      " 'prediction': 3,\n",
      " 'reason': '尽管近期股价处于盘整阶段，但资金流向数据显示主力资金（大单和特大单）在近1日、5日、10日均持续净流出，尤其是近5日主力净流出加速（-19,617,800元），而小单资金持续流入，暗示散户接盘、主力离场。K线显示成交量萎缩，市场活跃度下降，缺乏上涨动力。02-27至02-28的大幅波动后，价格进入震荡但无明确方向，结合资金面的消极信号，未来可能出现向下突破。',\n",
      " 'stock_code': '301332',\n",
      " 'stop_loss': 10.5,\n",
      " 'take_profit': 11.0}\n",
      "\n",
      "-------------------------------------------------------\n",
      "\n"
     ]
    }
   ],
   "source": [
    "utils.combined_analysis([\"601168\", \"301332\"])"
   ]
  },
  {
   "cell_type": "code",
   "execution_count": null,
   "metadata": {},
   "outputs": [],
   "source": []
  }
 ],
 "metadata": {
  "kernelspec": {
   "display_name": "news",
   "language": "python",
   "name": "python3"
  },
  "language_info": {
   "codemirror_mode": {
    "name": "ipython",
    "version": 3
   },
   "file_extension": ".py",
   "mimetype": "text/x-python",
   "name": "python",
   "nbconvert_exporter": "python",
   "pygments_lexer": "ipython3",
   "version": "3.13.2"
  }
 },
 "nbformat": 4,
 "nbformat_minor": 2
}
