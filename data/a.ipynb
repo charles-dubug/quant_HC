{
 "cells": [
  {
   "cell_type": "code",
   "execution_count": null,
   "metadata": {},
   "outputs": [
    {
     "name": "stdout",
     "output_type": "stream",
     "text": [
      "      证券类别     数量          成交金额           总市值          流通市值\n",
      "0       股票   2892  1.337843e+12  3.543463e+13  3.011052e+13\n",
      "1     主板A股   1484  6.680070e+11  2.149945e+13  1.942046e+13\n",
      "2     主板B股     39  1.400922e+08  5.132889e+10  5.119274e+10\n",
      "3    创业板A股   1369  6.696957e+11  1.388385e+13  1.063886e+13\n",
      "4       基金    754  8.151741e+10  1.154960e+12  1.121386e+12\n",
      "5      ETF    442  8.040393e+10  1.060125e+12  1.060125e+12\n",
      "6      LOF    290  8.871437e+08  3.546362e+10  3.546362e+10\n",
      "7    封闭式基金      1  5.063119e+06  1.679609e+09  1.679609e+09\n",
      "8   基础设施基金     21  2.212723e+08  5.769171e+10  2.411857e+10\n",
      "9       债券  15152  3.249646e+11           NaN           NaN\n",
      "10    债券现券  14493  6.917059e+10  8.413431e+13  2.903846e+12\n",
      "11    债券回购     27  2.554440e+11           NaN           NaN\n",
      "12     ABS    632  3.500490e+08  4.372143e+11  4.372143e+11\n",
      "13      期权    608  1.169385e+09           NaN           NaN\n",
      "      证券类别     数量          成交金额           总市值          流通市值\n",
      "0       股票   2892  1.337843e+12  3.543463e+13  3.011052e+13\n",
      "1     主板A股   1484  6.680070e+11  2.149945e+13  1.942046e+13\n",
      "2     主板B股     39  1.400922e+08  5.132889e+10  5.119274e+10\n",
      "3    创业板A股   1369  6.696957e+11  1.388385e+13  1.063886e+13\n",
      "4       基金    754  8.151741e+10  1.154960e+12  1.121386e+12\n",
      "5      ETF    442  8.040393e+10  1.060125e+12  1.060125e+12\n",
      "6      LOF    290  8.871437e+08  3.546362e+10  3.546362e+10\n",
      "7    封闭式基金      1  5.063119e+06  1.679609e+09  1.679609e+09\n",
      "8   基础设施基金     21  2.212723e+08  5.769171e+10  2.411857e+10\n",
      "9       债券  15152  3.249646e+11           NaN           NaN\n",
      "10    债券现券  14493  6.917059e+10  8.413431e+13  2.903846e+12\n",
      "11    债券回购     27  2.554440e+11           NaN           NaN\n",
      "12     ABS    632  3.500490e+08  4.372143e+11  4.372143e+11\n",
      "13      期权    608  1.169385e+09           NaN           NaN\n",
      "    项目名称                   项目名称-英文  交易天数       成交金额-人民币元  成交金额-占总计  \\\n",
      "0     合计                     Total    18  12797346256776    100.00   \n",
      "1   农林牧渔               Agriculture    18     81959102700      0.64   \n",
      "2    采矿业                    Mining    18     92263889071      0.72   \n",
      "3    制造业             Manufacturing    18   8629767870655     67.43   \n",
      "4   水电煤气                 Utilities    18     92119234528      0.72   \n",
      "5    建筑业              Construction    18     79341083157      0.62   \n",
      "6   批发零售        Wholesale & Retail    18    446585758971      3.49   \n",
      "7   运输仓储            Transportation    18    101119645056      0.79   \n",
      "8   住宿餐饮         Hotels & Catering    18     12977773203      0.10   \n",
      "9   信息技术                        IT    18   1778343828765     13.90   \n",
      "10   金融业                   Finance    18    556014586952      4.34   \n",
      "11   房地产               Real Estate    18    130027421601      1.02   \n",
      "12  商务服务          Business Support    18    403570860326      3.15   \n",
      "13  科研服务    Research & Development    18    110626856303      0.86   \n",
      "14  公共环保  Environmental Protection    18     82012479434      0.64   \n",
      "15  居民服务         Resident Services    18      1380962740      0.01   \n",
      "16    教育                 Education    18     32550128302      0.25   \n",
      "17    卫生             Public Health    18     42095615991      0.33   \n",
      "18  文化传播                     Media    18    107581655354      0.84   \n",
      "19    综合             Conglomerates    18     17007503667      0.13   \n",
      "\n",
      "          成交股数-股数  成交股数-占总计      成交笔数-笔  成交笔数-占总计  \n",
      "0   1102116260223    100.00  1072706301    100.00  \n",
      "1      9399492707      0.85     7661044      0.71  \n",
      "2      9878192740      0.90     9355248      0.87  \n",
      "3    658476162920     59.75   715973899     66.74  \n",
      "4     16229887048      1.47    12802444      1.19  \n",
      "5     15274277217      1.39    10222345      0.95  \n",
      "6     52130678407      4.73    40706994      3.79  \n",
      "7     10863950008      0.99    11426446      1.07  \n",
      "8      2114778738      0.19     1728478      0.16  \n",
      "9    129291809569     11.73   137478307     12.82  \n",
      "10    41461501835      3.76    31633210      2.95  \n",
      "11    31788728507      2.88    13878880      1.29  \n",
      "12    71465288349      6.48    38310245      3.57  \n",
      "13     6923026099      0.63    10972681      1.02  \n",
      "14    17729676291      1.61    10919804      1.02  \n",
      "15      148411858      0.01      217920      0.02  \n",
      "16     7073096176      0.64     3040949      0.28  \n",
      "17     5628801958      0.51     4706600      0.44  \n",
      "18    14651178792      1.33    10017645      0.93  \n",
      "19     1587321004      0.14     1653162      0.15  \n"
     ]
    }
   ],
   "source": [
    "#上証指數\n",
    "import akshare as ak\n",
    "\n",
    "#shenzhen\n",
    "\n",
    "stock_szse_summary_df = ak.stock_szse_summary(date=\"20250221\")\n",
    "print(stock_szse_summary_df)\n",
    "\n",
    "\n",
    "#shanghai \n",
    "stock_sse_summary_df = ak.stock_szse_summary(date=\"20250221\")\n",
    "print(stock_sse_summary_df)"
   ]
  },
  {
   "cell_type": "code",
   "execution_count": null,
   "metadata": {},
   "outputs": [],
   "source": [
    "import akshare as ak\n",
    "import pandas as pd\n",
    "# 获取东方财富网的概念板块数据\n",
    "\n",
    "industry_board_df = ak.stock_board_industry_name_em()\n",
    "\n",
    "industry_board_df.to_csv(r\"C:\\Quant\\quant_HC\\data\\stocks\\industry_board_df.csv\", index=False)\n",
    "print(industry_board_df)\n"
   ]
  },
  {
   "cell_type": "code",
   "execution_count": 105,
   "metadata": {},
   "outputs": [
    {
     "name": "stdout",
     "output_type": "stream",
     "text": [
      "akshare 版本: 1.16.10\n",
      "前5行数据示例:\n",
      "    排名        板块名称    板块代码      最新价  涨跌额  涨跌幅            总市值  换手率  上涨家数  下跌家数  \\\n",
      "0   1         腾讯云  BK1189  1082.97  0.0  0.0   728285904000  0.0     0     0   \n",
      "1   2  DeepSeek概念  BK1188  1367.65  0.0  0.0  3374162160000  0.0     0     0   \n",
      "2   3       小红书概念  BK1187  1141.88  0.0  0.0   495616336000  0.0     0     0   \n",
      "3   4        首发经济  BK1186   968.55  0.0  0.0   318992288000  0.0     0     0   \n",
      "4   5        冰雪经济  BK1185   878.81  0.0  0.0   227548616000  0.0     0     0   \n",
      "\n",
      "  领涨股票  领涨股票-涨跌幅  \n",
      "0    -       NaN  \n",
      "1    -       NaN  \n",
      "2    -       NaN  \n",
      "3    -       NaN  \n",
      "4    -       NaN  \n",
      "\n",
      "列名检查: ['排名', '板块名称', '板块代码', '最新价', '涨跌额', '涨跌幅', '总市值', '换手率', '上涨家数', '下跌家数', '领涨股票', '领涨股票-涨跌幅']\n",
      "警告：涨跌幅全为0，可能未在交易时段运行！\n"
     ]
    }
   ],
   "source": [
    "import akshare as ak\n",
    "\n",
    "# 检查 akshare 版本（需 >= 1.10.0）\n",
    "print(\"akshare 版本:\", ak.__version__)\n",
    "\n",
    "# 获取概念板块数据\n",
    "try:\n",
    "    df = ak.stock_board_concept_name_em()\n",
    "    print(\"前5行数据示例:\\n\", df.head())\n",
    "    print(\"\\n列名检查:\", df.columns.tolist())\n",
    "    \n",
    "    # 检查关键字段是否有有效数据\n",
    "    if df[\"涨跌幅\"].sum() == 0:\n",
    "        print(\"警告：涨跌幅全为0，可能未在交易时段运行！\")\n",
    "except Exception as e:\n",
    "    print(\"接口调用失败，错误信息:\", e)"
   ]
  },
  {
   "cell_type": "code",
   "execution_count": 81,
   "metadata": {},
   "outputs": [
    {
     "name": "stdout",
     "output_type": "stream",
     "text": [
      "        序号      代码    名称     最新价    涨跌幅    涨跌额       成交量           成交额     振幅  \\\n",
      "0        1  301003  江苏博云   28.14  20.00   4.69   28112.0  7.675015e+07  16.80   \n",
      "1        2  300539  横河精密   16.20  20.00   2.70  152870.0  2.286527e+08  20.00   \n",
      "2        3  300031  宝通科技   31.45  19.99   5.24  184534.0  5.803599e+08   0.00   \n",
      "3        4  300214  日科化学    8.32  19.03   1.33  629392.0  5.110682e+08  16.17   \n",
      "4        5  873527   夜光明   17.80  17.49   2.65   40005.0  6.715532e+07  15.38   \n",
      "...    ...     ...   ...     ...    ...    ...       ...           ...    ...   \n",
      "5686  5687  600602  云赛智联   26.98  -6.32  -1.82  854962.0  2.372115e+09   6.01   \n",
      "5687  5688  600825  新华传媒    7.30  -6.41  -0.50  484299.0  3.567987e+08   4.74   \n",
      "5688  5689  688692  达梦数据  376.88  -6.48 -26.12    4250.0  1.624194e+08   5.75   \n",
      "5689  5690  300660  江苏雷利   66.64  -6.63  -4.73  145165.0  9.700837e+08   6.96   \n",
      "5690  5691  301186  超达装备   47.01  -7.13  -3.61   27183.0  1.300697e+08  11.54   \n",
      "\n",
      "          最高  ...     量比    换手率  市盈率-动态   市净率           总市值          流通市值  \\\n",
      "0      28.14  ...  26.95   3.67   20.78  2.40  2.787361e+09  2.157288e+09   \n",
      "1      16.20  ...   9.68   8.91  111.36  6.57  3.600518e+09  2.777967e+09   \n",
      "2      31.45  ...   3.76   5.29   41.24  3.40  1.306973e+10  1.097012e+10   \n",
      "3       8.39  ...  19.31  15.60  -55.47  1.57  3.870153e+09  3.357651e+09   \n",
      "4      17.88  ...  26.64  11.01   34.69  2.78  1.068760e+09  6.469942e+08   \n",
      "...      ...  ...    ...    ...     ...   ...           ...           ...   \n",
      "5686   28.52  ...   5.42   7.96  175.24  7.84  3.689983e+10  2.898469e+10   \n",
      "5687    7.59  ...   8.73   4.63  584.21  3.09  7.627681e+09  7.627681e+09   \n",
      "5688  400.00  ...   6.53   2.80   79.13  8.95  2.864288e+10  5.728576e+09   \n",
      "5689   69.99  ...   4.69   4.55   66.27  6.29  2.128370e+10  2.126761e+10   \n",
      "5690   51.49  ...  20.49   3.66   36.72  2.59  3.735646e+09  3.489887e+09   \n",
      "\n",
      "        涨速  5分钟涨跌  60日涨跌幅  年初至今涨跌幅  \n",
      "0     0.00   0.00   23.42    28.91  \n",
      "1     8.72  13.05   35.34    52.54  \n",
      "2     0.00   0.00   43.35    71.67  \n",
      "3     2.97   0.12   36.62    48.84  \n",
      "4     4.83   5.20   11.53    51.36  \n",
      "...    ...    ...     ...      ...  \n",
      "5686 -1.28  -1.86   85.30    70.54  \n",
      "5687  0.27  -0.54   20.66    11.45  \n",
      "5688 -0.55  -0.50   -2.54     3.41  \n",
      "5689  0.97  -0.09  114.41    74.36  \n",
      "5690  0.53   0.60   18.35    17.85  \n",
      "\n",
      "[5691 rows x 23 columns]\n"
     ]
    }
   ],
   "source": [
    "import akshare as ak\n",
    "\n",
    "stock_zh_a_spot_em_df = ak.stock_zh_a_spot_em()\n",
    "print(stock_zh_a_spot_em_df)\n"
   ]
  },
  {
   "cell_type": "code",
   "execution_count": 74,
   "metadata": {},
   "outputs": [
    {
     "name": "stdout",
     "output_type": "stream",
     "text": [
      "CSV file has been saved as 'stock_zh_a_spot_em.csv' in the specified directory.\n"
     ]
    }
   ],
   "source": [
    "import akshare as ak\n",
    "\n",
    "# Fetch the stock data\n",
    "stock_zh_a_spot_em_df = ak.stock_zh_a_spot_em()\n",
    "\n",
    "# Save the DataFrame to a CSV file (corrected file path)\n",
    "stock_zh_a_spot_em_df.to_csv(r\"C:\\Quant\\quant_HC\\data\\stocks\\stock_zh_a_spot_em.csv\", index=False)\n",
    "\n",
    "print(\"CSV file has been saved as 'stock_zh_a_spot_em.csv' in the specified directory.\")\n"
   ]
  },
  {
   "cell_type": "code",
   "execution_count": 88,
   "metadata": {},
   "outputs": [
    {
     "name": "stdout",
     "output_type": "stream",
     "text": [
      "大资金流入候选股：\n",
      "         代码    名称    最新价    涨跌幅    换手率     量比           成交额\n",
      "3    300214  日科化学   8.32  19.03  15.60  19.31  5.110682e+08\n",
      "59   300846  首都在线  29.60   7.68  15.90   5.41  1.794553e+09\n",
      "63   301013   利和兴  18.06   7.50  19.31  12.81  6.537943e+08\n",
      "71   600203  福日电子  13.03   7.07  22.34  30.64  1.751149e+09\n",
      "73   600355  精伦电子   4.45   6.97  23.12  27.68  5.091574e+08\n",
      "79   002765  蓝黛科技  14.42   6.58  15.24  10.66  1.286020e+09\n",
      "112  002369  卓翼科技  13.24   5.67  26.94  18.38  2.011776e+09\n"
     ]
    }
   ],
   "source": [
    "# 综合筛选大资金流入候选股\n",
    "candidates = stock_zh_a_spot_em_df[\n",
    "    (stock_zh_a_spot_em_df[\"量比\"] > 2) &\n",
    "    (stock_zh_a_spot_em_df[\"换手率\"] > 15) &\n",
    "    (stock_zh_a_spot_em_df[\"涨跌幅\"] > 5) &\n",
    "    (stock_zh_a_spot_em_df[\"成交额\"] > 5e8)\n",
    "]\n",
    "\n",
    "print(\"大资金流入候选股：\")\n",
    "print(candidates[[\"代码\", \"名称\", \"最新价\", \"涨跌幅\", \"换手率\", \"量比\", \"成交额\"]])"
   ]
  },
  {
   "cell_type": "code",
   "execution_count": 96,
   "metadata": {},
   "outputs": [
    {
     "name": "stdout",
     "output_type": "stream",
     "text": [
      "大资金流入候选股：\n",
      "         代码    名称    最新价    涨跌幅    换手率     量比           成交额\n",
      "0    301003  江苏博云  28.14  20.00   3.67  26.95  7.675015e+07\n",
      "1    300539  横河精密  16.20  20.00   8.91   9.68  2.286527e+08\n",
      "2    300031  宝通科技  31.45  19.99   5.29   3.76  5.803599e+08\n",
      "3    300214  日科化学   8.32  19.03  15.60  19.31  5.110682e+08\n",
      "4    873527   夜光明  17.80  17.49  11.01  26.64  6.715532e+07\n",
      "..      ...   ...    ...    ...    ...    ...           ...\n",
      "135  688623  双元科技  59.80   5.08   1.19   6.83  1.303668e+07\n",
      "136  301396  宏景科技  52.65   5.03  11.85   3.74  3.192754e+08\n",
      "137  002569  ST步森   9.20   5.02   0.91  12.38  1.148175e+07\n",
      "138  600608  ST沪科   3.56   5.01   0.64   7.29  7.116564e+06\n",
      "139  300521   爱司凯  22.64   5.01   1.82   4.90  5.777237e+07\n",
      "\n",
      "[140 rows x 7 columns]\n"
     ]
    }
   ],
   "source": [
    "# 综合筛选大资金流入候选股\n",
    "candidates_2 = stock_zh_a_spot_em_df[\n",
    "    (stock_zh_a_spot_em_df[\"涨跌幅\"] > 5)\n",
    "]\n",
    "\n",
    "print(\"大资金流入候选股：\")\n",
    "print(candidates_2[[\"代码\", \"名称\", \"最新价\", \"涨跌幅\", \"换手率\", \"量比\", \"成交额\"]])"
   ]
  },
  {
   "cell_type": "code",
   "execution_count": 97,
   "metadata": {},
   "outputs": [
    {
     "name": "stdout",
     "output_type": "stream",
     "text": [
      "大资金流入候选股：\n",
      "          代码       名称    最新价    涨跌幅    换手率     量比           成交额\n",
      "6     301382      蜂助手  47.64  20.00  27.27   2.11  1.551669e+09\n",
      "8     300148     天舟文化   5.10  20.00  27.28   3.05  1.049429e+09\n",
      "10    301139     元道通信  31.82  19.98  28.32   3.08  6.111752e+08\n",
      "12    300159     新研股份   2.89  19.92  18.25   2.54  7.484901e+08\n",
      "13    301202     朗威股份  58.10  18.52  63.54   2.37  1.298787e+09\n",
      "15    301336     趣睡科技  88.01  15.80  32.40   2.05  6.524976e+08\n",
      "16    300873     海晨股份  22.10  14.98  20.88   6.13  7.636306e+08\n",
      "21    688327  云从科技-UW  19.45  13.08  27.33   2.18  3.999460e+09\n",
      "22    300475     香农芯创  36.99  13.05  25.66   3.23  3.996801e+09\n",
      "31    300310     宜通世纪   8.96  10.75  27.22   2.58  1.642886e+09\n",
      "54      2522     浙江众成   6.03  10.04  17.89   6.81  9.359171e+08\n",
      "77      2401     中远海科  18.69  10.01  15.84   4.71  1.079470e+09\n",
      "94      2290     禾盛新材  26.52  10.00  19.05   2.60  1.207717e+09\n",
      "110      573     粤宏远Ａ   4.44   9.90  19.97   2.62  5.468631e+08\n",
      "127   300411     金盾股份  15.07   8.65  21.13   3.11  9.769648e+08\n",
      "139   834415     恒拓开源  21.37   7.98  22.20   2.27  5.199590e+08\n",
      "141   603703     盛洋科技  13.93   7.90  15.06   3.72  8.704271e+08\n",
      "153   300387     富邦科技  10.39   7.22  23.39   3.24  7.414721e+08\n",
      "159   300374     中铁装配  19.10   7.06  15.47   2.21  5.917097e+08\n",
      "179   603721     中广天择  33.53   6.38  25.85   3.07  1.145586e+09\n",
      "218   300302     同有科技  17.72   5.66  15.81   2.15  1.024486e+09\n",
      "226   301013      利和兴  14.46   5.55  20.67   2.29  5.566819e+08\n",
      "253   600439      瑞贝卡   4.40   5.26  19.55   2.12  9.805683e+08\n",
      "277   603395      红四方  50.07   5.01  35.66   3.90  7.269693e+08\n",
      "334   300245     天玑科技  18.70   4.47  44.56   3.40  2.763307e+09\n",
      "413   300021     大禹节水   4.84   3.86  15.06   3.48  5.252334e+08\n",
      "549   600143     金发科技  13.81   3.14  15.70   2.47  5.564446e+09\n",
      "670   600405      动力源   5.80   2.65  21.47   2.54  7.100417e+08\n",
      "698     1306     夏厦精密  87.70   2.57  52.27   2.34  7.323680e+08\n",
      "971     2334      英威腾   9.71   1.89  25.74   2.44  1.801381e+09\n",
      "1098      16     深康佳Ａ   5.47   1.67  18.58   3.17  1.643630e+09\n",
      "1148  300189     神农种业   4.41   1.61  32.28   2.09  1.339626e+09\n",
      "1149  300068     南都电源  18.90   1.61  25.34   2.18  4.061284e+09\n",
      "1253  300364     中文在线  28.58   1.46  24.09   2.52  4.694981e+09\n",
      "1422  300077     国民技术  28.60   1.24  36.44   3.13  6.095276e+09\n",
      "2099    2343     慈文传媒   8.61   0.58  38.06  10.89  1.621286e+09\n",
      "5488  603206     嘉环科技  19.26  -4.42  42.45   3.55  7.531591e+08\n"
     ]
    }
   ],
   "source": [
    "import pandas as pd\n",
    "\n",
    "# Load the CSV file into a DataFrame\n",
    "csv_file_path = r\"C:\\Quant\\quant_HC\\data\\stocks\\stock_zh_a_spot_em.csv\"\n",
    "stock_df = pd.read_csv(csv_file_path)\n",
    "\n",
    "# Display the first few rows of the DataFrame\n",
    "# 综合筛选大资金流入候选股\n",
    "candidates_1 = stock_df[\n",
    "    (stock_df[\"量比\"] > 2) &\n",
    "    (stock_df[\"换手率\"] > 15) &\n",
    "    (stock_df[\"成交额\"] > 5e8)\n",
    "]\n",
    "\n",
    "print(\"大资金流入候选股：\")\n",
    "print(candidates_1[[\"代码\", \"名称\", \"最新价\", \"涨跌幅\", \"换手率\", \"量比\", \"成交额\"]])"
   ]
  },
  {
   "cell_type": "code",
   "execution_count": 98,
   "metadata": {},
   "outputs": [
    {
     "name": "stdout",
     "output_type": "stream",
     "text": [
      "重合的股票：\n",
      "       代码 名称_x  最新价_x  涨跌幅_x  换手率_x  量比_x        成交额_x\n",
      "0  301013  利和兴  14.46   5.55  20.67  2.29  556681923.0\n",
      "\n",
      "重合的股票代码：['301013']\n"
     ]
    },
    {
     "name": "stderr",
     "output_type": "stream",
     "text": [
      "C:\\Users\\charl\\AppData\\Local\\Temp\\ipykernel_68924\\1444991662.py:4: SettingWithCopyWarning: \n",
      "A value is trying to be set on a copy of a slice from a DataFrame.\n",
      "Try using .loc[row_indexer,col_indexer] = value instead\n",
      "\n",
      "See the caveats in the documentation: https://pandas.pydata.org/pandas-docs/stable/user_guide/indexing.html#returning-a-view-versus-a-copy\n",
      "  candidates_1[\"代码\"] = candidates_1[\"代码\"].astype(str)\n",
      "C:\\Users\\charl\\AppData\\Local\\Temp\\ipykernel_68924\\1444991662.py:5: SettingWithCopyWarning: \n",
      "A value is trying to be set on a copy of a slice from a DataFrame.\n",
      "Try using .loc[row_indexer,col_indexer] = value instead\n",
      "\n",
      "See the caveats in the documentation: https://pandas.pydata.org/pandas-docs/stable/user_guide/indexing.html#returning-a-view-versus-a-copy\n",
      "  candidates_2[\"代码\"] = candidates[\"代码\"].astype(str)\n"
     ]
    }
   ],
   "source": [
    "import pandas as pd\n",
    "\n",
    "# 将 '代码' 列转换为字符串类型\n",
    "candidates_1[\"代码\"] = candidates_1[\"代码\"].astype(str)\n",
    "candidates_2[\"代码\"] = candidates[\"代码\"].astype(str)\n",
    "\n",
    "# 通过 '代码' 列进行合并\n",
    "common_df = pd.merge(candidates_1, candidates, on=\"代码\", how=\"inner\")\n",
    "\n",
    "# 打印重合的行\n",
    "print(\"重合的股票：\")\n",
    "print(common_df[[\"代码\", \"名称_x\", \"最新价_x\", \"涨跌幅_x\", \"换手率_x\", \"量比_x\", \"成交额_x\"]])\n",
    "\n",
    "# 打印重合的股票代码\n",
    "common_codes = common_df[\"代码\"].unique()\n",
    "print(f\"\\n重合的股票代码：{common_codes}\")\n",
    "\n",
    "# 如果没有重合\n",
    "if common_df.empty:\n",
    "    print(\"\\n两个 DataFrame 之间没有重合的股票。\")\n"
   ]
  },
  {
   "cell_type": "code",
   "execution_count": 99,
   "metadata": {},
   "outputs": [
    {
     "name": "stdout",
     "output_type": "stream",
     "text": [
      "最新交易日收盘涨跌幅: 1.02%\n"
     ]
    }
   ],
   "source": [
    "import akshare as ak\n",
    "\n",
    "# 获取指数日线数据（示例：上证指数 sh000001）\n",
    "symbol = \"sh000001\"\n",
    "index_daily = ak.stock_zh_index_daily(symbol=symbol)\n",
    "\n",
    "# 计算每日涨跌幅（收盘价相对于前一日的涨跌百分比）\n",
    "index_daily['涨跌幅'] = index_daily['close'].pct_change() * 100\n",
    "\n",
    "# 获取最新交易日尾盘（收盘）涨跌幅\n",
    "latest_change = index_daily['涨跌幅'].iloc[-1]\n",
    "print(f\"最新交易日收盘涨跌幅: {latest_change:.2f}%\")"
   ]
  },
  {
   "cell_type": "code",
   "execution_count": 109,
   "metadata": {},
   "outputs": [
    {
     "name": "stdout",
     "output_type": "stream",
     "text": [
      "获取 sh000001 分钟数据失败: index 0 is out of bounds for axis 0 with size 0\n",
      "获取 sh000300 分钟数据失败: index 0 is out of bounds for axis 0 with size 0\n",
      "获取 sz399001 分钟数据失败: index 0 is out of bounds for axis 0 with size 0\n",
      "获取 sz399006 分钟数据失败: index 0 is out of bounds for axis 0 with size 0\n",
      "获取 sh000688 分钟数据失败: index 0 is out of bounds for axis 0 with size 0\n",
      "\n",
      "A股主要指数收盘价及尾盘涨幅:\n",
      "    指数名称       收盘价  最后30分钟涨幅 (%)\n",
      "0   上证指数   3380.21           0.0\n",
      "1  沪深300   3959.94           0.0\n",
      "2   深证成指  10955.65           0.0\n",
      "3   创业板指   2268.22           0.0\n",
      "4   科创50   1126.82           0.0\n"
     ]
    }
   ],
   "source": [
    "import akshare as ak\n",
    "import pandas as pd\n",
    "from datetime import datetime, timedelta\n",
    "\n",
    "# 定义主要指数代码（格式：akshare 兼容的代码）\n",
    "index_list = {\n",
    "    \"上证指数\": \"sh000001\",\n",
    "    \"沪深300\": \"sh000300\",\n",
    "    \"深证成指\": \"sz399001\",\n",
    "    \"创业板指\": \"sz399006\",\n",
    "    \"科创50\": \"sh000688\"\n",
    "}\n",
    "\n",
    "def get_index_last_30min_change(symbol: str) -> float:\n",
    "    \"\"\"获取指数最后30分钟涨幅（基于分钟数据）\"\"\"\n",
    "    try:\n",
    "        # 获取分钟级数据（周期为1分钟）\n",
    "        minute_data = ak.stock_board_concept_hist_min_em(symbol=\"上证指数\", period=\"30\")\n",
    "\n",
    "        minute_data['日期时间'] = pd.to_datetime(minute_data['日期时间'])\n",
    "        \n",
    "        # 筛选交易日的最后30分钟（14:30-15:00）\n",
    "        last_date = minute_data['日期时间'].max().date()  # 最新日期\n",
    "        mask = (minute_data['日期时间'] >= pd.Timestamp(last_date).replace(hour=14, minute=30)) & \\\n",
    "               (minute_data['日期时间'] <= pd.Timestamp(last_date).replace(hour=15, minute=0))\n",
    "        last_30min_data = minute_data[mask]\n",
    "        \n",
    "        if last_30min_data.empty:\n",
    "            return 0.0\n",
    "        \n",
    "        # 计算涨幅：起始价（14:30的收盘价）到结束价（15:00的收盘价）\n",
    "        start_price = last_30min_data.iloc[0]['收盘']\n",
    "        end_price = last_30min_data.iloc[-1]['收盘']\n",
    "        return (end_price - start_price) / start_price * 100\n",
    "    except Exception as e:\n",
    "        print(f\"获取 {symbol} 分钟数据失败: {e}\")\n",
    "        return 0.0\n",
    "\n",
    "# 获取各指数收盘价及最后30分钟涨幅\n",
    "results = []\n",
    "for index_name, symbol in index_list.items():\n",
    "    # 获取日线数据（收盘价）\n",
    "    daily_data = ak.stock_zh_index_daily(symbol=symbol)\n",
    "    latest_close = daily_data['close'].iloc[-1]  # 最新收盘价\n",
    "    \n",
    "    # 获取最后30分钟涨幅\n",
    "    last_30min_change = get_index_last_30min_change(symbol)\n",
    "    \n",
    "    results.append({\n",
    "        \"指数名称\": index_name,\n",
    "        \"收盘价\": round(latest_close, 2),\n",
    "        \"最后30分钟涨幅 (%)\": round(last_30min_change, 2)\n",
    "    })\n",
    "\n",
    "# 转换为DataFrame输出\n",
    "result_df = pd.DataFrame(results)\n",
    "print(\"\\nA股主要指数收盘价及尾盘涨幅:\")\n",
    "print(result_df)"
   ]
  },
  {
   "cell_type": "code",
   "execution_count": 110,
   "metadata": {},
   "outputs": [
    {
     "name": "stdout",
     "output_type": "stream",
     "text": [
      "获取 上证指数 (sh000001) 数据失败，错误信息：module 'akshare' has no attribute 'stock_zh_index_minute'\n",
      "获取 沪深300 (sh000300) 数据失败，错误信息：module 'akshare' has no attribute 'stock_zh_index_minute'\n",
      "获取 深证成指 (sz399001) 数据失败，错误信息：module 'akshare' has no attribute 'stock_zh_index_minute'\n",
      "获取 创业板指 (sz399006) 数据失败，错误信息：module 'akshare' has no attribute 'stock_zh_index_minute'\n",
      "获取 科创50 (sh000688) 数据失败，错误信息：module 'akshare' has no attribute 'stock_zh_index_minute'\n"
     ]
    }
   ],
   "source": [
    "import akshare as ak\n",
    "\n",
    "index_list = {\n",
    "    \"上证指数\": \"sh000001\",\n",
    "    \"沪深300\": \"sh000300\",\n",
    "    \"深证成指\": \"sz399001\",\n",
    "    \"创业板指\": \"sz399006\",\n",
    "    \"科创50\": \"sh000688\"\n",
    "}\n",
    "\n",
    "for index_name, index_code in index_list.items():\n",
    "    try:\n",
    "        # 获取30分钟数据，period设置为'30'\n",
    "        df = ak.stock_zh_index_minute(symbol=index_code, period='30')\n",
    "        print(f\"{index_name} ({index_code}) 的30分钟数据：\")\n",
    "        print(df.head())  # 打印前几行数据\n",
    "    except Exception as e:\n",
    "        print(f\"获取 {index_name} ({index_code}) 数据失败，错误信息：{e}\")"
   ]
  },
  {
   "cell_type": "code",
   "execution_count": 1,
   "metadata": {},
   "outputs": [
    {
     "name": "stdout",
     "output_type": "stream",
     "text": [
      "获取 上证指数 (000001) 数据失败，错误信息：'30'\n",
      "获取 沪深300 (000300) 数据失败，错误信息：'30'\n",
      "获取 深证成指 (399001) 数据失败，错误信息：'30'\n",
      "获取 创业板指 (399006) 数据失败，错误信息：'30'\n",
      "获取 科创50 (000688) 数据失败，错误信息：'30'\n"
     ]
    }
   ],
   "source": [
    "import akshare as ak\n",
    "\n",
    "# 定义指数列表\n",
    "index_list = {\n",
    "    \"上证指数\": \"000001\",\n",
    "    \"沪深300\": \"000300\",\n",
    "    \"深证成指\": \"399001\",\n",
    "    \"创业板指\": \"399006\",\n",
    "    \"科创50\": \"000688\"\n",
    "}\n",
    "\n",
    "# 遍历指数列表，获取数据\n",
    "for index_name, index_code in index_list.items():\n",
    "    try:\n",
    "        # 使用 stock_zh_index_hist_min_em 方法获取指数数据\n",
    "        df = ak.index_zh_a_hist(\n",
    "            symbol=index_code, \n",
    "            period='30',  # 30分钟周期\n",
    "            start_date=\"2025-02-26 09:30:00\",  # 自定义开始日期\n",
    "            end_date=\"2025-02-26 15:00:00\"     # 自定义结束日期\n",
    "        )\n",
    "        print(f\"{index_name} ({index_code}) 的30分钟数据：\")\n",
    "        print(df)\n",
    "    except Exception as e:\n",
    "        print(f\"获取 {index_name} ({index_code}) 数据失败，错误信息：{e}\")"
   ]
  }
 ],
 "metadata": {
  "kernelspec": {
   "display_name": "Python 3",
   "language": "python",
   "name": "python3"
  },
  "language_info": {
   "codemirror_mode": {
    "name": "ipython",
    "version": 3
   },
   "file_extension": ".py",
   "mimetype": "text/x-python",
   "name": "python",
   "nbconvert_exporter": "python",
   "pygments_lexer": "ipython3",
   "version": "3.11.9"
  }
 },
 "nbformat": 4,
 "nbformat_minor": 2
}
