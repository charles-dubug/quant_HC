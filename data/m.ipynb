{
 "cells": [
  {
   "cell_type": "code",
   "execution_count": 10,
   "metadata": {},
   "outputs": [
    {
     "name": "stdout",
     "output_type": "stream",
     "text": [
      "最新指数数据对比：\n",
      "     指数名称      最新收盘          日期  较前日涨跌 (%)  较一周前涨跌 (%)\n",
      "0   标普500   5955.25  2025-02-25      -0.47       -2.84\n",
      "1     道琼斯  43621.16  2025-02-25       0.37       -2.10\n",
      "2    纳斯达克  19026.39  2025-02-25      -1.35       -5.06\n",
      "3  罗素2000   2170.08  2025-02-25      -0.38       -5.25\n",
      "4     VIX     19.43  2025-02-25       2.37       26.58\n"
     ]
    }
   ],
   "source": [
    "import yfinance as yf\n",
    "import pandas as pd\n",
    "from datetime import datetime, timedelta\n",
    "\n",
    "# Define the indices and their corresponding tickers\n",
    "indices = {\n",
    "    \"标普500\": \"^GSPC\",\n",
    "    \"道琼斯\": \"^DJI\",\n",
    "    \"纳斯达克\": \"^IXIC\",\n",
    "    \"罗素2000\": \"^RUT\",\n",
    "    \"VIX\": \"^VIX\"\n",
    "}\n",
    "\n",
    "# Get the latest data and historical data for each index\n",
    "data = []\n",
    "today = datetime.now()\n",
    "one_week_ago = today - timedelta(days=7)\n",
    "\n",
    "for name, ticker in indices.items():\n",
    "    index = yf.Ticker(ticker)\n",
    "    hist = index.history(period=\"1mo\")\n",
    "    \n",
    "    # Ensure the index is timezone-naive\n",
    "    hist.index = hist.index.tz_localize(None)\n",
    "    \n",
    "    # Get the latest closing price\n",
    "    latest_close = hist['Close'].iloc[-1]\n",
    "    latest_date = hist.index[-1].date()\n",
    "    \n",
    "    # Get the previous day's closing price\n",
    "    prev_close = hist['Close'].iloc[-2]\n",
    "\n",
    "    # Convert one_week_ago to a Timestamp and ensure it's timezone-naive\n",
    "    one_week_ago_ts = pd.Timestamp(one_week_ago).tz_localize(None)\n",
    "\n",
    "    # Get the closing price from one week ago (if available)\n",
    "    one_week_close = hist['Close'].asof(one_week_ago_ts)\n",
    "    \n",
    "    # Calculate percentage changes\n",
    "    daily_change = ((latest_close - prev_close) / prev_close) * 100\n",
    "    weekly_change = ((latest_close - one_week_close) / one_week_close) * 100 if one_week_close else None\n",
    "\n",
    "    data.append({\n",
    "        \"指数名称\": name,\n",
    "        \"最新收盘\": round(latest_close, 2),\n",
    "        \"日期\": latest_date,\n",
    "        \"较前日涨跌 (%)\": round(daily_change, 2),\n",
    "        \"较一周前涨跌 (%)\": round(weekly_change, 2) if weekly_change is not None else \"N/A\"\n",
    "    })\n",
    "\n",
    "# Convert to DataFrame\n",
    "df = pd.DataFrame(data)\n",
    "\n",
    "# Display the DataFrame\n",
    "print(\"最新指数数据对比：\")\n",
    "print(df)\n"
   ]
  }
 ],
 "metadata": {
  "kernelspec": {
   "display_name": "Python 3",
   "language": "python",
   "name": "python3"
  },
  "language_info": {
   "codemirror_mode": {
    "name": "ipython",
    "version": 3
   },
   "file_extension": ".py",
   "mimetype": "text/x-python",
   "name": "python",
   "nbconvert_exporter": "python",
   "pygments_lexer": "ipython3",
   "version": "3.11.9"
  }
 },
 "nbformat": 4,
 "nbformat_minor": 2
}
