{
 "cells": [
  {
   "cell_type": "code",
   "execution_count": 1,
   "metadata": {},
   "outputs": [],
   "source": [
    "import adata"
   ]
  },
  {
   "cell_type": "code",
   "execution_count": 2,
   "metadata": {},
   "outputs": [],
   "source": [
    "import pandas as pd"
   ]
  },
  {
   "cell_type": "code",
   "execution_count": 3,
   "metadata": {},
   "outputs": [],
   "source": [
    "import time"
   ]
  },
  {
   "cell_type": "code",
   "execution_count": 4,
   "metadata": {},
   "outputs": [],
   "source": [
    "from flask import Flask, render_template, jsonify"
   ]
  },
  {
   "cell_type": "code",
   "execution_count": 5,
   "metadata": {},
   "outputs": [],
   "source": [
    "from threading import Thread, Lock\n",
    "from concurrent.futures import ThreadPoolExecutor"
   ]
  },
  {
   "cell_type": "code",
   "execution_count": 6,
   "metadata": {},
   "outputs": [],
   "source": [
    "import os"
   ]
  },
  {
   "cell_type": "code",
   "execution_count": 8,
   "metadata": {},
   "outputs": [],
   "source": [
    "app = Flask(__name__)\n",
    "current_data = pd.DataFrame()\n",
    "data_lock = Lock()\n",
    "\n",
    "stocks = [\n",
    "    '600961', '601020', '600367', '002155', '301368',\n",
    "    '603198', '605208', '603993', '000596', '600711'\n",
    "]"
   ]
  },
  {
   "cell_type": "code",
   "execution_count": 9,
   "metadata": {},
   "outputs": [],
   "source": [
    "def fetch_single_stock(code):\n",
    "    try:\n",
    "        df = adata.stock.market.get_capital_flow_min(stock_code=code)\n",
    "        if not df.empty:\n",
    "            df['trade_time'] = df['trade_time'].dt.strftime('%Y-%m-%d %H:%M:%S')\n",
    "        return df\n",
    "    except Exception as e:\n",
    "        print(f\"Error fetching {code}: {e}\")\n",
    "        return pd.DataFrame()"
   ]
  },
  {
   "cell_type": "code",
   "execution_count": 10,
   "metadata": {},
   "outputs": [],
   "source": [
    "def fetch_data():\n",
    "    global current_data\n",
    "    with ThreadPoolExecutor(max_workers=10) as executor:\n",
    "        dfs = list(executor.map(fetch_single_stock, stocks))\n",
    "    \n",
    "    valid_dfs = [df for df in dfs if not df.empty]\n",
    "    if valid_dfs:\n",
    "        new_data = pd.concat(valid_dfs).sort_values(by='trade_time', ascending=False)\n",
    "        with data_lock:\n",
    "            current_data = new_data\n",
    "        \n",
    "        os.system('cls' if os.name == 'nt' else 'clear')\n",
    "        print(f\"更新时间: {time.strftime('%Y-%m-%d %H:%M:%S')}\")\n",
    "        print(new_data.to_string(index=False))\n",
    "    else:\n",
    "        print(\"暂时无法获取数据\")"
   ]
  },
  {
   "cell_type": "code",
   "execution_count": null,
   "metadata": {},
   "outputs": [],
   "source": [
    "def scheduler():\n",
    "    while True:\n",
    "        fetch_data()\n",
    "        time.sleep(60)\n",
    "\n",
    "@app.route('/')\n",
    "def index():\n",
    "    return render_template('index.html')\n",
    "\n",
    "@app.route('/data')\n",
    "def get_data():\n",
    "    with data_lock:\n",
    "        if current_data.empty:\n",
    "            return jsonify([])\n",
    "        data = current_data.to_dict('records')\n",
    "    return jsonify(data)\n",
    "\n",
    "if __name__ == '__main__':\n",
    "    t = Thread(target=scheduler)\n",
    "    t.daemon = True\n",
    "    t.start()\n",
    "    app.run(host='0.0.0.0', port=5000, debug=False)"
   ]
  },
  {
   "cell_type": "code",
   "execution_count": 13,
   "metadata": {},
   "outputs": [
    {
     "name": "stdout",
     "output_type": "stream",
     "text": [
      "获取301368数据错误: HTTPSConnectionPool(host='push2delay.eastmoney.com', port=443): Max retries exceeded with url: /api/qt/stock/fflow/kline/get?lmt=0&klt=1&fields1=f1,f2,f3,f7&fields2=f51,f52,f53,f54,f55,f56,f57,f58,f59,f60,f61,f62,f63,f64,f65&secid=0.301368 (Caused by ConnectTimeoutError(<urllib3.connection.HTTPSConnection object at 0x000001D69D4F2950>, 'Connection to push2delay.eastmoney.com timed out. (connect timeout=None)'))\n",
      "最新数据更新时间：2025-03-09 19:03:51\n",
      "stock_code          trade_time  main_net_inflow  sm_net_inflow  mid_net_inflow  lg_net_inflow  max_net_inflow\n",
      "    600961 2025-03-07 15:00:00      200068680.0    -78071238.0    -121997469.0    -52131446.0     252200126.0\n",
      "    601020 2025-03-07 15:00:00      139170149.0    -60725628.0     -78444546.0    -14526087.0     153696236.0\n",
      "    600367 2025-03-07 15:00:00      141573203.0    -67207825.0     -74365441.0     -6491480.0     148064683.0\n",
      "    002155 2025-03-07 15:00:00      165232423.0    -72837652.0     -92394745.0     53562208.0     111670215.0\n",
      "    603198 2025-03-07 15:00:00       29322537.0    -10499108.0     -18823429.0     17221622.0      12100915.0\n",
      "    605208 2025-03-07 15:00:00       22071724.0     15877396.0     -37949129.0    -38351643.0      60423367.0\n",
      "    603993 2025-03-07 15:00:00      186775433.0    -55880379.0    -130895054.0     -6303317.0     193078750.0\n",
      "    000596 2025-03-07 15:00:00       22168707.0    -29188061.0       7019355.0      3512269.0      18656438.0\n",
      "    600711 2025-03-07 15:00:00       46873489.0    -26900866.0     -19972612.0     27041033.0      19832456.0\n",
      "\n",
      "已更新网页文件：capital_flow_monitor.html\n",
      "最新数据更新时间：2025-03-09 19:04:34\n",
      "stock_code          trade_time  main_net_inflow  sm_net_inflow  mid_net_inflow  lg_net_inflow  max_net_inflow\n",
      "    600961 2025-03-07 15:00:00      200068680.0    -78071238.0    -121997469.0    -52131446.0     252200126.0\n",
      "    601020 2025-03-07 15:00:00      139170149.0    -60725628.0     -78444546.0    -14526087.0     153696236.0\n",
      "    600367 2025-03-07 15:00:00      141573203.0    -67207825.0     -74365441.0     -6491480.0     148064683.0\n",
      "    002155 2025-03-07 15:00:00      165232423.0    -72837652.0     -92394745.0     53562208.0     111670215.0\n",
      "    301368 2025-03-07 15:00:00      182473852.0   -134367712.0     -48106141.0     26004891.0     156468961.0\n",
      "    603198 2025-03-07 15:00:00       29322537.0    -10499108.0     -18823429.0     17221622.0      12100915.0\n",
      "    605208 2025-03-07 15:00:00       22071724.0     15877396.0     -37949129.0    -38351643.0      60423367.0\n",
      "    603993 2025-03-07 15:00:00      186775433.0    -55880379.0    -130895054.0     -6303317.0     193078750.0\n",
      "    000596 2025-03-07 15:00:00       22168707.0    -29188061.0       7019355.0      3512269.0      18656438.0\n",
      "    600711 2025-03-07 15:00:00       46873489.0    -26900866.0     -19972612.0     27041033.0      19832456.0\n",
      "\n",
      "已更新网页文件：capital_flow_monitor.html\n",
      "最新数据更新时间：2025-03-09 19:05:29\n",
      "stock_code          trade_time  main_net_inflow  sm_net_inflow  mid_net_inflow  lg_net_inflow  max_net_inflow\n",
      "    600961 2025-03-07 15:00:00      200068680.0    -78071238.0    -121997469.0    -52131446.0     252200126.0\n",
      "    601020 2025-03-07 15:00:00      139170149.0    -60725628.0     -78444546.0    -14526087.0     153696236.0\n",
      "    600367 2025-03-07 15:00:00      141573203.0    -67207825.0     -74365441.0     -6491480.0     148064683.0\n",
      "    002155 2025-03-07 15:00:00      165232423.0    -72837652.0     -92394745.0     53562208.0     111670215.0\n",
      "    301368 2025-03-07 15:00:00      182473852.0   -134367712.0     -48106141.0     26004891.0     156468961.0\n",
      "    603198 2025-03-07 15:00:00       29322537.0    -10499108.0     -18823429.0     17221622.0      12100915.0\n",
      "    605208 2025-03-07 15:00:00       22071724.0     15877396.0     -37949129.0    -38351643.0      60423367.0\n",
      "    603993 2025-03-07 15:00:00      186775433.0    -55880379.0    -130895054.0     -6303317.0     193078750.0\n",
      "    000596 2025-03-07 15:00:00       22168707.0    -29188061.0       7019355.0      3512269.0      18656438.0\n",
      "    600711 2025-03-07 15:00:00       46873489.0    -26900866.0     -19972612.0     27041033.0      19832456.0\n",
      "\n",
      "已更新网页文件：capital_flow_monitor.html\n",
      "最新数据更新时间：2025-03-09 19:06:31\n",
      "stock_code          trade_time  main_net_inflow  sm_net_inflow  mid_net_inflow  lg_net_inflow  max_net_inflow\n",
      "    600961 2025-03-07 15:00:00      200068680.0    -78071238.0    -121997469.0    -52131446.0     252200126.0\n",
      "    601020 2025-03-07 15:00:00      139170149.0    -60725628.0     -78444546.0    -14526087.0     153696236.0\n",
      "    600367 2025-03-07 15:00:00      141573203.0    -67207825.0     -74365441.0     -6491480.0     148064683.0\n",
      "    002155 2025-03-07 15:00:00      165232423.0    -72837652.0     -92394745.0     53562208.0     111670215.0\n",
      "    301368 2025-03-07 15:00:00      182473852.0   -134367712.0     -48106141.0     26004891.0     156468961.0\n",
      "    603198 2025-03-07 15:00:00       29322537.0    -10499108.0     -18823429.0     17221622.0      12100915.0\n",
      "    605208 2025-03-07 15:00:00       22071724.0     15877396.0     -37949129.0    -38351643.0      60423367.0\n",
      "    603993 2025-03-07 15:00:00      186775433.0    -55880379.0    -130895054.0     -6303317.0     193078750.0\n",
      "    000596 2025-03-07 15:00:00       22168707.0    -29188061.0       7019355.0      3512269.0      18656438.0\n",
      "    600711 2025-03-07 15:00:00       46873489.0    -26900866.0     -19972612.0     27041033.0      19832456.0\n",
      "\n",
      "已更新网页文件：capital_flow_monitor.html\n"
     ]
    },
    {
     "ename": "KeyboardInterrupt",
     "evalue": "",
     "output_type": "error",
     "traceback": [
      "\u001b[1;31m---------------------------------------------------------------------------\u001b[0m",
      "\u001b[1;31mKeyboardInterrupt\u001b[0m                         Traceback (most recent call last)",
      "Cell \u001b[1;32mIn[13], line 81\u001b[0m\n\u001b[0;32m     78\u001b[0m         time\u001b[38;5;241m.\u001b[39msleep(\u001b[38;5;28mmax\u001b[39m(sleep_time, \u001b[38;5;241m1\u001b[39m))\n\u001b[0;32m     80\u001b[0m \u001b[38;5;28;01mif\u001b[39;00m \u001b[38;5;18m__name__\u001b[39m \u001b[38;5;241m==\u001b[39m \u001b[38;5;124m\"\u001b[39m\u001b[38;5;124m__main__\u001b[39m\u001b[38;5;124m\"\u001b[39m:\n\u001b[1;32m---> 81\u001b[0m     \u001b[43mmain\u001b[49m\u001b[43m(\u001b[49m\u001b[43m)\u001b[49m\n",
      "Cell \u001b[1;32mIn[13], line 78\u001b[0m, in \u001b[0;36mmain\u001b[1;34m()\u001b[0m\n\u001b[0;32m     75\u001b[0m     \u001b[38;5;28mprint\u001b[39m(\u001b[38;5;124mf\u001b[39m\u001b[38;5;124m\"\u001b[39m\u001b[38;5;130;01m\\n\u001b[39;00m\u001b[38;5;124m已更新网页文件：\u001b[39m\u001b[38;5;132;01m{\u001b[39;00mHTML_FILENAME\u001b[38;5;132;01m}\u001b[39;00m\u001b[38;5;124m\"\u001b[39m)\n\u001b[0;32m     77\u001b[0m sleep_time \u001b[38;5;241m=\u001b[39m \u001b[38;5;241m60\u001b[39m \u001b[38;5;241m-\u001b[39m (time\u001b[38;5;241m.\u001b[39mtime() \u001b[38;5;241m-\u001b[39m start_time) \u001b[38;5;241m%\u001b[39m \u001b[38;5;241m60\u001b[39m\n\u001b[1;32m---> 78\u001b[0m time\u001b[38;5;241m.\u001b[39msleep(\u001b[38;5;28mmax\u001b[39m(sleep_time, \u001b[38;5;241m1\u001b[39m))\n",
      "\u001b[1;31mKeyboardInterrupt\u001b[0m: "
     ]
    }
   ],
   "source": [
    "import adata\n",
    "import pandas as pd\n",
    "import time\n",
    "import os\n",
    "from datetime import datetime\n",
    "from html import escape\n",
    "\n",
    "# 配置股票列表\n",
    "STOCK_LIST = [\n",
    "    '600961', '601020', '600367', '002155', '301368',\n",
    "    '603198', '605208', '603993', '000596', '600711'\n",
    "]\n",
    "\n",
    "HTML_FILENAME = 'capital_flow_monitor.html'\n",
    "\n",
    "def get_latest_data(stock_code):\n",
    "    \"\"\"获取单个股票的最新分钟级资金流数据\"\"\"\n",
    "    try:\n",
    "        df = adata.stock.market.get_capital_flow_min(stock_code=stock_code)\n",
    "        return df.tail(1) if not df.empty else None\n",
    "    except Exception as e:\n",
    "        print(f\"获取{stock_code}数据错误: {str(e)}\")\n",
    "        return None\n",
    "\n",
    "def generate_html(df):\n",
    "    \"\"\"生成带自动刷新和样式的HTML文件\"\"\"\n",
    "    safe_timestamp = escape(datetime.now().strftime('%Y-%m-%d %H:%M:%S')).replace(' ', '&nbsp;')\n",
    "    \n",
    "    html_template = f'''\n",
    "    <!DOCTYPE html>\n",
    "    <html>\n",
    "    <head>\n",
    "        <title>实时资金流监控</title>\n",
    "        <meta charset=\"UTF-8\">\n",
    "        <meta http-equiv=\"refresh\" content=\"60\">\n",
    "        <style>\n",
    "            body {{ font-family: Arial, sans-serif; margin: 2rem; }}\n",
    "            table {{ border-collapse: collapse; width: 100%; box-shadow: 0 1px 3px rgba(0,0,0,0.2); }}\n",
    "            th, td {{ padding: 12px 15px; text-align: left; border-bottom: 1px solid #ddd; }}\n",
    "            th {{ background-color: #4CAF50; color: white; }}\n",
    "            tr:hover {{ background-color: #f5f5f5; }}\n",
    "            .timestamp {{ color: #666; margin-bottom: 1rem; }}\n",
    "        </style>\n",
    "    </head>\n",
    "    <body>\n",
    "        <h2>股票资金流实时监控</h2>\n",
    "        <div class=\"timestamp\">最后更新时间：{safe_timestamp}</div>\n",
    "        {df.to_html(index=False) if not df.empty else \"暂无数据\"}\n",
    "    </body>\n",
    "    </html>\n",
    "    '''\n",
    "    with open(HTML_FILENAME, 'w', encoding='utf-8') as f:\n",
    "        f.write(html_template)\n",
    "\n",
    "def main():\n",
    "    while True:\n",
    "        start_time = time.time()\n",
    "        \n",
    "        all_data = []\n",
    "        for stock in STOCK_LIST:\n",
    "            if (df := get_latest_data(stock)) is not None:\n",
    "                all_data.append(df)\n",
    "        \n",
    "        combined_df = pd.concat(all_data) if all_data else pd.DataFrame()\n",
    "        \n",
    "        os.system('cls' if os.name == 'nt' else 'clear')\n",
    "        print(f\"最新数据更新时间：{datetime.now().strftime('%Y-%m-%d %H:%M:%S')}\")\n",
    "        if not combined_df.empty:\n",
    "            print(combined_df.to_string(index=False))\n",
    "        else:\n",
    "            print(\"暂无有效数据\")\n",
    "        \n",
    "        if not combined_df.empty:\n",
    "            generate_html(combined_df)\n",
    "            print(f\"\\n已更新网页文件：{HTML_FILENAME}\")\n",
    "        \n",
    "        sleep_time = 60 - (time.time() - start_time) % 60\n",
    "        time.sleep(max(sleep_time, 1))\n",
    "\n",
    "if __name__ == \"__main__\":\n",
    "    main()"
   ]
  },
  {
   "cell_type": "code",
   "execution_count": null,
   "metadata": {},
   "outputs": [
    {
     "ename": "SyntaxError",
     "evalue": "f-string: invalid syntax (1417789899.py, line 189)",
     "output_type": "error",
     "traceback": [
      "\u001b[1;36m  Cell \u001b[1;32mIn[2], line 189\u001b[1;36m\u001b[0m\n\u001b[1;33m    color: {lambda x: '#4CAF50' if x >=9 else '#FFC107' if x >=7 else '#F44336'};\u001b[0m\n\u001b[1;37m    ^\u001b[0m\n\u001b[1;31mSyntaxError\u001b[0m\u001b[1;31m:\u001b[0m f-string: invalid syntax\n"
     ]
    }
   ],
   "source": [
    "import adata\n",
    "import pandas as pd\n",
    "import time\n",
    "import os\n",
    "from datetime import datetime\n",
    "from html import escape\n",
    "\n",
    "# 配置股票列表和预测数据\n",
    "STOCK_LIST = [\n",
    "    '600961', '601020', '600367', '002155', '301368',\n",
    "    '603198', '605208', '603993', '000596', '600711'\n",
    "]\n",
    "\n",
    "HTML_FILENAME = 'capital_flow_monitor.html'\n",
    "\n",
    "def get_prediction_info(stock_code):\n",
    "    \"\"\"获取股票的预测信息\"\"\"\n",
    "    return next((item for item in PREDICTION_DATA if item[\"stock_code\"] == stock_code), None)\n",
    "\n",
    "def get_latest_data(stock_code):\n",
    "    \"\"\"获取单个股票的最新分钟级资金流数据\"\"\"\n",
    "    try:\n",
    "        df = adata.stock.market.get_capital_flow_min(stock_code=stock_code)\n",
    "        if df.empty:\n",
    "            return None\n",
    "            \n",
    "        # 添加预测信息\n",
    "        prediction = get_prediction_info(stock_code)\n",
    "        if prediction:\n",
    "            last_row = df.tail(1).copy()\n",
    "            last_row['prediction'] = prediction[\"prediction\"]\n",
    "            last_row['stop_loss'] = prediction[\"stop_loss\"]\n",
    "            last_row['take_profit'] = prediction[\"take_profit\"]\n",
    "            return last_row\n",
    "        return df.tail(1)\n",
    "    except Exception as e:\n",
    "        print(f\"获取{stock_code}数据错误: {str(e)}\")\n",
    "        return None\n",
    "\n",
    "def generate_html(df):\n",
    "    \"\"\"生成带自动刷新和样式的HTML文件\"\"\"\n",
    "    safe_timestamp = escape(datetime.now().strftime('%Y-%m-%d %H:%M:%S')).replace(' ', '&nbsp;')\n",
    "    \n",
    "    # 生成带样式的HTML表格\n",
    "    styled_html = df.to_html(\n",
    "        index=False,\n",
    "        columns=['stock_code', 'trade_time', 'prediction', \n",
    "                'stop_loss', 'take_profit', 'main_net_inflow'],\n",
    "        formatters={\n",
    "            'prediction': '{:.0f}'.format,\n",
    "            'stop_loss': '{:.2f}'.format,\n",
    "            'take_profit': '{:.2f}'.format,\n",
    "            'main_net_inflow': '{:,.0f}'.format\n",
    "        },\n",
    "        classes='stock-table',\n",
    "        escape=False\n",
    "    )\n",
    "    \n",
    "    html_template = f'''\n",
    "    <!DOCTYPE html>\n",
    "    <html>\n",
    "    <head>\n",
    "        <title>实时资金流监控 - 今日选股</title>\n",
    "        <meta charset=\"UTF-8\">\n",
    "        <meta http-equiv=\"refresh\" content=\"60\">\n",
    "        <style>\n",
    "            body {{ font-family: Arial, sans-serif; margin: 2rem; }}\n",
    "            .header {{ \n",
    "                background: #4CAF50;\n",
    "                color: white;\n",
    "                padding: 1rem;\n",
    "                border-radius: 5px;\n",
    "                margin-bottom: 1rem;\n",
    "            }}\n",
    "            table {{ \n",
    "                border-collapse: collapse; \n",
    "                width: 100%; \n",
    "                box-shadow: 0 1px 3px rgba(0,0,0,0.2);\n",
    "                margin-top: 1rem;\n",
    "            }}\n",
    "            th {{ \n",
    "                background-color: #f8f9fa;\n",
    "                color: #212529;\n",
    "                padding: 12px 15px;\n",
    "                text-align: center;\n",
    "                position: sticky;\n",
    "                top: 0;\n",
    "            }}\n",
    "            td {{ \n",
    "                padding: 12px 15px;\n",
    "                text-align: center;\n",
    "                border-bottom: 1px solid #dee2e6;\n",
    "            }}\n",
    "            .prediction {{ \n",
    "                font-weight: bold;\n",
    "                color: {lambda x: '#4CAF50' if x >=9 else '#FFC107' if x >=7 else '#F44336'};\n",
    "            }}\n",
    "            .timestamp {{ \n",
    "                color: #6c757d; \n",
    "                margin-bottom: 1rem;\n",
    "                font-size: 0.9rem;\n",
    "            }}\n",
    "            tr:hover {{ background-color: #f8f9fa; }}\n",
    "        </style>\n",
    "    </head>\n",
    "    <body>\n",
    "        <div class=\"header\">\n",
    "            <h2>今日选股实时监控</h2>\n",
    "            <div>监控股票：{', '.join(STOCK_LIST)}</div>\n",
    "        </div>\n",
    "        <div class=\"timestamp\">最后更新时间：{safe_timestamp}</div>\n",
    "        {styled_html}\n",
    "    </body>\n",
    "    </html>\n",
    "    '''\n",
    "    with open(HTML_FILENAME, 'w', encoding='utf-8') as f:\n",
    "        f.write(html_template)\n",
    "\n",
    "def main():\n",
    "    while True:\n",
    "        start_time = time.time()\n",
    "        \n",
    "        all_data = []\n",
    "        for stock in STOCK_LIST:\n",
    "            if (df := get_latest_data(stock)) is not None and not df.empty:\n",
    "                all_data.append(df)\n",
    "        \n",
    "        combined_df = pd.concat(all_data) if all_data else pd.DataFrame()\n",
    "        \n",
    "        os.system('cls' if os.name == 'nt' else 'clear')\n",
    "        print(f\"最新数据更新时间：{datetime.now().strftime('%Y-%m-%d %H:%M:%S')}\")\n",
    "        if not combined_df.empty:\n",
    "            print(combined_df[['stock_code', 'trade_time', 'prediction', \n",
    "                             'stop_loss', 'take_profit']].to_string(index=False))\n",
    "        else:\n",
    "            print(\"暂无有效数据\")\n",
    "        \n",
    "        if not combined_df.empty:\n",
    "            generate_html(combined_df)\n",
    "            print(f\"\\n已更新网页文件：{HTML_FILENAME}\")\n",
    "        \n",
    "        sleep_time = 60 - (time.time() - start_time) % 60\n",
    "        time"
   ]
  },
  {
   "cell_type": "code",
   "execution_count": 2,
   "metadata": {},
   "outputs": [
    {
     "name": "stdout",
     "output_type": "stream",
     "text": [
      "{'600961': {'prediction': 10, 'stop_loss': 8.2, 'take_profit': 10.5}, '601020': {'prediction': 9, 'stop_loss': 20.5, 'take_profit': 26.8}, '600367': {'prediction': 9, 'stop_loss': 14.3, 'take_profit': 17.79}, '002155': {'prediction': 9, 'stop_loss': 20.7, 'take_profit': 24.62}, '301368': {'prediction': 9, 'stop_loss': 90.0, 'take_profit': 110.0}, '603198': {'prediction': 8, 'stop_loss': 54.5, 'take_profit': 62.5}, '605208': {'prediction': 9, 'stop_loss': 14.28, 'take_profit': 17.28}, '603993': {'prediction': 8, 'stop_loss': 6.97, 'take_profit': 7.55}, '000596': {'prediction': 8, 'stop_loss': 170.0, 'take_profit': 190.0}, '600711': {'prediction': 8, 'stop_loss': 4.92, 'take_profit': 5.4}}\n"
     ]
    }
   ],
   "source": [
    "\n",
    "\n",
    "\n",
    "PREDICTION_DATA = [\n",
    "{\n",
    "    \"stock_code\": \"600961\",\n",
    "    \"prediction\": 10,\n",
    "    \"reason\": \"近1日主力资金净流入达2.01亿元，其中特大单净流入2.52亿元，显示主力资金在短期内强势介入。5日和10日主力资金净流入分别为2.16亿和1.58亿元，特大单持续流入，表明主力中长期布局意愿。K线显示，股票在2025-03-07放量涨停，单日换手率10.05%，成交量激增，价格突破近期盘整区间，形成强势反转信号。结合资金流向的持续性和K线的突破形态，预计未来短期上涨动能强劲。\",\n",
    "    \"stop_loss\": 8.2,\n",
    "    \"take_profit\": 10.5,\n",
    "    \"analysis\": \"止损价设定为8.20元（上一交易日突破前的关键阻力位，现转为支撑位），因跌破此位置可能预示突破失败。止盈价设定为10.50元，基于近期主力资金持续流入强度及K线突破后的量度涨幅（参考盘整区间高度与资金推动势能）。当前AI预测为10分，反映极高上涨概率，但需防范短期获利回吐风险。\",\n",
    "    \"timestamp\": \"2025-03-10 05:45:21\"\n",
    "  },\n",
    "  {\n",
    "    \"stock_code\": \"601020\",\n",
    "    \"prediction\": 9,\n",
    "    \"reason\": \"该股票近期呈现显著资金推动型上涨特征：1. 资金流向方面，主力资金连续1/5/10日持续净流入（累计6.46亿元），其中特大单净流入占比超过85%，表明机构资金正在强势布局；2. K线形态上，过去10日股价实现翻倍式上涨，连续出现跳空缺口且每日收盘价均接近最高价，配合成交量阶梯式放大（近5日日均成交量较前期增长300%以上），形成典型量价齐升结构；3. 技术指标强化看涨信号，最近4个交易日连续触发涨停板，换手率维持在7%-17%的高活性区间，显示市场做多动能充沛。当前未出现顶部背离或异常放量滞涨信号，预计短期内仍具上涨惯性。\",\n",
    "    \"stop_loss\": 20.5,\n",
    "    \"take_profit\": 26.8,\n",
    "    \"analysis\": \"止损价设定为20.5元（前一交易日收盘价），因该位置是短期关键支撑位，若跌破则可能标志上涨趋势中断；止盈价设定为26.8元，对应约18%潜在涨幅空间，此目标位综合考量了：1. 主力资金持续高强度流入（近10日特大单占比89%），2. 量价结构未现衰竭迹象（涨停缩量+跳空缺口未回补），3. 历史波动率测算（近10日平均振幅12%向上映射）。\",\n",
    "    \"timestamp\": \"2025-03-10 05:45:24\"\n",
    "  },\n",
    "  {\n",
    "    \"stock_code\": \"600367\",\n",
    "    \"prediction\": 9,\n",
    "    \"reason\": \"近1日、5日、10日主力资金持续净流入（分别1.47亿、1.44亿、1.526亿），且特大单净流入显著（1.53亿、1.66亿、1.666亿），表明机构资金强烈看好。K线显示近两日股价连续大涨（5.24%、10.02%），成交量激增（3月7日换手率9.89%），形成突破形态。尽管中小单资金净流出，但主力主导的买盘力量强劲，短期技术面与资金面共振，预示上涨动能充足。\",\n",
    "    \"stop_loss\": 14.3,\n",
    "    \"take_profit\": 17.79,\n",
    "    \"analysis\": \"止损价设定为14.30元（3月7日最低价），因该位置为突破性大阳线的关键支撑位，若跌破则短期趋势可能反转。止盈价17.79元基于近期主力资金持续流入强度及技术形态量度涨幅（突破前平台后理论目标位），结合AI高评分对上涨动能的量化预期。\",\n",
    "    \"timestamp\": \"2025-03-10 05:46:15\"\n",
    "  },\n",
    "  {\n",
    "    \"stock_code\": \"002155\",\n",
    "    \"prediction\": 9,\n",
    "    \"reason\": \"资金流向显示主力资金持续强势介入，近1/5/10日特大单净流入分别达1.18亿、3.87亿、4.68亿，形成显著正向驱动。K线呈现量价齐升态势，近5日累计涨幅达22.3%，成交量逐级放大（3月7日换手率达10.29%），且连续突破关键价格位形成上升趋势。尽管中单资金持续流出显示部分筹码松动，但主力资金控盘力度强劲，结合短期技术面突破形态，预计上涨动能仍将持续。\",\n",
    "    \"stop_loss\": 20.7,\n",
    "    \"take_profit\": 24.62,\n",
    "    \"analysis\": \"止损价格设定于3月7日最低价20.70元，该位置为短期关键支撑位，若跌破可能标志趋势反转。止盈价格基于主力资金持续流入及量价齐升态势，按上一收盘价22.38元的10%涨幅设定为24.62元，对应突破前高22.67元后的技术性目标位，反映上涨动能的延续预期。\",\n",
    "    \"timestamp\": \"2025-03-10 05:46:29\"\n",
    "  },\n",
    "  {\n",
    "    \"stock_code\": \"301368\",\n",
    "    \"prediction\": 9,\n",
    "    \"reason\": \"近期资金流向显示主力资金持续净流入，尤其是近1日和5日的特大单分别流入1.58亿和3.66亿元，表明大资金积极介入。K线显示股价在3月7日强势突破，单日涨幅15.2%，成交量显著放大至2260万股，换手率高达35.25%，形成量价齐升的看涨信号。尽管近10日主力净流入（3.83亿）较5日（5.15亿）有所放缓，但短期资金活跃度和价格动能显著增强，技术面呈现突破形态，预计未来仍有上行空间。\",\n",
    "    \"stop_loss\": 90.0,\n",
    "    \"take_profit\": 110.0,\n",
    "    \"analysis\": \"止损价设为90.0元，基于3月7日大阳线的中间支撑位（开盘价84.0元与收盘价97.0元的中点），跌破可能预示短期动能衰竭；止盈价设为110.0元，参考近期高点101.04元上方阻力位及主力资金持续流入驱动的潜在上涨空间。技术面突破叠加资金活跃度提升，支撑上行预期，同时设置合理回撤保护。\",\n",
    "    \"timestamp\": \"2025-03-10 05:47:00\"\n",
    "  },\n",
    "  {\n",
    "    \"stock_code\": \"603198\",\n",
    "    \"prediction\": 8,\n",
    "    \"reason\": \"1. 资金流向分析：近1日主力资金净流入28,774,300元（含特大单12,438,500元、大单16,335,800元），表明短期大资金强势介入；近10日主力净流入71,327,800元（大单88,595,300元），中长期趋势向好。尽管近5日主力净流出，但小单资金显著承接（95,205,900元），市场情绪未明显衰退。\\n2. K线趋势：过去10日股价呈震荡上升态势，3月7日单日涨幅5.45%且突破近期高点，成交量放大（11,438,600股）配合资金流入，形成量价齐升的强势信号。\\n3. 风险点：中单资金持续净流出（10日累计-139,571,800元）显示部分中线资金离场，但主力与小单资金的合力或能支撑短期上行空间。综合判断未来1-2周有望延续反弹。\",\n",
    "    \"stop_loss\": 54.5,\n",
    "    \"take_profit\": 62.5,\n",
    "    \"analysis\": \"1. **止损设定依据**：基于近期K线关键支撑位（3月7日低点54.28元）及中单资金持续流出风险，止损价设定在54.50元（略高于支撑位以避免短期波动触发）。\\n2. **止盈设定依据**：参考近10日最高价（58.48元）与主力资金中长期流入趋势，结合量价突破信号，目标价设定为62.50元（较当前价57.82元约8%涨幅，对应主力资金推动的合理上行空间）。\\n3. **综合逻辑**：短期资金强势介入与量价突破形成上行趋势，但需防范中线资金离场带来的回调风险。\",\n",
    "    \"timestamp\": \"2025-03-10 05:47:20\"\n",
    "  },\n",
    "  {\n",
    "    \"stock_code\": \"605208\",\n",
    "    \"prediction\": 9,\n",
    "    \"reason\": \"近10日主力资金持续净流入（3.21亿元），其中特大单净流入显著（3.67亿元），显示大资金积极布局。K线显示股价连续放量涨停，10日内涨幅达86.8%，换手率维持在较高水平（6.46%-22.88%），量价配合良好。尽管中单和大单短期有流出迹象（近1日中单-3844万元、大单-3185万元），但主力资金的主导地位和强劲的上涨动能（连续4日涨停）显示市场做多情绪强烈，短期内仍有惯性上冲空间。需警惕超买后的技术回调，但资金面支撑下，整体趋势偏乐观。\",\n",
    "    \"stop_loss\": 14.28,\n",
    "    \"take_profit\": 17.28,\n",
    "    \"analysis\": \"止损价基于前一日（3月6日）收盘价14.28元设定，若股价跌破该支撑位，可能预示短期趋势反转。止盈价设定为当前收盘价15.71元的10%涨幅（17.28元），对应下一个潜在涨停板压力位。考虑到主力资金持续净流入与股价超买风险并存，此策略旨在锁定利润并控制回调风险。\",\n",
    "    \"timestamp\": \"2025-03-10 05:47:36\"\n",
    "  },\n",
    "  {\n",
    "    \"stock_code\": \"603993\",\n",
    "    \"prediction\": 8,\n",
    "    \"reason\": \"近1日和5日主力资金净流入显著（1.88亿和6.79亿），特大单资金持续强势流入（1.92亿和5.78亿），显示机构积极布局。过去10天K线呈现上升趋势，近期成交量放大且涨幅稳定（如3月6日涨3.65%、3月7日涨1.41%），换手率提升至1.86%，反映市场活跃度增加。尽管10日数据中大单资金有流出，但短期主力资金和价格动能支撑看涨预期，预计未来走势延续强势。\",\n",
    "    \"stop_loss\": 6.97,\n",
    "    \"take_profit\": 7.55,\n",
    "    \"analysis\": \"止损价设为6.97元（基于上个交易日收盘价7.19元的3%跌幅），以防范短期波动风险并保护本金。止盈价设为7.55元（对应5%涨幅），因主力资金持续流入且K线呈现上升趋势，近期高点7.3元突破后有望进一步上行。该设置平衡了资金动能与技术阻力，符合AI对短期强势的预判。\",\n",
    "    \"timestamp\": \"2025-03-10 05:47:45\"\n",
    "  },\n",
    "  {\n",
    "    \"stock_code\": \"000596\",\n",
    "    \"prediction\": 8,\n",
    "    \"reason\": \"1. 资金流向显示短期（1日）主力资金净流入2231万元（其中特大单/大单主导），小单资金流出，暗示主力吸筹迹象；10日周期大单资金净流入10.62亿元形成强支撑，对冲了5日周期的短期流出压力。2. K线显示近期量价齐升，近两日涨幅达4.18%和1.76%，收盘价突破10日最高点，且成交量显著放大（03-06日换手率0.89%，03-07日量能维持高位），形成多头排列。3. 中单和小单在1/10日周期的分歧表明散户存在抛压，但主力资金的持续性流入和K线突破形态显示上涨动能占优。\",\n",
    "    \"stop_loss\": 170.0,\n",
    "    \"take_profit\": 190.0,\n",
    "    \"analysis\": \"止损价格设定为170元，基于以下考量：1. 近两日K线低点（03-07日171.4元）与主力资金短期支撑位重合，若价格跌破170元将破坏多头结构；2. 该位置对应近期上涨波段（166.21元→176.2元）的50%斐波那契回撤位，技术面抛压可能加剧。止盈价格设定为190元，原因包括：1. 10日周期大单资金强支撑（106.24亿元）提供持续上涨动能；2. 当前股价突破历史密集成交区（03-03日174.94元高点），量能放大显示上方阻力较小，190元对应AI预测评分8分的中期估值区间上沿。\",\n",
    "    \"timestamp\": \"2025-03-10 05:48:11\"\n",
    "  },\n",
    "  {\n",
    "    \"stock_code\": \"600711\",\n",
    "    \"prediction\": 8,\n",
    "    \"reason\": \"近1/5/10日主力资金持续净流入（4891万/1.1亿/2504万），特大单和大单资金均呈现多日正向流入，表明机构资金持续布局。K线显示股价呈现阶梯式上涨趋势，近3个交易日连续放量突破前高（3月7日成交量较前日增长67%），收盘价创10日新高（5.14元）。主力与散户资金流向分化（小单持续净流出），结合量价齐升的技术形态，短期有望延续上涨动能。\",\n",
    "    \"stop_loss\": 4.92,\n",
    "    \"take_profit\": 5.4,\n",
    "    \"analysis\": \"止损价设定为4.92元（较前收盘价-4.3%），基于近3个交易日平均低点（5.02/5.0/4.86元）与关键支撑位（2月24日跳空缺口上沿4.89元）叠加波动率缓冲。止盈价设定为5.40元（较前收盘价+5.0%），对应前期筹码密集区（2025年1月高点5.35-5.45元）及主力资金近5日净流入量级（1.1亿元）推升的合理目标区间。\",\n",
    "    \"timestamp\": \"2025-03-10 05:48:19\"\n",
    "  }\n",
    "]\n",
    "\n",
    "def convert_prediction_data(prediction_list):\n",
    "    \"\"\"将原始预测数据列表转换为股票代码为键的字典格式\"\"\"\n",
    "    return {\n",
    "        item[\"stock_code\"]: {\n",
    "            \"prediction\": item[\"prediction\"],\n",
    "            \"stop_loss\": item[\"stop_loss\"],\n",
    "            \"take_profit\": item[\"take_profit\"]\n",
    "        }\n",
    "        for item in prediction_list\n",
    "    }\n",
    "\n",
    "# 使用示例\n",
    "PREDICTION_DICT = convert_prediction_data(PREDICTION_DATA)\n",
    "print(PREDICTION_DICT)\n"
   ]
  },
  {
   "cell_type": "code",
   "execution_count": null,
   "metadata": {},
   "outputs": [
    {
     "name": "stdout",
     "output_type": "stream",
     "text": [
      "最新数据更新时间：2025-03-10 13:59:16\n",
      "stock_code          trade_time  prediction  stop_loss  take_profit\n",
      "    600961 2025-03-10 15:00:00          10       8.20        10.50\n",
      "    601020 2025-03-10 15:00:00           9      20.50        26.80\n",
      "    600367 2025-03-10 15:00:00           9      14.30        17.79\n",
      "    002155 2025-03-10 15:00:00           9      20.70        24.62\n",
      "    301368 2025-03-10 15:00:00           9      90.00       110.00\n",
      "    603198 2025-03-10 15:00:00           8      54.50        62.50\n",
      "    605208 2025-03-10 15:00:00           9      14.28        17.28\n",
      "    603993 2025-03-10 15:00:00           8       6.97         7.55\n",
      "    000596 2025-03-10 15:00:00           8     170.00       190.00\n",
      "    600711 2025-03-10 15:00:00           8       4.92         5.40\n",
      "\n",
      "已更新网页文件：capital_flow_monitor.html\n"
     ]
    },
    {
     "name": "stderr",
     "output_type": "stream",
     "text": [
      "C:\\Users\\charl\\AppData\\Local\\Temp\\ipykernel_38144\\991573950.py:77: FutureWarning: Styler.applymap has been deprecated. Use Styler.map instead.\n",
      "  .applymap(style_predictions, subset=['prediction'])\n"
     ]
    },
    {
     "ename": "KeyboardInterrupt",
     "evalue": "",
     "output_type": "error",
     "traceback": [
      "\u001b[1;31m---------------------------------------------------------------------------\u001b[0m",
      "\u001b[1;31mKeyboardInterrupt\u001b[0m                         Traceback (most recent call last)",
      "Cell \u001b[1;32mIn[12], line 133\u001b[0m\n\u001b[0;32m    130\u001b[0m         time\u001b[38;5;241m.\u001b[39msleep(\u001b[38;5;28mmax\u001b[39m(sleep_time, \u001b[38;5;241m1\u001b[39m))\n\u001b[0;32m    132\u001b[0m \u001b[38;5;28;01mif\u001b[39;00m \u001b[38;5;18m__name__\u001b[39m \u001b[38;5;241m==\u001b[39m \u001b[38;5;124m\"\u001b[39m\u001b[38;5;124m__main__\u001b[39m\u001b[38;5;124m\"\u001b[39m:\n\u001b[1;32m--> 133\u001b[0m     \u001b[43mmain\u001b[49m\u001b[43m(\u001b[49m\u001b[43m)\u001b[49m\n",
      "Cell \u001b[1;32mIn[12], line 130\u001b[0m, in \u001b[0;36mmain\u001b[1;34m()\u001b[0m\n\u001b[0;32m    127\u001b[0m     \u001b[38;5;28mprint\u001b[39m(\u001b[38;5;124mf\u001b[39m\u001b[38;5;124m\"\u001b[39m\u001b[38;5;130;01m\\n\u001b[39;00m\u001b[38;5;124m已更新网页文件：\u001b[39m\u001b[38;5;132;01m{\u001b[39;00mHTML_FILENAME\u001b[38;5;132;01m}\u001b[39;00m\u001b[38;5;124m\"\u001b[39m)\n\u001b[0;32m    129\u001b[0m sleep_time \u001b[38;5;241m=\u001b[39m \u001b[38;5;241m60\u001b[39m \u001b[38;5;241m-\u001b[39m (time\u001b[38;5;241m.\u001b[39mtime() \u001b[38;5;241m-\u001b[39m start_time) \u001b[38;5;241m%\u001b[39m \u001b[38;5;241m60\u001b[39m\n\u001b[1;32m--> 130\u001b[0m time\u001b[38;5;241m.\u001b[39msleep(\u001b[38;5;28mmax\u001b[39m(sleep_time, \u001b[38;5;241m1\u001b[39m))\n",
      "\u001b[1;31mKeyboardInterrupt\u001b[0m: "
     ]
    }
   ],
   "source": [
    "import adata\n",
    "import pandas as pd\n",
    "import time\n",
    "import os\n",
    "from datetime import datetime\n",
    "from html import escape\n",
    "\n",
    "HTML_FILENAME = 'capital_flow_monitor.html'\n",
    "\n",
    "STOCK_LIST = [\n",
    "    '600961', '601020', '600367', '002155', '301368',\n",
    "    '603198', '605208', '603993', '000596', '600711'\n",
    "]\n",
    "\n",
    "\n",
    "def get_prediction_info(stock_code):\n",
    "    \"\"\"安全获取预测信息并验证数据完整性\"\"\"\n",
    "    prediction = PREDICTION_DICT.get(stock_code, {})\n",
    "    # 确保必要字段存在\n",
    "    return {\n",
    "        'prediction': prediction.get('prediction', 0),  # 默认0分\n",
    "        'stop_loss': prediction.get('stop_loss', 0.0),\n",
    "        'take_profit': prediction.get('take_profit', 0.0)\n",
    "    }\n",
    "\n",
    "def get_latest_data(stock_code):\n",
    "    \"\"\"获取并增强股票数据\"\"\"\n",
    "    try:\n",
    "        df = adata.stock.market.get_capital_flow_min(stock_code=stock_code)\n",
    "        if df.empty:\n",
    "            print(f\"股票{stock_code}无可用数据\")\n",
    "            return None\n",
    "            \n",
    "        # 合并并验证预测数据\n",
    "        prediction = get_prediction_info(stock_code)\n",
    "        last_row = df.tail(1).copy()\n",
    "        \n",
    "        # 强制类型转换\n",
    "        last_row['prediction'] = int(prediction['prediction'])\n",
    "        last_row['stop_loss'] = float(prediction['stop_loss'])\n",
    "        last_row['take_profit'] = float(prediction['take_profit'])\n",
    "        \n",
    "        return last_row.reset_index(drop=True)\n",
    "    except Exception as e:\n",
    "        print(f\"处理{stock_code}数据错误: {str(e)}\")\n",
    "        return None\n",
    "\n",
    "def fetch_realtime_data():\n",
    "    \"\"\"批量获取实时行情数据\"\"\"\n",
    "    try:\n",
    "        df1 = adata.stock.market.list_market_current(code_list=STOCK_LIST)\n",
    "        if df1.empty:\n",
    "            print(\"无实时数据返回\")\n",
    "            return pd.DataFrame()\n",
    "        \n",
    "        # 添加预测信息\n",
    "        predictions = []\n",
    "        for code in df1['stock_code']:\n",
    "            predictions.append(get_prediction_info(code))\n",
    "        \n",
    "        # 合并数据\n",
    "        pred_df = pd.DataFrame(predictions)\n",
    "        return pd.concat([df1, pred_df], axis=1)\n",
    "    except Exception as e:\n",
    "        print(f\"获取实时数据异常: {str(e)}\")\n",
    "        return pd.DataFrame()\n",
    "\n",
    "def style_predictions(val):\n",
    "    \"\"\"增强样式处理函数\"\"\"\n",
    "    try:\n",
    "        score = int(val)\n",
    "        if score >= 9:\n",
    "            return 'color: #4CAF50; font-weight: bold;'\n",
    "        elif score >= 7:\n",
    "            return 'color: #FFC107; font-weight: bold;'\n",
    "        return 'color: #F44336; font-weight: bold;'\n",
    "    except:\n",
    "        return ''  # 无效值时返回空样式\n",
    "\n",
    "def generate_html(df):\n",
    "    \"\"\"生成带样式的HTML文件（增加数据验证）\"\"\"\n",
    "    # 过滤无效数据\n",
    "    valid_df = df.dropna(subset=['prediction']).reset_index(drop=True)\n",
    "    \n",
    "    safe_timestamp = escape(datetime.now().strftime('%Y-%m-%d %H:%M:%S'))\n",
    "    \n",
    "    # 创建样式化表格\n",
    "    styled_df = (\n",
    "        valid_df.style\n",
    "        .hide(axis='index')\n",
    "        .format({\n",
    "            'prediction': '{:.0f}',\n",
    "            'stop_loss': '{:.2f}',\n",
    "            'take_profit': '{:.2f}',\n",
    "            'main_net_inflow': '¥{:,.0f}'\n",
    "        })\n",
    "        .applymap(style_predictions, subset=['prediction'])\n",
    "    )\n",
    "    \n",
    "    html_template = f'''\n",
    "    <!DOCTYPE html>\n",
    "    <html>\n",
    "    <head>\n",
    "        <title>实时资金流监控 - 今日选股</title>\n",
    "        <meta charset=\"UTF-8\">\n",
    "        <meta http-equiv=\"refresh\" content=\"60\">\n",
    "        <style>\n",
    "            /* 保持原有样式不变 */\n",
    "        </style>\n",
    "    </head>\n",
    "    <body>\n",
    "        <div class=\"header\">\n",
    "            <h2>今日选股实时监控</h2>\n",
    "            <div>监控股票：{', '.join(STOCK_LIST)}</div>\n",
    "        </div>\n",
    "        <div class=\"timestamp\">最后更新时间：{safe_timestamp}</div>\n",
    "        {styled_df.to_html() if not valid_df.empty else \"<p>暂无有效数据</p>\"}\n",
    "    </body>\n",
    "    </html>\n",
    "    '''\n",
    "    with open(HTML_FILENAME, 'w', encoding='utf-8') as f:\n",
    "        f.write(html_template)\n",
    "\n",
    "def main():\n",
    "    while True:\n",
    "        start_time = time.time()\n",
    "        \n",
    "        all_data = []\n",
    "        for stock in STOCK_LIST:\n",
    "            if (df := get_latest_data(stock)) is not None:\n",
    "                # 添加数据验证\n",
    "                if not df.empty and pd.notna(df['prediction'].iloc[0]):\n",
    "                    all_data.append(df)\n",
    "        \n",
    "        combined_df = pd.concat(all_data, ignore_index=True) if all_data else pd.DataFrame()\n",
    "        \n",
    "        os.system('cls' if os.name == 'nt' else 'clear')\n",
    "        print(f\"最新数据更新时间：{datetime.now().strftime('%Y-%m-%d %H:%M:%S')}\")\n",
    "        if not combined_df.empty:\n",
    "            print(combined_df[['stock_code', 'trade_time', 'prediction', \n",
    "                             'stop_loss', 'take_profit']].to_string(index=False))\n",
    "        else:\n",
    "            print(\"暂无有效数据\")\n",
    "        \n",
    "        if not combined_df.empty:\n",
    "            generate_html(combined_df)\n",
    "            print(f\"\\n已更新网页文件：{HTML_FILENAME}\")\n",
    "        \n",
    "        sleep_time = 60 - (time.time() - start_time) % 60\n",
    "        time.sleep(max(sleep_time, 1))\n",
    "\n",
    "if __name__ == \"__main__\":\n",
    "    main()"
   ]
  },
  {
   "cell_type": "code",
   "execution_count": null,
   "metadata": {},
   "outputs": [],
   "source": []
  },
  {
   "cell_type": "code",
   "execution_count": 4,
   "metadata": {},
   "outputs": [
    {
     "name": "stdout",
     "output_type": "stream",
     "text": [
      "最新更新：19:39:04\n",
      "stock_code short_name  price change_pct  main_net_inflow  prediction\n",
      "    600961       株冶集团  9.210       2.11      -99103567.0          10\n",
      "    601020       华钰矿业 23.760       5.37     -422436840.0           9\n",
      "    600367       红星发展 14.700      -3.67     -162171536.0           9\n",
      "    002155       湖南黄金  21.88      -2.23      -88867053.0           9\n",
      "    301368       丰立智能  89.20      -8.04     -112861115.0           9\n",
      "    603198       迎驾贡酒 59.220       2.42       45323692.0           8\n",
      "    605208        永茂泰 16.530       5.22      -13194459.0           9\n",
      "    603993       洛阳钼业  7.810       8.62      955088462.0           8\n",
      "    000596       古井贡酒 179.35       1.79       15316435.0           8\n",
      "    600711       ST盛屯  5.400       5.06      124064504.0           8\n",
      "已更新监控页面 -> stock_realtime_monitor.html\n"
     ]
    },
    {
     "name": "stderr",
     "output_type": "stream",
     "text": [
      "C:\\Users\\charl\\AppData\\Local\\Temp\\ipykernel_65656\\701453132.py:104: FutureWarning: Styler.applymap has been deprecated. Use Styler.map instead.\n",
      "  .applymap(style_predictions, subset=['prediction'])\n"
     ]
    },
    {
     "name": "stdout",
     "output_type": "stream",
     "text": [
      "最新更新：19:39:36\n",
      "stock_code short_name  price change_pct  main_net_inflow  prediction\n",
      "    600961       株冶集团  9.210       2.11      -99103567.0          10\n",
      "    601020       华钰矿业 23.760       5.37     -422436840.0           9\n",
      "    600367       红星发展 14.700      -3.67     -162171536.0           9\n",
      "    002155       湖南黄金  21.88      -2.23      -88867053.0           9\n",
      "    301368       丰立智能  89.20      -8.04     -112861115.0           9\n",
      "    603198       迎驾贡酒 59.220       2.42       45323692.0           8\n",
      "    605208        永茂泰 16.530       5.22      -13194459.0           9\n",
      "    603993       洛阳钼业  7.810       8.62      955088462.0           8\n",
      "    000596       古井贡酒 179.35       1.79       15316435.0           8\n",
      "    600711       ST盛屯  5.400       5.06      124064504.0           8\n",
      "已更新监控页面 -> stock_realtime_monitor.html\n"
     ]
    },
    {
     "name": "stderr",
     "output_type": "stream",
     "text": [
      "C:\\Users\\charl\\AppData\\Local\\Temp\\ipykernel_65656\\701453132.py:104: FutureWarning: Styler.applymap has been deprecated. Use Styler.map instead.\n",
      "  .applymap(style_predictions, subset=['prediction'])\n"
     ]
    },
    {
     "name": "stdout",
     "output_type": "stream",
     "text": [
      "获取600367资金流数据失败: HTTPSConnectionPool(host='push2delay.eastmoney.com', port=443): Max retries exceeded with url: /api/qt/stock/fflow/kline/get?lmt=0&klt=1&fields1=f1,f2,f3,f7&fields2=f51,f52,f53,f54,f55,f56,f57,f58,f59,f60,f61,f62,f63,f64,f65&secid=1.600367 (Caused by ConnectTimeoutError(<urllib3.connection.HTTPSConnection object at 0x00000188EF20A310>, 'Connection to push2delay.eastmoney.com timed out. (connect timeout=None)'))\n",
      "最新更新：19:40:24\n",
      "stock_code short_name  price change_pct  main_net_inflow  prediction\n",
      "    600961       株冶集团  9.210       2.11      -99103567.0          10\n",
      "    601020       华钰矿业 23.760       5.37     -422436840.0           9\n",
      "    600367       红星发展 14.700      -3.67              NaN           9\n",
      "    002155       湖南黄金  21.88      -2.23      -88867053.0           9\n",
      "    301368       丰立智能  89.20      -8.04     -112861115.0           9\n",
      "    603198       迎驾贡酒 59.220       2.42       45323692.0           8\n",
      "    605208        永茂泰 16.530       5.22      -13194459.0           9\n",
      "    603993       洛阳钼业  7.810       8.62      955088462.0           8\n",
      "    000596       古井贡酒 179.35       1.79       15316435.0           8\n",
      "    600711       ST盛屯  5.400       5.06      124064504.0           8\n",
      "已更新监控页面 -> stock_realtime_monitor.html\n"
     ]
    },
    {
     "name": "stderr",
     "output_type": "stream",
     "text": [
      "C:\\Users\\charl\\AppData\\Local\\Temp\\ipykernel_65656\\701453132.py:104: FutureWarning: Styler.applymap has been deprecated. Use Styler.map instead.\n",
      "  .applymap(style_predictions, subset=['prediction'])\n"
     ]
    },
    {
     "name": "stdout",
     "output_type": "stream",
     "text": [
      "最新更新：19:41:05\n",
      "stock_code short_name  price change_pct  main_net_inflow  prediction\n",
      "    600961       株冶集团  9.210       2.11      -99103567.0          10\n",
      "    601020       华钰矿业 23.760       5.37     -422436840.0           9\n",
      "    600367       红星发展 14.700      -3.67     -162171536.0           9\n",
      "    002155       湖南黄金  21.88      -2.23      -88867053.0           9\n",
      "    301368       丰立智能  89.20      -8.04     -112861115.0           9\n",
      "    603198       迎驾贡酒 59.220       2.42       45323692.0           8\n",
      "    605208        永茂泰 16.530       5.22      -13194459.0           9\n",
      "    603993       洛阳钼业  7.810       8.62      955088462.0           8\n",
      "    000596       古井贡酒 179.35       1.79       15316435.0           8\n",
      "    600711       ST盛屯  5.400       5.06      124064504.0           8\n",
      "已更新监控页面 -> stock_realtime_monitor.html\n"
     ]
    },
    {
     "name": "stderr",
     "output_type": "stream",
     "text": [
      "C:\\Users\\charl\\AppData\\Local\\Temp\\ipykernel_65656\\701453132.py:104: FutureWarning: Styler.applymap has been deprecated. Use Styler.map instead.\n",
      "  .applymap(style_predictions, subset=['prediction'])\n"
     ]
    },
    {
     "name": "stdout",
     "output_type": "stream",
     "text": [
      "获取600711资金流数据失败: ('Connection aborted.', ConnectionResetError(10054, 'An existing connection was forcibly closed by the remote host', None, 10054, None))\n",
      "最新更新：21:26:04\n",
      "stock_code short_name  price change_pct  main_net_inflow  prediction\n",
      "    600961       株冶集团  9.210       2.11      -99103567.0          10\n",
      "    601020       华钰矿业 23.760       5.37     -422436840.0           9\n",
      "    600367       红星发展 14.700      -3.67     -162171536.0           9\n",
      "    002155       湖南黄金  21.88      -2.23      -88867053.0           9\n",
      "    301368       丰立智能  89.20      -8.04     -112861115.0           9\n",
      "    603198       迎驾贡酒 59.220       2.42       45323692.0           8\n",
      "    605208        永茂泰 16.530       5.22      -13194459.0           9\n",
      "    603993       洛阳钼业  7.810       8.62      955088462.0           8\n",
      "    000596       古井贡酒 179.35       1.79       15316435.0           8\n",
      "    600711       ST盛屯  5.400       5.06              NaN           8\n",
      "已更新监控页面 -> stock_realtime_monitor.html\n"
     ]
    },
    {
     "name": "stderr",
     "output_type": "stream",
     "text": [
      "C:\\Users\\charl\\AppData\\Local\\Temp\\ipykernel_65656\\701453132.py:104: FutureWarning: Styler.applymap has been deprecated. Use Styler.map instead.\n",
      "  .applymap(style_predictions, subset=['prediction'])\n"
     ]
    },
    {
     "name": "stdout",
     "output_type": "stream",
     "text": [
      "最新更新：21:26:40\n",
      "stock_code short_name  price change_pct  main_net_inflow  prediction\n",
      "    600961       株冶集团  9.400       2.06        3162475.0          10\n",
      "    601020       华钰矿业 23.400      -1.52       33426933.0           9\n",
      "    600367       红星发展 15.280       3.95       24983183.0           9\n",
      "    002155       湖南黄金  22.02       0.64       20317064.0           9\n",
      "    301368       丰立智能  87.55      -1.85      -30946154.0           9\n",
      "    603198       迎驾贡酒 59.680       0.78       17702049.0           8\n",
      "    605208        永茂泰 15.770      -4.60       -8524023.0           9\n",
      "    603993       洛阳钼业  7.580      -2.94      -37469883.0           8\n",
      "    000596       古井贡酒 184.20       2.70        9036750.0           8\n",
      "    600711       ST盛屯  5.460       1.11      -32655903.0           8\n",
      "已更新监控页面 -> stock_realtime_monitor.html\n"
     ]
    },
    {
     "name": "stderr",
     "output_type": "stream",
     "text": [
      "C:\\Users\\charl\\AppData\\Local\\Temp\\ipykernel_65656\\701453132.py:104: FutureWarning: Styler.applymap has been deprecated. Use Styler.map instead.\n",
      "  .applymap(style_predictions, subset=['prediction'])\n"
     ]
    },
    {
     "name": "stdout",
     "output_type": "stream",
     "text": [
      "最新更新：21:27:07\n",
      "stock_code short_name  price change_pct  main_net_inflow  prediction\n",
      "    600961       株冶集团  9.430       2.39        3214303.0          10\n",
      "    601020       华钰矿业 23.470      -1.22       32837983.0           9\n",
      "    600367       红星发展 15.280       3.95       24983183.0           9\n",
      "    002155       湖南黄金  22.05       0.78       20096564.0           9\n",
      "    301368       丰立智能  87.50      -1.91      -30972419.0           9\n",
      "    603198       迎驾贡酒 59.710       0.83       17570599.0           8\n",
      "    605208        永茂泰 15.700      -5.02       -8524023.0           9\n",
      "    603993       洛阳钼业  7.580      -2.94      -36135701.0           8\n",
      "    000596       古井贡酒 184.01       2.60        9036750.0           8\n",
      "    600711       ST盛屯  5.450       0.93      -32499747.0           8\n",
      "已更新监控页面 -> stock_realtime_monitor.html\n"
     ]
    },
    {
     "name": "stderr",
     "output_type": "stream",
     "text": [
      "C:\\Users\\charl\\AppData\\Local\\Temp\\ipykernel_65656\\701453132.py:104: FutureWarning: Styler.applymap has been deprecated. Use Styler.map instead.\n",
      "  .applymap(style_predictions, subset=['prediction'])\n"
     ]
    },
    {
     "name": "stdout",
     "output_type": "stream",
     "text": [
      "最新更新：21:27:37\n",
      "stock_code short_name  price change_pct  main_net_inflow  prediction\n",
      "    600961       株冶集团  9.410       2.17        3133377.0          10\n",
      "    601020       华钰矿业 23.450      -1.30       30880707.0           9\n",
      "    600367       红星发展 15.260       3.81       25241077.0           9\n",
      "    002155       湖南黄金  22.04       0.73       20244250.0           9\n",
      "    301368       丰立智能  87.20      -2.24      -30492164.0           9\n",
      "    603198       迎驾贡酒 59.740       0.88       17289774.0           8\n",
      "    605208        永茂泰 15.720      -4.90       -8524023.0           9\n",
      "    603993       洛阳钼业  7.580      -2.94      -36150469.0           8\n",
      "    000596       古井贡酒 184.01       2.60        8797537.0           8\n",
      "    600711       ST盛屯  5.460       1.11      -32218464.0           8\n",
      "已更新监控页面 -> stock_realtime_monitor.html\n"
     ]
    },
    {
     "name": "stderr",
     "output_type": "stream",
     "text": [
      "C:\\Users\\charl\\AppData\\Local\\Temp\\ipykernel_65656\\701453132.py:104: FutureWarning: Styler.applymap has been deprecated. Use Styler.map instead.\n",
      "  .applymap(style_predictions, subset=['prediction'])\n"
     ]
    },
    {
     "name": "stdout",
     "output_type": "stream",
     "text": [
      "最新更新：21:28:07\n",
      "stock_code short_name  price change_pct  main_net_inflow  prediction\n",
      "    600961       株冶集团  9.390       1.95        2337425.0          10\n",
      "    601020       华钰矿业 23.410      -1.47       29560408.0           9\n",
      "    600367       红星发展 15.250       3.74       24761128.0           9\n",
      "    002155       湖南黄金  22.05       0.78       20242044.0           9\n",
      "    301368       丰立智能  87.09      -2.37      -30300394.0           9\n",
      "    603198       迎驾贡酒 59.710       0.83       17074890.0           8\n",
      "    605208        永茂泰 15.750      -4.72       -8524023.0           9\n",
      "    603993       洛阳钼业  7.580      -2.94      -35966059.0           8\n",
      "    000596       古井贡酒 184.00       2.59        8797537.0           8\n",
      "    600711       ST盛屯  5.460       1.11      -32206513.0           8\n",
      "已更新监控页面 -> stock_realtime_monitor.html\n"
     ]
    },
    {
     "name": "stderr",
     "output_type": "stream",
     "text": [
      "C:\\Users\\charl\\AppData\\Local\\Temp\\ipykernel_65656\\701453132.py:104: FutureWarning: Styler.applymap has been deprecated. Use Styler.map instead.\n",
      "  .applymap(style_predictions, subset=['prediction'])\n"
     ]
    },
    {
     "name": "stdout",
     "output_type": "stream",
     "text": [
      "最新更新：21:28:36\n",
      "stock_code short_name  price change_pct  main_net_inflow  prediction\n",
      "    600961       株冶集团  9.370       1.74         411363.0          10\n",
      "    601020       华钰矿业 23.410      -1.47       29284096.0           9\n",
      "    600367       红星发展 15.250       3.74       24761128.0           9\n",
      "    002155       湖南黄金  22.00       0.55       18678771.0           9\n",
      "    301368       丰立智能  87.02      -2.44      -30108756.0           9\n",
      "    603198       迎驾贡酒 59.640       0.71       16752721.0           8\n",
      "    605208        永茂泰 15.710      -4.96       -9182214.0           9\n",
      "    603993       洛阳钼业  7.570      -3.07      -34715941.0           8\n",
      "    000596       古井贡酒 184.15       2.68        8539923.0           8\n",
      "    600711       ST盛屯  5.460       1.11      -31569337.0           8\n",
      "已更新监控页面 -> stock_realtime_monitor.html\n"
     ]
    },
    {
     "name": "stderr",
     "output_type": "stream",
     "text": [
      "C:\\Users\\charl\\AppData\\Local\\Temp\\ipykernel_65656\\701453132.py:104: FutureWarning: Styler.applymap has been deprecated. Use Styler.map instead.\n",
      "  .applymap(style_predictions, subset=['prediction'])\n"
     ]
    },
    {
     "name": "stdout",
     "output_type": "stream",
     "text": [
      "最新更新：21:29:08\n",
      "stock_code short_name  price change_pct  main_net_inflow  prediction\n",
      "    600961       株冶集团  9.360       1.63         608859.0          10\n",
      "    601020       华钰矿业 23.360      -1.68       29809168.0           9\n",
      "    600367       红星发展 15.250       3.74       24614641.0           9\n",
      "    002155       湖南黄金  22.00       0.55       18495373.0           9\n",
      "    301368       丰立智能  86.96      -2.51      -31413833.0           9\n",
      "    603198       迎驾贡酒 59.750       0.89       16555593.0           8\n",
      "    605208        永茂泰 15.650      -5.32       -9924924.0           9\n",
      "    603993       洛阳钼业  7.560      -3.20      -32460919.0           8\n",
      "    000596       古井贡酒 184.30       2.76        8521709.0           8\n",
      "    600711       ST盛屯  5.470       1.30      -32043214.0           8\n",
      "已更新监控页面 -> stock_realtime_monitor.html\n"
     ]
    },
    {
     "name": "stderr",
     "output_type": "stream",
     "text": [
      "C:\\Users\\charl\\AppData\\Local\\Temp\\ipykernel_65656\\701453132.py:104: FutureWarning: Styler.applymap has been deprecated. Use Styler.map instead.\n",
      "  .applymap(style_predictions, subset=['prediction'])\n"
     ]
    },
    {
     "name": "stdout",
     "output_type": "stream",
     "text": [
      "最新更新：21:29:42\n",
      "stock_code short_name  price change_pct  main_net_inflow  prediction\n",
      "    600961       株冶集团  9.360       1.63         501219.0          10\n",
      "    601020       华钰矿业 23.460      -1.26       28960140.0           9\n",
      "    600367       红星发展 15.240       3.67       24946989.0           9\n",
      "    002155       湖南黄金  22.02       0.64       18834440.0           9\n",
      "    301368       丰立智能  86.93      -2.54      -32855683.0           9\n",
      "    603198       迎驾贡酒 59.770       0.93       16382301.0           8\n",
      "    605208        永茂泰 15.660      -5.26      -10611311.0           9\n",
      "    603993       洛阳钼业  7.550      -3.33      -31713286.0           8\n",
      "    000596       古井贡酒 184.23       2.72        7747982.0           8\n",
      "    600711       ST盛屯  5.460       1.11      -31539356.0           8\n",
      "已更新监控页面 -> stock_realtime_monitor.html\n"
     ]
    },
    {
     "name": "stderr",
     "output_type": "stream",
     "text": [
      "C:\\Users\\charl\\AppData\\Local\\Temp\\ipykernel_65656\\701453132.py:104: FutureWarning: Styler.applymap has been deprecated. Use Styler.map instead.\n",
      "  .applymap(style_predictions, subset=['prediction'])\n"
     ]
    },
    {
     "name": "stdout",
     "output_type": "stream",
     "text": [
      "获取600961资金流数据失败: HTTPSConnectionPool(host='push2.eastmoney.com', port=443): Max retries exceeded with url: /api/qt/stock/fflow/kline/get?lmt=0&klt=1&fields1=f1,f2,f3,f7&fields2=f51,f52,f53,f54,f55,f56,f57,f58,f59,f60,f61,f62,f63,f64,f65&secid=1.600961 (Caused by ConnectTimeoutError(<urllib3.connection.HTTPSConnection object at 0x00000188EE981A10>, 'Connection to push2.eastmoney.com timed out. (connect timeout=None)'))\n",
      "最新更新：21:30:24\n",
      "stock_code short_name  price change_pct  main_net_inflow  prediction\n",
      "    600961       株冶集团  9.370       1.74              NaN          10\n",
      "    601020       华钰矿业 23.460      -1.26       28820897.0           9\n",
      "    600367       红星发展 15.240       3.67       24674395.0           9\n",
      "    002155       湖南黄金  22.05       0.78       19239115.0           9\n",
      "    301368       丰立智能  86.91      -2.57      -33699182.0           9\n",
      "    603198       迎驾贡酒 59.740       0.88       16328526.0           8\n",
      "    605208        永茂泰 15.680      -5.14      -10469379.0           9\n",
      "    603993       洛阳钼业  7.540      -3.46      -28330927.0           8\n",
      "    000596       古井贡酒 184.23       2.72        6109669.0           8\n",
      "    600711       ST盛屯  5.460       1.11      -32374479.0           8\n",
      "已更新监控页面 -> stock_realtime_monitor.html\n"
     ]
    },
    {
     "name": "stderr",
     "output_type": "stream",
     "text": [
      "C:\\Users\\charl\\AppData\\Local\\Temp\\ipykernel_65656\\701453132.py:104: FutureWarning: Styler.applymap has been deprecated. Use Styler.map instead.\n",
      "  .applymap(style_predictions, subset=['prediction'])\n"
     ]
    },
    {
     "name": "stdout",
     "output_type": "stream",
     "text": [
      "获取603198资金流数据失败: HTTPSConnectionPool(host='push2.eastmoney.com', port=443): Max retries exceeded with url: /api/qt/stock/fflow/kline/get?lmt=0&klt=1&fields1=f1,f2,f3,f7&fields2=f51,f52,f53,f54,f55,f56,f57,f58,f59,f60,f61,f62,f63,f64,f65&secid=1.603198 (Caused by NameResolutionError(\"<urllib3.connection.HTTPSConnection object at 0x00000188EF23B090>: Failed to resolve 'push2.eastmoney.com' ([Errno 11001] getaddrinfo failed)\"))\n",
      "获取605208资金流数据失败: HTTPSConnectionPool(host='push2.eastmoney.com', port=443): Max retries exceeded with url: /api/qt/stock/fflow/kline/get?lmt=0&klt=1&fields1=f1,f2,f3,f7&fields2=f51,f52,f53,f54,f55,f56,f57,f58,f59,f60,f61,f62,f63,f64,f65&secid=1.605208 (Caused by NameResolutionError(\"<urllib3.connection.HTTPSConnection object at 0x00000188EF239750>: Failed to resolve 'push2.eastmoney.com' ([Errno 11001] getaddrinfo failed)\"))\n",
      "获取603993资金流数据失败: HTTPSConnectionPool(host='push2.eastmoney.com', port=443): Max retries exceeded with url: /api/qt/stock/fflow/kline/get?lmt=0&klt=1&fields1=f1,f2,f3,f7&fields2=f51,f52,f53,f54,f55,f56,f57,f58,f59,f60,f61,f62,f63,f64,f65&secid=1.603993 (Caused by NameResolutionError(\"<urllib3.connection.HTTPSConnection object at 0x00000188EF21D110>: Failed to resolve 'push2.eastmoney.com' ([Errno 11001] getaddrinfo failed)\"))\n",
      "获取000596资金流数据失败: HTTPSConnectionPool(host='push2.eastmoney.com', port=443): Max retries exceeded with url: /api/qt/stock/fflow/kline/get?lmt=0&klt=1&fields1=f1,f2,f3,f7&fields2=f51,f52,f53,f54,f55,f56,f57,f58,f59,f60,f61,f62,f63,f64,f65&secid=0.000596 (Caused by NameResolutionError(\"<urllib3.connection.HTTPSConnection object at 0x00000188EF21C990>: Failed to resolve 'push2.eastmoney.com' ([Errno 11001] getaddrinfo failed)\"))\n",
      "获取600711资金流数据失败: HTTPSConnectionPool(host='push2.eastmoney.com', port=443): Max retries exceeded with url: /api/qt/stock/fflow/kline/get?lmt=0&klt=1&fields1=f1,f2,f3,f7&fields2=f51,f52,f53,f54,f55,f56,f57,f58,f59,f60,f61,f62,f63,f64,f65&secid=1.600711 (Caused by NameResolutionError(\"<urllib3.connection.HTTPSConnection object at 0x00000188EE8A3490>: Failed to resolve 'push2.eastmoney.com' ([Errno 11001] getaddrinfo failed)\"))\n",
      "最新更新：16:17:29\n",
      "stock_code short_name  price change_pct  main_net_inflow  prediction\n",
      "    600961       株冶集团  9.750       5.86       89664573.0          10\n",
      "    601020       华钰矿业 24.440       2.86       94040044.0           9\n",
      "    600367       红星发展 15.380       4.63       52339353.0           9\n",
      "    002155       湖南黄金  23.52       7.50      307973502.0           9\n",
      "    301368       丰立智能  88.00      -1.35     -133552529.0           9\n",
      "    603198       迎驾贡酒 60.640       2.40              NaN           8\n",
      "    605208        永茂泰 15.870      -3.99              NaN           9\n",
      "    603993       洛阳钼业  7.700      -1.41              NaN           8\n",
      "    000596       古井贡酒 189.17       5.48              NaN           8\n",
      "    600711       ST盛屯  5.550       2.78              NaN           8\n",
      "已更新监控页面 -> stock_realtime_monitor.html\n"
     ]
    },
    {
     "name": "stderr",
     "output_type": "stream",
     "text": [
      "C:\\Users\\charl\\AppData\\Local\\Temp\\ipykernel_65656\\701453132.py:104: FutureWarning: Styler.applymap has been deprecated. Use Styler.map instead.\n",
      "  .applymap(style_predictions, subset=['prediction'])\n"
     ]
    },
    {
     "name": "stdout",
     "output_type": "stream",
     "text": [
      "无实时行情数据\n",
      "最新更新：16:17:39\n",
      "暂无有效数据\n",
      "获取603993资金流数据失败: HTTPSConnectionPool(host='push2delay.eastmoney.com', port=443): Max retries exceeded with url: /api/qt/stock/fflow/kline/get?lmt=0&klt=1&fields1=f1,f2,f3,f7&fields2=f51,f52,f53,f54,f55,f56,f57,f58,f59,f60,f61,f62,f63,f64,f65&secid=1.603993 (Caused by ConnectTimeoutError(<urllib3.connection.HTTPSConnection object at 0x00000188EF205390>, 'Connection to push2delay.eastmoney.com timed out. (connect timeout=None)'))\n",
      "最新更新：16:18:46\n",
      "stock_code short_name  price change_pct  main_net_inflow  prediction\n",
      "    600961       株冶集团  9.750       5.86       89664573.0          10\n",
      "    601020       华钰矿业 24.440       2.86       94040044.0           9\n",
      "    600367       红星发展 15.380       4.63       52339353.0           9\n",
      "    002155       湖南黄金  23.52       7.50      307973502.0           9\n",
      "    301368       丰立智能  88.00      -1.35     -133552529.0           9\n",
      "    603198       迎驾贡酒 60.640       2.40       55839439.0           8\n",
      "    605208        永茂泰 15.870      -3.99       12710427.0           9\n",
      "    603993       洛阳钼业  7.700      -1.41              NaN           8\n",
      "    000596       古井贡酒 189.17       5.48      -16307812.0           8\n",
      "    600711       ST盛屯  5.550       2.78      -13048991.0           8\n",
      "已更新监控页面 -> stock_realtime_monitor.html\n"
     ]
    },
    {
     "name": "stderr",
     "output_type": "stream",
     "text": [
      "C:\\Users\\charl\\AppData\\Local\\Temp\\ipykernel_65656\\701453132.py:104: FutureWarning: Styler.applymap has been deprecated. Use Styler.map instead.\n",
      "  .applymap(style_predictions, subset=['prediction'])\n"
     ]
    },
    {
     "name": "stdout",
     "output_type": "stream",
     "text": [
      "最新更新：16:19:29\n",
      "stock_code short_name  price change_pct  main_net_inflow  prediction\n",
      "    600961       株冶集团  9.750       5.86       89664573.0          10\n",
      "    601020       华钰矿业 24.440       2.86       94040044.0           9\n",
      "    600367       红星发展 15.380       4.63       52339353.0           9\n",
      "    002155       湖南黄金  23.52       7.50      307973502.0           9\n",
      "    301368       丰立智能  88.00      -1.35     -133552529.0           9\n",
      "    603198       迎驾贡酒 60.640       2.40       55839439.0           8\n",
      "    605208        永茂泰 15.870      -3.99       12710427.0           9\n",
      "    603993       洛阳钼业  7.700      -1.41       64061269.0           8\n",
      "    000596       古井贡酒 189.17       5.48      -16307812.0           8\n",
      "    600711       ST盛屯  5.550       2.78      -13048991.0           8\n",
      "已更新监控页面 -> stock_realtime_monitor.html\n"
     ]
    },
    {
     "name": "stderr",
     "output_type": "stream",
     "text": [
      "C:\\Users\\charl\\AppData\\Local\\Temp\\ipykernel_65656\\701453132.py:104: FutureWarning: Styler.applymap has been deprecated. Use Styler.map instead.\n",
      "  .applymap(style_predictions, subset=['prediction'])\n"
     ]
    },
    {
     "name": "stdout",
     "output_type": "stream",
     "text": [
      "最新更新：16:19:57\n",
      "stock_code short_name  price change_pct  main_net_inflow  prediction\n",
      "    600961       株冶集团  9.750       5.86       89664573.0          10\n",
      "    601020       华钰矿业 24.440       2.86       94040044.0           9\n",
      "    600367       红星发展 15.380       4.63       52339353.0           9\n",
      "    002155       湖南黄金  23.52       7.50      307973502.0           9\n",
      "    301368       丰立智能  88.00      -1.35     -133552529.0           9\n",
      "    603198       迎驾贡酒 60.640       2.40       55839439.0           8\n",
      "    605208        永茂泰 15.870      -3.99       12710427.0           9\n",
      "    603993       洛阳钼业  7.700      -1.41       64061269.0           8\n",
      "    000596       古井贡酒 189.17       5.48      -16307812.0           8\n",
      "    600711       ST盛屯  5.550       2.78      -13048991.0           8\n",
      "已更新监控页面 -> stock_realtime_monitor.html\n"
     ]
    },
    {
     "name": "stderr",
     "output_type": "stream",
     "text": [
      "C:\\Users\\charl\\AppData\\Local\\Temp\\ipykernel_65656\\701453132.py:104: FutureWarning: Styler.applymap has been deprecated. Use Styler.map instead.\n",
      "  .applymap(style_predictions, subset=['prediction'])\n"
     ]
    },
    {
     "name": "stdout",
     "output_type": "stream",
     "text": [
      "最新更新：16:20:27\n",
      "stock_code short_name  price change_pct  main_net_inflow  prediction\n",
      "    600961       株冶集团  9.750       5.86       89664573.0          10\n",
      "    601020       华钰矿业 24.440       2.86       94040044.0           9\n",
      "    600367       红星发展 15.380       4.63       52339353.0           9\n",
      "    002155       湖南黄金  23.52       7.50      307973502.0           9\n",
      "    301368       丰立智能  88.00      -1.35     -133552529.0           9\n",
      "    603198       迎驾贡酒 60.640       2.40       55839439.0           8\n",
      "    605208        永茂泰 15.870      -3.99       12710427.0           9\n",
      "    603993       洛阳钼业  7.700      -1.41       64061269.0           8\n",
      "    000596       古井贡酒 189.17       5.48      -16307812.0           8\n",
      "    600711       ST盛屯  5.550       2.78      -13048991.0           8\n",
      "已更新监控页面 -> stock_realtime_monitor.html\n"
     ]
    },
    {
     "name": "stderr",
     "output_type": "stream",
     "text": [
      "C:\\Users\\charl\\AppData\\Local\\Temp\\ipykernel_65656\\701453132.py:104: FutureWarning: Styler.applymap has been deprecated. Use Styler.map instead.\n",
      "  .applymap(style_predictions, subset=['prediction'])\n"
     ]
    },
    {
     "name": "stdout",
     "output_type": "stream",
     "text": [
      "获取002155资金流数据失败: HTTPSConnectionPool(host='push2.eastmoney.com', port=443): Max retries exceeded with url: /api/qt/stock/fflow/kline/get?lmt=0&klt=1&fields1=f1,f2,f3,f7&fields2=f51,f52,f53,f54,f55,f56,f57,f58,f59,f60,f61,f62,f63,f64,f65&secid=0.002155 (Caused by ConnectTimeoutError(<urllib3.connection.HTTPSConnection object at 0x00000188EDA11090>, 'Connection to push2.eastmoney.com timed out. (connect timeout=None)'))\n",
      "最新更新：16:21:16\n",
      "stock_code short_name  price change_pct  main_net_inflow  prediction\n",
      "    600961       株冶集团  9.750       5.86       89664573.0          10\n",
      "    601020       华钰矿业 24.440       2.86       94040044.0           9\n",
      "    600367       红星发展 15.380       4.63       52339353.0           9\n",
      "    002155       湖南黄金  23.52       7.50              NaN           9\n",
      "    301368       丰立智能  88.00      -1.35     -133552529.0           9\n",
      "    603198       迎驾贡酒 60.640       2.40       55839439.0           8\n",
      "    605208        永茂泰 15.870      -3.99       12710427.0           9\n",
      "    603993       洛阳钼业  7.700      -1.41       64061269.0           8\n",
      "    000596       古井贡酒 189.17       5.48      -16307812.0           8\n",
      "    600711       ST盛屯  5.550       2.78      -13048991.0           8\n",
      "已更新监控页面 -> stock_realtime_monitor.html\n"
     ]
    },
    {
     "name": "stderr",
     "output_type": "stream",
     "text": [
      "C:\\Users\\charl\\AppData\\Local\\Temp\\ipykernel_65656\\701453132.py:104: FutureWarning: Styler.applymap has been deprecated. Use Styler.map instead.\n",
      "  .applymap(style_predictions, subset=['prediction'])\n"
     ]
    },
    {
     "name": "stdout",
     "output_type": "stream",
     "text": [
      "获取605208资金流数据失败: HTTPSConnectionPool(host='push2.eastmoney.com', port=443): Max retries exceeded with url: /api/qt/stock/fflow/kline/get?lmt=0&klt=1&fields1=f1,f2,f3,f7&fields2=f51,f52,f53,f54,f55,f56,f57,f58,f59,f60,f61,f62,f63,f64,f65&secid=1.605208 (Caused by ConnectTimeoutError(<urllib3.connection.HTTPSConnection object at 0x00000188EDA12FD0>, 'Connection to push2.eastmoney.com timed out. (connect timeout=None)'))\n",
      "获取600711资金流数据失败: HTTPSConnectionPool(host='push2delay.eastmoney.com', port=443): Max retries exceeded with url: /api/qt/stock/fflow/kline/get?lmt=0&klt=1&fields1=f1,f2,f3,f7&fields2=f51,f52,f53,f54,f55,f56,f57,f58,f59,f60,f61,f62,f63,f64,f65&secid=1.600711 (Caused by ConnectTimeoutError(<urllib3.connection.HTTPSConnection object at 0x00000188EF20AB90>, 'Connection to push2delay.eastmoney.com timed out. (connect timeout=None)'))\n",
      "最新更新：16:22:39\n",
      "stock_code short_name  price change_pct  main_net_inflow  prediction\n",
      "    600961       株冶集团  9.750       5.86       89664573.0          10\n",
      "    601020       华钰矿业 24.440       2.86       94040044.0           9\n",
      "    600367       红星发展 15.380       4.63       52339353.0           9\n",
      "    002155       湖南黄金  23.52       7.50      307973502.0           9\n",
      "    301368       丰立智能  88.00      -1.35     -133552529.0           9\n",
      "    603198       迎驾贡酒 60.640       2.40       55839439.0           8\n",
      "    605208        永茂泰 15.870      -3.99              NaN           9\n",
      "    603993       洛阳钼业  7.700      -1.41       64061269.0           8\n",
      "    000596       古井贡酒 189.17       5.48      -16307812.0           8\n",
      "    600711       ST盛屯  5.550       2.78              NaN           8\n",
      "已更新监控页面 -> stock_realtime_monitor.html\n"
     ]
    },
    {
     "name": "stderr",
     "output_type": "stream",
     "text": [
      "C:\\Users\\charl\\AppData\\Local\\Temp\\ipykernel_65656\\701453132.py:104: FutureWarning: Styler.applymap has been deprecated. Use Styler.map instead.\n",
      "  .applymap(style_predictions, subset=['prediction'])\n"
     ]
    },
    {
     "name": "stdout",
     "output_type": "stream",
     "text": [
      "最新更新：16:23:00\n",
      "stock_code short_name  price change_pct  main_net_inflow  prediction\n",
      "    600961       株冶集团  9.750       5.86       89664573.0          10\n",
      "    601020       华钰矿业 24.440       2.86       94040044.0           9\n",
      "    600367       红星发展 15.380       4.63       52339353.0           9\n",
      "    002155       湖南黄金  23.52       7.50      307973502.0           9\n",
      "    301368       丰立智能  88.00      -1.35     -133552529.0           9\n",
      "    603198       迎驾贡酒 60.640       2.40       55839439.0           8\n",
      "    605208        永茂泰 15.870      -3.99       12710427.0           9\n",
      "    603993       洛阳钼业  7.700      -1.41       64061269.0           8\n",
      "    000596       古井贡酒 189.17       5.48      -16307812.0           8\n",
      "    600711       ST盛屯  5.550       2.78      -13048991.0           8\n",
      "已更新监控页面 -> stock_realtime_monitor.html\n"
     ]
    },
    {
     "name": "stderr",
     "output_type": "stream",
     "text": [
      "C:\\Users\\charl\\AppData\\Local\\Temp\\ipykernel_65656\\701453132.py:104: FutureWarning: Styler.applymap has been deprecated. Use Styler.map instead.\n",
      "  .applymap(style_predictions, subset=['prediction'])\n"
     ]
    },
    {
     "name": "stdout",
     "output_type": "stream",
     "text": [
      "最新更新：16:23:29\n",
      "stock_code short_name  price change_pct  main_net_inflow  prediction\n",
      "    600961       株冶集团  9.750       5.86       89664573.0          10\n",
      "    601020       华钰矿业 24.440       2.86       94040044.0           9\n",
      "    600367       红星发展 15.380       4.63       52339353.0           9\n",
      "    002155       湖南黄金  23.52       7.50      307973502.0           9\n",
      "    301368       丰立智能  88.00      -1.35     -133552529.0           9\n",
      "    603198       迎驾贡酒 60.640       2.40       55839439.0           8\n",
      "    605208        永茂泰 15.870      -3.99       12710427.0           9\n",
      "    603993       洛阳钼业  7.700      -1.41       64061269.0           8\n",
      "    000596       古井贡酒 189.17       5.48      -16307812.0           8\n",
      "    600711       ST盛屯  5.550       2.78      -13048991.0           8\n",
      "已更新监控页面 -> stock_realtime_monitor.html\n"
     ]
    },
    {
     "name": "stderr",
     "output_type": "stream",
     "text": [
      "C:\\Users\\charl\\AppData\\Local\\Temp\\ipykernel_65656\\701453132.py:104: FutureWarning: Styler.applymap has been deprecated. Use Styler.map instead.\n",
      "  .applymap(style_predictions, subset=['prediction'])\n"
     ]
    },
    {
     "name": "stdout",
     "output_type": "stream",
     "text": [
      "最新更新：16:24:04\n",
      "stock_code short_name  price change_pct  main_net_inflow  prediction\n",
      "    600961       株冶集团  9.750       5.86       89664573.0          10\n",
      "    601020       华钰矿业 24.440       2.86       94040044.0           9\n",
      "    600367       红星发展 15.380       4.63       52339353.0           9\n",
      "    002155       湖南黄金  23.52       7.50      307973502.0           9\n",
      "    301368       丰立智能  88.00      -1.35     -133552529.0           9\n",
      "    603198       迎驾贡酒 60.640       2.40       55839439.0           8\n",
      "    605208        永茂泰 15.870      -3.99       12710427.0           9\n",
      "    603993       洛阳钼业  7.700      -1.41       64061269.0           8\n",
      "    000596       古井贡酒 189.17       5.48      -16307812.0           8\n",
      "    600711       ST盛屯  5.550       2.78      -13048991.0           8\n",
      "已更新监控页面 -> stock_realtime_monitor.html\n"
     ]
    },
    {
     "name": "stderr",
     "output_type": "stream",
     "text": [
      "C:\\Users\\charl\\AppData\\Local\\Temp\\ipykernel_65656\\701453132.py:104: FutureWarning: Styler.applymap has been deprecated. Use Styler.map instead.\n",
      "  .applymap(style_predictions, subset=['prediction'])\n"
     ]
    },
    {
     "name": "stdout",
     "output_type": "stream",
     "text": [
      "最新更新：16:24:36\n",
      "stock_code short_name  price change_pct  main_net_inflow  prediction\n",
      "    600961       株冶集团  9.750       5.86       89664573.0          10\n",
      "    601020       华钰矿业 24.440       2.86       94040044.0           9\n",
      "    600367       红星发展 15.380       4.63       52339353.0           9\n",
      "    002155       湖南黄金  23.52       7.50      307973502.0           9\n",
      "    301368       丰立智能  88.00      -1.35     -133552529.0           9\n",
      "    603198       迎驾贡酒 60.640       2.40       55839439.0           8\n",
      "    605208        永茂泰 15.870      -3.99       12710427.0           9\n",
      "    603993       洛阳钼业  7.700      -1.41       64061269.0           8\n",
      "    000596       古井贡酒 189.17       5.48      -16307812.0           8\n",
      "    600711       ST盛屯  5.550       2.78      -13048991.0           8\n",
      "已更新监控页面 -> stock_realtime_monitor.html\n"
     ]
    },
    {
     "name": "stderr",
     "output_type": "stream",
     "text": [
      "C:\\Users\\charl\\AppData\\Local\\Temp\\ipykernel_65656\\701453132.py:104: FutureWarning: Styler.applymap has been deprecated. Use Styler.map instead.\n",
      "  .applymap(style_predictions, subset=['prediction'])\n"
     ]
    },
    {
     "name": "stdout",
     "output_type": "stream",
     "text": [
      "获取601020资金流数据失败: HTTPSConnectionPool(host='push2.eastmoney.com', port=443): Max retries exceeded with url: /api/qt/stock/fflow/kline/get?lmt=0&klt=1&fields1=f1,f2,f3,f7&fields2=f51,f52,f53,f54,f55,f56,f57,f58,f59,f60,f61,f62,f63,f64,f65&secid=1.601020 (Caused by ConnectTimeoutError(<urllib3.connection.HTTPSConnection object at 0x00000188EF19FB50>, 'Connection to push2.eastmoney.com timed out. (connect timeout=None)'))\n",
      "最新更新：16:25:19\n",
      "stock_code short_name  price change_pct  main_net_inflow  prediction\n",
      "    600961       株冶集团  9.750       5.86       89664573.0          10\n",
      "    601020       华钰矿业 24.440       2.86              NaN           9\n",
      "    600367       红星发展 15.380       4.63       52339353.0           9\n",
      "    002155       湖南黄金  23.52       7.50      307973502.0           9\n",
      "    301368       丰立智能  88.00      -1.35     -133552529.0           9\n",
      "    603198       迎驾贡酒 60.640       2.40       55839439.0           8\n",
      "    605208        永茂泰 15.870      -3.99       12710427.0           9\n",
      "    603993       洛阳钼业  7.700      -1.41       64061269.0           8\n",
      "    000596       古井贡酒 189.17       5.48      -16307812.0           8\n",
      "    600711       ST盛屯  5.550       2.78      -13048991.0           8\n",
      "已更新监控页面 -> stock_realtime_monitor.html\n"
     ]
    },
    {
     "name": "stderr",
     "output_type": "stream",
     "text": [
      "C:\\Users\\charl\\AppData\\Local\\Temp\\ipykernel_65656\\701453132.py:104: FutureWarning: Styler.applymap has been deprecated. Use Styler.map instead.\n",
      "  .applymap(style_predictions, subset=['prediction'])\n"
     ]
    },
    {
     "name": "stdout",
     "output_type": "stream",
     "text": [
      "最新更新：16:26:01\n",
      "stock_code short_name  price change_pct  main_net_inflow  prediction\n",
      "    600961       株冶集团  9.750       5.86       89664573.0          10\n",
      "    601020       华钰矿业 24.440       2.86       94040044.0           9\n",
      "    600367       红星发展 15.380       4.63       52339353.0           9\n",
      "    002155       湖南黄金  23.52       7.50      307973502.0           9\n",
      "    301368       丰立智能  88.00      -1.35     -133552529.0           9\n",
      "    603198       迎驾贡酒 60.640       2.40       55839439.0           8\n",
      "    605208        永茂泰 15.870      -3.99       12710427.0           9\n",
      "    603993       洛阳钼业  7.700      -1.41       64061269.0           8\n",
      "    000596       古井贡酒 189.17       5.48      -16307812.0           8\n",
      "    600711       ST盛屯  5.550       2.78      -13048991.0           8\n",
      "已更新监控页面 -> stock_realtime_monitor.html\n"
     ]
    },
    {
     "name": "stderr",
     "output_type": "stream",
     "text": [
      "C:\\Users\\charl\\AppData\\Local\\Temp\\ipykernel_65656\\701453132.py:104: FutureWarning: Styler.applymap has been deprecated. Use Styler.map instead.\n",
      "  .applymap(style_predictions, subset=['prediction'])\n"
     ]
    },
    {
     "name": "stdout",
     "output_type": "stream",
     "text": [
      "最新更新：16:26:33\n",
      "stock_code short_name  price change_pct  main_net_inflow  prediction\n",
      "    600961       株冶集团  9.750       5.86       89664573.0          10\n",
      "    601020       华钰矿业 24.440       2.86       94040044.0           9\n",
      "    600367       红星发展 15.380       4.63       52339353.0           9\n",
      "    002155       湖南黄金  23.52       7.50      307973502.0           9\n",
      "    301368       丰立智能  88.00      -1.35     -133552529.0           9\n",
      "    603198       迎驾贡酒 60.640       2.40       55839439.0           8\n",
      "    605208        永茂泰 15.870      -3.99       12710427.0           9\n",
      "    603993       洛阳钼业  7.700      -1.41       64061269.0           8\n",
      "    000596       古井贡酒 189.17       5.48      -16307812.0           8\n",
      "    600711       ST盛屯  5.550       2.78      -13048991.0           8\n",
      "已更新监控页面 -> stock_realtime_monitor.html\n"
     ]
    },
    {
     "name": "stderr",
     "output_type": "stream",
     "text": [
      "C:\\Users\\charl\\AppData\\Local\\Temp\\ipykernel_65656\\701453132.py:104: FutureWarning: Styler.applymap has been deprecated. Use Styler.map instead.\n",
      "  .applymap(style_predictions, subset=['prediction'])\n"
     ]
    },
    {
     "name": "stdout",
     "output_type": "stream",
     "text": [
      "最新更新：16:26:56\n",
      "stock_code short_name  price change_pct  main_net_inflow  prediction\n",
      "    600961       株冶集团  9.750       5.86       89664573.0          10\n",
      "    601020       华钰矿业 24.440       2.86       94040044.0           9\n",
      "    600367       红星发展 15.380       4.63       52339353.0           9\n",
      "    002155       湖南黄金  23.52       7.50      307973502.0           9\n",
      "    301368       丰立智能  88.00      -1.35     -133552529.0           9\n",
      "    603198       迎驾贡酒 60.640       2.40       55839439.0           8\n",
      "    605208        永茂泰 15.870      -3.99       12710427.0           9\n",
      "    603993       洛阳钼业  7.700      -1.41       64061269.0           8\n",
      "    000596       古井贡酒 189.17       5.48      -16307812.0           8\n",
      "    600711       ST盛屯  5.550       2.78      -13048991.0           8\n",
      "已更新监控页面 -> stock_realtime_monitor.html\n"
     ]
    },
    {
     "name": "stderr",
     "output_type": "stream",
     "text": [
      "C:\\Users\\charl\\AppData\\Local\\Temp\\ipykernel_65656\\701453132.py:104: FutureWarning: Styler.applymap has been deprecated. Use Styler.map instead.\n",
      "  .applymap(style_predictions, subset=['prediction'])\n"
     ]
    },
    {
     "name": "stdout",
     "output_type": "stream",
     "text": [
      "最新更新：16:27:35\n",
      "stock_code short_name  price change_pct  main_net_inflow  prediction\n",
      "    600961       株冶集团  9.750       5.86       89664573.0          10\n",
      "    601020       华钰矿业 24.440       2.86       94040044.0           9\n",
      "    600367       红星发展 15.380       4.63       52339353.0           9\n",
      "    002155       湖南黄金  23.52       7.50      307973502.0           9\n",
      "    301368       丰立智能  88.00      -1.35     -133552529.0           9\n",
      "    603198       迎驾贡酒 60.640       2.40       55839439.0           8\n",
      "    605208        永茂泰 15.870      -3.99       12710427.0           9\n",
      "    603993       洛阳钼业  7.700      -1.41       64061269.0           8\n",
      "    000596       古井贡酒 189.17       5.48      -16307812.0           8\n",
      "    600711       ST盛屯  5.550       2.78      -13048991.0           8\n",
      "已更新监控页面 -> stock_realtime_monitor.html\n"
     ]
    },
    {
     "name": "stderr",
     "output_type": "stream",
     "text": [
      "C:\\Users\\charl\\AppData\\Local\\Temp\\ipykernel_65656\\701453132.py:104: FutureWarning: Styler.applymap has been deprecated. Use Styler.map instead.\n",
      "  .applymap(style_predictions, subset=['prediction'])\n"
     ]
    },
    {
     "name": "stdout",
     "output_type": "stream",
     "text": [
      "最新更新：16:27:58\n",
      "stock_code short_name  price change_pct  main_net_inflow  prediction\n",
      "    600961       株冶集团  9.750       5.86       89664573.0          10\n",
      "    601020       华钰矿业 24.440       2.86       94040044.0           9\n",
      "    600367       红星发展 15.380       4.63       52339353.0           9\n",
      "    002155       湖南黄金  23.52       7.50      307973502.0           9\n",
      "    301368       丰立智能  88.00      -1.35     -133552529.0           9\n",
      "    603198       迎驾贡酒 60.640       2.40       55839439.0           8\n",
      "    605208        永茂泰 15.870      -3.99       12710427.0           9\n",
      "    603993       洛阳钼业  7.700      -1.41       64061269.0           8\n",
      "    000596       古井贡酒 189.17       5.48      -16307812.0           8\n",
      "    600711       ST盛屯  5.550       2.78      -13048991.0           8\n",
      "已更新监控页面 -> stock_realtime_monitor.html\n"
     ]
    },
    {
     "name": "stderr",
     "output_type": "stream",
     "text": [
      "C:\\Users\\charl\\AppData\\Local\\Temp\\ipykernel_65656\\701453132.py:104: FutureWarning: Styler.applymap has been deprecated. Use Styler.map instead.\n",
      "  .applymap(style_predictions, subset=['prediction'])\n"
     ]
    },
    {
     "name": "stdout",
     "output_type": "stream",
     "text": [
      "最新更新：16:28:34\n",
      "stock_code short_name  price change_pct  main_net_inflow  prediction\n",
      "    600961       株冶集团  9.750       5.86       89664573.0          10\n",
      "    601020       华钰矿业 24.440       2.86       94040044.0           9\n",
      "    600367       红星发展 15.380       4.63       52339353.0           9\n",
      "    002155       湖南黄金  23.52       7.50      307973502.0           9\n",
      "    301368       丰立智能  88.00      -1.35     -133552529.0           9\n",
      "    603198       迎驾贡酒 60.640       2.40       55839439.0           8\n",
      "    605208        永茂泰 15.870      -3.99       12710427.0           9\n",
      "    603993       洛阳钼业  7.700      -1.41       64061269.0           8\n",
      "    000596       古井贡酒 189.17       5.48      -16307812.0           8\n",
      "    600711       ST盛屯  5.550       2.78      -13048991.0           8\n",
      "已更新监控页面 -> stock_realtime_monitor.html\n"
     ]
    },
    {
     "name": "stderr",
     "output_type": "stream",
     "text": [
      "C:\\Users\\charl\\AppData\\Local\\Temp\\ipykernel_65656\\701453132.py:104: FutureWarning: Styler.applymap has been deprecated. Use Styler.map instead.\n",
      "  .applymap(style_predictions, subset=['prediction'])\n"
     ]
    },
    {
     "name": "stdout",
     "output_type": "stream",
     "text": [
      "最新更新：16:29:02\n",
      "stock_code short_name  price change_pct  main_net_inflow  prediction\n",
      "    600961       株冶集团  9.750       5.86       89664573.0          10\n",
      "    601020       华钰矿业 24.440       2.86       94040044.0           9\n",
      "    600367       红星发展 15.380       4.63       52339353.0           9\n",
      "    002155       湖南黄金  23.52       7.50      307973502.0           9\n",
      "    301368       丰立智能  88.00      -1.35     -133552529.0           9\n",
      "    603198       迎驾贡酒 60.640       2.40       55839439.0           8\n",
      "    605208        永茂泰 15.870      -3.99       12710427.0           9\n",
      "    603993       洛阳钼业  7.700      -1.41       64061269.0           8\n",
      "    000596       古井贡酒 189.17       5.48      -16307812.0           8\n",
      "    600711       ST盛屯  5.550       2.78      -13048991.0           8\n",
      "已更新监控页面 -> stock_realtime_monitor.html\n"
     ]
    },
    {
     "name": "stderr",
     "output_type": "stream",
     "text": [
      "C:\\Users\\charl\\AppData\\Local\\Temp\\ipykernel_65656\\701453132.py:104: FutureWarning: Styler.applymap has been deprecated. Use Styler.map instead.\n",
      "  .applymap(style_predictions, subset=['prediction'])\n"
     ]
    },
    {
     "name": "stdout",
     "output_type": "stream",
     "text": [
      "最新更新：16:29:29\n",
      "stock_code short_name  price change_pct  main_net_inflow  prediction\n",
      "    600961       株冶集团  9.750       5.86       89664573.0          10\n",
      "    601020       华钰矿业 24.440       2.86       94040044.0           9\n",
      "    600367       红星发展 15.380       4.63       52339353.0           9\n",
      "    002155       湖南黄金  23.52       7.50      307973502.0           9\n",
      "    301368       丰立智能  88.00      -1.35     -133552529.0           9\n",
      "    603198       迎驾贡酒 60.640       2.40       55839439.0           8\n",
      "    605208        永茂泰 15.870      -3.99       12710427.0           9\n",
      "    603993       洛阳钼业  7.700      -1.41       64061269.0           8\n",
      "    000596       古井贡酒 189.17       5.48      -16307812.0           8\n",
      "    600711       ST盛屯  5.550       2.78      -13048991.0           8\n",
      "已更新监控页面 -> stock_realtime_monitor.html\n"
     ]
    },
    {
     "name": "stderr",
     "output_type": "stream",
     "text": [
      "C:\\Users\\charl\\AppData\\Local\\Temp\\ipykernel_65656\\701453132.py:104: FutureWarning: Styler.applymap has been deprecated. Use Styler.map instead.\n",
      "  .applymap(style_predictions, subset=['prediction'])\n"
     ]
    },
    {
     "name": "stdout",
     "output_type": "stream",
     "text": [
      "最新更新：16:29:58\n",
      "stock_code short_name  price change_pct  main_net_inflow  prediction\n",
      "    600961       株冶集团  9.750       5.86       89664573.0          10\n",
      "    601020       华钰矿业 24.440       2.86       94040044.0           9\n",
      "    600367       红星发展 15.380       4.63       52339353.0           9\n",
      "    002155       湖南黄金  23.52       7.50      307973502.0           9\n",
      "    301368       丰立智能  88.00      -1.35     -133552529.0           9\n",
      "    603198       迎驾贡酒 60.640       2.40       55839439.0           8\n",
      "    605208        永茂泰 15.870      -3.99       12710427.0           9\n",
      "    603993       洛阳钼业  7.700      -1.41       64061269.0           8\n",
      "    000596       古井贡酒 189.17       5.48      -16307812.0           8\n",
      "    600711       ST盛屯  5.550       2.78      -13048991.0           8\n",
      "已更新监控页面 -> stock_realtime_monitor.html\n"
     ]
    },
    {
     "name": "stderr",
     "output_type": "stream",
     "text": [
      "C:\\Users\\charl\\AppData\\Local\\Temp\\ipykernel_65656\\701453132.py:104: FutureWarning: Styler.applymap has been deprecated. Use Styler.map instead.\n",
      "  .applymap(style_predictions, subset=['prediction'])\n"
     ]
    },
    {
     "name": "stdout",
     "output_type": "stream",
     "text": [
      "最新更新：16:30:29\n",
      "stock_code short_name  price change_pct  main_net_inflow  prediction\n",
      "    600961       株冶集团  9.750       5.86       89664573.0          10\n",
      "    601020       华钰矿业 24.440       2.86       94040044.0           9\n",
      "    600367       红星发展 15.380       4.63       52339353.0           9\n",
      "    002155       湖南黄金  23.52       7.50      307973502.0           9\n",
      "    301368       丰立智能  88.00      -1.35     -133552529.0           9\n",
      "    603198       迎驾贡酒 60.640       2.40       55839439.0           8\n",
      "    605208        永茂泰 15.870      -3.99       12710427.0           9\n",
      "    603993       洛阳钼业  7.700      -1.41       64061269.0           8\n",
      "    000596       古井贡酒 189.17       5.48      -16307812.0           8\n",
      "    600711       ST盛屯  5.550       2.78      -13048991.0           8\n",
      "已更新监控页面 -> stock_realtime_monitor.html\n"
     ]
    },
    {
     "name": "stderr",
     "output_type": "stream",
     "text": [
      "C:\\Users\\charl\\AppData\\Local\\Temp\\ipykernel_65656\\701453132.py:104: FutureWarning: Styler.applymap has been deprecated. Use Styler.map instead.\n",
      "  .applymap(style_predictions, subset=['prediction'])\n"
     ]
    },
    {
     "name": "stdout",
     "output_type": "stream",
     "text": [
      "最新更新：16:30:59\n",
      "stock_code short_name  price change_pct  main_net_inflow  prediction\n",
      "    600961       株冶集团  9.750       5.86       89664573.0          10\n",
      "    601020       华钰矿业 24.440       2.86       94040044.0           9\n",
      "    600367       红星发展 15.380       4.63       52339353.0           9\n",
      "    002155       湖南黄金  23.52       7.50      307973502.0           9\n",
      "    301368       丰立智能  88.00      -1.35     -133552529.0           9\n",
      "    603198       迎驾贡酒 60.640       2.40       55839439.0           8\n",
      "    605208        永茂泰 15.870      -3.99       12710427.0           9\n",
      "    603993       洛阳钼业  7.700      -1.41       64061269.0           8\n",
      "    000596       古井贡酒 189.17       5.48      -16307812.0           8\n",
      "    600711       ST盛屯  5.550       2.78      -13048991.0           8\n",
      "已更新监控页面 -> stock_realtime_monitor.html\n"
     ]
    },
    {
     "name": "stderr",
     "output_type": "stream",
     "text": [
      "C:\\Users\\charl\\AppData\\Local\\Temp\\ipykernel_65656\\701453132.py:104: FutureWarning: Styler.applymap has been deprecated. Use Styler.map instead.\n",
      "  .applymap(style_predictions, subset=['prediction'])\n"
     ]
    },
    {
     "name": "stdout",
     "output_type": "stream",
     "text": [
      "最新更新：16:31:30\n",
      "stock_code short_name  price change_pct  main_net_inflow  prediction\n",
      "    600961       株冶集团  9.750       5.86       89664573.0          10\n",
      "    601020       华钰矿业 24.440       2.86       94040044.0           9\n",
      "    600367       红星发展 15.380       4.63       52339353.0           9\n",
      "    002155       湖南黄金  23.52       7.50      307973502.0           9\n",
      "    301368       丰立智能  88.00      -1.35     -133552529.0           9\n",
      "    603198       迎驾贡酒 60.640       2.40       55839439.0           8\n",
      "    605208        永茂泰 15.870      -3.99       12710427.0           9\n",
      "    603993       洛阳钼业  7.700      -1.41       64061269.0           8\n",
      "    000596       古井贡酒 189.17       5.48      -16307812.0           8\n",
      "    600711       ST盛屯  5.550       2.78      -13048991.0           8\n",
      "已更新监控页面 -> stock_realtime_monitor.html\n"
     ]
    },
    {
     "name": "stderr",
     "output_type": "stream",
     "text": [
      "C:\\Users\\charl\\AppData\\Local\\Temp\\ipykernel_65656\\701453132.py:104: FutureWarning: Styler.applymap has been deprecated. Use Styler.map instead.\n",
      "  .applymap(style_predictions, subset=['prediction'])\n"
     ]
    },
    {
     "name": "stdout",
     "output_type": "stream",
     "text": [
      "最新更新：16:32:00\n",
      "stock_code short_name  price change_pct  main_net_inflow  prediction\n",
      "    600961       株冶集团  9.750       5.86       89664573.0          10\n",
      "    601020       华钰矿业 24.440       2.86       94040044.0           9\n",
      "    600367       红星发展 15.380       4.63       52339353.0           9\n",
      "    002155       湖南黄金  23.52       7.50      307973502.0           9\n",
      "    301368       丰立智能  88.00      -1.35     -133552529.0           9\n",
      "    603198       迎驾贡酒 60.640       2.40       55839439.0           8\n",
      "    605208        永茂泰 15.870      -3.99       12710427.0           9\n",
      "    603993       洛阳钼业  7.700      -1.41       64061269.0           8\n",
      "    000596       古井贡酒 189.17       5.48      -16307812.0           8\n",
      "    600711       ST盛屯  5.550       2.78      -13048991.0           8\n",
      "已更新监控页面 -> stock_realtime_monitor.html\n"
     ]
    },
    {
     "name": "stderr",
     "output_type": "stream",
     "text": [
      "C:\\Users\\charl\\AppData\\Local\\Temp\\ipykernel_65656\\701453132.py:104: FutureWarning: Styler.applymap has been deprecated. Use Styler.map instead.\n",
      "  .applymap(style_predictions, subset=['prediction'])\n"
     ]
    },
    {
     "name": "stdout",
     "output_type": "stream",
     "text": [
      "最新更新：16:32:30\n",
      "stock_code short_name  price change_pct  main_net_inflow  prediction\n",
      "    600961       株冶集团  9.750       5.86       89664573.0          10\n",
      "    601020       华钰矿业 24.440       2.86       94040044.0           9\n",
      "    600367       红星发展 15.380       4.63       52339353.0           9\n",
      "    002155       湖南黄金  23.52       7.50      307973502.0           9\n",
      "    301368       丰立智能  88.00      -1.35     -133552529.0           9\n",
      "    603198       迎驾贡酒 60.640       2.40       55839439.0           8\n",
      "    605208        永茂泰 15.870      -3.99       12710427.0           9\n",
      "    603993       洛阳钼业  7.700      -1.41       64061269.0           8\n",
      "    000596       古井贡酒 189.17       5.48      -16307812.0           8\n",
      "    600711       ST盛屯  5.550       2.78      -13048991.0           8\n",
      "已更新监控页面 -> stock_realtime_monitor.html\n"
     ]
    },
    {
     "name": "stderr",
     "output_type": "stream",
     "text": [
      "C:\\Users\\charl\\AppData\\Local\\Temp\\ipykernel_65656\\701453132.py:104: FutureWarning: Styler.applymap has been deprecated. Use Styler.map instead.\n",
      "  .applymap(style_predictions, subset=['prediction'])\n"
     ]
    },
    {
     "name": "stdout",
     "output_type": "stream",
     "text": [
      "最新更新：16:32:57\n",
      "stock_code short_name  price change_pct  main_net_inflow  prediction\n",
      "    600961       株冶集团  9.750       5.86       89664573.0          10\n",
      "    601020       华钰矿业 24.440       2.86       94040044.0           9\n",
      "    600367       红星发展 15.380       4.63       52339353.0           9\n",
      "    002155       湖南黄金  23.52       7.50      307973502.0           9\n",
      "    301368       丰立智能  88.00      -1.35     -133552529.0           9\n",
      "    603198       迎驾贡酒 60.640       2.40       55839439.0           8\n",
      "    605208        永茂泰 15.870      -3.99       12710427.0           9\n",
      "    603993       洛阳钼业  7.700      -1.41       64061269.0           8\n",
      "    000596       古井贡酒 189.17       5.48      -16307812.0           8\n",
      "    600711       ST盛屯  5.550       2.78      -13048991.0           8\n",
      "已更新监控页面 -> stock_realtime_monitor.html\n"
     ]
    },
    {
     "name": "stderr",
     "output_type": "stream",
     "text": [
      "C:\\Users\\charl\\AppData\\Local\\Temp\\ipykernel_65656\\701453132.py:104: FutureWarning: Styler.applymap has been deprecated. Use Styler.map instead.\n",
      "  .applymap(style_predictions, subset=['prediction'])\n"
     ]
    },
    {
     "name": "stdout",
     "output_type": "stream",
     "text": [
      "最新更新：16:33:28\n",
      "stock_code short_name  price change_pct  main_net_inflow  prediction\n",
      "    600961       株冶集团  9.750       5.86       89664573.0          10\n",
      "    601020       华钰矿业 24.440       2.86       94040044.0           9\n",
      "    600367       红星发展 15.380       4.63       52339353.0           9\n",
      "    002155       湖南黄金  23.52       7.50      307973502.0           9\n",
      "    301368       丰立智能  88.00      -1.35     -133552529.0           9\n",
      "    603198       迎驾贡酒 60.640       2.40       55839439.0           8\n",
      "    605208        永茂泰 15.870      -3.99       12710427.0           9\n",
      "    603993       洛阳钼业  7.700      -1.41       64061269.0           8\n",
      "    000596       古井贡酒 189.17       5.48      -16307812.0           8\n",
      "    600711       ST盛屯  5.550       2.78      -13048991.0           8\n",
      "已更新监控页面 -> stock_realtime_monitor.html\n"
     ]
    },
    {
     "name": "stderr",
     "output_type": "stream",
     "text": [
      "C:\\Users\\charl\\AppData\\Local\\Temp\\ipykernel_65656\\701453132.py:104: FutureWarning: Styler.applymap has been deprecated. Use Styler.map instead.\n",
      "  .applymap(style_predictions, subset=['prediction'])\n"
     ]
    },
    {
     "name": "stdout",
     "output_type": "stream",
     "text": [
      "最新更新：16:33:58\n",
      "stock_code short_name  price change_pct  main_net_inflow  prediction\n",
      "    600961       株冶集团  9.750       5.86       89664573.0          10\n",
      "    601020       华钰矿业 24.440       2.86       94040044.0           9\n",
      "    600367       红星发展 15.380       4.63       52339353.0           9\n",
      "    002155       湖南黄金  23.52       7.50      307973502.0           9\n",
      "    301368       丰立智能  88.00      -1.35     -133552529.0           9\n",
      "    603198       迎驾贡酒 60.640       2.40       55839439.0           8\n",
      "    605208        永茂泰 15.870      -3.99       12710427.0           9\n",
      "    603993       洛阳钼业  7.700      -1.41       64061269.0           8\n",
      "    000596       古井贡酒 189.17       5.48      -16307812.0           8\n",
      "    600711       ST盛屯  5.550       2.78      -13048991.0           8\n",
      "已更新监控页面 -> stock_realtime_monitor.html\n"
     ]
    },
    {
     "name": "stderr",
     "output_type": "stream",
     "text": [
      "C:\\Users\\charl\\AppData\\Local\\Temp\\ipykernel_65656\\701453132.py:104: FutureWarning: Styler.applymap has been deprecated. Use Styler.map instead.\n",
      "  .applymap(style_predictions, subset=['prediction'])\n"
     ]
    },
    {
     "name": "stdout",
     "output_type": "stream",
     "text": [
      "最新更新：16:34:30\n",
      "stock_code short_name  price change_pct  main_net_inflow  prediction\n",
      "    600961       株冶集团  9.750       5.86       89664573.0          10\n",
      "    601020       华钰矿业 24.440       2.86       94040044.0           9\n",
      "    600367       红星发展 15.380       4.63       52339353.0           9\n",
      "    002155       湖南黄金  23.52       7.50      307973502.0           9\n",
      "    301368       丰立智能  88.00      -1.35     -133552529.0           9\n",
      "    603198       迎驾贡酒 60.640       2.40       55839439.0           8\n",
      "    605208        永茂泰 15.870      -3.99       12710427.0           9\n",
      "    603993       洛阳钼业  7.700      -1.41       64061269.0           8\n",
      "    000596       古井贡酒 189.17       5.48      -16307812.0           8\n",
      "    600711       ST盛屯  5.550       2.78      -13048991.0           8\n",
      "已更新监控页面 -> stock_realtime_monitor.html\n"
     ]
    },
    {
     "name": "stderr",
     "output_type": "stream",
     "text": [
      "C:\\Users\\charl\\AppData\\Local\\Temp\\ipykernel_65656\\701453132.py:104: FutureWarning: Styler.applymap has been deprecated. Use Styler.map instead.\n",
      "  .applymap(style_predictions, subset=['prediction'])\n"
     ]
    },
    {
     "name": "stdout",
     "output_type": "stream",
     "text": [
      "最新更新：16:34:55\n",
      "stock_code short_name  price change_pct  main_net_inflow  prediction\n",
      "    600961       株冶集团  9.750       5.86       89664573.0          10\n",
      "    601020       华钰矿业 24.440       2.86       94040044.0           9\n",
      "    600367       红星发展 15.380       4.63       52339353.0           9\n",
      "    002155       湖南黄金  23.52       7.50      307973502.0           9\n",
      "    301368       丰立智能  88.00      -1.35     -133552529.0           9\n",
      "    603198       迎驾贡酒 60.640       2.40       55839439.0           8\n",
      "    605208        永茂泰 15.870      -3.99       12710427.0           9\n",
      "    603993       洛阳钼业  7.700      -1.41       64061269.0           8\n",
      "    000596       古井贡酒 189.17       5.48      -16307812.0           8\n",
      "    600711       ST盛屯  5.550       2.78      -13048991.0           8\n",
      "已更新监控页面 -> stock_realtime_monitor.html\n"
     ]
    },
    {
     "name": "stderr",
     "output_type": "stream",
     "text": [
      "C:\\Users\\charl\\AppData\\Local\\Temp\\ipykernel_65656\\701453132.py:104: FutureWarning: Styler.applymap has been deprecated. Use Styler.map instead.\n",
      "  .applymap(style_predictions, subset=['prediction'])\n"
     ]
    },
    {
     "name": "stdout",
     "output_type": "stream",
     "text": [
      "最新更新：16:35:26\n",
      "stock_code short_name  price change_pct  main_net_inflow  prediction\n",
      "    600961       株冶集团  9.750       5.86       89664573.0          10\n",
      "    601020       华钰矿业 24.440       2.86       94040044.0           9\n",
      "    600367       红星发展 15.380       4.63       52339353.0           9\n",
      "    002155       湖南黄金  23.52       7.50      307973502.0           9\n",
      "    301368       丰立智能  88.00      -1.35     -133552529.0           9\n",
      "    603198       迎驾贡酒 60.640       2.40       55839439.0           8\n",
      "    605208        永茂泰 15.870      -3.99       12710427.0           9\n",
      "    603993       洛阳钼业  7.700      -1.41       64061269.0           8\n",
      "    000596       古井贡酒 189.17       5.48      -16307812.0           8\n",
      "    600711       ST盛屯  5.550       2.78      -13048991.0           8\n",
      "已更新监控页面 -> stock_realtime_monitor.html\n"
     ]
    },
    {
     "name": "stderr",
     "output_type": "stream",
     "text": [
      "C:\\Users\\charl\\AppData\\Local\\Temp\\ipykernel_65656\\701453132.py:104: FutureWarning: Styler.applymap has been deprecated. Use Styler.map instead.\n",
      "  .applymap(style_predictions, subset=['prediction'])\n"
     ]
    },
    {
     "name": "stdout",
     "output_type": "stream",
     "text": [
      "获取301368资金流数据失败: HTTPSConnectionPool(host='push2delay.eastmoney.com', port=443): Max retries exceeded with url: /api/qt/stock/fflow/kline/get?lmt=0&klt=1&fields1=f1,f2,f3,f7&fields2=f51,f52,f53,f54,f55,f56,f57,f58,f59,f60,f61,f62,f63,f64,f65&secid=0.301368 (Caused by ConnectTimeoutError(<urllib3.connection.HTTPSConnection object at 0x00000188EF206B10>, 'Connection to push2delay.eastmoney.com timed out. (connect timeout=None)'))\n",
      "最新更新：16:36:17\n",
      "stock_code short_name  price change_pct  main_net_inflow  prediction\n",
      "    600961       株冶集团  9.750       5.86       89664573.0          10\n",
      "    601020       华钰矿业 24.440       2.86       94040044.0           9\n",
      "    600367       红星发展 15.380       4.63       52339353.0           9\n",
      "    002155       湖南黄金  23.52       7.50      307973502.0           9\n",
      "    301368       丰立智能  88.00      -1.35              NaN           9\n",
      "    603198       迎驾贡酒 60.640       2.40       55839439.0           8\n",
      "    605208        永茂泰 15.870      -3.99       12710427.0           9\n",
      "    603993       洛阳钼业  7.700      -1.41       64061269.0           8\n",
      "    000596       古井贡酒 189.17       5.48      -16307812.0           8\n",
      "    600711       ST盛屯  5.550       2.78      -13048991.0           8\n",
      "已更新监控页面 -> stock_realtime_monitor.html\n"
     ]
    },
    {
     "name": "stderr",
     "output_type": "stream",
     "text": [
      "C:\\Users\\charl\\AppData\\Local\\Temp\\ipykernel_65656\\701453132.py:104: FutureWarning: Styler.applymap has been deprecated. Use Styler.map instead.\n",
      "  .applymap(style_predictions, subset=['prediction'])\n"
     ]
    },
    {
     "name": "stdout",
     "output_type": "stream",
     "text": [
      "最新更新：16:36:59\n",
      "stock_code short_name  price change_pct  main_net_inflow  prediction\n",
      "    600961       株冶集团  9.750       5.86       89664573.0          10\n",
      "    601020       华钰矿业 24.440       2.86       94040044.0           9\n",
      "    600367       红星发展 15.380       4.63       52339353.0           9\n",
      "    002155       湖南黄金  23.52       7.50      307973502.0           9\n",
      "    301368       丰立智能  88.00      -1.35     -133552529.0           9\n",
      "    603198       迎驾贡酒 60.640       2.40       55839439.0           8\n",
      "    605208        永茂泰 15.870      -3.99       12710427.0           9\n",
      "    603993       洛阳钼业  7.700      -1.41       64061269.0           8\n",
      "    000596       古井贡酒 189.17       5.48      -16307812.0           8\n",
      "    600711       ST盛屯  5.550       2.78      -13048991.0           8\n",
      "已更新监控页面 -> stock_realtime_monitor.html\n"
     ]
    },
    {
     "name": "stderr",
     "output_type": "stream",
     "text": [
      "C:\\Users\\charl\\AppData\\Local\\Temp\\ipykernel_65656\\701453132.py:104: FutureWarning: Styler.applymap has been deprecated. Use Styler.map instead.\n",
      "  .applymap(style_predictions, subset=['prediction'])\n"
     ]
    },
    {
     "name": "stdout",
     "output_type": "stream",
     "text": [
      "最新更新：16:37:29\n",
      "stock_code short_name  price change_pct  main_net_inflow  prediction\n",
      "    600961       株冶集团  9.750       5.86       89664573.0          10\n",
      "    601020       华钰矿业 24.440       2.86       94040044.0           9\n",
      "    600367       红星发展 15.380       4.63       52339353.0           9\n",
      "    002155       湖南黄金  23.52       7.50      307973502.0           9\n",
      "    301368       丰立智能  88.00      -1.35     -133552529.0           9\n",
      "    603198       迎驾贡酒 60.640       2.40       55839439.0           8\n",
      "    605208        永茂泰 15.870      -3.99       12710427.0           9\n",
      "    603993       洛阳钼业  7.700      -1.41       64061269.0           8\n",
      "    000596       古井贡酒 189.17       5.48      -16307812.0           8\n",
      "    600711       ST盛屯  5.550       2.78      -13048991.0           8\n",
      "已更新监控页面 -> stock_realtime_monitor.html\n"
     ]
    },
    {
     "name": "stderr",
     "output_type": "stream",
     "text": [
      "C:\\Users\\charl\\AppData\\Local\\Temp\\ipykernel_65656\\701453132.py:104: FutureWarning: Styler.applymap has been deprecated. Use Styler.map instead.\n",
      "  .applymap(style_predictions, subset=['prediction'])\n"
     ]
    },
    {
     "name": "stdout",
     "output_type": "stream",
     "text": [
      "最新更新：16:37:57\n",
      "stock_code short_name  price change_pct  main_net_inflow  prediction\n",
      "    600961       株冶集团  9.750       5.86       89664573.0          10\n",
      "    601020       华钰矿业 24.440       2.86       94040044.0           9\n",
      "    600367       红星发展 15.380       4.63       52339353.0           9\n",
      "    002155       湖南黄金  23.52       7.50      307973502.0           9\n",
      "    301368       丰立智能  88.00      -1.35     -133552529.0           9\n",
      "    603198       迎驾贡酒 60.640       2.40       55839439.0           8\n",
      "    605208        永茂泰 15.870      -3.99       12710427.0           9\n",
      "    603993       洛阳钼业  7.700      -1.41       64061269.0           8\n",
      "    000596       古井贡酒 189.17       5.48      -16307812.0           8\n",
      "    600711       ST盛屯  5.550       2.78      -13048991.0           8\n",
      "已更新监控页面 -> stock_realtime_monitor.html\n"
     ]
    },
    {
     "name": "stderr",
     "output_type": "stream",
     "text": [
      "C:\\Users\\charl\\AppData\\Local\\Temp\\ipykernel_65656\\701453132.py:104: FutureWarning: Styler.applymap has been deprecated. Use Styler.map instead.\n",
      "  .applymap(style_predictions, subset=['prediction'])\n"
     ]
    },
    {
     "name": "stdout",
     "output_type": "stream",
     "text": [
      "最新更新：16:38:26\n",
      "stock_code short_name  price change_pct  main_net_inflow  prediction\n",
      "    600961       株冶集团  9.750       5.86       89664573.0          10\n",
      "    601020       华钰矿业 24.440       2.86       94040044.0           9\n",
      "    600367       红星发展 15.380       4.63       52339353.0           9\n",
      "    002155       湖南黄金  23.52       7.50      307973502.0           9\n",
      "    301368       丰立智能  88.00      -1.35     -133552529.0           9\n",
      "    603198       迎驾贡酒 60.640       2.40       55839439.0           8\n",
      "    605208        永茂泰 15.870      -3.99       12710427.0           9\n",
      "    603993       洛阳钼业  7.700      -1.41       64061269.0           8\n",
      "    000596       古井贡酒 189.17       5.48      -16307812.0           8\n",
      "    600711       ST盛屯  5.550       2.78      -13048991.0           8\n",
      "已更新监控页面 -> stock_realtime_monitor.html\n"
     ]
    },
    {
     "name": "stderr",
     "output_type": "stream",
     "text": [
      "C:\\Users\\charl\\AppData\\Local\\Temp\\ipykernel_65656\\701453132.py:104: FutureWarning: Styler.applymap has been deprecated. Use Styler.map instead.\n",
      "  .applymap(style_predictions, subset=['prediction'])\n"
     ]
    },
    {
     "name": "stdout",
     "output_type": "stream",
     "text": [
      "最新更新：16:38:57\n",
      "stock_code short_name  price change_pct  main_net_inflow  prediction\n",
      "    600961       株冶集团  9.750       5.86       89664573.0          10\n",
      "    601020       华钰矿业 24.440       2.86       94040044.0           9\n",
      "    600367       红星发展 15.380       4.63       52339353.0           9\n",
      "    002155       湖南黄金  23.52       7.50      307973502.0           9\n",
      "    301368       丰立智能  88.00      -1.35     -133552529.0           9\n",
      "    603198       迎驾贡酒 60.640       2.40       55839439.0           8\n",
      "    605208        永茂泰 15.870      -3.99       12710427.0           9\n",
      "    603993       洛阳钼业  7.700      -1.41       64061269.0           8\n",
      "    000596       古井贡酒 189.17       5.48      -16307812.0           8\n",
      "    600711       ST盛屯  5.550       2.78      -13048991.0           8\n",
      "已更新监控页面 -> stock_realtime_monitor.html\n"
     ]
    },
    {
     "name": "stderr",
     "output_type": "stream",
     "text": [
      "C:\\Users\\charl\\AppData\\Local\\Temp\\ipykernel_65656\\701453132.py:104: FutureWarning: Styler.applymap has been deprecated. Use Styler.map instead.\n",
      "  .applymap(style_predictions, subset=['prediction'])\n"
     ]
    },
    {
     "name": "stdout",
     "output_type": "stream",
     "text": [
      "最新更新：16:39:29\n",
      "stock_code short_name  price change_pct  main_net_inflow  prediction\n",
      "    600961       株冶集团  9.750       5.86       89664573.0          10\n",
      "    601020       华钰矿业 24.440       2.86       94040044.0           9\n",
      "    600367       红星发展 15.380       4.63       52339353.0           9\n",
      "    002155       湖南黄金  23.52       7.50      307973502.0           9\n",
      "    301368       丰立智能  88.00      -1.35     -133552529.0           9\n",
      "    603198       迎驾贡酒 60.640       2.40       55839439.0           8\n",
      "    605208        永茂泰 15.870      -3.99       12710427.0           9\n",
      "    603993       洛阳钼业  7.700      -1.41       64061269.0           8\n",
      "    000596       古井贡酒 189.17       5.48      -16307812.0           8\n",
      "    600711       ST盛屯  5.550       2.78      -13048991.0           8\n",
      "已更新监控页面 -> stock_realtime_monitor.html\n"
     ]
    },
    {
     "name": "stderr",
     "output_type": "stream",
     "text": [
      "C:\\Users\\charl\\AppData\\Local\\Temp\\ipykernel_65656\\701453132.py:104: FutureWarning: Styler.applymap has been deprecated. Use Styler.map instead.\n",
      "  .applymap(style_predictions, subset=['prediction'])\n"
     ]
    },
    {
     "name": "stdout",
     "output_type": "stream",
     "text": [
      "最新更新：16:39:59\n",
      "stock_code short_name  price change_pct  main_net_inflow  prediction\n",
      "    600961       株冶集团  9.750       5.86       89664573.0          10\n",
      "    601020       华钰矿业 24.440       2.86       94040044.0           9\n",
      "    600367       红星发展 15.380       4.63       52339353.0           9\n",
      "    002155       湖南黄金  23.52       7.50      307973502.0           9\n",
      "    301368       丰立智能  88.00      -1.35     -133552529.0           9\n",
      "    603198       迎驾贡酒 60.640       2.40       55839439.0           8\n",
      "    605208        永茂泰 15.870      -3.99       12710427.0           9\n",
      "    603993       洛阳钼业  7.700      -1.41       64061269.0           8\n",
      "    000596       古井贡酒 189.17       5.48      -16307812.0           8\n",
      "    600711       ST盛屯  5.550       2.78      -13048991.0           8\n",
      "已更新监控页面 -> stock_realtime_monitor.html\n"
     ]
    },
    {
     "name": "stderr",
     "output_type": "stream",
     "text": [
      "C:\\Users\\charl\\AppData\\Local\\Temp\\ipykernel_65656\\701453132.py:104: FutureWarning: Styler.applymap has been deprecated. Use Styler.map instead.\n",
      "  .applymap(style_predictions, subset=['prediction'])\n"
     ]
    },
    {
     "name": "stdout",
     "output_type": "stream",
     "text": [
      "最新更新：16:40:26\n",
      "stock_code short_name  price change_pct  main_net_inflow  prediction\n",
      "    600961       株冶集团  9.750       5.86       89664573.0          10\n",
      "    601020       华钰矿业 24.440       2.86       94040044.0           9\n",
      "    600367       红星发展 15.380       4.63       52339353.0           9\n",
      "    002155       湖南黄金  23.52       7.50      307973502.0           9\n",
      "    301368       丰立智能  88.00      -1.35     -133552529.0           9\n",
      "    603198       迎驾贡酒 60.640       2.40       55839439.0           8\n",
      "    605208        永茂泰 15.870      -3.99       12710427.0           9\n",
      "    603993       洛阳钼业  7.700      -1.41       64061269.0           8\n",
      "    000596       古井贡酒 189.17       5.48      -16307812.0           8\n",
      "    600711       ST盛屯  5.550       2.78      -13048991.0           8\n",
      "已更新监控页面 -> stock_realtime_monitor.html\n"
     ]
    },
    {
     "name": "stderr",
     "output_type": "stream",
     "text": [
      "C:\\Users\\charl\\AppData\\Local\\Temp\\ipykernel_65656\\701453132.py:104: FutureWarning: Styler.applymap has been deprecated. Use Styler.map instead.\n",
      "  .applymap(style_predictions, subset=['prediction'])\n"
     ]
    },
    {
     "name": "stdout",
     "output_type": "stream",
     "text": [
      "最新更新：16:40:56\n",
      "stock_code short_name  price change_pct  main_net_inflow  prediction\n",
      "    600961       株冶集团  9.750       5.86       89664573.0          10\n",
      "    601020       华钰矿业 24.440       2.86       94040044.0           9\n",
      "    600367       红星发展 15.380       4.63       52339353.0           9\n",
      "    002155       湖南黄金  23.52       7.50      307973502.0           9\n",
      "    301368       丰立智能  88.00      -1.35     -133552529.0           9\n",
      "    603198       迎驾贡酒 60.640       2.40       55839439.0           8\n",
      "    605208        永茂泰 15.870      -3.99       12710427.0           9\n",
      "    603993       洛阳钼业  7.700      -1.41       64061269.0           8\n",
      "    000596       古井贡酒 189.17       5.48      -16307812.0           8\n",
      "    600711       ST盛屯  5.550       2.78      -13048991.0           8\n",
      "已更新监控页面 -> stock_realtime_monitor.html\n"
     ]
    },
    {
     "name": "stderr",
     "output_type": "stream",
     "text": [
      "C:\\Users\\charl\\AppData\\Local\\Temp\\ipykernel_65656\\701453132.py:104: FutureWarning: Styler.applymap has been deprecated. Use Styler.map instead.\n",
      "  .applymap(style_predictions, subset=['prediction'])\n"
     ]
    },
    {
     "name": "stdout",
     "output_type": "stream",
     "text": [
      "最新更新：16:41:27\n",
      "stock_code short_name  price change_pct  main_net_inflow  prediction\n",
      "    600961       株冶集团  9.750       5.86       89664573.0          10\n",
      "    601020       华钰矿业 24.440       2.86       94040044.0           9\n",
      "    600367       红星发展 15.380       4.63       52339353.0           9\n",
      "    002155       湖南黄金  23.52       7.50      307973502.0           9\n",
      "    301368       丰立智能  88.00      -1.35     -133552529.0           9\n",
      "    603198       迎驾贡酒 60.640       2.40       55839439.0           8\n",
      "    605208        永茂泰 15.870      -3.99       12710427.0           9\n",
      "    603993       洛阳钼业  7.700      -1.41       64061269.0           8\n",
      "    000596       古井贡酒 189.17       5.48      -16307812.0           8\n",
      "    600711       ST盛屯  5.550       2.78      -13048991.0           8\n",
      "已更新监控页面 -> stock_realtime_monitor.html\n"
     ]
    },
    {
     "name": "stderr",
     "output_type": "stream",
     "text": [
      "C:\\Users\\charl\\AppData\\Local\\Temp\\ipykernel_65656\\701453132.py:104: FutureWarning: Styler.applymap has been deprecated. Use Styler.map instead.\n",
      "  .applymap(style_predictions, subset=['prediction'])\n"
     ]
    },
    {
     "name": "stdout",
     "output_type": "stream",
     "text": [
      "最新更新：16:41:57\n",
      "stock_code short_name  price change_pct  main_net_inflow  prediction\n",
      "    600961       株冶集团  9.750       5.86       89664573.0          10\n",
      "    601020       华钰矿业 24.440       2.86       94040044.0           9\n",
      "    600367       红星发展 15.380       4.63       52339353.0           9\n",
      "    002155       湖南黄金  23.52       7.50      307973502.0           9\n",
      "    301368       丰立智能  88.00      -1.35     -133552529.0           9\n",
      "    603198       迎驾贡酒 60.640       2.40       55839439.0           8\n",
      "    605208        永茂泰 15.870      -3.99       12710427.0           9\n",
      "    603993       洛阳钼业  7.700      -1.41       64061269.0           8\n",
      "    000596       古井贡酒 189.17       5.48      -16307812.0           8\n",
      "    600711       ST盛屯  5.550       2.78      -13048991.0           8\n",
      "已更新监控页面 -> stock_realtime_monitor.html\n"
     ]
    },
    {
     "name": "stderr",
     "output_type": "stream",
     "text": [
      "C:\\Users\\charl\\AppData\\Local\\Temp\\ipykernel_65656\\701453132.py:104: FutureWarning: Styler.applymap has been deprecated. Use Styler.map instead.\n",
      "  .applymap(style_predictions, subset=['prediction'])\n"
     ]
    },
    {
     "name": "stdout",
     "output_type": "stream",
     "text": [
      "最新更新：16:42:27\n",
      "stock_code short_name  price change_pct  main_net_inflow  prediction\n",
      "    600961       株冶集团  9.750       5.86       89664573.0          10\n",
      "    601020       华钰矿业 24.440       2.86       94040044.0           9\n",
      "    600367       红星发展 15.380       4.63       52339353.0           9\n",
      "    002155       湖南黄金  23.52       7.50      307973502.0           9\n",
      "    301368       丰立智能  88.00      -1.35     -133552529.0           9\n",
      "    603198       迎驾贡酒 60.640       2.40       55839439.0           8\n",
      "    605208        永茂泰 15.870      -3.99       12710427.0           9\n",
      "    603993       洛阳钼业  7.700      -1.41       64061269.0           8\n",
      "    000596       古井贡酒 189.17       5.48      -16307812.0           8\n",
      "    600711       ST盛屯  5.550       2.78      -13048991.0           8\n",
      "已更新监控页面 -> stock_realtime_monitor.html\n"
     ]
    },
    {
     "name": "stderr",
     "output_type": "stream",
     "text": [
      "C:\\Users\\charl\\AppData\\Local\\Temp\\ipykernel_65656\\701453132.py:104: FutureWarning: Styler.applymap has been deprecated. Use Styler.map instead.\n",
      "  .applymap(style_predictions, subset=['prediction'])\n"
     ]
    },
    {
     "name": "stdout",
     "output_type": "stream",
     "text": [
      "最新更新：16:42:56\n",
      "stock_code short_name  price change_pct  main_net_inflow  prediction\n",
      "    600961       株冶集团  9.750       5.86       89664573.0          10\n",
      "    601020       华钰矿业 24.440       2.86       94040044.0           9\n",
      "    600367       红星发展 15.380       4.63       52339353.0           9\n",
      "    002155       湖南黄金  23.52       7.50      307973502.0           9\n",
      "    301368       丰立智能  88.00      -1.35     -133552529.0           9\n",
      "    603198       迎驾贡酒 60.640       2.40       55839439.0           8\n",
      "    605208        永茂泰 15.870      -3.99       12710427.0           9\n",
      "    603993       洛阳钼业  7.700      -1.41       64061269.0           8\n",
      "    000596       古井贡酒 189.17       5.48      -16307812.0           8\n",
      "    600711       ST盛屯  5.550       2.78      -13048991.0           8\n",
      "已更新监控页面 -> stock_realtime_monitor.html\n"
     ]
    },
    {
     "name": "stderr",
     "output_type": "stream",
     "text": [
      "C:\\Users\\charl\\AppData\\Local\\Temp\\ipykernel_65656\\701453132.py:104: FutureWarning: Styler.applymap has been deprecated. Use Styler.map instead.\n",
      "  .applymap(style_predictions, subset=['prediction'])\n"
     ]
    },
    {
     "name": "stdout",
     "output_type": "stream",
     "text": [
      "最新更新：16:43:26\n",
      "stock_code short_name  price change_pct  main_net_inflow  prediction\n",
      "    600961       株冶集团  9.750       5.86       89664573.0          10\n",
      "    601020       华钰矿业 24.440       2.86       94040044.0           9\n",
      "    600367       红星发展 15.380       4.63       52339353.0           9\n",
      "    002155       湖南黄金  23.52       7.50      307973502.0           9\n",
      "    301368       丰立智能  88.00      -1.35     -133552529.0           9\n",
      "    603198       迎驾贡酒 60.640       2.40       55839439.0           8\n",
      "    605208        永茂泰 15.870      -3.99       12710427.0           9\n",
      "    603993       洛阳钼业  7.700      -1.41       64061269.0           8\n",
      "    000596       古井贡酒 189.17       5.48      -16307812.0           8\n",
      "    600711       ST盛屯  5.550       2.78      -13048991.0           8\n",
      "已更新监控页面 -> stock_realtime_monitor.html\n"
     ]
    },
    {
     "name": "stderr",
     "output_type": "stream",
     "text": [
      "C:\\Users\\charl\\AppData\\Local\\Temp\\ipykernel_65656\\701453132.py:104: FutureWarning: Styler.applymap has been deprecated. Use Styler.map instead.\n",
      "  .applymap(style_predictions, subset=['prediction'])\n"
     ]
    },
    {
     "name": "stdout",
     "output_type": "stream",
     "text": [
      "最新更新：16:43:56\n",
      "stock_code short_name  price change_pct  main_net_inflow  prediction\n",
      "    600961       株冶集团  9.750       5.86       89664573.0          10\n",
      "    601020       华钰矿业 24.440       2.86       94040044.0           9\n",
      "    600367       红星发展 15.380       4.63       52339353.0           9\n",
      "    002155       湖南黄金  23.52       7.50      307973502.0           9\n",
      "    301368       丰立智能  88.00      -1.35     -133552529.0           9\n",
      "    603198       迎驾贡酒 60.640       2.40       55839439.0           8\n",
      "    605208        永茂泰 15.870      -3.99       12710427.0           9\n",
      "    603993       洛阳钼业  7.700      -1.41       64061269.0           8\n",
      "    000596       古井贡酒 189.17       5.48      -16307812.0           8\n",
      "    600711       ST盛屯  5.550       2.78      -13048991.0           8\n",
      "已更新监控页面 -> stock_realtime_monitor.html\n"
     ]
    },
    {
     "name": "stderr",
     "output_type": "stream",
     "text": [
      "C:\\Users\\charl\\AppData\\Local\\Temp\\ipykernel_65656\\701453132.py:104: FutureWarning: Styler.applymap has been deprecated. Use Styler.map instead.\n",
      "  .applymap(style_predictions, subset=['prediction'])\n"
     ]
    },
    {
     "name": "stdout",
     "output_type": "stream",
     "text": [
      "最新更新：16:44:28\n",
      "stock_code short_name  price change_pct  main_net_inflow  prediction\n",
      "    600961       株冶集团  9.750       5.86       89664573.0          10\n",
      "    601020       华钰矿业 24.440       2.86       94040044.0           9\n",
      "    600367       红星发展 15.380       4.63       52339353.0           9\n",
      "    002155       湖南黄金  23.52       7.50      307973502.0           9\n",
      "    301368       丰立智能  88.00      -1.35     -133552529.0           9\n",
      "    603198       迎驾贡酒 60.640       2.40       55839439.0           8\n",
      "    605208        永茂泰 15.870      -3.99       12710427.0           9\n",
      "    603993       洛阳钼业  7.700      -1.41       64061269.0           8\n",
      "    000596       古井贡酒 189.17       5.48      -16307812.0           8\n",
      "    600711       ST盛屯  5.550       2.78      -13048991.0           8\n",
      "已更新监控页面 -> stock_realtime_monitor.html\n"
     ]
    },
    {
     "name": "stderr",
     "output_type": "stream",
     "text": [
      "C:\\Users\\charl\\AppData\\Local\\Temp\\ipykernel_65656\\701453132.py:104: FutureWarning: Styler.applymap has been deprecated. Use Styler.map instead.\n",
      "  .applymap(style_predictions, subset=['prediction'])\n"
     ]
    },
    {
     "name": "stdout",
     "output_type": "stream",
     "text": [
      "最新更新：16:44:57\n",
      "stock_code short_name  price change_pct  main_net_inflow  prediction\n",
      "    600961       株冶集团  9.750       5.86       89664573.0          10\n",
      "    601020       华钰矿业 24.440       2.86       94040044.0           9\n",
      "    600367       红星发展 15.380       4.63       52339353.0           9\n",
      "    002155       湖南黄金  23.52       7.50      307973502.0           9\n",
      "    301368       丰立智能  88.00      -1.35     -133552529.0           9\n",
      "    603198       迎驾贡酒 60.640       2.40       55839439.0           8\n",
      "    605208        永茂泰 15.870      -3.99       12710427.0           9\n",
      "    603993       洛阳钼业  7.700      -1.41       64061269.0           8\n",
      "    000596       古井贡酒 189.17       5.48      -16307812.0           8\n",
      "    600711       ST盛屯  5.550       2.78      -13048991.0           8\n",
      "已更新监控页面 -> stock_realtime_monitor.html\n"
     ]
    },
    {
     "name": "stderr",
     "output_type": "stream",
     "text": [
      "C:\\Users\\charl\\AppData\\Local\\Temp\\ipykernel_65656\\701453132.py:104: FutureWarning: Styler.applymap has been deprecated. Use Styler.map instead.\n",
      "  .applymap(style_predictions, subset=['prediction'])\n"
     ]
    },
    {
     "name": "stdout",
     "output_type": "stream",
     "text": [
      "最新更新：16:45:27\n",
      "stock_code short_name  price change_pct  main_net_inflow  prediction\n",
      "    600961       株冶集团  9.750       5.86       89664573.0          10\n",
      "    601020       华钰矿业 24.440       2.86       94040044.0           9\n",
      "    600367       红星发展 15.380       4.63       52339353.0           9\n",
      "    002155       湖南黄金  23.52       7.50      307973502.0           9\n",
      "    301368       丰立智能  88.00      -1.35     -133552529.0           9\n",
      "    603198       迎驾贡酒 60.640       2.40       55839439.0           8\n",
      "    605208        永茂泰 15.870      -3.99       12710427.0           9\n",
      "    603993       洛阳钼业  7.700      -1.41       64061269.0           8\n",
      "    000596       古井贡酒 189.17       5.48      -16307812.0           8\n",
      "    600711       ST盛屯  5.550       2.78      -13048991.0           8\n",
      "已更新监控页面 -> stock_realtime_monitor.html\n"
     ]
    },
    {
     "name": "stderr",
     "output_type": "stream",
     "text": [
      "C:\\Users\\charl\\AppData\\Local\\Temp\\ipykernel_65656\\701453132.py:104: FutureWarning: Styler.applymap has been deprecated. Use Styler.map instead.\n",
      "  .applymap(style_predictions, subset=['prediction'])\n"
     ]
    },
    {
     "name": "stdout",
     "output_type": "stream",
     "text": [
      "最新更新：16:45:57\n",
      "stock_code short_name  price change_pct  main_net_inflow  prediction\n",
      "    600961       株冶集团  9.750       5.86       89664573.0          10\n",
      "    601020       华钰矿业 24.440       2.86       94040044.0           9\n",
      "    600367       红星发展 15.380       4.63       52339353.0           9\n",
      "    002155       湖南黄金  23.52       7.50      307973502.0           9\n",
      "    301368       丰立智能  88.00      -1.35     -133552529.0           9\n",
      "    603198       迎驾贡酒 60.640       2.40       55839439.0           8\n",
      "    605208        永茂泰 15.870      -3.99       12710427.0           9\n",
      "    603993       洛阳钼业  7.700      -1.41       64061269.0           8\n",
      "    000596       古井贡酒 189.17       5.48      -16307812.0           8\n",
      "    600711       ST盛屯  5.550       2.78      -13048991.0           8\n",
      "已更新监控页面 -> stock_realtime_monitor.html\n"
     ]
    },
    {
     "name": "stderr",
     "output_type": "stream",
     "text": [
      "C:\\Users\\charl\\AppData\\Local\\Temp\\ipykernel_65656\\701453132.py:104: FutureWarning: Styler.applymap has been deprecated. Use Styler.map instead.\n",
      "  .applymap(style_predictions, subset=['prediction'])\n"
     ]
    },
    {
     "name": "stdout",
     "output_type": "stream",
     "text": [
      "最新更新：16:46:29\n",
      "stock_code short_name  price change_pct  main_net_inflow  prediction\n",
      "    600961       株冶集团  9.750       5.86       89664573.0          10\n",
      "    601020       华钰矿业 24.440       2.86       94040044.0           9\n",
      "    600367       红星发展 15.380       4.63       52339353.0           9\n",
      "    002155       湖南黄金  23.52       7.50      307973502.0           9\n",
      "    301368       丰立智能  88.00      -1.35     -133552529.0           9\n",
      "    603198       迎驾贡酒 60.640       2.40       55839439.0           8\n",
      "    605208        永茂泰 15.870      -3.99       12710427.0           9\n",
      "    603993       洛阳钼业  7.700      -1.41       64061269.0           8\n",
      "    000596       古井贡酒 189.17       5.48      -16307812.0           8\n",
      "    600711       ST盛屯  5.550       2.78      -13048991.0           8\n",
      "已更新监控页面 -> stock_realtime_monitor.html\n"
     ]
    },
    {
     "name": "stderr",
     "output_type": "stream",
     "text": [
      "C:\\Users\\charl\\AppData\\Local\\Temp\\ipykernel_65656\\701453132.py:104: FutureWarning: Styler.applymap has been deprecated. Use Styler.map instead.\n",
      "  .applymap(style_predictions, subset=['prediction'])\n"
     ]
    },
    {
     "name": "stdout",
     "output_type": "stream",
     "text": [
      "最新更新：16:46:58\n",
      "stock_code short_name  price change_pct  main_net_inflow  prediction\n",
      "    600961       株冶集团  9.750       5.86       89664573.0          10\n",
      "    601020       华钰矿业 24.440       2.86       94040044.0           9\n",
      "    600367       红星发展 15.380       4.63       52339353.0           9\n",
      "    002155       湖南黄金  23.52       7.50      307973502.0           9\n",
      "    301368       丰立智能  88.00      -1.35     -133552529.0           9\n",
      "    603198       迎驾贡酒 60.640       2.40       55839439.0           8\n",
      "    605208        永茂泰 15.870      -3.99       12710427.0           9\n",
      "    603993       洛阳钼业  7.700      -1.41       64061269.0           8\n",
      "    000596       古井贡酒 189.17       5.48      -16307812.0           8\n",
      "    600711       ST盛屯  5.550       2.78      -13048991.0           8\n",
      "已更新监控页面 -> stock_realtime_monitor.html\n"
     ]
    },
    {
     "name": "stderr",
     "output_type": "stream",
     "text": [
      "C:\\Users\\charl\\AppData\\Local\\Temp\\ipykernel_65656\\701453132.py:104: FutureWarning: Styler.applymap has been deprecated. Use Styler.map instead.\n",
      "  .applymap(style_predictions, subset=['prediction'])\n"
     ]
    },
    {
     "name": "stdout",
     "output_type": "stream",
     "text": [
      "最新更新：16:47:27\n",
      "stock_code short_name  price change_pct  main_net_inflow  prediction\n",
      "    600961       株冶集团  9.750       5.86       89664573.0          10\n",
      "    601020       华钰矿业 24.440       2.86       94040044.0           9\n",
      "    600367       红星发展 15.380       4.63       52339353.0           9\n",
      "    002155       湖南黄金  23.52       7.50      307973502.0           9\n",
      "    301368       丰立智能  88.00      -1.35     -133552529.0           9\n",
      "    603198       迎驾贡酒 60.640       2.40       55839439.0           8\n",
      "    605208        永茂泰 15.870      -3.99       12710427.0           9\n",
      "    603993       洛阳钼业  7.700      -1.41       64061269.0           8\n",
      "    000596       古井贡酒 189.17       5.48      -16307812.0           8\n",
      "    600711       ST盛屯  5.550       2.78      -13048991.0           8\n",
      "已更新监控页面 -> stock_realtime_monitor.html\n"
     ]
    },
    {
     "name": "stderr",
     "output_type": "stream",
     "text": [
      "C:\\Users\\charl\\AppData\\Local\\Temp\\ipykernel_65656\\701453132.py:104: FutureWarning: Styler.applymap has been deprecated. Use Styler.map instead.\n",
      "  .applymap(style_predictions, subset=['prediction'])\n"
     ]
    },
    {
     "name": "stdout",
     "output_type": "stream",
     "text": [
      "最新更新：16:47:56\n",
      "stock_code short_name  price change_pct  main_net_inflow  prediction\n",
      "    600961       株冶集团  9.750       5.86       89664573.0          10\n",
      "    601020       华钰矿业 24.440       2.86       94040044.0           9\n",
      "    600367       红星发展 15.380       4.63       52339353.0           9\n",
      "    002155       湖南黄金  23.52       7.50      307973502.0           9\n",
      "    301368       丰立智能  88.00      -1.35     -133552529.0           9\n",
      "    603198       迎驾贡酒 60.640       2.40       55839439.0           8\n",
      "    605208        永茂泰 15.870      -3.99       12710427.0           9\n",
      "    603993       洛阳钼业  7.700      -1.41       64061269.0           8\n",
      "    000596       古井贡酒 189.17       5.48      -16307812.0           8\n",
      "    600711       ST盛屯  5.550       2.78      -13048991.0           8\n",
      "已更新监控页面 -> stock_realtime_monitor.html\n"
     ]
    },
    {
     "name": "stderr",
     "output_type": "stream",
     "text": [
      "C:\\Users\\charl\\AppData\\Local\\Temp\\ipykernel_65656\\701453132.py:104: FutureWarning: Styler.applymap has been deprecated. Use Styler.map instead.\n",
      "  .applymap(style_predictions, subset=['prediction'])\n"
     ]
    },
    {
     "name": "stdout",
     "output_type": "stream",
     "text": [
      "最新更新：16:48:26\n",
      "stock_code short_name  price change_pct  main_net_inflow  prediction\n",
      "    600961       株冶集团  9.750       5.86       89664573.0          10\n",
      "    601020       华钰矿业 24.440       2.86       94040044.0           9\n",
      "    600367       红星发展 15.380       4.63       52339353.0           9\n",
      "    002155       湖南黄金  23.52       7.50      307973502.0           9\n",
      "    301368       丰立智能  88.00      -1.35     -133552529.0           9\n",
      "    603198       迎驾贡酒 60.640       2.40       55839439.0           8\n",
      "    605208        永茂泰 15.870      -3.99       12710427.0           9\n",
      "    603993       洛阳钼业  7.700      -1.41       64061269.0           8\n",
      "    000596       古井贡酒 189.17       5.48      -16307812.0           8\n",
      "    600711       ST盛屯  5.550       2.78      -13048991.0           8\n",
      "已更新监控页面 -> stock_realtime_monitor.html\n"
     ]
    },
    {
     "name": "stderr",
     "output_type": "stream",
     "text": [
      "C:\\Users\\charl\\AppData\\Local\\Temp\\ipykernel_65656\\701453132.py:104: FutureWarning: Styler.applymap has been deprecated. Use Styler.map instead.\n",
      "  .applymap(style_predictions, subset=['prediction'])\n"
     ]
    },
    {
     "name": "stdout",
     "output_type": "stream",
     "text": [
      "最新更新：16:48:58\n",
      "stock_code short_name  price change_pct  main_net_inflow  prediction\n",
      "    600961       株冶集团  9.750       5.86       89664573.0          10\n",
      "    601020       华钰矿业 24.440       2.86       94040044.0           9\n",
      "    600367       红星发展 15.380       4.63       52339353.0           9\n",
      "    002155       湖南黄金  23.52       7.50      307973502.0           9\n",
      "    301368       丰立智能  88.00      -1.35     -133552529.0           9\n",
      "    603198       迎驾贡酒 60.640       2.40       55839439.0           8\n",
      "    605208        永茂泰 15.870      -3.99       12710427.0           9\n",
      "    603993       洛阳钼业  7.700      -1.41       64061269.0           8\n",
      "    000596       古井贡酒 189.17       5.48      -16307812.0           8\n",
      "    600711       ST盛屯  5.550       2.78      -13048991.0           8\n",
      "已更新监控页面 -> stock_realtime_monitor.html\n"
     ]
    },
    {
     "name": "stderr",
     "output_type": "stream",
     "text": [
      "C:\\Users\\charl\\AppData\\Local\\Temp\\ipykernel_65656\\701453132.py:104: FutureWarning: Styler.applymap has been deprecated. Use Styler.map instead.\n",
      "  .applymap(style_predictions, subset=['prediction'])\n"
     ]
    },
    {
     "name": "stdout",
     "output_type": "stream",
     "text": [
      "最新更新：16:49:29\n",
      "stock_code short_name  price change_pct  main_net_inflow  prediction\n",
      "    600961       株冶集团  9.750       5.86       89664573.0          10\n",
      "    601020       华钰矿业 24.440       2.86       94040044.0           9\n",
      "    600367       红星发展 15.380       4.63       52339353.0           9\n",
      "    002155       湖南黄金  23.52       7.50      307973502.0           9\n",
      "    301368       丰立智能  88.00      -1.35     -133552529.0           9\n",
      "    603198       迎驾贡酒 60.640       2.40       55839439.0           8\n",
      "    605208        永茂泰 15.870      -3.99       12710427.0           9\n",
      "    603993       洛阳钼业  7.700      -1.41       64061269.0           8\n",
      "    000596       古井贡酒 189.17       5.48      -16307812.0           8\n",
      "    600711       ST盛屯  5.550       2.78      -13048991.0           8\n",
      "已更新监控页面 -> stock_realtime_monitor.html\n"
     ]
    },
    {
     "name": "stderr",
     "output_type": "stream",
     "text": [
      "C:\\Users\\charl\\AppData\\Local\\Temp\\ipykernel_65656\\701453132.py:104: FutureWarning: Styler.applymap has been deprecated. Use Styler.map instead.\n",
      "  .applymap(style_predictions, subset=['prediction'])\n"
     ]
    },
    {
     "name": "stdout",
     "output_type": "stream",
     "text": [
      "最新更新：16:49:59\n",
      "stock_code short_name  price change_pct  main_net_inflow  prediction\n",
      "    600961       株冶集团  9.750       5.86       89664573.0          10\n",
      "    601020       华钰矿业 24.440       2.86       94040044.0           9\n",
      "    600367       红星发展 15.380       4.63       52339353.0           9\n",
      "    002155       湖南黄金  23.52       7.50      307973502.0           9\n",
      "    301368       丰立智能  88.00      -1.35     -133552529.0           9\n",
      "    603198       迎驾贡酒 60.640       2.40       55839439.0           8\n",
      "    605208        永茂泰 15.870      -3.99       12710427.0           9\n",
      "    603993       洛阳钼业  7.700      -1.41       64061269.0           8\n",
      "    000596       古井贡酒 189.17       5.48      -16307812.0           8\n",
      "    600711       ST盛屯  5.550       2.78      -13048991.0           8\n",
      "已更新监控页面 -> stock_realtime_monitor.html\n"
     ]
    },
    {
     "name": "stderr",
     "output_type": "stream",
     "text": [
      "C:\\Users\\charl\\AppData\\Local\\Temp\\ipykernel_65656\\701453132.py:104: FutureWarning: Styler.applymap has been deprecated. Use Styler.map instead.\n",
      "  .applymap(style_predictions, subset=['prediction'])\n"
     ]
    },
    {
     "name": "stdout",
     "output_type": "stream",
     "text": [
      "最新更新：16:50:29\n",
      "stock_code short_name  price change_pct  main_net_inflow  prediction\n",
      "    600961       株冶集团  9.750       5.86       89664573.0          10\n",
      "    601020       华钰矿业 24.440       2.86       94040044.0           9\n",
      "    600367       红星发展 15.380       4.63       52339353.0           9\n",
      "    002155       湖南黄金  23.52       7.50      307973502.0           9\n",
      "    301368       丰立智能  88.00      -1.35     -133552529.0           9\n",
      "    603198       迎驾贡酒 60.640       2.40       55839439.0           8\n",
      "    605208        永茂泰 15.870      -3.99       12710427.0           9\n",
      "    603993       洛阳钼业  7.700      -1.41       64061269.0           8\n",
      "    000596       古井贡酒 189.17       5.48      -16307812.0           8\n",
      "    600711       ST盛屯  5.550       2.78      -13048991.0           8\n",
      "已更新监控页面 -> stock_realtime_monitor.html\n"
     ]
    },
    {
     "name": "stderr",
     "output_type": "stream",
     "text": [
      "C:\\Users\\charl\\AppData\\Local\\Temp\\ipykernel_65656\\701453132.py:104: FutureWarning: Styler.applymap has been deprecated. Use Styler.map instead.\n",
      "  .applymap(style_predictions, subset=['prediction'])\n"
     ]
    },
    {
     "name": "stdout",
     "output_type": "stream",
     "text": [
      "获取605208资金流数据失败: HTTPSConnectionPool(host='push2.eastmoney.com', port=443): Max retries exceeded with url: /api/qt/stock/fflow/kline/get?lmt=0&klt=1&fields1=f1,f2,f3,f7&fields2=f51,f52,f53,f54,f55,f56,f57,f58,f59,f60,f61,f62,f63,f64,f65&secid=1.605208 (Caused by ConnectTimeoutError(<urllib3.connection.HTTPSConnection object at 0x00000188EF065E90>, 'Connection to push2.eastmoney.com timed out. (connect timeout=None)'))\n",
      "最新更新：16:51:16\n",
      "stock_code short_name  price change_pct  main_net_inflow  prediction\n",
      "    600961       株冶集团  9.750       5.86       89664573.0          10\n",
      "    601020       华钰矿业 24.440       2.86       94040044.0           9\n",
      "    600367       红星发展 15.380       4.63       52339353.0           9\n",
      "    002155       湖南黄金  23.52       7.50      307973502.0           9\n",
      "    301368       丰立智能  88.00      -1.35     -133552529.0           9\n",
      "    603198       迎驾贡酒 60.640       2.40       55839439.0           8\n",
      "    605208        永茂泰 15.870      -3.99              NaN           9\n",
      "    603993       洛阳钼业  7.700      -1.41       64061269.0           8\n",
      "    000596       古井贡酒 189.17       5.48      -16307812.0           8\n",
      "    600711       ST盛屯  5.550       2.78      -13048991.0           8\n",
      "已更新监控页面 -> stock_realtime_monitor.html\n"
     ]
    },
    {
     "name": "stderr",
     "output_type": "stream",
     "text": [
      "C:\\Users\\charl\\AppData\\Local\\Temp\\ipykernel_65656\\701453132.py:104: FutureWarning: Styler.applymap has been deprecated. Use Styler.map instead.\n",
      "  .applymap(style_predictions, subset=['prediction'])\n"
     ]
    },
    {
     "name": "stdout",
     "output_type": "stream",
     "text": [
      "最新更新：16:52:00\n",
      "stock_code short_name  price change_pct  main_net_inflow  prediction\n",
      "    600961       株冶集团  9.750       5.86       89664573.0          10\n",
      "    601020       华钰矿业 24.440       2.86       94040044.0           9\n",
      "    600367       红星发展 15.380       4.63       52339353.0           9\n",
      "    002155       湖南黄金  23.52       7.50      307973502.0           9\n",
      "    301368       丰立智能  88.00      -1.35     -133552529.0           9\n",
      "    603198       迎驾贡酒 60.640       2.40       55839439.0           8\n",
      "    605208        永茂泰 15.870      -3.99       12710427.0           9\n",
      "    603993       洛阳钼业  7.700      -1.41       64061269.0           8\n",
      "    000596       古井贡酒 189.17       5.48      -16307812.0           8\n",
      "    600711       ST盛屯  5.550       2.78      -13048991.0           8\n",
      "已更新监控页面 -> stock_realtime_monitor.html\n"
     ]
    },
    {
     "name": "stderr",
     "output_type": "stream",
     "text": [
      "C:\\Users\\charl\\AppData\\Local\\Temp\\ipykernel_65656\\701453132.py:104: FutureWarning: Styler.applymap has been deprecated. Use Styler.map instead.\n",
      "  .applymap(style_predictions, subset=['prediction'])\n"
     ]
    },
    {
     "name": "stdout",
     "output_type": "stream",
     "text": [
      "最新更新：16:52:30\n",
      "stock_code short_name  price change_pct  main_net_inflow  prediction\n",
      "    600961       株冶集团  9.750       5.86       89664573.0          10\n",
      "    601020       华钰矿业 24.440       2.86       94040044.0           9\n",
      "    600367       红星发展 15.380       4.63       52339353.0           9\n",
      "    002155       湖南黄金  23.52       7.50      307973502.0           9\n",
      "    301368       丰立智能  88.00      -1.35     -133552529.0           9\n",
      "    603198       迎驾贡酒 60.640       2.40       55839439.0           8\n",
      "    605208        永茂泰 15.870      -3.99       12710427.0           9\n",
      "    603993       洛阳钼业  7.700      -1.41       64061269.0           8\n",
      "    000596       古井贡酒 189.17       5.48      -16307812.0           8\n",
      "    600711       ST盛屯  5.550       2.78      -13048991.0           8\n",
      "已更新监控页面 -> stock_realtime_monitor.html\n"
     ]
    },
    {
     "name": "stderr",
     "output_type": "stream",
     "text": [
      "C:\\Users\\charl\\AppData\\Local\\Temp\\ipykernel_65656\\701453132.py:104: FutureWarning: Styler.applymap has been deprecated. Use Styler.map instead.\n",
      "  .applymap(style_predictions, subset=['prediction'])\n"
     ]
    },
    {
     "name": "stdout",
     "output_type": "stream",
     "text": [
      "最新更新：16:52:58\n",
      "stock_code short_name  price change_pct  main_net_inflow  prediction\n",
      "    600961       株冶集团  9.750       5.86       89664573.0          10\n",
      "    601020       华钰矿业 24.440       2.86       94040044.0           9\n",
      "    600367       红星发展 15.380       4.63       52339353.0           9\n",
      "    002155       湖南黄金  23.52       7.50      307973502.0           9\n",
      "    301368       丰立智能  88.00      -1.35     -133552529.0           9\n",
      "    603198       迎驾贡酒 60.640       2.40       55839439.0           8\n",
      "    605208        永茂泰 15.870      -3.99       12710427.0           9\n",
      "    603993       洛阳钼业  7.700      -1.41       64061269.0           8\n",
      "    000596       古井贡酒 189.17       5.48      -16307812.0           8\n",
      "    600711       ST盛屯  5.550       2.78      -13048991.0           8\n",
      "已更新监控页面 -> stock_realtime_monitor.html\n"
     ]
    },
    {
     "name": "stderr",
     "output_type": "stream",
     "text": [
      "C:\\Users\\charl\\AppData\\Local\\Temp\\ipykernel_65656\\701453132.py:104: FutureWarning: Styler.applymap has been deprecated. Use Styler.map instead.\n",
      "  .applymap(style_predictions, subset=['prediction'])\n"
     ]
    },
    {
     "name": "stdout",
     "output_type": "stream",
     "text": [
      "最新更新：16:53:26\n",
      "stock_code short_name  price change_pct  main_net_inflow  prediction\n",
      "    600961       株冶集团  9.750       5.86       89664573.0          10\n",
      "    601020       华钰矿业 24.440       2.86       94040044.0           9\n",
      "    600367       红星发展 15.380       4.63       52339353.0           9\n",
      "    002155       湖南黄金  23.52       7.50      307973502.0           9\n",
      "    301368       丰立智能  88.00      -1.35     -133552529.0           9\n",
      "    603198       迎驾贡酒 60.640       2.40       55839439.0           8\n",
      "    605208        永茂泰 15.870      -3.99       12710427.0           9\n",
      "    603993       洛阳钼业  7.700      -1.41       64061269.0           8\n",
      "    000596       古井贡酒 189.17       5.48      -16307812.0           8\n",
      "    600711       ST盛屯  5.550       2.78      -13048991.0           8\n",
      "已更新监控页面 -> stock_realtime_monitor.html\n"
     ]
    },
    {
     "name": "stderr",
     "output_type": "stream",
     "text": [
      "C:\\Users\\charl\\AppData\\Local\\Temp\\ipykernel_65656\\701453132.py:104: FutureWarning: Styler.applymap has been deprecated. Use Styler.map instead.\n",
      "  .applymap(style_predictions, subset=['prediction'])\n"
     ]
    },
    {
     "name": "stdout",
     "output_type": "stream",
     "text": [
      "最新更新：16:53:59\n",
      "stock_code short_name  price change_pct  main_net_inflow  prediction\n",
      "    600961       株冶集团  9.750       5.86       89664573.0          10\n",
      "    601020       华钰矿业 24.440       2.86       94040044.0           9\n",
      "    600367       红星发展 15.380       4.63       52339353.0           9\n",
      "    002155       湖南黄金  23.52       7.50      307973502.0           9\n",
      "    301368       丰立智能  88.00      -1.35     -133552529.0           9\n",
      "    603198       迎驾贡酒 60.640       2.40       55839439.0           8\n",
      "    605208        永茂泰 15.870      -3.99       12710427.0           9\n",
      "    603993       洛阳钼业  7.700      -1.41       64061269.0           8\n",
      "    000596       古井贡酒 189.17       5.48      -16307812.0           8\n",
      "    600711       ST盛屯  5.550       2.78      -13048991.0           8\n",
      "已更新监控页面 -> stock_realtime_monitor.html\n"
     ]
    },
    {
     "name": "stderr",
     "output_type": "stream",
     "text": [
      "C:\\Users\\charl\\AppData\\Local\\Temp\\ipykernel_65656\\701453132.py:104: FutureWarning: Styler.applymap has been deprecated. Use Styler.map instead.\n",
      "  .applymap(style_predictions, subset=['prediction'])\n"
     ]
    },
    {
     "name": "stdout",
     "output_type": "stream",
     "text": [
      "最新更新：16:54:27\n",
      "stock_code short_name  price change_pct  main_net_inflow  prediction\n",
      "    600961       株冶集团  9.750       5.86       89664573.0          10\n",
      "    601020       华钰矿业 24.440       2.86       94040044.0           9\n",
      "    600367       红星发展 15.380       4.63       52339353.0           9\n",
      "    002155       湖南黄金  23.52       7.50      307973502.0           9\n",
      "    301368       丰立智能  88.00      -1.35     -133552529.0           9\n",
      "    603198       迎驾贡酒 60.640       2.40       55839439.0           8\n",
      "    605208        永茂泰 15.870      -3.99       12710427.0           9\n",
      "    603993       洛阳钼业  7.700      -1.41       64061269.0           8\n",
      "    000596       古井贡酒 189.17       5.48      -16307812.0           8\n",
      "    600711       ST盛屯  5.550       2.78      -13048991.0           8\n",
      "已更新监控页面 -> stock_realtime_monitor.html\n"
     ]
    },
    {
     "name": "stderr",
     "output_type": "stream",
     "text": [
      "C:\\Users\\charl\\AppData\\Local\\Temp\\ipykernel_65656\\701453132.py:104: FutureWarning: Styler.applymap has been deprecated. Use Styler.map instead.\n",
      "  .applymap(style_predictions, subset=['prediction'])\n"
     ]
    },
    {
     "name": "stdout",
     "output_type": "stream",
     "text": [
      "最新更新：16:54:58\n",
      "stock_code short_name  price change_pct  main_net_inflow  prediction\n",
      "    600961       株冶集团  9.750       5.86       89664573.0          10\n",
      "    601020       华钰矿业 24.440       2.86       94040044.0           9\n",
      "    600367       红星发展 15.380       4.63       52339353.0           9\n",
      "    002155       湖南黄金  23.52       7.50      307973502.0           9\n",
      "    301368       丰立智能  88.00      -1.35     -133552529.0           9\n",
      "    603198       迎驾贡酒 60.640       2.40       55839439.0           8\n",
      "    605208        永茂泰 15.870      -3.99       12710427.0           9\n",
      "    603993       洛阳钼业  7.700      -1.41       64061269.0           8\n",
      "    000596       古井贡酒 189.17       5.48      -16307812.0           8\n",
      "    600711       ST盛屯  5.550       2.78      -13048991.0           8\n",
      "已更新监控页面 -> stock_realtime_monitor.html\n"
     ]
    },
    {
     "name": "stderr",
     "output_type": "stream",
     "text": [
      "C:\\Users\\charl\\AppData\\Local\\Temp\\ipykernel_65656\\701453132.py:104: FutureWarning: Styler.applymap has been deprecated. Use Styler.map instead.\n",
      "  .applymap(style_predictions, subset=['prediction'])\n"
     ]
    },
    {
     "name": "stdout",
     "output_type": "stream",
     "text": [
      "最新更新：16:55:28\n",
      "stock_code short_name  price change_pct  main_net_inflow  prediction\n",
      "    600961       株冶集团  9.750       5.86       89664573.0          10\n",
      "    601020       华钰矿业 24.440       2.86       94040044.0           9\n",
      "    600367       红星发展 15.380       4.63       52339353.0           9\n",
      "    002155       湖南黄金  23.52       7.50      307973502.0           9\n",
      "    301368       丰立智能  88.00      -1.35     -133552529.0           9\n",
      "    603198       迎驾贡酒 60.640       2.40       55839439.0           8\n",
      "    605208        永茂泰 15.870      -3.99       12710427.0           9\n",
      "    603993       洛阳钼业  7.700      -1.41       64061269.0           8\n",
      "    000596       古井贡酒 189.17       5.48      -16307812.0           8\n",
      "    600711       ST盛屯  5.550       2.78      -13048991.0           8\n",
      "已更新监控页面 -> stock_realtime_monitor.html\n"
     ]
    },
    {
     "name": "stderr",
     "output_type": "stream",
     "text": [
      "C:\\Users\\charl\\AppData\\Local\\Temp\\ipykernel_65656\\701453132.py:104: FutureWarning: Styler.applymap has been deprecated. Use Styler.map instead.\n",
      "  .applymap(style_predictions, subset=['prediction'])\n"
     ]
    },
    {
     "name": "stdout",
     "output_type": "stream",
     "text": [
      "最新更新：16:55:56\n",
      "stock_code short_name  price change_pct  main_net_inflow  prediction\n",
      "    600961       株冶集团  9.750       5.86       89664573.0          10\n",
      "    601020       华钰矿业 24.440       2.86       94040044.0           9\n",
      "    600367       红星发展 15.380       4.63       52339353.0           9\n",
      "    002155       湖南黄金  23.52       7.50      307973502.0           9\n",
      "    301368       丰立智能  88.00      -1.35     -133552529.0           9\n",
      "    603198       迎驾贡酒 60.640       2.40       55839439.0           8\n",
      "    605208        永茂泰 15.870      -3.99       12710427.0           9\n",
      "    603993       洛阳钼业  7.700      -1.41       64061269.0           8\n",
      "    000596       古井贡酒 189.17       5.48      -16307812.0           8\n",
      "    600711       ST盛屯  5.550       2.78      -13048991.0           8\n",
      "已更新监控页面 -> stock_realtime_monitor.html\n"
     ]
    },
    {
     "name": "stderr",
     "output_type": "stream",
     "text": [
      "C:\\Users\\charl\\AppData\\Local\\Temp\\ipykernel_65656\\701453132.py:104: FutureWarning: Styler.applymap has been deprecated. Use Styler.map instead.\n",
      "  .applymap(style_predictions, subset=['prediction'])\n"
     ]
    },
    {
     "name": "stdout",
     "output_type": "stream",
     "text": [
      "最新更新：16:56:25\n",
      "stock_code short_name  price change_pct  main_net_inflow  prediction\n",
      "    600961       株冶集团  9.750       5.86       89664573.0          10\n",
      "    601020       华钰矿业 24.440       2.86       94040044.0           9\n",
      "    600367       红星发展 15.380       4.63       52339353.0           9\n",
      "    002155       湖南黄金  23.52       7.50      307973502.0           9\n",
      "    301368       丰立智能  88.00      -1.35     -133552529.0           9\n",
      "    603198       迎驾贡酒 60.640       2.40       55839439.0           8\n",
      "    605208        永茂泰 15.870      -3.99       12710427.0           9\n",
      "    603993       洛阳钼业  7.700      -1.41       64061269.0           8\n",
      "    000596       古井贡酒 189.17       5.48      -16307812.0           8\n",
      "    600711       ST盛屯  5.550       2.78      -13048991.0           8\n",
      "已更新监控页面 -> stock_realtime_monitor.html\n"
     ]
    },
    {
     "name": "stderr",
     "output_type": "stream",
     "text": [
      "C:\\Users\\charl\\AppData\\Local\\Temp\\ipykernel_65656\\701453132.py:104: FutureWarning: Styler.applymap has been deprecated. Use Styler.map instead.\n",
      "  .applymap(style_predictions, subset=['prediction'])\n"
     ]
    },
    {
     "name": "stdout",
     "output_type": "stream",
     "text": [
      "最新更新：16:56:56\n",
      "stock_code short_name  price change_pct  main_net_inflow  prediction\n",
      "    600961       株冶集团  9.750       5.86       89664573.0          10\n",
      "    601020       华钰矿业 24.440       2.86       94040044.0           9\n",
      "    600367       红星发展 15.380       4.63       52339353.0           9\n",
      "    002155       湖南黄金  23.52       7.50      307973502.0           9\n",
      "    301368       丰立智能  88.00      -1.35     -133552529.0           9\n",
      "    603198       迎驾贡酒 60.640       2.40       55839439.0           8\n",
      "    605208        永茂泰 15.870      -3.99       12710427.0           9\n",
      "    603993       洛阳钼业  7.700      -1.41       64061269.0           8\n",
      "    000596       古井贡酒 189.17       5.48      -16307812.0           8\n",
      "    600711       ST盛屯  5.550       2.78      -13048991.0           8\n",
      "已更新监控页面 -> stock_realtime_monitor.html\n"
     ]
    },
    {
     "name": "stderr",
     "output_type": "stream",
     "text": [
      "C:\\Users\\charl\\AppData\\Local\\Temp\\ipykernel_65656\\701453132.py:104: FutureWarning: Styler.applymap has been deprecated. Use Styler.map instead.\n",
      "  .applymap(style_predictions, subset=['prediction'])\n"
     ]
    },
    {
     "name": "stdout",
     "output_type": "stream",
     "text": [
      "最新更新：16:57:26\n",
      "stock_code short_name  price change_pct  main_net_inflow  prediction\n",
      "    600961       株冶集团  9.750       5.86       89664573.0          10\n",
      "    601020       华钰矿业 24.440       2.86       94040044.0           9\n",
      "    600367       红星发展 15.380       4.63       52339353.0           9\n",
      "    002155       湖南黄金  23.52       7.50      307973502.0           9\n",
      "    301368       丰立智能  88.00      -1.35     -133552529.0           9\n",
      "    603198       迎驾贡酒 60.640       2.40       55839439.0           8\n",
      "    605208        永茂泰 15.870      -3.99       12710427.0           9\n",
      "    603993       洛阳钼业  7.700      -1.41       64061269.0           8\n",
      "    000596       古井贡酒 189.17       5.48      -16307812.0           8\n",
      "    600711       ST盛屯  5.550       2.78      -13048991.0           8\n",
      "已更新监控页面 -> stock_realtime_monitor.html\n"
     ]
    },
    {
     "name": "stderr",
     "output_type": "stream",
     "text": [
      "C:\\Users\\charl\\AppData\\Local\\Temp\\ipykernel_65656\\701453132.py:104: FutureWarning: Styler.applymap has been deprecated. Use Styler.map instead.\n",
      "  .applymap(style_predictions, subset=['prediction'])\n"
     ]
    },
    {
     "name": "stdout",
     "output_type": "stream",
     "text": [
      "最新更新：16:57:57\n",
      "stock_code short_name  price change_pct  main_net_inflow  prediction\n",
      "    600961       株冶集团  9.750       5.86       89664573.0          10\n",
      "    601020       华钰矿业 24.440       2.86       94040044.0           9\n",
      "    600367       红星发展 15.380       4.63       52339353.0           9\n",
      "    002155       湖南黄金  23.52       7.50      307973502.0           9\n",
      "    301368       丰立智能  88.00      -1.35     -133552529.0           9\n",
      "    603198       迎驾贡酒 60.640       2.40       55839439.0           8\n",
      "    605208        永茂泰 15.870      -3.99       12710427.0           9\n",
      "    603993       洛阳钼业  7.700      -1.41       64061269.0           8\n",
      "    000596       古井贡酒 189.17       5.48      -16307812.0           8\n",
      "    600711       ST盛屯  5.550       2.78      -13048991.0           8\n",
      "已更新监控页面 -> stock_realtime_monitor.html\n"
     ]
    },
    {
     "name": "stderr",
     "output_type": "stream",
     "text": [
      "C:\\Users\\charl\\AppData\\Local\\Temp\\ipykernel_65656\\701453132.py:104: FutureWarning: Styler.applymap has been deprecated. Use Styler.map instead.\n",
      "  .applymap(style_predictions, subset=['prediction'])\n"
     ]
    },
    {
     "name": "stdout",
     "output_type": "stream",
     "text": [
      "最新更新：16:58:28\n",
      "stock_code short_name  price change_pct  main_net_inflow  prediction\n",
      "    600961       株冶集团  9.750       5.86       89664573.0          10\n",
      "    601020       华钰矿业 24.440       2.86       94040044.0           9\n",
      "    600367       红星发展 15.380       4.63       52339353.0           9\n",
      "    002155       湖南黄金  23.52       7.50      307973502.0           9\n",
      "    301368       丰立智能  88.00      -1.35     -133552529.0           9\n",
      "    603198       迎驾贡酒 60.640       2.40       55839439.0           8\n",
      "    605208        永茂泰 15.870      -3.99       12710427.0           9\n",
      "    603993       洛阳钼业  7.700      -1.41       64061269.0           8\n",
      "    000596       古井贡酒 189.17       5.48      -16307812.0           8\n",
      "    600711       ST盛屯  5.550       2.78      -13048991.0           8\n",
      "已更新监控页面 -> stock_realtime_monitor.html\n"
     ]
    },
    {
     "name": "stderr",
     "output_type": "stream",
     "text": [
      "C:\\Users\\charl\\AppData\\Local\\Temp\\ipykernel_65656\\701453132.py:104: FutureWarning: Styler.applymap has been deprecated. Use Styler.map instead.\n",
      "  .applymap(style_predictions, subset=['prediction'])\n"
     ]
    },
    {
     "name": "stdout",
     "output_type": "stream",
     "text": [
      "最新更新：16:58:59\n",
      "stock_code short_name  price change_pct  main_net_inflow  prediction\n",
      "    600961       株冶集团  9.750       5.86       89664573.0          10\n",
      "    601020       华钰矿业 24.440       2.86       94040044.0           9\n",
      "    600367       红星发展 15.380       4.63       52339353.0           9\n",
      "    002155       湖南黄金  23.52       7.50      307973502.0           9\n",
      "    301368       丰立智能  88.00      -1.35     -133552529.0           9\n",
      "    603198       迎驾贡酒 60.640       2.40       55839439.0           8\n",
      "    605208        永茂泰 15.870      -3.99       12710427.0           9\n",
      "    603993       洛阳钼业  7.700      -1.41       64061269.0           8\n",
      "    000596       古井贡酒 189.17       5.48      -16307812.0           8\n",
      "    600711       ST盛屯  5.550       2.78      -13048991.0           8\n",
      "已更新监控页面 -> stock_realtime_monitor.html\n"
     ]
    },
    {
     "name": "stderr",
     "output_type": "stream",
     "text": [
      "C:\\Users\\charl\\AppData\\Local\\Temp\\ipykernel_65656\\701453132.py:104: FutureWarning: Styler.applymap has been deprecated. Use Styler.map instead.\n",
      "  .applymap(style_predictions, subset=['prediction'])\n"
     ]
    },
    {
     "name": "stdout",
     "output_type": "stream",
     "text": [
      "最新更新：16:59:29\n",
      "stock_code short_name  price change_pct  main_net_inflow  prediction\n",
      "    600961       株冶集团  9.750       5.86       89664573.0          10\n",
      "    601020       华钰矿业 24.440       2.86       94040044.0           9\n",
      "    600367       红星发展 15.380       4.63       52339353.0           9\n",
      "    002155       湖南黄金  23.52       7.50      307973502.0           9\n",
      "    301368       丰立智能  88.00      -1.35     -133552529.0           9\n",
      "    603198       迎驾贡酒 60.640       2.40       55839439.0           8\n",
      "    605208        永茂泰 15.870      -3.99       12710427.0           9\n",
      "    603993       洛阳钼业  7.700      -1.41       64061269.0           8\n",
      "    000596       古井贡酒 189.17       5.48      -16307812.0           8\n",
      "    600711       ST盛屯  5.550       2.78      -13048991.0           8\n",
      "已更新监控页面 -> stock_realtime_monitor.html\n"
     ]
    },
    {
     "name": "stderr",
     "output_type": "stream",
     "text": [
      "C:\\Users\\charl\\AppData\\Local\\Temp\\ipykernel_65656\\701453132.py:104: FutureWarning: Styler.applymap has been deprecated. Use Styler.map instead.\n",
      "  .applymap(style_predictions, subset=['prediction'])\n"
     ]
    },
    {
     "name": "stdout",
     "output_type": "stream",
     "text": [
      "最新更新：16:59:59\n",
      "stock_code short_name  price change_pct  main_net_inflow  prediction\n",
      "    600961       株冶集团  9.750       5.86       89664573.0          10\n",
      "    601020       华钰矿业 24.440       2.86       94040044.0           9\n",
      "    600367       红星发展 15.380       4.63       52339353.0           9\n",
      "    002155       湖南黄金  23.52       7.50      307973502.0           9\n",
      "    301368       丰立智能  88.00      -1.35     -133552529.0           9\n",
      "    603198       迎驾贡酒 60.640       2.40       55839439.0           8\n",
      "    605208        永茂泰 15.870      -3.99       12710427.0           9\n",
      "    603993       洛阳钼业  7.700      -1.41       64061269.0           8\n",
      "    000596       古井贡酒 189.17       5.48      -16307812.0           8\n",
      "    600711       ST盛屯  5.550       2.78      -13048991.0           8\n",
      "已更新监控页面 -> stock_realtime_monitor.html\n"
     ]
    },
    {
     "name": "stderr",
     "output_type": "stream",
     "text": [
      "C:\\Users\\charl\\AppData\\Local\\Temp\\ipykernel_65656\\701453132.py:104: FutureWarning: Styler.applymap has been deprecated. Use Styler.map instead.\n",
      "  .applymap(style_predictions, subset=['prediction'])\n"
     ]
    },
    {
     "name": "stdout",
     "output_type": "stream",
     "text": [
      "最新更新：17:00:29\n",
      "stock_code short_name  price change_pct  main_net_inflow  prediction\n",
      "    600961       株冶集团  9.750       5.86       89664573.0          10\n",
      "    601020       华钰矿业 24.440       2.86       94040044.0           9\n",
      "    600367       红星发展 15.380       4.63       52339353.0           9\n",
      "    002155       湖南黄金  23.52       7.50      307973502.0           9\n",
      "    301368       丰立智能  88.00      -1.35     -133552529.0           9\n",
      "    603198       迎驾贡酒 60.640       2.40       55839439.0           8\n",
      "    605208        永茂泰 15.870      -3.99       12710427.0           9\n",
      "    603993       洛阳钼业  7.700      -1.41       64061269.0           8\n",
      "    000596       古井贡酒 189.17       5.48      -16307812.0           8\n",
      "    600711       ST盛屯  5.550       2.78      -13048991.0           8\n",
      "已更新监控页面 -> stock_realtime_monitor.html\n"
     ]
    },
    {
     "name": "stderr",
     "output_type": "stream",
     "text": [
      "C:\\Users\\charl\\AppData\\Local\\Temp\\ipykernel_65656\\701453132.py:104: FutureWarning: Styler.applymap has been deprecated. Use Styler.map instead.\n",
      "  .applymap(style_predictions, subset=['prediction'])\n"
     ]
    },
    {
     "name": "stdout",
     "output_type": "stream",
     "text": [
      "最新更新：17:00:59\n",
      "stock_code short_name  price change_pct  main_net_inflow  prediction\n",
      "    600961       株冶集团  9.750       5.86       89664573.0          10\n",
      "    601020       华钰矿业 24.440       2.86       94040044.0           9\n",
      "    600367       红星发展 15.380       4.63       52339353.0           9\n",
      "    002155       湖南黄金  23.52       7.50      307973502.0           9\n",
      "    301368       丰立智能  88.00      -1.35     -133552529.0           9\n",
      "    603198       迎驾贡酒 60.640       2.40       55839439.0           8\n",
      "    605208        永茂泰 15.870      -3.99       12710427.0           9\n",
      "    603993       洛阳钼业  7.700      -1.41       64061269.0           8\n",
      "    000596       古井贡酒 189.17       5.48      -16307812.0           8\n",
      "    600711       ST盛屯  5.550       2.78      -13048991.0           8\n",
      "已更新监控页面 -> stock_realtime_monitor.html\n"
     ]
    },
    {
     "name": "stderr",
     "output_type": "stream",
     "text": [
      "C:\\Users\\charl\\AppData\\Local\\Temp\\ipykernel_65656\\701453132.py:104: FutureWarning: Styler.applymap has been deprecated. Use Styler.map instead.\n",
      "  .applymap(style_predictions, subset=['prediction'])\n"
     ]
    },
    {
     "name": "stdout",
     "output_type": "stream",
     "text": [
      "获取603993资金流数据失败: HTTPSConnectionPool(host='push2.eastmoney.com', port=443): Max retries exceeded with url: /api/qt/stock/fflow/kline/get?lmt=0&klt=1&fields1=f1,f2,f3,f7&fields2=f51,f52,f53,f54,f55,f56,f57,f58,f59,f60,f61,f62,f63,f64,f65&secid=1.603993 (Caused by ConnectTimeoutError(<urllib3.connection.HTTPSConnection object at 0x00000188EED705D0>, 'Connection to push2.eastmoney.com timed out. (connect timeout=None)'))\n",
      "最新更新：17:01:48\n",
      "stock_code short_name  price change_pct  main_net_inflow  prediction\n",
      "    600961       株冶集团  9.750       5.86       89664573.0          10\n",
      "    601020       华钰矿业 24.440       2.86       94040044.0           9\n",
      "    600367       红星发展 15.380       4.63       52339353.0           9\n",
      "    002155       湖南黄金  23.52       7.50      307973502.0           9\n",
      "    301368       丰立智能  88.00      -1.35     -133552529.0           9\n",
      "    603198       迎驾贡酒 60.640       2.40       55839439.0           8\n",
      "    605208        永茂泰 15.870      -3.99       12710427.0           9\n",
      "    603993       洛阳钼业  7.700      -1.41              NaN           8\n",
      "    000596       古井贡酒 189.17       5.48      -16307812.0           8\n",
      "    600711       ST盛屯  5.550       2.78      -13048991.0           8\n",
      "已更新监控页面 -> stock_realtime_monitor.html\n"
     ]
    },
    {
     "name": "stderr",
     "output_type": "stream",
     "text": [
      "C:\\Users\\charl\\AppData\\Local\\Temp\\ipykernel_65656\\701453132.py:104: FutureWarning: Styler.applymap has been deprecated. Use Styler.map instead.\n",
      "  .applymap(style_predictions, subset=['prediction'])\n"
     ]
    },
    {
     "name": "stdout",
     "output_type": "stream",
     "text": [
      "最新更新：17:02:30\n",
      "stock_code short_name  price change_pct  main_net_inflow  prediction\n",
      "    600961       株冶集团  9.750       5.86       89664573.0          10\n",
      "    601020       华钰矿业 24.440       2.86       94040044.0           9\n",
      "    600367       红星发展 15.380       4.63       52339353.0           9\n",
      "    002155       湖南黄金  23.52       7.50      307973502.0           9\n",
      "    301368       丰立智能  88.00      -1.35     -133552529.0           9\n",
      "    603198       迎驾贡酒 60.640       2.40       55839439.0           8\n",
      "    605208        永茂泰 15.870      -3.99       12710427.0           9\n",
      "    603993       洛阳钼业  7.700      -1.41       64061269.0           8\n",
      "    000596       古井贡酒 189.17       5.48      -16307812.0           8\n",
      "    600711       ST盛屯  5.550       2.78      -13048991.0           8\n",
      "已更新监控页面 -> stock_realtime_monitor.html\n"
     ]
    },
    {
     "name": "stderr",
     "output_type": "stream",
     "text": [
      "C:\\Users\\charl\\AppData\\Local\\Temp\\ipykernel_65656\\701453132.py:104: FutureWarning: Styler.applymap has been deprecated. Use Styler.map instead.\n",
      "  .applymap(style_predictions, subset=['prediction'])\n"
     ]
    },
    {
     "name": "stdout",
     "output_type": "stream",
     "text": [
      "最新更新：17:02:59\n",
      "stock_code short_name  price change_pct  main_net_inflow  prediction\n",
      "    600961       株冶集团  9.750       5.86       89664573.0          10\n",
      "    601020       华钰矿业 24.440       2.86       94040044.0           9\n",
      "    600367       红星发展 15.380       4.63       52339353.0           9\n",
      "    002155       湖南黄金  23.52       7.50      307973502.0           9\n",
      "    301368       丰立智能  88.00      -1.35     -133552529.0           9\n",
      "    603198       迎驾贡酒 60.640       2.40       55839439.0           8\n",
      "    605208        永茂泰 15.870      -3.99       12710427.0           9\n",
      "    603993       洛阳钼业  7.700      -1.41       64061269.0           8\n",
      "    000596       古井贡酒 189.17       5.48      -16307812.0           8\n",
      "    600711       ST盛屯  5.550       2.78      -13048991.0           8\n",
      "已更新监控页面 -> stock_realtime_monitor.html\n"
     ]
    },
    {
     "name": "stderr",
     "output_type": "stream",
     "text": [
      "C:\\Users\\charl\\AppData\\Local\\Temp\\ipykernel_65656\\701453132.py:104: FutureWarning: Styler.applymap has been deprecated. Use Styler.map instead.\n",
      "  .applymap(style_predictions, subset=['prediction'])\n"
     ]
    },
    {
     "name": "stdout",
     "output_type": "stream",
     "text": [
      "获取603198资金流数据失败: HTTPSConnectionPool(host='push2delay.eastmoney.com', port=443): Max retries exceeded with url: /api/qt/stock/fflow/kline/get?lmt=0&klt=1&fields1=f1,f2,f3,f7&fields2=f51,f52,f53,f54,f55,f56,f57,f58,f59,f60,f61,f62,f63,f64,f65&secid=1.603198 (Caused by ConnectTimeoutError(<urllib3.connection.HTTPSConnection object at 0x00000188EE8A4E50>, 'Connection to push2delay.eastmoney.com timed out. (connect timeout=None)'))\n",
      "最新更新：17:03:48\n",
      "stock_code short_name  price change_pct  main_net_inflow  prediction\n",
      "    600961       株冶集团  9.750       5.86       89664573.0          10\n",
      "    601020       华钰矿业 24.440       2.86       94040044.0           9\n",
      "    600367       红星发展 15.380       4.63       52339353.0           9\n",
      "    002155       湖南黄金  23.52       7.50      307973502.0           9\n",
      "    301368       丰立智能  88.00      -1.35     -133552529.0           9\n",
      "    603198       迎驾贡酒 60.640       2.40              NaN           8\n",
      "    605208        永茂泰 15.870      -3.99       12710427.0           9\n",
      "    603993       洛阳钼业  7.700      -1.41       64061269.0           8\n",
      "    000596       古井贡酒 189.17       5.48      -16307812.0           8\n",
      "    600711       ST盛屯  5.550       2.78      -13048991.0           8\n",
      "已更新监控页面 -> stock_realtime_monitor.html\n"
     ]
    },
    {
     "name": "stderr",
     "output_type": "stream",
     "text": [
      "C:\\Users\\charl\\AppData\\Local\\Temp\\ipykernel_65656\\701453132.py:104: FutureWarning: Styler.applymap has been deprecated. Use Styler.map instead.\n",
      "  .applymap(style_predictions, subset=['prediction'])\n"
     ]
    },
    {
     "name": "stdout",
     "output_type": "stream",
     "text": [
      "最新更新：17:04:29\n",
      "stock_code short_name  price change_pct  main_net_inflow  prediction\n",
      "    600961       株冶集团  9.750       5.86       89664573.0          10\n",
      "    601020       华钰矿业 24.440       2.86       94040044.0           9\n",
      "    600367       红星发展 15.380       4.63       52339353.0           9\n",
      "    002155       湖南黄金  23.52       7.50      307973502.0           9\n",
      "    301368       丰立智能  88.00      -1.35     -133552529.0           9\n",
      "    603198       迎驾贡酒 60.640       2.40       55839439.0           8\n",
      "    605208        永茂泰 15.870      -3.99       12710427.0           9\n",
      "    603993       洛阳钼业  7.700      -1.41       64061269.0           8\n",
      "    000596       古井贡酒 189.17       5.48      -16307812.0           8\n",
      "    600711       ST盛屯  5.550       2.78      -13048991.0           8\n",
      "已更新监控页面 -> stock_realtime_monitor.html\n"
     ]
    },
    {
     "name": "stderr",
     "output_type": "stream",
     "text": [
      "C:\\Users\\charl\\AppData\\Local\\Temp\\ipykernel_65656\\701453132.py:104: FutureWarning: Styler.applymap has been deprecated. Use Styler.map instead.\n",
      "  .applymap(style_predictions, subset=['prediction'])\n"
     ]
    },
    {
     "name": "stdout",
     "output_type": "stream",
     "text": [
      "最新更新：17:05:00\n",
      "stock_code short_name  price change_pct  main_net_inflow  prediction\n",
      "    600961       株冶集团  9.750       5.86       89664573.0          10\n",
      "    601020       华钰矿业 24.440       2.86       94040044.0           9\n",
      "    600367       红星发展 15.380       4.63       52339353.0           9\n",
      "    002155       湖南黄金  23.52       7.50      307973502.0           9\n",
      "    301368       丰立智能  88.00      -1.35     -133552529.0           9\n",
      "    603198       迎驾贡酒 60.640       2.40       55839439.0           8\n",
      "    605208        永茂泰 15.870      -3.99       12710427.0           9\n",
      "    603993       洛阳钼业  7.700      -1.41       64061269.0           8\n",
      "    000596       古井贡酒 189.17       5.48      -16307812.0           8\n",
      "    600711       ST盛屯  5.550       2.78      -13048991.0           8\n",
      "已更新监控页面 -> stock_realtime_monitor.html\n"
     ]
    },
    {
     "name": "stderr",
     "output_type": "stream",
     "text": [
      "C:\\Users\\charl\\AppData\\Local\\Temp\\ipykernel_65656\\701453132.py:104: FutureWarning: Styler.applymap has been deprecated. Use Styler.map instead.\n",
      "  .applymap(style_predictions, subset=['prediction'])\n"
     ]
    },
    {
     "name": "stdout",
     "output_type": "stream",
     "text": [
      "最新更新：17:05:30\n",
      "stock_code short_name  price change_pct  main_net_inflow  prediction\n",
      "    600961       株冶集团  9.750       5.86       89664573.0          10\n",
      "    601020       华钰矿业 24.440       2.86       94040044.0           9\n",
      "    600367       红星发展 15.380       4.63       52339353.0           9\n",
      "    002155       湖南黄金  23.52       7.50      307973502.0           9\n",
      "    301368       丰立智能  88.00      -1.35     -133552529.0           9\n",
      "    603198       迎驾贡酒 60.640       2.40       55839439.0           8\n",
      "    605208        永茂泰 15.870      -3.99       12710427.0           9\n",
      "    603993       洛阳钼业  7.700      -1.41       64061269.0           8\n",
      "    000596       古井贡酒 189.17       5.48      -16307812.0           8\n",
      "    600711       ST盛屯  5.550       2.78      -13048991.0           8\n",
      "已更新监控页面 -> stock_realtime_monitor.html\n"
     ]
    },
    {
     "name": "stderr",
     "output_type": "stream",
     "text": [
      "C:\\Users\\charl\\AppData\\Local\\Temp\\ipykernel_65656\\701453132.py:104: FutureWarning: Styler.applymap has been deprecated. Use Styler.map instead.\n",
      "  .applymap(style_predictions, subset=['prediction'])\n"
     ]
    },
    {
     "name": "stdout",
     "output_type": "stream",
     "text": [
      "最新更新：17:05:58\n",
      "stock_code short_name  price change_pct  main_net_inflow  prediction\n",
      "    600961       株冶集团  9.750       5.86       89664573.0          10\n",
      "    601020       华钰矿业 24.440       2.86       94040044.0           9\n",
      "    600367       红星发展 15.380       4.63       52339353.0           9\n",
      "    002155       湖南黄金  23.52       7.50      307973502.0           9\n",
      "    301368       丰立智能  88.00      -1.35     -133552529.0           9\n",
      "    603198       迎驾贡酒 60.640       2.40       55839439.0           8\n",
      "    605208        永茂泰 15.870      -3.99       12710427.0           9\n",
      "    603993       洛阳钼业  7.700      -1.41       64061269.0           8\n",
      "    000596       古井贡酒 189.17       5.48      -16307812.0           8\n",
      "    600711       ST盛屯  5.550       2.78      -13048991.0           8\n",
      "已更新监控页面 -> stock_realtime_monitor.html\n"
     ]
    },
    {
     "name": "stderr",
     "output_type": "stream",
     "text": [
      "C:\\Users\\charl\\AppData\\Local\\Temp\\ipykernel_65656\\701453132.py:104: FutureWarning: Styler.applymap has been deprecated. Use Styler.map instead.\n",
      "  .applymap(style_predictions, subset=['prediction'])\n"
     ]
    },
    {
     "name": "stdout",
     "output_type": "stream",
     "text": [
      "最新更新：17:06:28\n",
      "stock_code short_name  price change_pct  main_net_inflow  prediction\n",
      "    600961       株冶集团  9.750       5.86       89664573.0          10\n",
      "    601020       华钰矿业 24.440       2.86       94040044.0           9\n",
      "    600367       红星发展 15.380       4.63       52339353.0           9\n",
      "    002155       湖南黄金  23.52       7.50      307973502.0           9\n",
      "    301368       丰立智能  88.00      -1.35     -133552529.0           9\n",
      "    603198       迎驾贡酒 60.640       2.40       55839439.0           8\n",
      "    605208        永茂泰 15.870      -3.99       12710427.0           9\n",
      "    603993       洛阳钼业  7.700      -1.41       64061269.0           8\n",
      "    000596       古井贡酒 189.17       5.48      -16307812.0           8\n",
      "    600711       ST盛屯  5.550       2.78      -13048991.0           8\n",
      "已更新监控页面 -> stock_realtime_monitor.html\n"
     ]
    },
    {
     "name": "stderr",
     "output_type": "stream",
     "text": [
      "C:\\Users\\charl\\AppData\\Local\\Temp\\ipykernel_65656\\701453132.py:104: FutureWarning: Styler.applymap has been deprecated. Use Styler.map instead.\n",
      "  .applymap(style_predictions, subset=['prediction'])\n"
     ]
    },
    {
     "name": "stdout",
     "output_type": "stream",
     "text": [
      "最新更新：17:06:59\n",
      "stock_code short_name  price change_pct  main_net_inflow  prediction\n",
      "    600961       株冶集团  9.750       5.86       89664573.0          10\n",
      "    601020       华钰矿业 24.440       2.86       94040044.0           9\n",
      "    600367       红星发展 15.380       4.63       52339353.0           9\n",
      "    002155       湖南黄金  23.52       7.50      307973502.0           9\n",
      "    301368       丰立智能  88.00      -1.35     -133552529.0           9\n",
      "    603198       迎驾贡酒 60.640       2.40       55839439.0           8\n",
      "    605208        永茂泰 15.870      -3.99       12710427.0           9\n",
      "    603993       洛阳钼业  7.700      -1.41       64061269.0           8\n",
      "    000596       古井贡酒 189.17       5.48      -16307812.0           8\n",
      "    600711       ST盛屯  5.550       2.78      -13048991.0           8\n",
      "已更新监控页面 -> stock_realtime_monitor.html\n"
     ]
    },
    {
     "name": "stderr",
     "output_type": "stream",
     "text": [
      "C:\\Users\\charl\\AppData\\Local\\Temp\\ipykernel_65656\\701453132.py:104: FutureWarning: Styler.applymap has been deprecated. Use Styler.map instead.\n",
      "  .applymap(style_predictions, subset=['prediction'])\n"
     ]
    },
    {
     "name": "stdout",
     "output_type": "stream",
     "text": [
      "最新更新：17:07:27\n",
      "stock_code short_name  price change_pct  main_net_inflow  prediction\n",
      "    600961       株冶集团  9.750       5.86       89664573.0          10\n",
      "    601020       华钰矿业 24.440       2.86       94040044.0           9\n",
      "    600367       红星发展 15.380       4.63       52339353.0           9\n",
      "    002155       湖南黄金  23.52       7.50      307973502.0           9\n",
      "    301368       丰立智能  88.00      -1.35     -133552529.0           9\n",
      "    603198       迎驾贡酒 60.640       2.40       55839439.0           8\n",
      "    605208        永茂泰 15.870      -3.99       12710427.0           9\n",
      "    603993       洛阳钼业  7.700      -1.41       64061269.0           8\n",
      "    000596       古井贡酒 189.17       5.48      -16307812.0           8\n",
      "    600711       ST盛屯  5.550       2.78      -13048991.0           8\n",
      "已更新监控页面 -> stock_realtime_monitor.html\n"
     ]
    },
    {
     "name": "stderr",
     "output_type": "stream",
     "text": [
      "C:\\Users\\charl\\AppData\\Local\\Temp\\ipykernel_65656\\701453132.py:104: FutureWarning: Styler.applymap has been deprecated. Use Styler.map instead.\n",
      "  .applymap(style_predictions, subset=['prediction'])\n"
     ]
    },
    {
     "name": "stdout",
     "output_type": "stream",
     "text": [
      "获取601020资金流数据失败: HTTPSConnectionPool(host='push2.eastmoney.com', port=443): Max retries exceeded with url: /api/qt/stock/fflow/kline/get?lmt=0&klt=1&fields1=f1,f2,f3,f7&fields2=f51,f52,f53,f54,f55,f56,f57,f58,f59,f60,f61,f62,f63,f64,f65&secid=1.601020 (Caused by ConnectTimeoutError(<urllib3.connection.HTTPSConnection object at 0x00000188EF0652D0>, 'Connection to push2.eastmoney.com timed out. (connect timeout=None)'))\n",
      "最新更新：17:08:18\n",
      "stock_code short_name  price change_pct  main_net_inflow  prediction\n",
      "    600961       株冶集团  9.750       5.86       89664573.0          10\n",
      "    601020       华钰矿业 24.440       2.86              NaN           9\n",
      "    600367       红星发展 15.380       4.63       52339353.0           9\n",
      "    002155       湖南黄金  23.52       7.50      307973502.0           9\n",
      "    301368       丰立智能  88.00      -1.35     -133552529.0           9\n",
      "    603198       迎驾贡酒 60.640       2.40       55839439.0           8\n",
      "    605208        永茂泰 15.870      -3.99       12710427.0           9\n",
      "    603993       洛阳钼业  7.700      -1.41       64061269.0           8\n",
      "    000596       古井贡酒 189.17       5.48      -16307812.0           8\n",
      "    600711       ST盛屯  5.550       2.78      -13048991.0           8\n",
      "已更新监控页面 -> stock_realtime_monitor.html\n"
     ]
    },
    {
     "name": "stderr",
     "output_type": "stream",
     "text": [
      "C:\\Users\\charl\\AppData\\Local\\Temp\\ipykernel_65656\\701453132.py:104: FutureWarning: Styler.applymap has been deprecated. Use Styler.map instead.\n",
      "  .applymap(style_predictions, subset=['prediction'])\n"
     ]
    },
    {
     "name": "stdout",
     "output_type": "stream",
     "text": [
      "获取600961资金流数据失败: HTTPSConnectionPool(host='push2.eastmoney.com', port=443): Max retries exceeded with url: /api/qt/stock/fflow/kline/get?lmt=0&klt=1&fields1=f1,f2,f3,f7&fields2=f51,f52,f53,f54,f55,f56,f57,f58,f59,f60,f61,f62,f63,f64,f65&secid=1.600961 (Caused by ConnectTimeoutError(<urllib3.connection.HTTPSConnection object at 0x00000188EF210E90>, 'Connection to push2.eastmoney.com timed out. (connect timeout=None)'))\n",
      "获取603198资金流数据失败: HTTPSConnectionPool(host='push2delay.eastmoney.com', port=443): Max retries exceeded with url: /api/qt/stock/fflow/kline/get?lmt=0&klt=1&fields1=f1,f2,f3,f7&fields2=f51,f52,f53,f54,f55,f56,f57,f58,f59,f60,f61,f62,f63,f64,f65&secid=1.603198 (Caused by ConnectTimeoutError(<urllib3.connection.HTTPSConnection object at 0x00000188EF246550>, 'Connection to push2delay.eastmoney.com timed out. (connect timeout=None)'))\n",
      "最新更新：17:09:39\n",
      "stock_code short_name  price change_pct  main_net_inflow  prediction\n",
      "    600961       株冶集团  9.750       5.86              NaN          10\n",
      "    601020       华钰矿业 24.440       2.86       94040044.0           9\n",
      "    600367       红星发展 15.380       4.63       52339353.0           9\n",
      "    002155       湖南黄金  23.52       7.50      307973502.0           9\n",
      "    301368       丰立智能  88.00      -1.35     -133552529.0           9\n",
      "    603198       迎驾贡酒 60.640       2.40              NaN           8\n",
      "    605208        永茂泰 15.870      -3.99       12710427.0           9\n",
      "    603993       洛阳钼业  7.700      -1.41       64061269.0           8\n",
      "    000596       古井贡酒 189.17       5.48      -16307812.0           8\n",
      "    600711       ST盛屯  5.550       2.78      -13048991.0           8\n",
      "已更新监控页面 -> stock_realtime_monitor.html\n"
     ]
    },
    {
     "name": "stderr",
     "output_type": "stream",
     "text": [
      "C:\\Users\\charl\\AppData\\Local\\Temp\\ipykernel_65656\\701453132.py:104: FutureWarning: Styler.applymap has been deprecated. Use Styler.map instead.\n",
      "  .applymap(style_predictions, subset=['prediction'])\n"
     ]
    },
    {
     "name": "stdout",
     "output_type": "stream",
     "text": [
      "最新更新：17:10:00\n",
      "stock_code short_name  price change_pct  main_net_inflow  prediction\n",
      "    600961       株冶集团  9.750       5.86       89664573.0          10\n",
      "    601020       华钰矿业 24.440       2.86       94040044.0           9\n",
      "    600367       红星发展 15.380       4.63       52339353.0           9\n",
      "    002155       湖南黄金  23.52       7.50      307973502.0           9\n",
      "    301368       丰立智能  88.00      -1.35     -133552529.0           9\n",
      "    603198       迎驾贡酒 60.640       2.40       55839439.0           8\n",
      "    605208        永茂泰 15.870      -3.99       12710427.0           9\n",
      "    603993       洛阳钼业  7.700      -1.41       64061269.0           8\n",
      "    000596       古井贡酒 189.17       5.48      -16307812.0           8\n",
      "    600711       ST盛屯  5.550       2.78      -13048991.0           8\n",
      "已更新监控页面 -> stock_realtime_monitor.html\n"
     ]
    },
    {
     "name": "stderr",
     "output_type": "stream",
     "text": [
      "C:\\Users\\charl\\AppData\\Local\\Temp\\ipykernel_65656\\701453132.py:104: FutureWarning: Styler.applymap has been deprecated. Use Styler.map instead.\n",
      "  .applymap(style_predictions, subset=['prediction'])\n"
     ]
    },
    {
     "name": "stdout",
     "output_type": "stream",
     "text": [
      "最新更新：17:10:26\n",
      "stock_code short_name  price change_pct  main_net_inflow  prediction\n",
      "    600961       株冶集团  9.750       5.86       89664573.0          10\n",
      "    601020       华钰矿业 24.440       2.86       94040044.0           9\n",
      "    600367       红星发展 15.380       4.63       52339353.0           9\n",
      "    002155       湖南黄金  23.52       7.50      307973502.0           9\n",
      "    301368       丰立智能  88.00      -1.35     -133552529.0           9\n",
      "    603198       迎驾贡酒 60.640       2.40       55839439.0           8\n",
      "    605208        永茂泰 15.870      -3.99       12710427.0           9\n",
      "    603993       洛阳钼业  7.700      -1.41       64061269.0           8\n",
      "    000596       古井贡酒 189.17       5.48      -16307812.0           8\n",
      "    600711       ST盛屯  5.550       2.78      -13048991.0           8\n",
      "已更新监控页面 -> stock_realtime_monitor.html\n"
     ]
    },
    {
     "name": "stderr",
     "output_type": "stream",
     "text": [
      "C:\\Users\\charl\\AppData\\Local\\Temp\\ipykernel_65656\\701453132.py:104: FutureWarning: Styler.applymap has been deprecated. Use Styler.map instead.\n",
      "  .applymap(style_predictions, subset=['prediction'])\n"
     ]
    },
    {
     "name": "stdout",
     "output_type": "stream",
     "text": [
      "最新更新：17:10:56\n",
      "stock_code short_name  price change_pct  main_net_inflow  prediction\n",
      "    600961       株冶集团  9.750       5.86       89664573.0          10\n",
      "    601020       华钰矿业 24.440       2.86       94040044.0           9\n",
      "    600367       红星发展 15.380       4.63       52339353.0           9\n",
      "    002155       湖南黄金  23.52       7.50      307973502.0           9\n",
      "    301368       丰立智能  88.00      -1.35     -133552529.0           9\n",
      "    603198       迎驾贡酒 60.640       2.40       55839439.0           8\n",
      "    605208        永茂泰 15.870      -3.99       12710427.0           9\n",
      "    603993       洛阳钼业  7.700      -1.41       64061269.0           8\n",
      "    000596       古井贡酒 189.17       5.48      -16307812.0           8\n",
      "    600711       ST盛屯  5.550       2.78      -13048991.0           8\n",
      "已更新监控页面 -> stock_realtime_monitor.html\n"
     ]
    },
    {
     "name": "stderr",
     "output_type": "stream",
     "text": [
      "C:\\Users\\charl\\AppData\\Local\\Temp\\ipykernel_65656\\701453132.py:104: FutureWarning: Styler.applymap has been deprecated. Use Styler.map instead.\n",
      "  .applymap(style_predictions, subset=['prediction'])\n"
     ]
    },
    {
     "name": "stdout",
     "output_type": "stream",
     "text": [
      "最新更新：17:11:27\n",
      "stock_code short_name  price change_pct  main_net_inflow  prediction\n",
      "    600961       株冶集团  9.750       5.86       89664573.0          10\n",
      "    601020       华钰矿业 24.440       2.86       94040044.0           9\n",
      "    600367       红星发展 15.380       4.63       52339353.0           9\n",
      "    002155       湖南黄金  23.52       7.50      307973502.0           9\n",
      "    301368       丰立智能  88.00      -1.35     -133552529.0           9\n",
      "    603198       迎驾贡酒 60.640       2.40       55839439.0           8\n",
      "    605208        永茂泰 15.870      -3.99       12710427.0           9\n",
      "    603993       洛阳钼业  7.700      -1.41       64061269.0           8\n",
      "    000596       古井贡酒 189.17       5.48      -16307812.0           8\n",
      "    600711       ST盛屯  5.550       2.78      -13048991.0           8\n",
      "已更新监控页面 -> stock_realtime_monitor.html\n"
     ]
    },
    {
     "name": "stderr",
     "output_type": "stream",
     "text": [
      "C:\\Users\\charl\\AppData\\Local\\Temp\\ipykernel_65656\\701453132.py:104: FutureWarning: Styler.applymap has been deprecated. Use Styler.map instead.\n",
      "  .applymap(style_predictions, subset=['prediction'])\n"
     ]
    },
    {
     "name": "stdout",
     "output_type": "stream",
     "text": [
      "最新更新：17:11:59\n",
      "stock_code short_name  price change_pct  main_net_inflow  prediction\n",
      "    600961       株冶集团  9.750       5.86       89664573.0          10\n",
      "    601020       华钰矿业 24.440       2.86       94040044.0           9\n",
      "    600367       红星发展 15.380       4.63       52339353.0           9\n",
      "    002155       湖南黄金  23.52       7.50      307973502.0           9\n",
      "    301368       丰立智能  88.00      -1.35     -133552529.0           9\n",
      "    603198       迎驾贡酒 60.640       2.40       55839439.0           8\n",
      "    605208        永茂泰 15.870      -3.99       12710427.0           9\n",
      "    603993       洛阳钼业  7.700      -1.41       64061269.0           8\n",
      "    000596       古井贡酒 189.17       5.48      -16307812.0           8\n",
      "    600711       ST盛屯  5.550       2.78      -13048991.0           8\n",
      "已更新监控页面 -> stock_realtime_monitor.html\n"
     ]
    },
    {
     "name": "stderr",
     "output_type": "stream",
     "text": [
      "C:\\Users\\charl\\AppData\\Local\\Temp\\ipykernel_65656\\701453132.py:104: FutureWarning: Styler.applymap has been deprecated. Use Styler.map instead.\n",
      "  .applymap(style_predictions, subset=['prediction'])\n"
     ]
    },
    {
     "name": "stdout",
     "output_type": "stream",
     "text": [
      "最新更新：17:12:27\n",
      "stock_code short_name  price change_pct  main_net_inflow  prediction\n",
      "    600961       株冶集团  9.750       5.86       89664573.0          10\n",
      "    601020       华钰矿业 24.440       2.86       94040044.0           9\n",
      "    600367       红星发展 15.380       4.63       52339353.0           9\n",
      "    002155       湖南黄金  23.52       7.50      307973502.0           9\n",
      "    301368       丰立智能  88.00      -1.35     -133552529.0           9\n",
      "    603198       迎驾贡酒 60.640       2.40       55839439.0           8\n",
      "    605208        永茂泰 15.870      -3.99       12710427.0           9\n",
      "    603993       洛阳钼业  7.700      -1.41       64061269.0           8\n",
      "    000596       古井贡酒 189.17       5.48      -16307812.0           8\n",
      "    600711       ST盛屯  5.550       2.78      -13048991.0           8\n",
      "已更新监控页面 -> stock_realtime_monitor.html\n"
     ]
    },
    {
     "name": "stderr",
     "output_type": "stream",
     "text": [
      "C:\\Users\\charl\\AppData\\Local\\Temp\\ipykernel_65656\\701453132.py:104: FutureWarning: Styler.applymap has been deprecated. Use Styler.map instead.\n",
      "  .applymap(style_predictions, subset=['prediction'])\n"
     ]
    },
    {
     "name": "stdout",
     "output_type": "stream",
     "text": [
      "最新更新：17:13:00\n",
      "stock_code short_name  price change_pct  main_net_inflow  prediction\n",
      "    600961       株冶集团  9.750       5.86       89664573.0          10\n",
      "    601020       华钰矿业 24.440       2.86       94040044.0           9\n",
      "    600367       红星发展 15.380       4.63       52339353.0           9\n",
      "    002155       湖南黄金  23.52       7.50      307973502.0           9\n",
      "    301368       丰立智能  88.00      -1.35     -133552529.0           9\n",
      "    603198       迎驾贡酒 60.640       2.40       55839439.0           8\n",
      "    605208        永茂泰 15.870      -3.99       12710427.0           9\n",
      "    603993       洛阳钼业  7.700      -1.41       64061269.0           8\n",
      "    000596       古井贡酒 189.17       5.48      -16307812.0           8\n",
      "    600711       ST盛屯  5.550       2.78      -13048991.0           8\n",
      "已更新监控页面 -> stock_realtime_monitor.html\n"
     ]
    },
    {
     "name": "stderr",
     "output_type": "stream",
     "text": [
      "C:\\Users\\charl\\AppData\\Local\\Temp\\ipykernel_65656\\701453132.py:104: FutureWarning: Styler.applymap has been deprecated. Use Styler.map instead.\n",
      "  .applymap(style_predictions, subset=['prediction'])\n"
     ]
    },
    {
     "name": "stdout",
     "output_type": "stream",
     "text": [
      "最新更新：17:13:30\n",
      "stock_code short_name  price change_pct  main_net_inflow  prediction\n",
      "    600961       株冶集团  9.750       5.86       89664573.0          10\n",
      "    601020       华钰矿业 24.440       2.86       94040044.0           9\n",
      "    600367       红星发展 15.380       4.63       52339353.0           9\n",
      "    002155       湖南黄金  23.52       7.50      307973502.0           9\n",
      "    301368       丰立智能  88.00      -1.35     -133552529.0           9\n",
      "    603198       迎驾贡酒 60.640       2.40       55839439.0           8\n",
      "    605208        永茂泰 15.870      -3.99       12710427.0           9\n",
      "    603993       洛阳钼业  7.700      -1.41       64061269.0           8\n",
      "    000596       古井贡酒 189.17       5.48      -16307812.0           8\n",
      "    600711       ST盛屯  5.550       2.78      -13048991.0           8\n",
      "已更新监控页面 -> stock_realtime_monitor.html\n"
     ]
    },
    {
     "name": "stderr",
     "output_type": "stream",
     "text": [
      "C:\\Users\\charl\\AppData\\Local\\Temp\\ipykernel_65656\\701453132.py:104: FutureWarning: Styler.applymap has been deprecated. Use Styler.map instead.\n",
      "  .applymap(style_predictions, subset=['prediction'])\n"
     ]
    },
    {
     "name": "stdout",
     "output_type": "stream",
     "text": [
      "最新更新：17:13:59\n",
      "stock_code short_name  price change_pct  main_net_inflow  prediction\n",
      "    600961       株冶集团  9.750       5.86       89664573.0          10\n",
      "    601020       华钰矿业 24.440       2.86       94040044.0           9\n",
      "    600367       红星发展 15.380       4.63       52339353.0           9\n",
      "    002155       湖南黄金  23.52       7.50      307973502.0           9\n",
      "    301368       丰立智能  88.00      -1.35     -133552529.0           9\n",
      "    603198       迎驾贡酒 60.640       2.40       55839439.0           8\n",
      "    605208        永茂泰 15.870      -3.99       12710427.0           9\n",
      "    603993       洛阳钼业  7.700      -1.41       64061269.0           8\n",
      "    000596       古井贡酒 189.17       5.48      -16307812.0           8\n",
      "    600711       ST盛屯  5.550       2.78      -13048991.0           8\n",
      "已更新监控页面 -> stock_realtime_monitor.html\n"
     ]
    },
    {
     "name": "stderr",
     "output_type": "stream",
     "text": [
      "C:\\Users\\charl\\AppData\\Local\\Temp\\ipykernel_65656\\701453132.py:104: FutureWarning: Styler.applymap has been deprecated. Use Styler.map instead.\n",
      "  .applymap(style_predictions, subset=['prediction'])\n"
     ]
    },
    {
     "name": "stdout",
     "output_type": "stream",
     "text": [
      "获取002155资金流数据失败: HTTPSConnectionPool(host='push2delay.eastmoney.com', port=443): Max retries exceeded with url: /api/qt/stock/fflow/kline/get?lmt=0&klt=1&fields1=f1,f2,f3,f7&fields2=f51,f52,f53,f54,f55,f56,f57,f58,f59,f60,f61,f62,f63,f64,f65&secid=0.002155 (Caused by ConnectTimeoutError(<urllib3.connection.HTTPSConnection object at 0x00000188EF1AD550>, 'Connection to push2delay.eastmoney.com timed out. (connect timeout=None)'))\n",
      "最新更新：17:14:48\n",
      "stock_code short_name  price change_pct  main_net_inflow  prediction\n",
      "    600961       株冶集团  9.750       5.86       89664573.0          10\n",
      "    601020       华钰矿业 24.440       2.86       94040044.0           9\n",
      "    600367       红星发展 15.380       4.63       52339353.0           9\n",
      "    002155       湖南黄金  23.52       7.50              NaN           9\n",
      "    301368       丰立智能  88.00      -1.35     -133552529.0           9\n",
      "    603198       迎驾贡酒 60.640       2.40       55839439.0           8\n",
      "    605208        永茂泰 15.870      -3.99       12710427.0           9\n",
      "    603993       洛阳钼业  7.700      -1.41       64061269.0           8\n",
      "    000596       古井贡酒 189.17       5.48      -16307812.0           8\n",
      "    600711       ST盛屯  5.550       2.78      -13048991.0           8\n",
      "已更新监控页面 -> stock_realtime_monitor.html\n"
     ]
    },
    {
     "name": "stderr",
     "output_type": "stream",
     "text": [
      "C:\\Users\\charl\\AppData\\Local\\Temp\\ipykernel_65656\\701453132.py:104: FutureWarning: Styler.applymap has been deprecated. Use Styler.map instead.\n",
      "  .applymap(style_predictions, subset=['prediction'])\n"
     ]
    },
    {
     "name": "stdout",
     "output_type": "stream",
     "text": [
      "最新更新：17:15:29\n",
      "stock_code short_name  price change_pct  main_net_inflow  prediction\n",
      "    600961       株冶集团  9.750       5.86       89664573.0          10\n",
      "    601020       华钰矿业 24.440       2.86       94040044.0           9\n",
      "    600367       红星发展 15.380       4.63       52339353.0           9\n",
      "    002155       湖南黄金  23.52       7.50      307973502.0           9\n",
      "    301368       丰立智能  88.00      -1.35     -133552529.0           9\n",
      "    603198       迎驾贡酒 60.640       2.40       55839439.0           8\n",
      "    605208        永茂泰 15.870      -3.99       12710427.0           9\n",
      "    603993       洛阳钼业  7.700      -1.41       64061269.0           8\n",
      "    000596       古井贡酒 189.17       5.48      -16307812.0           8\n",
      "    600711       ST盛屯  5.550       2.78      -13048991.0           8\n",
      "已更新监控页面 -> stock_realtime_monitor.html\n"
     ]
    },
    {
     "name": "stderr",
     "output_type": "stream",
     "text": [
      "C:\\Users\\charl\\AppData\\Local\\Temp\\ipykernel_65656\\701453132.py:104: FutureWarning: Styler.applymap has been deprecated. Use Styler.map instead.\n",
      "  .applymap(style_predictions, subset=['prediction'])\n"
     ]
    },
    {
     "name": "stdout",
     "output_type": "stream",
     "text": [
      "最新更新：17:16:00\n",
      "stock_code short_name  price change_pct  main_net_inflow  prediction\n",
      "    600961       株冶集团  9.750       5.86       89664573.0          10\n",
      "    601020       华钰矿业 24.440       2.86       94040044.0           9\n",
      "    600367       红星发展 15.380       4.63       52339353.0           9\n",
      "    002155       湖南黄金  23.52       7.50      307973502.0           9\n",
      "    301368       丰立智能  88.00      -1.35     -133552529.0           9\n",
      "    603198       迎驾贡酒 60.640       2.40       55839439.0           8\n",
      "    605208        永茂泰 15.870      -3.99       12710427.0           9\n",
      "    603993       洛阳钼业  7.700      -1.41       64061269.0           8\n",
      "    000596       古井贡酒 189.17       5.48      -16307812.0           8\n",
      "    600711       ST盛屯  5.550       2.78      -13048991.0           8\n",
      "已更新监控页面 -> stock_realtime_monitor.html\n"
     ]
    },
    {
     "name": "stderr",
     "output_type": "stream",
     "text": [
      "C:\\Users\\charl\\AppData\\Local\\Temp\\ipykernel_65656\\701453132.py:104: FutureWarning: Styler.applymap has been deprecated. Use Styler.map instead.\n",
      "  .applymap(style_predictions, subset=['prediction'])\n"
     ]
    },
    {
     "name": "stdout",
     "output_type": "stream",
     "text": [
      "最新更新：17:16:31\n",
      "stock_code short_name  price change_pct  main_net_inflow  prediction\n",
      "    600961       株冶集团  9.750       5.86       89664573.0          10\n",
      "    601020       华钰矿业 24.440       2.86       94040044.0           9\n",
      "    600367       红星发展 15.380       4.63       52339353.0           9\n",
      "    002155       湖南黄金  23.52       7.50      307973502.0           9\n",
      "    301368       丰立智能  88.00      -1.35     -133552529.0           9\n",
      "    603198       迎驾贡酒 60.640       2.40       55839439.0           8\n",
      "    605208        永茂泰 15.870      -3.99       12710427.0           9\n",
      "    603993       洛阳钼业  7.700      -1.41       64061269.0           8\n",
      "    000596       古井贡酒 189.17       5.48      -16307812.0           8\n",
      "    600711       ST盛屯  5.550       2.78      -13048991.0           8\n",
      "已更新监控页面 -> stock_realtime_monitor.html\n"
     ]
    },
    {
     "name": "stderr",
     "output_type": "stream",
     "text": [
      "C:\\Users\\charl\\AppData\\Local\\Temp\\ipykernel_65656\\701453132.py:104: FutureWarning: Styler.applymap has been deprecated. Use Styler.map instead.\n",
      "  .applymap(style_predictions, subset=['prediction'])\n"
     ]
    },
    {
     "name": "stdout",
     "output_type": "stream",
     "text": [
      "最新更新：17:16:59\n",
      "stock_code short_name  price change_pct  main_net_inflow  prediction\n",
      "    600961       株冶集团  9.750       5.86       89664573.0          10\n",
      "    601020       华钰矿业 24.440       2.86       94040044.0           9\n",
      "    600367       红星发展 15.380       4.63       52339353.0           9\n",
      "    002155       湖南黄金  23.52       7.50      307973502.0           9\n",
      "    301368       丰立智能  88.00      -1.35     -133552529.0           9\n",
      "    603198       迎驾贡酒 60.640       2.40       55839439.0           8\n",
      "    605208        永茂泰 15.870      -3.99       12710427.0           9\n",
      "    603993       洛阳钼业  7.700      -1.41       64061269.0           8\n",
      "    000596       古井贡酒 189.17       5.48      -16307812.0           8\n",
      "    600711       ST盛屯  5.550       2.78      -13048991.0           8\n",
      "已更新监控页面 -> stock_realtime_monitor.html\n"
     ]
    },
    {
     "name": "stderr",
     "output_type": "stream",
     "text": [
      "C:\\Users\\charl\\AppData\\Local\\Temp\\ipykernel_65656\\701453132.py:104: FutureWarning: Styler.applymap has been deprecated. Use Styler.map instead.\n",
      "  .applymap(style_predictions, subset=['prediction'])\n"
     ]
    },
    {
     "name": "stdout",
     "output_type": "stream",
     "text": [
      "最新更新：17:17:29\n",
      "stock_code short_name  price change_pct  main_net_inflow  prediction\n",
      "    600961       株冶集团  9.750       5.86       89664573.0          10\n",
      "    601020       华钰矿业 24.440       2.86       94040044.0           9\n",
      "    600367       红星发展 15.380       4.63       52339353.0           9\n",
      "    002155       湖南黄金  23.52       7.50      307973502.0           9\n",
      "    301368       丰立智能  88.00      -1.35     -133552529.0           9\n",
      "    603198       迎驾贡酒 60.640       2.40       55839439.0           8\n",
      "    605208        永茂泰 15.870      -3.99       12710427.0           9\n",
      "    603993       洛阳钼业  7.700      -1.41       64061269.0           8\n",
      "    000596       古井贡酒 189.17       5.48      -16307812.0           8\n",
      "    600711       ST盛屯  5.550       2.78      -13048991.0           8\n",
      "已更新监控页面 -> stock_realtime_monitor.html\n"
     ]
    },
    {
     "name": "stderr",
     "output_type": "stream",
     "text": [
      "C:\\Users\\charl\\AppData\\Local\\Temp\\ipykernel_65656\\701453132.py:104: FutureWarning: Styler.applymap has been deprecated. Use Styler.map instead.\n",
      "  .applymap(style_predictions, subset=['prediction'])\n"
     ]
    },
    {
     "name": "stdout",
     "output_type": "stream",
     "text": [
      "最新更新：17:17:59\n",
      "stock_code short_name  price change_pct  main_net_inflow  prediction\n",
      "    600961       株冶集团  9.750       5.86       89664573.0          10\n",
      "    601020       华钰矿业 24.440       2.86       94040044.0           9\n",
      "    600367       红星发展 15.380       4.63       52339353.0           9\n",
      "    002155       湖南黄金  23.52       7.50      307973502.0           9\n",
      "    301368       丰立智能  88.00      -1.35     -133552529.0           9\n",
      "    603198       迎驾贡酒 60.640       2.40       55839439.0           8\n",
      "    605208        永茂泰 15.870      -3.99       12710427.0           9\n",
      "    603993       洛阳钼业  7.700      -1.41       64061269.0           8\n",
      "    000596       古井贡酒 189.17       5.48      -16307812.0           8\n",
      "    600711       ST盛屯  5.550       2.78      -13048991.0           8\n",
      "已更新监控页面 -> stock_realtime_monitor.html\n"
     ]
    },
    {
     "name": "stderr",
     "output_type": "stream",
     "text": [
      "C:\\Users\\charl\\AppData\\Local\\Temp\\ipykernel_65656\\701453132.py:104: FutureWarning: Styler.applymap has been deprecated. Use Styler.map instead.\n",
      "  .applymap(style_predictions, subset=['prediction'])\n"
     ]
    },
    {
     "name": "stdout",
     "output_type": "stream",
     "text": [
      "最新更新：17:18:29\n",
      "stock_code short_name  price change_pct  main_net_inflow  prediction\n",
      "    600961       株冶集团  9.750       5.86       89664573.0          10\n",
      "    601020       华钰矿业 24.440       2.86       94040044.0           9\n",
      "    600367       红星发展 15.380       4.63       52339353.0           9\n",
      "    002155       湖南黄金  23.52       7.50      307973502.0           9\n",
      "    301368       丰立智能  88.00      -1.35     -133552529.0           9\n",
      "    603198       迎驾贡酒 60.640       2.40       55839439.0           8\n",
      "    605208        永茂泰 15.870      -3.99       12710427.0           9\n",
      "    603993       洛阳钼业  7.700      -1.41       64061269.0           8\n",
      "    000596       古井贡酒 189.17       5.48      -16307812.0           8\n",
      "    600711       ST盛屯  5.550       2.78      -13048991.0           8\n",
      "已更新监控页面 -> stock_realtime_monitor.html\n"
     ]
    },
    {
     "name": "stderr",
     "output_type": "stream",
     "text": [
      "C:\\Users\\charl\\AppData\\Local\\Temp\\ipykernel_65656\\701453132.py:104: FutureWarning: Styler.applymap has been deprecated. Use Styler.map instead.\n",
      "  .applymap(style_predictions, subset=['prediction'])\n"
     ]
    },
    {
     "name": "stdout",
     "output_type": "stream",
     "text": [
      "最新更新：17:18:57\n",
      "stock_code short_name  price change_pct  main_net_inflow  prediction\n",
      "    600961       株冶集团  9.750       5.86       89664573.0          10\n",
      "    601020       华钰矿业 24.440       2.86       94040044.0           9\n",
      "    600367       红星发展 15.380       4.63       52339353.0           9\n",
      "    002155       湖南黄金  23.52       7.50      307973502.0           9\n",
      "    301368       丰立智能  88.00      -1.35     -133552529.0           9\n",
      "    603198       迎驾贡酒 60.640       2.40       55839439.0           8\n",
      "    605208        永茂泰 15.870      -3.99       12710427.0           9\n",
      "    603993       洛阳钼业  7.700      -1.41       64061269.0           8\n",
      "    000596       古井贡酒 189.17       5.48      -16307812.0           8\n",
      "    600711       ST盛屯  5.550       2.78      -13048991.0           8\n",
      "已更新监控页面 -> stock_realtime_monitor.html\n"
     ]
    },
    {
     "name": "stderr",
     "output_type": "stream",
     "text": [
      "C:\\Users\\charl\\AppData\\Local\\Temp\\ipykernel_65656\\701453132.py:104: FutureWarning: Styler.applymap has been deprecated. Use Styler.map instead.\n",
      "  .applymap(style_predictions, subset=['prediction'])\n"
     ]
    },
    {
     "name": "stdout",
     "output_type": "stream",
     "text": [
      "最新更新：17:19:28\n",
      "stock_code short_name  price change_pct  main_net_inflow  prediction\n",
      "    600961       株冶集团  9.750       5.86       89664573.0          10\n",
      "    601020       华钰矿业 24.440       2.86       94040044.0           9\n",
      "    600367       红星发展 15.380       4.63       52339353.0           9\n",
      "    002155       湖南黄金  23.52       7.50      307973502.0           9\n",
      "    301368       丰立智能  88.00      -1.35     -133552529.0           9\n",
      "    603198       迎驾贡酒 60.640       2.40       55839439.0           8\n",
      "    605208        永茂泰 15.870      -3.99       12710427.0           9\n",
      "    603993       洛阳钼业  7.700      -1.41       64061269.0           8\n",
      "    000596       古井贡酒 189.17       5.48      -16307812.0           8\n",
      "    600711       ST盛屯  5.550       2.78      -13048991.0           8\n",
      "已更新监控页面 -> stock_realtime_monitor.html\n"
     ]
    },
    {
     "name": "stderr",
     "output_type": "stream",
     "text": [
      "C:\\Users\\charl\\AppData\\Local\\Temp\\ipykernel_65656\\701453132.py:104: FutureWarning: Styler.applymap has been deprecated. Use Styler.map instead.\n",
      "  .applymap(style_predictions, subset=['prediction'])\n"
     ]
    },
    {
     "name": "stdout",
     "output_type": "stream",
     "text": [
      "最新更新：17:19:58\n",
      "stock_code short_name  price change_pct  main_net_inflow  prediction\n",
      "    600961       株冶集团  9.750       5.86       89664573.0          10\n",
      "    601020       华钰矿业 24.440       2.86       94040044.0           9\n",
      "    600367       红星发展 15.380       4.63       52339353.0           9\n",
      "    002155       湖南黄金  23.52       7.50      307973502.0           9\n",
      "    301368       丰立智能  88.00      -1.35     -133552529.0           9\n",
      "    603198       迎驾贡酒 60.640       2.40       55839439.0           8\n",
      "    605208        永茂泰 15.870      -3.99       12710427.0           9\n",
      "    603993       洛阳钼业  7.700      -1.41       64061269.0           8\n",
      "    000596       古井贡酒 189.17       5.48      -16307812.0           8\n",
      "    600711       ST盛屯  5.550       2.78      -13048991.0           8\n",
      "已更新监控页面 -> stock_realtime_monitor.html\n"
     ]
    },
    {
     "name": "stderr",
     "output_type": "stream",
     "text": [
      "C:\\Users\\charl\\AppData\\Local\\Temp\\ipykernel_65656\\701453132.py:104: FutureWarning: Styler.applymap has been deprecated. Use Styler.map instead.\n",
      "  .applymap(style_predictions, subset=['prediction'])\n"
     ]
    },
    {
     "name": "stdout",
     "output_type": "stream",
     "text": [
      "获取301368资金流数据失败: HTTPSConnectionPool(host='push2delay.eastmoney.com', port=443): Max retries exceeded with url: /api/qt/stock/fflow/kline/get?lmt=0&klt=1&fields1=f1,f2,f3,f7&fields2=f51,f52,f53,f54,f55,f56,f57,f58,f59,f60,f61,f62,f63,f64,f65&secid=0.301368 (Caused by ConnectTimeoutError(<urllib3.connection.HTTPSConnection object at 0x00000188EF20CC90>, 'Connection to push2delay.eastmoney.com timed out. (connect timeout=None)'))\n",
      "最新更新：17:20:49\n",
      "stock_code short_name  price change_pct  main_net_inflow  prediction\n",
      "    600961       株冶集团  9.750       5.86       89664573.0          10\n",
      "    601020       华钰矿业 24.440       2.86       94040044.0           9\n",
      "    600367       红星发展 15.380       4.63       52339353.0           9\n",
      "    002155       湖南黄金  23.52       7.50      307973502.0           9\n",
      "    301368       丰立智能  88.00      -1.35              NaN           9\n",
      "    603198       迎驾贡酒 60.640       2.40       55839439.0           8\n",
      "    605208        永茂泰 15.870      -3.99       12710427.0           9\n",
      "    603993       洛阳钼业  7.700      -1.41       64061269.0           8\n",
      "    000596       古井贡酒 189.17       5.48      -16307812.0           8\n",
      "    600711       ST盛屯  5.550       2.78      -13048991.0           8\n",
      "已更新监控页面 -> stock_realtime_monitor.html\n"
     ]
    },
    {
     "name": "stderr",
     "output_type": "stream",
     "text": [
      "C:\\Users\\charl\\AppData\\Local\\Temp\\ipykernel_65656\\701453132.py:104: FutureWarning: Styler.applymap has been deprecated. Use Styler.map instead.\n",
      "  .applymap(style_predictions, subset=['prediction'])\n"
     ]
    },
    {
     "name": "stdout",
     "output_type": "stream",
     "text": [
      "最新更新：17:21:29\n",
      "stock_code short_name  price change_pct  main_net_inflow  prediction\n",
      "    600961       株冶集团  9.750       5.86       89664573.0          10\n",
      "    601020       华钰矿业 24.440       2.86       94040044.0           9\n",
      "    600367       红星发展 15.380       4.63       52339353.0           9\n",
      "    002155       湖南黄金  23.52       7.50      307973502.0           9\n",
      "    301368       丰立智能  88.00      -1.35     -133552529.0           9\n",
      "    603198       迎驾贡酒 60.640       2.40       55839439.0           8\n",
      "    605208        永茂泰 15.870      -3.99       12710427.0           9\n",
      "    603993       洛阳钼业  7.700      -1.41       64061269.0           8\n",
      "    000596       古井贡酒 189.17       5.48      -16307812.0           8\n",
      "    600711       ST盛屯  5.550       2.78      -13048991.0           8\n",
      "已更新监控页面 -> stock_realtime_monitor.html\n"
     ]
    },
    {
     "name": "stderr",
     "output_type": "stream",
     "text": [
      "C:\\Users\\charl\\AppData\\Local\\Temp\\ipykernel_65656\\701453132.py:104: FutureWarning: Styler.applymap has been deprecated. Use Styler.map instead.\n",
      "  .applymap(style_predictions, subset=['prediction'])\n"
     ]
    },
    {
     "name": "stdout",
     "output_type": "stream",
     "text": [
      "最新更新：17:21:58\n",
      "stock_code short_name  price change_pct  main_net_inflow  prediction\n",
      "    600961       株冶集团  9.750       5.86       89664573.0          10\n",
      "    601020       华钰矿业 24.440       2.86       94040044.0           9\n",
      "    600367       红星发展 15.380       4.63       52339353.0           9\n",
      "    002155       湖南黄金  23.52       7.50      307973502.0           9\n",
      "    301368       丰立智能  88.00      -1.35     -133552529.0           9\n",
      "    603198       迎驾贡酒 60.640       2.40       55839439.0           8\n",
      "    605208        永茂泰 15.870      -3.99       12710427.0           9\n",
      "    603993       洛阳钼业  7.700      -1.41       64061269.0           8\n",
      "    000596       古井贡酒 189.17       5.48      -16307812.0           8\n",
      "    600711       ST盛屯  5.550       2.78      -13048991.0           8\n",
      "已更新监控页面 -> stock_realtime_monitor.html\n"
     ]
    },
    {
     "name": "stderr",
     "output_type": "stream",
     "text": [
      "C:\\Users\\charl\\AppData\\Local\\Temp\\ipykernel_65656\\701453132.py:104: FutureWarning: Styler.applymap has been deprecated. Use Styler.map instead.\n",
      "  .applymap(style_predictions, subset=['prediction'])\n"
     ]
    },
    {
     "name": "stdout",
     "output_type": "stream",
     "text": [
      "最新更新：17:22:28\n",
      "stock_code short_name  price change_pct  main_net_inflow  prediction\n",
      "    600961       株冶集团  9.750       5.86       89664573.0          10\n",
      "    601020       华钰矿业 24.440       2.86       94040044.0           9\n",
      "    600367       红星发展 15.380       4.63       52339353.0           9\n",
      "    002155       湖南黄金  23.52       7.50      307973502.0           9\n",
      "    301368       丰立智能  88.00      -1.35     -133552529.0           9\n",
      "    603198       迎驾贡酒 60.640       2.40       55839439.0           8\n",
      "    605208        永茂泰 15.870      -3.99       12710427.0           9\n",
      "    603993       洛阳钼业  7.700      -1.41       64061269.0           8\n",
      "    000596       古井贡酒 189.17       5.48      -16307812.0           8\n",
      "    600711       ST盛屯  5.550       2.78      -13048991.0           8\n",
      "已更新监控页面 -> stock_realtime_monitor.html\n"
     ]
    },
    {
     "name": "stderr",
     "output_type": "stream",
     "text": [
      "C:\\Users\\charl\\AppData\\Local\\Temp\\ipykernel_65656\\701453132.py:104: FutureWarning: Styler.applymap has been deprecated. Use Styler.map instead.\n",
      "  .applymap(style_predictions, subset=['prediction'])\n"
     ]
    },
    {
     "name": "stdout",
     "output_type": "stream",
     "text": [
      "最新更新：17:22:58\n",
      "stock_code short_name  price change_pct  main_net_inflow  prediction\n",
      "    600961       株冶集团  9.750       5.86       89664573.0          10\n",
      "    601020       华钰矿业 24.440       2.86       94040044.0           9\n",
      "    600367       红星发展 15.380       4.63       52339353.0           9\n",
      "    002155       湖南黄金  23.52       7.50      307973502.0           9\n",
      "    301368       丰立智能  88.00      -1.35     -133552529.0           9\n",
      "    603198       迎驾贡酒 60.640       2.40       55839439.0           8\n",
      "    605208        永茂泰 15.870      -3.99       12710427.0           9\n",
      "    603993       洛阳钼业  7.700      -1.41       64061269.0           8\n",
      "    000596       古井贡酒 189.17       5.48      -16307812.0           8\n",
      "    600711       ST盛屯  5.550       2.78      -13048991.0           8\n",
      "已更新监控页面 -> stock_realtime_monitor.html\n"
     ]
    },
    {
     "name": "stderr",
     "output_type": "stream",
     "text": [
      "C:\\Users\\charl\\AppData\\Local\\Temp\\ipykernel_65656\\701453132.py:104: FutureWarning: Styler.applymap has been deprecated. Use Styler.map instead.\n",
      "  .applymap(style_predictions, subset=['prediction'])\n"
     ]
    },
    {
     "name": "stdout",
     "output_type": "stream",
     "text": [
      "最新更新：17:23:26\n",
      "stock_code short_name  price change_pct  main_net_inflow  prediction\n",
      "    600961       株冶集团  9.750       5.86       89664573.0          10\n",
      "    601020       华钰矿业 24.440       2.86       94040044.0           9\n",
      "    600367       红星发展 15.380       4.63       52339353.0           9\n",
      "    002155       湖南黄金  23.52       7.50      307973502.0           9\n",
      "    301368       丰立智能  88.00      -1.35     -133552529.0           9\n",
      "    603198       迎驾贡酒 60.640       2.40       55839439.0           8\n",
      "    605208        永茂泰 15.870      -3.99       12710427.0           9\n",
      "    603993       洛阳钼业  7.700      -1.41       64061269.0           8\n",
      "    000596       古井贡酒 189.17       5.48      -16307812.0           8\n",
      "    600711       ST盛屯  5.550       2.78      -13048991.0           8\n",
      "已更新监控页面 -> stock_realtime_monitor.html\n"
     ]
    },
    {
     "name": "stderr",
     "output_type": "stream",
     "text": [
      "C:\\Users\\charl\\AppData\\Local\\Temp\\ipykernel_65656\\701453132.py:104: FutureWarning: Styler.applymap has been deprecated. Use Styler.map instead.\n",
      "  .applymap(style_predictions, subset=['prediction'])\n"
     ]
    },
    {
     "name": "stdout",
     "output_type": "stream",
     "text": [
      "最新更新：17:23:56\n",
      "stock_code short_name  price change_pct  main_net_inflow  prediction\n",
      "    600961       株冶集团  9.750       5.86       89664573.0          10\n",
      "    601020       华钰矿业 24.440       2.86       94040044.0           9\n",
      "    600367       红星发展 15.380       4.63       52339353.0           9\n",
      "    002155       湖南黄金  23.52       7.50      307973502.0           9\n",
      "    301368       丰立智能  88.00      -1.35     -133552529.0           9\n",
      "    603198       迎驾贡酒 60.640       2.40       55839439.0           8\n",
      "    605208        永茂泰 15.870      -3.99       12710427.0           9\n",
      "    603993       洛阳钼业  7.700      -1.41       64061269.0           8\n",
      "    000596       古井贡酒 189.17       5.48      -16307812.0           8\n",
      "    600711       ST盛屯  5.550       2.78      -13048991.0           8\n",
      "已更新监控页面 -> stock_realtime_monitor.html\n"
     ]
    },
    {
     "name": "stderr",
     "output_type": "stream",
     "text": [
      "C:\\Users\\charl\\AppData\\Local\\Temp\\ipykernel_65656\\701453132.py:104: FutureWarning: Styler.applymap has been deprecated. Use Styler.map instead.\n",
      "  .applymap(style_predictions, subset=['prediction'])\n"
     ]
    },
    {
     "name": "stdout",
     "output_type": "stream",
     "text": [
      "最新更新：17:24:26\n",
      "stock_code short_name  price change_pct  main_net_inflow  prediction\n",
      "    600961       株冶集团  9.750       5.86       89664573.0          10\n",
      "    601020       华钰矿业 24.440       2.86       94040044.0           9\n",
      "    600367       红星发展 15.380       4.63       52339353.0           9\n",
      "    002155       湖南黄金  23.52       7.50      307973502.0           9\n",
      "    301368       丰立智能  88.00      -1.35     -133552529.0           9\n",
      "    603198       迎驾贡酒 60.640       2.40       55839439.0           8\n",
      "    605208        永茂泰 15.870      -3.99       12710427.0           9\n",
      "    603993       洛阳钼业  7.700      -1.41       64061269.0           8\n",
      "    000596       古井贡酒 189.17       5.48      -16307812.0           8\n",
      "    600711       ST盛屯  5.550       2.78      -13048991.0           8\n",
      "已更新监控页面 -> stock_realtime_monitor.html\n"
     ]
    },
    {
     "name": "stderr",
     "output_type": "stream",
     "text": [
      "C:\\Users\\charl\\AppData\\Local\\Temp\\ipykernel_65656\\701453132.py:104: FutureWarning: Styler.applymap has been deprecated. Use Styler.map instead.\n",
      "  .applymap(style_predictions, subset=['prediction'])\n"
     ]
    },
    {
     "name": "stdout",
     "output_type": "stream",
     "text": [
      "最新更新：17:24:57\n",
      "stock_code short_name  price change_pct  main_net_inflow  prediction\n",
      "    600961       株冶集团  9.750       5.86       89664573.0          10\n",
      "    601020       华钰矿业 24.440       2.86       94040044.0           9\n",
      "    600367       红星发展 15.380       4.63       52339353.0           9\n",
      "    002155       湖南黄金  23.52       7.50      307973502.0           9\n",
      "    301368       丰立智能  88.00      -1.35     -133552529.0           9\n",
      "    603198       迎驾贡酒 60.640       2.40       55839439.0           8\n",
      "    605208        永茂泰 15.870      -3.99       12710427.0           9\n",
      "    603993       洛阳钼业  7.700      -1.41       64061269.0           8\n",
      "    000596       古井贡酒 189.17       5.48      -16307812.0           8\n",
      "    600711       ST盛屯  5.550       2.78      -13048991.0           8\n",
      "已更新监控页面 -> stock_realtime_monitor.html\n"
     ]
    },
    {
     "name": "stderr",
     "output_type": "stream",
     "text": [
      "C:\\Users\\charl\\AppData\\Local\\Temp\\ipykernel_65656\\701453132.py:104: FutureWarning: Styler.applymap has been deprecated. Use Styler.map instead.\n",
      "  .applymap(style_predictions, subset=['prediction'])\n"
     ]
    },
    {
     "name": "stdout",
     "output_type": "stream",
     "text": [
      "最新更新：17:25:28\n",
      "stock_code short_name  price change_pct  main_net_inflow  prediction\n",
      "    600961       株冶集团  9.750       5.86       89664573.0          10\n",
      "    601020       华钰矿业 24.440       2.86       94040044.0           9\n",
      "    600367       红星发展 15.380       4.63       52339353.0           9\n",
      "    002155       湖南黄金  23.52       7.50      307973502.0           9\n",
      "    301368       丰立智能  88.00      -1.35     -133552529.0           9\n",
      "    603198       迎驾贡酒 60.640       2.40       55839439.0           8\n",
      "    605208        永茂泰 15.870      -3.99       12710427.0           9\n",
      "    603993       洛阳钼业  7.700      -1.41       64061269.0           8\n",
      "    000596       古井贡酒 189.17       5.48      -16307812.0           8\n",
      "    600711       ST盛屯  5.550       2.78      -13048991.0           8\n",
      "已更新监控页面 -> stock_realtime_monitor.html\n"
     ]
    },
    {
     "name": "stderr",
     "output_type": "stream",
     "text": [
      "C:\\Users\\charl\\AppData\\Local\\Temp\\ipykernel_65656\\701453132.py:104: FutureWarning: Styler.applymap has been deprecated. Use Styler.map instead.\n",
      "  .applymap(style_predictions, subset=['prediction'])\n"
     ]
    },
    {
     "name": "stdout",
     "output_type": "stream",
     "text": [
      "最新更新：17:25:57\n",
      "stock_code short_name  price change_pct  main_net_inflow  prediction\n",
      "    600961       株冶集团  9.750       5.86       89664573.0          10\n",
      "    601020       华钰矿业 24.440       2.86       94040044.0           9\n",
      "    600367       红星发展 15.380       4.63       52339353.0           9\n",
      "    002155       湖南黄金  23.52       7.50      307973502.0           9\n",
      "    301368       丰立智能  88.00      -1.35     -133552529.0           9\n",
      "    603198       迎驾贡酒 60.640       2.40       55839439.0           8\n",
      "    605208        永茂泰 15.870      -3.99       12710427.0           9\n",
      "    603993       洛阳钼业  7.700      -1.41       64061269.0           8\n",
      "    000596       古井贡酒 189.17       5.48      -16307812.0           8\n",
      "    600711       ST盛屯  5.550       2.78      -13048991.0           8\n",
      "已更新监控页面 -> stock_realtime_monitor.html\n"
     ]
    },
    {
     "name": "stderr",
     "output_type": "stream",
     "text": [
      "C:\\Users\\charl\\AppData\\Local\\Temp\\ipykernel_65656\\701453132.py:104: FutureWarning: Styler.applymap has been deprecated. Use Styler.map instead.\n",
      "  .applymap(style_predictions, subset=['prediction'])\n"
     ]
    },
    {
     "name": "stdout",
     "output_type": "stream",
     "text": [
      "最新更新：17:26:29\n",
      "stock_code short_name  price change_pct  main_net_inflow  prediction\n",
      "    600961       株冶集团  9.750       5.86       89664573.0          10\n",
      "    601020       华钰矿业 24.440       2.86       94040044.0           9\n",
      "    600367       红星发展 15.380       4.63       52339353.0           9\n",
      "    002155       湖南黄金  23.52       7.50      307973502.0           9\n",
      "    301368       丰立智能  88.00      -1.35     -133552529.0           9\n",
      "    603198       迎驾贡酒 60.640       2.40       55839439.0           8\n",
      "    605208        永茂泰 15.870      -3.99       12710427.0           9\n",
      "    603993       洛阳钼业  7.700      -1.41       64061269.0           8\n",
      "    000596       古井贡酒 189.17       5.48      -16307812.0           8\n",
      "    600711       ST盛屯  5.550       2.78      -13048991.0           8\n",
      "已更新监控页面 -> stock_realtime_monitor.html\n"
     ]
    },
    {
     "name": "stderr",
     "output_type": "stream",
     "text": [
      "C:\\Users\\charl\\AppData\\Local\\Temp\\ipykernel_65656\\701453132.py:104: FutureWarning: Styler.applymap has been deprecated. Use Styler.map instead.\n",
      "  .applymap(style_predictions, subset=['prediction'])\n"
     ]
    },
    {
     "name": "stdout",
     "output_type": "stream",
     "text": [
      "最新更新：17:26:58\n",
      "stock_code short_name  price change_pct  main_net_inflow  prediction\n",
      "    600961       株冶集团  9.750       5.86       89664573.0          10\n",
      "    601020       华钰矿业 24.440       2.86       94040044.0           9\n",
      "    600367       红星发展 15.380       4.63       52339353.0           9\n",
      "    002155       湖南黄金  23.52       7.50      307973502.0           9\n",
      "    301368       丰立智能  88.00      -1.35     -133552529.0           9\n",
      "    603198       迎驾贡酒 60.640       2.40       55839439.0           8\n",
      "    605208        永茂泰 15.870      -3.99       12710427.0           9\n",
      "    603993       洛阳钼业  7.700      -1.41       64061269.0           8\n",
      "    000596       古井贡酒 189.17       5.48      -16307812.0           8\n",
      "    600711       ST盛屯  5.550       2.78      -13048991.0           8\n",
      "已更新监控页面 -> stock_realtime_monitor.html\n"
     ]
    },
    {
     "name": "stderr",
     "output_type": "stream",
     "text": [
      "C:\\Users\\charl\\AppData\\Local\\Temp\\ipykernel_65656\\701453132.py:104: FutureWarning: Styler.applymap has been deprecated. Use Styler.map instead.\n",
      "  .applymap(style_predictions, subset=['prediction'])\n"
     ]
    },
    {
     "name": "stdout",
     "output_type": "stream",
     "text": [
      "获取002155资金流数据失败: HTTPSConnectionPool(host='push2delay.eastmoney.com', port=443): Max retries exceeded with url: /api/qt/stock/fflow/kline/get?lmt=0&klt=1&fields1=f1,f2,f3,f7&fields2=f51,f52,f53,f54,f55,f56,f57,f58,f59,f60,f61,f62,f63,f64,f65&secid=0.002155 (Caused by ConnectTimeoutError(<urllib3.connection.HTTPSConnection object at 0x00000188EF1AC6D0>, 'Connection to push2delay.eastmoney.com timed out. (connect timeout=None)'))\n",
      "最新更新：17:27:50\n",
      "stock_code short_name  price change_pct  main_net_inflow  prediction\n",
      "    600961       株冶集团  9.750       5.86       89664573.0          10\n",
      "    601020       华钰矿业 24.440       2.86       94040044.0           9\n",
      "    600367       红星发展 15.380       4.63       52339353.0           9\n",
      "    002155       湖南黄金  23.52       7.50              NaN           9\n",
      "    301368       丰立智能  88.00      -1.35     -133552529.0           9\n",
      "    603198       迎驾贡酒 60.640       2.40       55839439.0           8\n",
      "    605208        永茂泰 15.870      -3.99       12710427.0           9\n",
      "    603993       洛阳钼业  7.700      -1.41       64061269.0           8\n",
      "    000596       古井贡酒 189.17       5.48      -16307812.0           8\n",
      "    600711       ST盛屯  5.550       2.78      -13048991.0           8\n",
      "已更新监控页面 -> stock_realtime_monitor.html\n"
     ]
    },
    {
     "name": "stderr",
     "output_type": "stream",
     "text": [
      "C:\\Users\\charl\\AppData\\Local\\Temp\\ipykernel_65656\\701453132.py:104: FutureWarning: Styler.applymap has been deprecated. Use Styler.map instead.\n",
      "  .applymap(style_predictions, subset=['prediction'])\n"
     ]
    },
    {
     "name": "stdout",
     "output_type": "stream",
     "text": [
      "最新更新：17:28:28\n",
      "stock_code short_name  price change_pct  main_net_inflow  prediction\n",
      "    600961       株冶集团  9.750       5.86       89664573.0          10\n",
      "    601020       华钰矿业 24.440       2.86       94040044.0           9\n",
      "    600367       红星发展 15.380       4.63       52339353.0           9\n",
      "    002155       湖南黄金  23.52       7.50      307973502.0           9\n",
      "    301368       丰立智能  88.00      -1.35     -133552529.0           9\n",
      "    603198       迎驾贡酒 60.640       2.40       55839439.0           8\n",
      "    605208        永茂泰 15.870      -3.99       12710427.0           9\n",
      "    603993       洛阳钼业  7.700      -1.41       64061269.0           8\n",
      "    000596       古井贡酒 189.17       5.48      -16307812.0           8\n",
      "    600711       ST盛屯  5.550       2.78      -13048991.0           8\n",
      "已更新监控页面 -> stock_realtime_monitor.html\n"
     ]
    },
    {
     "name": "stderr",
     "output_type": "stream",
     "text": [
      "C:\\Users\\charl\\AppData\\Local\\Temp\\ipykernel_65656\\701453132.py:104: FutureWarning: Styler.applymap has been deprecated. Use Styler.map instead.\n",
      "  .applymap(style_predictions, subset=['prediction'])\n"
     ]
    },
    {
     "name": "stdout",
     "output_type": "stream",
     "text": [
      "最新更新：17:28:57\n",
      "stock_code short_name  price change_pct  main_net_inflow  prediction\n",
      "    600961       株冶集团  9.750       5.86       89664573.0          10\n",
      "    601020       华钰矿业 24.440       2.86       94040044.0           9\n",
      "    600367       红星发展 15.380       4.63       52339353.0           9\n",
      "    002155       湖南黄金  23.52       7.50      307973502.0           9\n",
      "    301368       丰立智能  88.00      -1.35     -133552529.0           9\n",
      "    603198       迎驾贡酒 60.640       2.40       55839439.0           8\n",
      "    605208        永茂泰 15.870      -3.99       12710427.0           9\n",
      "    603993       洛阳钼业  7.700      -1.41       64061269.0           8\n",
      "    000596       古井贡酒 189.17       5.48      -16307812.0           8\n",
      "    600711       ST盛屯  5.550       2.78      -13048991.0           8\n",
      "已更新监控页面 -> stock_realtime_monitor.html\n"
     ]
    },
    {
     "name": "stderr",
     "output_type": "stream",
     "text": [
      "C:\\Users\\charl\\AppData\\Local\\Temp\\ipykernel_65656\\701453132.py:104: FutureWarning: Styler.applymap has been deprecated. Use Styler.map instead.\n",
      "  .applymap(style_predictions, subset=['prediction'])\n"
     ]
    },
    {
     "name": "stdout",
     "output_type": "stream",
     "text": [
      "最新更新：17:29:26\n",
      "stock_code short_name  price change_pct  main_net_inflow  prediction\n",
      "    600961       株冶集团  9.750       5.86       89664573.0          10\n",
      "    601020       华钰矿业 24.440       2.86       94040044.0           9\n",
      "    600367       红星发展 15.380       4.63       52339353.0           9\n",
      "    002155       湖南黄金  23.52       7.50      307973502.0           9\n",
      "    301368       丰立智能  88.00      -1.35     -133552529.0           9\n",
      "    603198       迎驾贡酒 60.640       2.40       55839439.0           8\n",
      "    605208        永茂泰 15.870      -3.99       12710427.0           9\n",
      "    603993       洛阳钼业  7.700      -1.41       64061269.0           8\n",
      "    000596       古井贡酒 189.17       5.48      -16307812.0           8\n",
      "    600711       ST盛屯  5.550       2.78      -13048991.0           8\n",
      "已更新监控页面 -> stock_realtime_monitor.html\n"
     ]
    },
    {
     "name": "stderr",
     "output_type": "stream",
     "text": [
      "C:\\Users\\charl\\AppData\\Local\\Temp\\ipykernel_65656\\701453132.py:104: FutureWarning: Styler.applymap has been deprecated. Use Styler.map instead.\n",
      "  .applymap(style_predictions, subset=['prediction'])\n"
     ]
    },
    {
     "name": "stdout",
     "output_type": "stream",
     "text": [
      "最新更新：17:29:57\n",
      "stock_code short_name  price change_pct  main_net_inflow  prediction\n",
      "    600961       株冶集团  9.750       5.86       89664573.0          10\n",
      "    601020       华钰矿业 24.440       2.86       94040044.0           9\n",
      "    600367       红星发展 15.380       4.63       52339353.0           9\n",
      "    002155       湖南黄金  23.52       7.50      307973502.0           9\n",
      "    301368       丰立智能  88.00      -1.35     -133552529.0           9\n",
      "    603198       迎驾贡酒 60.640       2.40       55839439.0           8\n",
      "    605208        永茂泰 15.870      -3.99       12710427.0           9\n",
      "    603993       洛阳钼业  7.700      -1.41       64061269.0           8\n",
      "    000596       古井贡酒 189.17       5.48      -16307812.0           8\n",
      "    600711       ST盛屯  5.550       2.78      -13048991.0           8\n",
      "已更新监控页面 -> stock_realtime_monitor.html\n"
     ]
    },
    {
     "name": "stderr",
     "output_type": "stream",
     "text": [
      "C:\\Users\\charl\\AppData\\Local\\Temp\\ipykernel_65656\\701453132.py:104: FutureWarning: Styler.applymap has been deprecated. Use Styler.map instead.\n",
      "  .applymap(style_predictions, subset=['prediction'])\n"
     ]
    },
    {
     "name": "stdout",
     "output_type": "stream",
     "text": [
      "最新更新：17:30:28\n",
      "stock_code short_name  price change_pct  main_net_inflow  prediction\n",
      "    600961       株冶集团  9.750       5.86       89664573.0          10\n",
      "    601020       华钰矿业 24.440       2.86       94040044.0           9\n",
      "    600367       红星发展 15.380       4.63       52339353.0           9\n",
      "    002155       湖南黄金  23.52       7.50      307973502.0           9\n",
      "    301368       丰立智能  88.00      -1.35     -133552529.0           9\n",
      "    603198       迎驾贡酒 60.640       2.40       55839439.0           8\n",
      "    605208        永茂泰 15.870      -3.99       12710427.0           9\n",
      "    603993       洛阳钼业  7.700      -1.41       64061269.0           8\n",
      "    000596       古井贡酒 189.17       5.48      -16307812.0           8\n",
      "    600711       ST盛屯  5.550       2.78      -13048991.0           8\n",
      "已更新监控页面 -> stock_realtime_monitor.html\n"
     ]
    },
    {
     "name": "stderr",
     "output_type": "stream",
     "text": [
      "C:\\Users\\charl\\AppData\\Local\\Temp\\ipykernel_65656\\701453132.py:104: FutureWarning: Styler.applymap has been deprecated. Use Styler.map instead.\n",
      "  .applymap(style_predictions, subset=['prediction'])\n"
     ]
    },
    {
     "name": "stdout",
     "output_type": "stream",
     "text": [
      "最新更新：17:30:56\n",
      "stock_code short_name  price change_pct  main_net_inflow  prediction\n",
      "    600961       株冶集团  9.750       5.86       89664573.0          10\n",
      "    601020       华钰矿业 24.440       2.86       94040044.0           9\n",
      "    600367       红星发展 15.380       4.63       52339353.0           9\n",
      "    002155       湖南黄金  23.52       7.50      307973502.0           9\n",
      "    301368       丰立智能  88.00      -1.35     -133552529.0           9\n",
      "    603198       迎驾贡酒 60.640       2.40       55839439.0           8\n",
      "    605208        永茂泰 15.870      -3.99       12710427.0           9\n",
      "    603993       洛阳钼业  7.700      -1.41       64061269.0           8\n",
      "    000596       古井贡酒 189.17       5.48      -16307812.0           8\n",
      "    600711       ST盛屯  5.550       2.78      -13048991.0           8\n",
      "已更新监控页面 -> stock_realtime_monitor.html\n"
     ]
    },
    {
     "name": "stderr",
     "output_type": "stream",
     "text": [
      "C:\\Users\\charl\\AppData\\Local\\Temp\\ipykernel_65656\\701453132.py:104: FutureWarning: Styler.applymap has been deprecated. Use Styler.map instead.\n",
      "  .applymap(style_predictions, subset=['prediction'])\n"
     ]
    },
    {
     "name": "stdout",
     "output_type": "stream",
     "text": [
      "获取002155资金流数据失败: HTTPSConnectionPool(host='push2.eastmoney.com', port=443): Max retries exceeded with url: /api/qt/stock/fflow/kline/get?lmt=0&klt=1&fields1=f1,f2,f3,f7&fields2=f51,f52,f53,f54,f55,f56,f57,f58,f59,f60,f61,f62,f63,f64,f65&secid=0.002155 (Caused by ConnectTimeoutError(<urllib3.connection.HTTPSConnection object at 0x00000188EF20E650>, 'Connection to push2.eastmoney.com timed out. (connect timeout=None)'))\n",
      "最新更新：17:31:48\n",
      "stock_code short_name  price change_pct  main_net_inflow  prediction\n",
      "    600961       株冶集团  9.750       5.86       89664573.0          10\n",
      "    601020       华钰矿业 24.440       2.86       94040044.0           9\n",
      "    600367       红星发展 15.380       4.63       52339353.0           9\n",
      "    002155       湖南黄金  23.52       7.50              NaN           9\n",
      "    301368       丰立智能  88.00      -1.35     -133552529.0           9\n",
      "    603198       迎驾贡酒 60.640       2.40       55839439.0           8\n",
      "    605208        永茂泰 15.870      -3.99       12710427.0           9\n",
      "    603993       洛阳钼业  7.700      -1.41       64061269.0           8\n",
      "    000596       古井贡酒 189.17       5.48      -16307812.0           8\n",
      "    600711       ST盛屯  5.550       2.78      -13048991.0           8\n",
      "已更新监控页面 -> stock_realtime_monitor.html\n"
     ]
    },
    {
     "name": "stderr",
     "output_type": "stream",
     "text": [
      "C:\\Users\\charl\\AppData\\Local\\Temp\\ipykernel_65656\\701453132.py:104: FutureWarning: Styler.applymap has been deprecated. Use Styler.map instead.\n",
      "  .applymap(style_predictions, subset=['prediction'])\n"
     ]
    },
    {
     "name": "stdout",
     "output_type": "stream",
     "text": [
      "获取002155资金流数据失败: HTTPSConnectionPool(host='push2delay.eastmoney.com', port=443): Max retries exceeded with url: /api/qt/stock/fflow/kline/get?lmt=0&klt=1&fields1=f1,f2,f3,f7&fields2=f51,f52,f53,f54,f55,f56,f57,f58,f59,f60,f61,f62,f63,f64,f65&secid=0.002155 (Caused by ConnectTimeoutError(<urllib3.connection.HTTPSConnection object at 0x00000188EF211310>, 'Connection to push2delay.eastmoney.com timed out. (connect timeout=None)'))\n",
      "最新更新：17:32:49\n",
      "stock_code short_name  price change_pct  main_net_inflow  prediction\n",
      "    600961       株冶集团  9.750       5.86       89664573.0          10\n",
      "    601020       华钰矿业 24.440       2.86       94040044.0           9\n",
      "    600367       红星发展 15.380       4.63       52339353.0           9\n",
      "    002155       湖南黄金  23.52       7.50              NaN           9\n",
      "    301368       丰立智能  88.00      -1.35     -133552529.0           9\n",
      "    603198       迎驾贡酒 60.640       2.40       55839439.0           8\n",
      "    605208        永茂泰 15.870      -3.99       12710427.0           9\n",
      "    603993       洛阳钼业  7.700      -1.41       64061269.0           8\n",
      "    000596       古井贡酒 189.17       5.48      -16307812.0           8\n",
      "    600711       ST盛屯  5.550       2.78      -13048991.0           8\n",
      "已更新监控页面 -> stock_realtime_monitor.html\n"
     ]
    },
    {
     "name": "stderr",
     "output_type": "stream",
     "text": [
      "C:\\Users\\charl\\AppData\\Local\\Temp\\ipykernel_65656\\701453132.py:104: FutureWarning: Styler.applymap has been deprecated. Use Styler.map instead.\n",
      "  .applymap(style_predictions, subset=['prediction'])\n"
     ]
    },
    {
     "name": "stdout",
     "output_type": "stream",
     "text": [
      "最新更新：17:33:28\n",
      "stock_code short_name  price change_pct  main_net_inflow  prediction\n",
      "    600961       株冶集团  9.750       5.86       89664573.0          10\n",
      "    601020       华钰矿业 24.440       2.86       94040044.0           9\n",
      "    600367       红星发展 15.380       4.63       52339353.0           9\n",
      "    002155       湖南黄金  23.52       7.50      307973502.0           9\n",
      "    301368       丰立智能  88.00      -1.35     -133552529.0           9\n",
      "    603198       迎驾贡酒 60.640       2.40       55839439.0           8\n",
      "    605208        永茂泰 15.870      -3.99       12710427.0           9\n",
      "    603993       洛阳钼业  7.700      -1.41       64061269.0           8\n",
      "    000596       古井贡酒 189.17       5.48      -16307812.0           8\n",
      "    600711       ST盛屯  5.550       2.78      -13048991.0           8\n",
      "已更新监控页面 -> stock_realtime_monitor.html\n"
     ]
    },
    {
     "name": "stderr",
     "output_type": "stream",
     "text": [
      "C:\\Users\\charl\\AppData\\Local\\Temp\\ipykernel_65656\\701453132.py:104: FutureWarning: Styler.applymap has been deprecated. Use Styler.map instead.\n",
      "  .applymap(style_predictions, subset=['prediction'])\n"
     ]
    },
    {
     "name": "stdout",
     "output_type": "stream",
     "text": [
      "获取605208资金流数据失败: HTTPSConnectionPool(host='push2delay.eastmoney.com', port=443): Max retries exceeded with url: /api/qt/stock/fflow/kline/get?lmt=0&klt=1&fields1=f1,f2,f3,f7&fields2=f51,f52,f53,f54,f55,f56,f57,f58,f59,f60,f61,f62,f63,f64,f65&secid=1.605208 (Caused by ConnectTimeoutError(<urllib3.connection.HTTPSConnection object at 0x00000188EF11D110>, 'Connection to push2delay.eastmoney.com timed out. (connect timeout=None)'))\n",
      "最新更新：17:34:19\n",
      "stock_code short_name  price change_pct  main_net_inflow  prediction\n",
      "    600961       株冶集团  9.750       5.86       89664573.0          10\n",
      "    601020       华钰矿业 24.440       2.86       94040044.0           9\n",
      "    600367       红星发展 15.380       4.63       52339353.0           9\n",
      "    002155       湖南黄金  23.52       7.50      307973502.0           9\n",
      "    301368       丰立智能  88.00      -1.35     -133552529.0           9\n",
      "    603198       迎驾贡酒 60.640       2.40       55839439.0           8\n",
      "    605208        永茂泰 15.870      -3.99              NaN           9\n",
      "    603993       洛阳钼业  7.700      -1.41       64061269.0           8\n",
      "    000596       古井贡酒 189.17       5.48      -16307812.0           8\n",
      "    600711       ST盛屯  5.550       2.78      -13048991.0           8\n",
      "已更新监控页面 -> stock_realtime_monitor.html\n"
     ]
    },
    {
     "name": "stderr",
     "output_type": "stream",
     "text": [
      "C:\\Users\\charl\\AppData\\Local\\Temp\\ipykernel_65656\\701453132.py:104: FutureWarning: Styler.applymap has been deprecated. Use Styler.map instead.\n",
      "  .applymap(style_predictions, subset=['prediction'])\n"
     ]
    },
    {
     "name": "stdout",
     "output_type": "stream",
     "text": [
      "最新更新：17:34:56\n",
      "stock_code short_name  price change_pct  main_net_inflow  prediction\n",
      "    600961       株冶集团  9.750       5.86       89664573.0          10\n",
      "    601020       华钰矿业 24.440       2.86       94040044.0           9\n",
      "    600367       红星发展 15.380       4.63       52339353.0           9\n",
      "    002155       湖南黄金  23.52       7.50      307973502.0           9\n",
      "    301368       丰立智能  88.00      -1.35     -133552529.0           9\n",
      "    603198       迎驾贡酒 60.640       2.40       55839439.0           8\n",
      "    605208        永茂泰 15.870      -3.99       12710427.0           9\n",
      "    603993       洛阳钼业  7.700      -1.41       64061269.0           8\n",
      "    000596       古井贡酒 189.17       5.48      -16307812.0           8\n",
      "    600711       ST盛屯  5.550       2.78      -13048991.0           8\n",
      "已更新监控页面 -> stock_realtime_monitor.html\n"
     ]
    },
    {
     "name": "stderr",
     "output_type": "stream",
     "text": [
      "C:\\Users\\charl\\AppData\\Local\\Temp\\ipykernel_65656\\701453132.py:104: FutureWarning: Styler.applymap has been deprecated. Use Styler.map instead.\n",
      "  .applymap(style_predictions, subset=['prediction'])\n"
     ]
    },
    {
     "name": "stdout",
     "output_type": "stream",
     "text": [
      "最新更新：17:35:26\n",
      "stock_code short_name  price change_pct  main_net_inflow  prediction\n",
      "    600961       株冶集团  9.750       5.86       89664573.0          10\n",
      "    601020       华钰矿业 24.440       2.86       94040044.0           9\n",
      "    600367       红星发展 15.380       4.63       52339353.0           9\n",
      "    002155       湖南黄金  23.52       7.50      307973502.0           9\n",
      "    301368       丰立智能  88.00      -1.35     -133552529.0           9\n",
      "    603198       迎驾贡酒 60.640       2.40       55839439.0           8\n",
      "    605208        永茂泰 15.870      -3.99       12710427.0           9\n",
      "    603993       洛阳钼业  7.700      -1.41       64061269.0           8\n",
      "    000596       古井贡酒 189.17       5.48      -16307812.0           8\n",
      "    600711       ST盛屯  5.550       2.78      -13048991.0           8\n",
      "已更新监控页面 -> stock_realtime_monitor.html\n"
     ]
    },
    {
     "name": "stderr",
     "output_type": "stream",
     "text": [
      "C:\\Users\\charl\\AppData\\Local\\Temp\\ipykernel_65656\\701453132.py:104: FutureWarning: Styler.applymap has been deprecated. Use Styler.map instead.\n",
      "  .applymap(style_predictions, subset=['prediction'])\n"
     ]
    },
    {
     "name": "stdout",
     "output_type": "stream",
     "text": [
      "最新更新：17:35:57\n",
      "stock_code short_name  price change_pct  main_net_inflow  prediction\n",
      "    600961       株冶集团  9.750       5.86       89664573.0          10\n",
      "    601020       华钰矿业 24.440       2.86       94040044.0           9\n",
      "    600367       红星发展 15.380       4.63       52339353.0           9\n",
      "    002155       湖南黄金  23.52       7.50      307973502.0           9\n",
      "    301368       丰立智能  88.00      -1.35     -133552529.0           9\n",
      "    603198       迎驾贡酒 60.640       2.40       55839439.0           8\n",
      "    605208        永茂泰 15.870      -3.99       12710427.0           9\n",
      "    603993       洛阳钼业  7.700      -1.41       64061269.0           8\n",
      "    000596       古井贡酒 189.17       5.48      -16307812.0           8\n",
      "    600711       ST盛屯  5.550       2.78      -13048991.0           8\n",
      "已更新监控页面 -> stock_realtime_monitor.html\n"
     ]
    },
    {
     "name": "stderr",
     "output_type": "stream",
     "text": [
      "C:\\Users\\charl\\AppData\\Local\\Temp\\ipykernel_65656\\701453132.py:104: FutureWarning: Styler.applymap has been deprecated. Use Styler.map instead.\n",
      "  .applymap(style_predictions, subset=['prediction'])\n"
     ]
    },
    {
     "name": "stdout",
     "output_type": "stream",
     "text": [
      "最新更新：17:36:26\n",
      "stock_code short_name  price change_pct  main_net_inflow  prediction\n",
      "    600961       株冶集团  9.750       5.86       89664573.0          10\n",
      "    601020       华钰矿业 24.440       2.86       94040044.0           9\n",
      "    600367       红星发展 15.380       4.63       52339353.0           9\n",
      "    002155       湖南黄金  23.52       7.50      307973502.0           9\n",
      "    301368       丰立智能  88.00      -1.35     -133552529.0           9\n",
      "    603198       迎驾贡酒 60.640       2.40       55839439.0           8\n",
      "    605208        永茂泰 15.870      -3.99       12710427.0           9\n",
      "    603993       洛阳钼业  7.700      -1.41       64061269.0           8\n",
      "    000596       古井贡酒 189.17       5.48      -16307812.0           8\n",
      "    600711       ST盛屯  5.550       2.78      -13048991.0           8\n",
      "已更新监控页面 -> stock_realtime_monitor.html\n"
     ]
    },
    {
     "name": "stderr",
     "output_type": "stream",
     "text": [
      "C:\\Users\\charl\\AppData\\Local\\Temp\\ipykernel_65656\\701453132.py:104: FutureWarning: Styler.applymap has been deprecated. Use Styler.map instead.\n",
      "  .applymap(style_predictions, subset=['prediction'])\n"
     ]
    },
    {
     "name": "stdout",
     "output_type": "stream",
     "text": [
      "最新更新：17:36:58\n",
      "stock_code short_name  price change_pct  main_net_inflow  prediction\n",
      "    600961       株冶集团  9.750       5.86       89664573.0          10\n",
      "    601020       华钰矿业 24.440       2.86       94040044.0           9\n",
      "    600367       红星发展 15.380       4.63       52339353.0           9\n",
      "    002155       湖南黄金  23.52       7.50      307973502.0           9\n",
      "    301368       丰立智能  88.00      -1.35     -133552529.0           9\n",
      "    603198       迎驾贡酒 60.640       2.40       55839439.0           8\n",
      "    605208        永茂泰 15.870      -3.99       12710427.0           9\n",
      "    603993       洛阳钼业  7.700      -1.41       64061269.0           8\n",
      "    000596       古井贡酒 189.17       5.48      -16307812.0           8\n",
      "    600711       ST盛屯  5.550       2.78      -13048991.0           8\n",
      "已更新监控页面 -> stock_realtime_monitor.html\n"
     ]
    },
    {
     "name": "stderr",
     "output_type": "stream",
     "text": [
      "C:\\Users\\charl\\AppData\\Local\\Temp\\ipykernel_65656\\701453132.py:104: FutureWarning: Styler.applymap has been deprecated. Use Styler.map instead.\n",
      "  .applymap(style_predictions, subset=['prediction'])\n"
     ]
    },
    {
     "name": "stdout",
     "output_type": "stream",
     "text": [
      "最新更新：17:37:29\n",
      "stock_code short_name  price change_pct  main_net_inflow  prediction\n",
      "    600961       株冶集团  9.750       5.86       89664573.0          10\n",
      "    601020       华钰矿业 24.440       2.86       94040044.0           9\n",
      "    600367       红星发展 15.380       4.63       52339353.0           9\n",
      "    002155       湖南黄金  23.52       7.50      307973502.0           9\n",
      "    301368       丰立智能  88.00      -1.35     -133552529.0           9\n",
      "    603198       迎驾贡酒 60.640       2.40       55839439.0           8\n",
      "    605208        永茂泰 15.870      -3.99       12710427.0           9\n",
      "    603993       洛阳钼业  7.700      -1.41       64061269.0           8\n",
      "    000596       古井贡酒 189.17       5.48      -16307812.0           8\n",
      "    600711       ST盛屯  5.550       2.78      -13048991.0           8\n",
      "已更新监控页面 -> stock_realtime_monitor.html\n"
     ]
    },
    {
     "name": "stderr",
     "output_type": "stream",
     "text": [
      "C:\\Users\\charl\\AppData\\Local\\Temp\\ipykernel_65656\\701453132.py:104: FutureWarning: Styler.applymap has been deprecated. Use Styler.map instead.\n",
      "  .applymap(style_predictions, subset=['prediction'])\n"
     ]
    },
    {
     "name": "stdout",
     "output_type": "stream",
     "text": [
      "最新更新：17:37:58\n",
      "stock_code short_name  price change_pct  main_net_inflow  prediction\n",
      "    600961       株冶集团  9.750       5.86       89664573.0          10\n",
      "    601020       华钰矿业 24.440       2.86       94040044.0           9\n",
      "    600367       红星发展 15.380       4.63       52339353.0           9\n",
      "    002155       湖南黄金  23.52       7.50      307973502.0           9\n",
      "    301368       丰立智能  88.00      -1.35     -133552529.0           9\n",
      "    603198       迎驾贡酒 60.640       2.40       55839439.0           8\n",
      "    605208        永茂泰 15.870      -3.99       12710427.0           9\n",
      "    603993       洛阳钼业  7.700      -1.41       64061269.0           8\n",
      "    000596       古井贡酒 189.17       5.48      -16307812.0           8\n",
      "    600711       ST盛屯  5.550       2.78      -13048991.0           8\n",
      "已更新监控页面 -> stock_realtime_monitor.html\n"
     ]
    },
    {
     "name": "stderr",
     "output_type": "stream",
     "text": [
      "C:\\Users\\charl\\AppData\\Local\\Temp\\ipykernel_65656\\701453132.py:104: FutureWarning: Styler.applymap has been deprecated. Use Styler.map instead.\n",
      "  .applymap(style_predictions, subset=['prediction'])\n"
     ]
    },
    {
     "name": "stdout",
     "output_type": "stream",
     "text": [
      "最新更新：17:38:26\n",
      "stock_code short_name  price change_pct  main_net_inflow  prediction\n",
      "    600961       株冶集团  9.750       5.86       89664573.0          10\n",
      "    601020       华钰矿业 24.440       2.86       94040044.0           9\n",
      "    600367       红星发展 15.380       4.63       52339353.0           9\n",
      "    002155       湖南黄金  23.52       7.50      307973502.0           9\n",
      "    301368       丰立智能  88.00      -1.35     -133552529.0           9\n",
      "    603198       迎驾贡酒 60.640       2.40       55839439.0           8\n",
      "    605208        永茂泰 15.870      -3.99       12710427.0           9\n",
      "    603993       洛阳钼业  7.700      -1.41       64061269.0           8\n",
      "    000596       古井贡酒 189.17       5.48      -16307812.0           8\n",
      "    600711       ST盛屯  5.550       2.78      -13048991.0           8\n",
      "已更新监控页面 -> stock_realtime_monitor.html\n"
     ]
    },
    {
     "name": "stderr",
     "output_type": "stream",
     "text": [
      "C:\\Users\\charl\\AppData\\Local\\Temp\\ipykernel_65656\\701453132.py:104: FutureWarning: Styler.applymap has been deprecated. Use Styler.map instead.\n",
      "  .applymap(style_predictions, subset=['prediction'])\n"
     ]
    },
    {
     "name": "stdout",
     "output_type": "stream",
     "text": [
      "最新更新：17:38:59\n",
      "stock_code short_name  price change_pct  main_net_inflow  prediction\n",
      "    600961       株冶集团  9.750       5.86       89664573.0          10\n",
      "    601020       华钰矿业 24.440       2.86       94040044.0           9\n",
      "    600367       红星发展 15.380       4.63       52339353.0           9\n",
      "    002155       湖南黄金  23.52       7.50      307973502.0           9\n",
      "    301368       丰立智能  88.00      -1.35     -133552529.0           9\n",
      "    603198       迎驾贡酒 60.640       2.40       55839439.0           8\n",
      "    605208        永茂泰 15.870      -3.99       12710427.0           9\n",
      "    603993       洛阳钼业  7.700      -1.41       64061269.0           8\n",
      "    000596       古井贡酒 189.17       5.48      -16307812.0           8\n",
      "    600711       ST盛屯  5.550       2.78      -13048991.0           8\n",
      "已更新监控页面 -> stock_realtime_monitor.html\n"
     ]
    },
    {
     "name": "stderr",
     "output_type": "stream",
     "text": [
      "C:\\Users\\charl\\AppData\\Local\\Temp\\ipykernel_65656\\701453132.py:104: FutureWarning: Styler.applymap has been deprecated. Use Styler.map instead.\n",
      "  .applymap(style_predictions, subset=['prediction'])\n"
     ]
    },
    {
     "name": "stdout",
     "output_type": "stream",
     "text": [
      "最新更新：17:39:29\n",
      "stock_code short_name  price change_pct  main_net_inflow  prediction\n",
      "    600961       株冶集团  9.750       5.86       89664573.0          10\n",
      "    601020       华钰矿业 24.440       2.86       94040044.0           9\n",
      "    600367       红星发展 15.380       4.63       52339353.0           9\n",
      "    002155       湖南黄金  23.52       7.50      307973502.0           9\n",
      "    301368       丰立智能  88.00      -1.35     -133552529.0           9\n",
      "    603198       迎驾贡酒 60.640       2.40       55839439.0           8\n",
      "    605208        永茂泰 15.870      -3.99       12710427.0           9\n",
      "    603993       洛阳钼业  7.700      -1.41       64061269.0           8\n",
      "    000596       古井贡酒 189.17       5.48      -16307812.0           8\n",
      "    600711       ST盛屯  5.550       2.78      -13048991.0           8\n",
      "已更新监控页面 -> stock_realtime_monitor.html\n"
     ]
    },
    {
     "name": "stderr",
     "output_type": "stream",
     "text": [
      "C:\\Users\\charl\\AppData\\Local\\Temp\\ipykernel_65656\\701453132.py:104: FutureWarning: Styler.applymap has been deprecated. Use Styler.map instead.\n",
      "  .applymap(style_predictions, subset=['prediction'])\n"
     ]
    },
    {
     "name": "stdout",
     "output_type": "stream",
     "text": [
      "最新更新：17:39:58\n",
      "stock_code short_name  price change_pct  main_net_inflow  prediction\n",
      "    600961       株冶集团  9.750       5.86       89664573.0          10\n",
      "    601020       华钰矿业 24.440       2.86       94040044.0           9\n",
      "    600367       红星发展 15.380       4.63       52339353.0           9\n",
      "    002155       湖南黄金  23.52       7.50      307973502.0           9\n",
      "    301368       丰立智能  88.00      -1.35     -133552529.0           9\n",
      "    603198       迎驾贡酒 60.640       2.40       55839439.0           8\n",
      "    605208        永茂泰 15.870      -3.99       12710427.0           9\n",
      "    603993       洛阳钼业  7.700      -1.41       64061269.0           8\n",
      "    000596       古井贡酒 189.17       5.48      -16307812.0           8\n",
      "    600711       ST盛屯  5.550       2.78      -13048991.0           8\n",
      "已更新监控页面 -> stock_realtime_monitor.html\n"
     ]
    },
    {
     "name": "stderr",
     "output_type": "stream",
     "text": [
      "C:\\Users\\charl\\AppData\\Local\\Temp\\ipykernel_65656\\701453132.py:104: FutureWarning: Styler.applymap has been deprecated. Use Styler.map instead.\n",
      "  .applymap(style_predictions, subset=['prediction'])\n"
     ]
    },
    {
     "name": "stdout",
     "output_type": "stream",
     "text": [
      "最新更新：17:40:28\n",
      "stock_code short_name  price change_pct  main_net_inflow  prediction\n",
      "    600961       株冶集团  9.750       5.86       89664573.0          10\n",
      "    601020       华钰矿业 24.440       2.86       94040044.0           9\n",
      "    600367       红星发展 15.380       4.63       52339353.0           9\n",
      "    002155       湖南黄金  23.52       7.50      307973502.0           9\n",
      "    301368       丰立智能  88.00      -1.35     -133552529.0           9\n",
      "    603198       迎驾贡酒 60.640       2.40       55839439.0           8\n",
      "    605208        永茂泰 15.870      -3.99       12710427.0           9\n",
      "    603993       洛阳钼业  7.700      -1.41       64061269.0           8\n",
      "    000596       古井贡酒 189.17       5.48      -16307812.0           8\n",
      "    600711       ST盛屯  5.550       2.78      -13048991.0           8\n",
      "已更新监控页面 -> stock_realtime_monitor.html\n"
     ]
    },
    {
     "name": "stderr",
     "output_type": "stream",
     "text": [
      "C:\\Users\\charl\\AppData\\Local\\Temp\\ipykernel_65656\\701453132.py:104: FutureWarning: Styler.applymap has been deprecated. Use Styler.map instead.\n",
      "  .applymap(style_predictions, subset=['prediction'])\n"
     ]
    },
    {
     "name": "stdout",
     "output_type": "stream",
     "text": [
      "最新更新：17:40:57\n",
      "stock_code short_name  price change_pct  main_net_inflow  prediction\n",
      "    600961       株冶集团  9.750       5.86       89664573.0          10\n",
      "    601020       华钰矿业 24.440       2.86       94040044.0           9\n",
      "    600367       红星发展 15.380       4.63       52339353.0           9\n",
      "    002155       湖南黄金  23.52       7.50      307973502.0           9\n",
      "    301368       丰立智能  88.00      -1.35     -133552529.0           9\n",
      "    603198       迎驾贡酒 60.640       2.40       55839439.0           8\n",
      "    605208        永茂泰 15.870      -3.99       12710427.0           9\n",
      "    603993       洛阳钼业  7.700      -1.41       64061269.0           8\n",
      "    000596       古井贡酒 189.17       5.48      -16307812.0           8\n",
      "    600711       ST盛屯  5.550       2.78      -13048991.0           8\n",
      "已更新监控页面 -> stock_realtime_monitor.html\n"
     ]
    },
    {
     "name": "stderr",
     "output_type": "stream",
     "text": [
      "C:\\Users\\charl\\AppData\\Local\\Temp\\ipykernel_65656\\701453132.py:104: FutureWarning: Styler.applymap has been deprecated. Use Styler.map instead.\n",
      "  .applymap(style_predictions, subset=['prediction'])\n"
     ]
    },
    {
     "name": "stdout",
     "output_type": "stream",
     "text": [
      "最新更新：17:41:26\n",
      "stock_code short_name  price change_pct  main_net_inflow  prediction\n",
      "    600961       株冶集团  9.750       5.86       89664573.0          10\n",
      "    601020       华钰矿业 24.440       2.86       94040044.0           9\n",
      "    600367       红星发展 15.380       4.63       52339353.0           9\n",
      "    002155       湖南黄金  23.52       7.50      307973502.0           9\n",
      "    301368       丰立智能  88.00      -1.35     -133552529.0           9\n",
      "    603198       迎驾贡酒 60.640       2.40       55839439.0           8\n",
      "    605208        永茂泰 15.870      -3.99       12710427.0           9\n",
      "    603993       洛阳钼业  7.700      -1.41       64061269.0           8\n",
      "    000596       古井贡酒 189.17       5.48      -16307812.0           8\n",
      "    600711       ST盛屯  5.550       2.78      -13048991.0           8\n",
      "已更新监控页面 -> stock_realtime_monitor.html\n"
     ]
    },
    {
     "name": "stderr",
     "output_type": "stream",
     "text": [
      "C:\\Users\\charl\\AppData\\Local\\Temp\\ipykernel_65656\\701453132.py:104: FutureWarning: Styler.applymap has been deprecated. Use Styler.map instead.\n",
      "  .applymap(style_predictions, subset=['prediction'])\n"
     ]
    },
    {
     "name": "stdout",
     "output_type": "stream",
     "text": [
      "最新更新：17:41:58\n",
      "stock_code short_name  price change_pct  main_net_inflow  prediction\n",
      "    600961       株冶集团  9.750       5.86       89664573.0          10\n",
      "    601020       华钰矿业 24.440       2.86       94040044.0           9\n",
      "    600367       红星发展 15.380       4.63       52339353.0           9\n",
      "    002155       湖南黄金  23.52       7.50      307973502.0           9\n",
      "    301368       丰立智能  88.00      -1.35     -133552529.0           9\n",
      "    603198       迎驾贡酒 60.640       2.40       55839439.0           8\n",
      "    605208        永茂泰 15.870      -3.99       12710427.0           9\n",
      "    603993       洛阳钼业  7.700      -1.41       64061269.0           8\n",
      "    000596       古井贡酒 189.17       5.48      -16307812.0           8\n",
      "    600711       ST盛屯  5.550       2.78      -13048991.0           8\n",
      "已更新监控页面 -> stock_realtime_monitor.html\n"
     ]
    },
    {
     "name": "stderr",
     "output_type": "stream",
     "text": [
      "C:\\Users\\charl\\AppData\\Local\\Temp\\ipykernel_65656\\701453132.py:104: FutureWarning: Styler.applymap has been deprecated. Use Styler.map instead.\n",
      "  .applymap(style_predictions, subset=['prediction'])\n"
     ]
    },
    {
     "name": "stdout",
     "output_type": "stream",
     "text": [
      "最新更新：17:42:30\n",
      "stock_code short_name  price change_pct  main_net_inflow  prediction\n",
      "    600961       株冶集团  9.750       5.86       89664573.0          10\n",
      "    601020       华钰矿业 24.440       2.86       94040044.0           9\n",
      "    600367       红星发展 15.380       4.63       52339353.0           9\n",
      "    002155       湖南黄金  23.52       7.50      307973502.0           9\n",
      "    301368       丰立智能  88.00      -1.35     -133552529.0           9\n",
      "    603198       迎驾贡酒 60.640       2.40       55839439.0           8\n",
      "    605208        永茂泰 15.870      -3.99       12710427.0           9\n",
      "    603993       洛阳钼业  7.700      -1.41       64061269.0           8\n",
      "    000596       古井贡酒 189.17       5.48      -16307812.0           8\n",
      "    600711       ST盛屯  5.550       2.78      -13048991.0           8\n",
      "已更新监控页面 -> stock_realtime_monitor.html\n"
     ]
    },
    {
     "name": "stderr",
     "output_type": "stream",
     "text": [
      "C:\\Users\\charl\\AppData\\Local\\Temp\\ipykernel_65656\\701453132.py:104: FutureWarning: Styler.applymap has been deprecated. Use Styler.map instead.\n",
      "  .applymap(style_predictions, subset=['prediction'])\n"
     ]
    },
    {
     "name": "stdout",
     "output_type": "stream",
     "text": [
      "最新更新：17:42:59\n",
      "stock_code short_name  price change_pct  main_net_inflow  prediction\n",
      "    600961       株冶集团  9.750       5.86       89664573.0          10\n",
      "    601020       华钰矿业 24.440       2.86       94040044.0           9\n",
      "    600367       红星发展 15.380       4.63       52339353.0           9\n",
      "    002155       湖南黄金  23.52       7.50      307973502.0           9\n",
      "    301368       丰立智能  88.00      -1.35     -133552529.0           9\n",
      "    603198       迎驾贡酒 60.640       2.40       55839439.0           8\n",
      "    605208        永茂泰 15.870      -3.99       12710427.0           9\n",
      "    603993       洛阳钼业  7.700      -1.41       64061269.0           8\n",
      "    000596       古井贡酒 189.17       5.48      -16307812.0           8\n",
      "    600711       ST盛屯  5.550       2.78      -13048991.0           8\n",
      "已更新监控页面 -> stock_realtime_monitor.html\n"
     ]
    },
    {
     "name": "stderr",
     "output_type": "stream",
     "text": [
      "C:\\Users\\charl\\AppData\\Local\\Temp\\ipykernel_65656\\701453132.py:104: FutureWarning: Styler.applymap has been deprecated. Use Styler.map instead.\n",
      "  .applymap(style_predictions, subset=['prediction'])\n"
     ]
    },
    {
     "name": "stdout",
     "output_type": "stream",
     "text": [
      "最新更新：17:43:28\n",
      "stock_code short_name  price change_pct  main_net_inflow  prediction\n",
      "    600961       株冶集团  9.750       5.86       89664573.0          10\n",
      "    601020       华钰矿业 24.440       2.86       94040044.0           9\n",
      "    600367       红星发展 15.380       4.63       52339353.0           9\n",
      "    002155       湖南黄金  23.52       7.50      307973502.0           9\n",
      "    301368       丰立智能  88.00      -1.35     -133552529.0           9\n",
      "    603198       迎驾贡酒 60.640       2.40       55839439.0           8\n",
      "    605208        永茂泰 15.870      -3.99       12710427.0           9\n",
      "    603993       洛阳钼业  7.700      -1.41       64061269.0           8\n",
      "    000596       古井贡酒 189.17       5.48      -16307812.0           8\n",
      "    600711       ST盛屯  5.550       2.78      -13048991.0           8\n",
      "已更新监控页面 -> stock_realtime_monitor.html\n"
     ]
    },
    {
     "name": "stderr",
     "output_type": "stream",
     "text": [
      "C:\\Users\\charl\\AppData\\Local\\Temp\\ipykernel_65656\\701453132.py:104: FutureWarning: Styler.applymap has been deprecated. Use Styler.map instead.\n",
      "  .applymap(style_predictions, subset=['prediction'])\n"
     ]
    },
    {
     "name": "stdout",
     "output_type": "stream",
     "text": [
      "最新更新：17:43:56\n",
      "stock_code short_name  price change_pct  main_net_inflow  prediction\n",
      "    600961       株冶集团  9.750       5.86       89664573.0          10\n",
      "    601020       华钰矿业 24.440       2.86       94040044.0           9\n",
      "    600367       红星发展 15.380       4.63       52339353.0           9\n",
      "    002155       湖南黄金  23.52       7.50      307973502.0           9\n",
      "    301368       丰立智能  88.00      -1.35     -133552529.0           9\n",
      "    603198       迎驾贡酒 60.640       2.40       55839439.0           8\n",
      "    605208        永茂泰 15.870      -3.99       12710427.0           9\n",
      "    603993       洛阳钼业  7.700      -1.41       64061269.0           8\n",
      "    000596       古井贡酒 189.17       5.48      -16307812.0           8\n",
      "    600711       ST盛屯  5.550       2.78      -13048991.0           8\n",
      "已更新监控页面 -> stock_realtime_monitor.html\n"
     ]
    },
    {
     "name": "stderr",
     "output_type": "stream",
     "text": [
      "C:\\Users\\charl\\AppData\\Local\\Temp\\ipykernel_65656\\701453132.py:104: FutureWarning: Styler.applymap has been deprecated. Use Styler.map instead.\n",
      "  .applymap(style_predictions, subset=['prediction'])\n"
     ]
    },
    {
     "name": "stdout",
     "output_type": "stream",
     "text": [
      "最新更新：17:44:28\n",
      "stock_code short_name  price change_pct  main_net_inflow  prediction\n",
      "    600961       株冶集团  9.750       5.86       89664573.0          10\n",
      "    601020       华钰矿业 24.440       2.86       94040044.0           9\n",
      "    600367       红星发展 15.380       4.63       52339353.0           9\n",
      "    002155       湖南黄金  23.52       7.50      307973502.0           9\n",
      "    301368       丰立智能  88.00      -1.35     -133552529.0           9\n",
      "    603198       迎驾贡酒 60.640       2.40       55839439.0           8\n",
      "    605208        永茂泰 15.870      -3.99       12710427.0           9\n",
      "    603993       洛阳钼业  7.700      -1.41       64061269.0           8\n",
      "    000596       古井贡酒 189.17       5.48      -16307812.0           8\n",
      "    600711       ST盛屯  5.550       2.78      -13048991.0           8\n",
      "已更新监控页面 -> stock_realtime_monitor.html\n"
     ]
    },
    {
     "name": "stderr",
     "output_type": "stream",
     "text": [
      "C:\\Users\\charl\\AppData\\Local\\Temp\\ipykernel_65656\\701453132.py:104: FutureWarning: Styler.applymap has been deprecated. Use Styler.map instead.\n",
      "  .applymap(style_predictions, subset=['prediction'])\n"
     ]
    },
    {
     "name": "stdout",
     "output_type": "stream",
     "text": [
      "最新更新：17:45:00\n",
      "stock_code short_name  price change_pct  main_net_inflow  prediction\n",
      "    600961       株冶集团  9.750       5.86       89664573.0          10\n",
      "    601020       华钰矿业 24.440       2.86       94040044.0           9\n",
      "    600367       红星发展 15.380       4.63       52339353.0           9\n",
      "    002155       湖南黄金  23.52       7.50      307973502.0           9\n",
      "    301368       丰立智能  88.00      -1.35     -133552529.0           9\n",
      "    603198       迎驾贡酒 60.640       2.40       55839439.0           8\n",
      "    605208        永茂泰 15.870      -3.99       12710427.0           9\n",
      "    603993       洛阳钼业  7.700      -1.41       64061269.0           8\n",
      "    000596       古井贡酒 189.17       5.48      -16307812.0           8\n",
      "    600711       ST盛屯  5.550       2.78      -13048991.0           8\n",
      "已更新监控页面 -> stock_realtime_monitor.html\n"
     ]
    },
    {
     "name": "stderr",
     "output_type": "stream",
     "text": [
      "C:\\Users\\charl\\AppData\\Local\\Temp\\ipykernel_65656\\701453132.py:104: FutureWarning: Styler.applymap has been deprecated. Use Styler.map instead.\n",
      "  .applymap(style_predictions, subset=['prediction'])\n"
     ]
    },
    {
     "name": "stdout",
     "output_type": "stream",
     "text": [
      "最新更新：17:45:30\n",
      "stock_code short_name  price change_pct  main_net_inflow  prediction\n",
      "    600961       株冶集团  9.750       5.86       89664573.0          10\n",
      "    601020       华钰矿业 24.440       2.86       94040044.0           9\n",
      "    600367       红星发展 15.380       4.63       52339353.0           9\n",
      "    002155       湖南黄金  23.52       7.50      307973502.0           9\n",
      "    301368       丰立智能  88.00      -1.35     -133552529.0           9\n",
      "    603198       迎驾贡酒 60.640       2.40       55839439.0           8\n",
      "    605208        永茂泰 15.870      -3.99       12710427.0           9\n",
      "    603993       洛阳钼业  7.700      -1.41       64061269.0           8\n",
      "    000596       古井贡酒 189.17       5.48      -16307812.0           8\n",
      "    600711       ST盛屯  5.550       2.78      -13048991.0           8\n",
      "已更新监控页面 -> stock_realtime_monitor.html\n"
     ]
    },
    {
     "name": "stderr",
     "output_type": "stream",
     "text": [
      "C:\\Users\\charl\\AppData\\Local\\Temp\\ipykernel_65656\\701453132.py:104: FutureWarning: Styler.applymap has been deprecated. Use Styler.map instead.\n",
      "  .applymap(style_predictions, subset=['prediction'])\n"
     ]
    },
    {
     "name": "stdout",
     "output_type": "stream",
     "text": [
      "最新更新：17:45:57\n",
      "stock_code short_name  price change_pct  main_net_inflow  prediction\n",
      "    600961       株冶集团  9.750       5.86       89664573.0          10\n",
      "    601020       华钰矿业 24.440       2.86       94040044.0           9\n",
      "    600367       红星发展 15.380       4.63       52339353.0           9\n",
      "    002155       湖南黄金  23.52       7.50      307973502.0           9\n",
      "    301368       丰立智能  88.00      -1.35     -133552529.0           9\n",
      "    603198       迎驾贡酒 60.640       2.40       55839439.0           8\n",
      "    605208        永茂泰 15.870      -3.99       12710427.0           9\n",
      "    603993       洛阳钼业  7.700      -1.41       64061269.0           8\n",
      "    000596       古井贡酒 189.17       5.48      -16307812.0           8\n",
      "    600711       ST盛屯  5.550       2.78      -13048991.0           8\n",
      "已更新监控页面 -> stock_realtime_monitor.html\n"
     ]
    },
    {
     "name": "stderr",
     "output_type": "stream",
     "text": [
      "C:\\Users\\charl\\AppData\\Local\\Temp\\ipykernel_65656\\701453132.py:104: FutureWarning: Styler.applymap has been deprecated. Use Styler.map instead.\n",
      "  .applymap(style_predictions, subset=['prediction'])\n"
     ]
    },
    {
     "name": "stdout",
     "output_type": "stream",
     "text": [
      "最新更新：17:46:26\n",
      "stock_code short_name  price change_pct  main_net_inflow  prediction\n",
      "    600961       株冶集团  9.750       5.86       89664573.0          10\n",
      "    601020       华钰矿业 24.440       2.86       94040044.0           9\n",
      "    600367       红星发展 15.380       4.63       52339353.0           9\n",
      "    002155       湖南黄金  23.52       7.50      307973502.0           9\n",
      "    301368       丰立智能  88.00      -1.35     -133552529.0           9\n",
      "    603198       迎驾贡酒 60.640       2.40       55839439.0           8\n",
      "    605208        永茂泰 15.870      -3.99       12710427.0           9\n",
      "    603993       洛阳钼业  7.700      -1.41       64061269.0           8\n",
      "    000596       古井贡酒 189.17       5.48      -16307812.0           8\n",
      "    600711       ST盛屯  5.550       2.78      -13048991.0           8\n",
      "已更新监控页面 -> stock_realtime_monitor.html\n"
     ]
    },
    {
     "name": "stderr",
     "output_type": "stream",
     "text": [
      "C:\\Users\\charl\\AppData\\Local\\Temp\\ipykernel_65656\\701453132.py:104: FutureWarning: Styler.applymap has been deprecated. Use Styler.map instead.\n",
      "  .applymap(style_predictions, subset=['prediction'])\n"
     ]
    },
    {
     "name": "stdout",
     "output_type": "stream",
     "text": [
      "最新更新：17:46:57\n",
      "stock_code short_name  price change_pct  main_net_inflow  prediction\n",
      "    600961       株冶集团  9.750       5.86       89664573.0          10\n",
      "    601020       华钰矿业 24.440       2.86       94040044.0           9\n",
      "    600367       红星发展 15.380       4.63       52339353.0           9\n",
      "    002155       湖南黄金  23.52       7.50      307973502.0           9\n",
      "    301368       丰立智能  88.00      -1.35     -133552529.0           9\n",
      "    603198       迎驾贡酒 60.640       2.40       55839439.0           8\n",
      "    605208        永茂泰 15.870      -3.99       12710427.0           9\n",
      "    603993       洛阳钼业  7.700      -1.41       64061269.0           8\n",
      "    000596       古井贡酒 189.17       5.48      -16307812.0           8\n",
      "    600711       ST盛屯  5.550       2.78      -13048991.0           8\n",
      "已更新监控页面 -> stock_realtime_monitor.html\n"
     ]
    },
    {
     "name": "stderr",
     "output_type": "stream",
     "text": [
      "C:\\Users\\charl\\AppData\\Local\\Temp\\ipykernel_65656\\701453132.py:104: FutureWarning: Styler.applymap has been deprecated. Use Styler.map instead.\n",
      "  .applymap(style_predictions, subset=['prediction'])\n"
     ]
    },
    {
     "name": "stdout",
     "output_type": "stream",
     "text": [
      "最新更新：17:47:27\n",
      "stock_code short_name  price change_pct  main_net_inflow  prediction\n",
      "    600961       株冶集团  9.750       5.86       89664573.0          10\n",
      "    601020       华钰矿业 24.440       2.86       94040044.0           9\n",
      "    600367       红星发展 15.380       4.63       52339353.0           9\n",
      "    002155       湖南黄金  23.52       7.50      307973502.0           9\n",
      "    301368       丰立智能  88.00      -1.35     -133552529.0           9\n",
      "    603198       迎驾贡酒 60.640       2.40       55839439.0           8\n",
      "    605208        永茂泰 15.870      -3.99       12710427.0           9\n",
      "    603993       洛阳钼业  7.700      -1.41       64061269.0           8\n",
      "    000596       古井贡酒 189.17       5.48      -16307812.0           8\n",
      "    600711       ST盛屯  5.550       2.78      -13048991.0           8\n",
      "已更新监控页面 -> stock_realtime_monitor.html\n"
     ]
    },
    {
     "name": "stderr",
     "output_type": "stream",
     "text": [
      "C:\\Users\\charl\\AppData\\Local\\Temp\\ipykernel_65656\\701453132.py:104: FutureWarning: Styler.applymap has been deprecated. Use Styler.map instead.\n",
      "  .applymap(style_predictions, subset=['prediction'])\n"
     ]
    },
    {
     "name": "stdout",
     "output_type": "stream",
     "text": [
      "最新更新：17:47:58\n",
      "stock_code short_name  price change_pct  main_net_inflow  prediction\n",
      "    600961       株冶集团  9.750       5.86       89664573.0          10\n",
      "    601020       华钰矿业 24.440       2.86       94040044.0           9\n",
      "    600367       红星发展 15.380       4.63       52339353.0           9\n",
      "    002155       湖南黄金  23.52       7.50      307973502.0           9\n",
      "    301368       丰立智能  88.00      -1.35     -133552529.0           9\n",
      "    603198       迎驾贡酒 60.640       2.40       55839439.0           8\n",
      "    605208        永茂泰 15.870      -3.99       12710427.0           9\n",
      "    603993       洛阳钼业  7.700      -1.41       64061269.0           8\n",
      "    000596       古井贡酒 189.17       5.48      -16307812.0           8\n",
      "    600711       ST盛屯  5.550       2.78      -13048991.0           8\n",
      "已更新监控页面 -> stock_realtime_monitor.html\n"
     ]
    },
    {
     "name": "stderr",
     "output_type": "stream",
     "text": [
      "C:\\Users\\charl\\AppData\\Local\\Temp\\ipykernel_65656\\701453132.py:104: FutureWarning: Styler.applymap has been deprecated. Use Styler.map instead.\n",
      "  .applymap(style_predictions, subset=['prediction'])\n"
     ]
    },
    {
     "name": "stdout",
     "output_type": "stream",
     "text": [
      "最新更新：17:48:28\n",
      "stock_code short_name  price change_pct  main_net_inflow  prediction\n",
      "    600961       株冶集团  9.750       5.86       89664573.0          10\n",
      "    601020       华钰矿业 24.440       2.86       94040044.0           9\n",
      "    600367       红星发展 15.380       4.63       52339353.0           9\n",
      "    002155       湖南黄金  23.52       7.50      307973502.0           9\n",
      "    301368       丰立智能  88.00      -1.35     -133552529.0           9\n",
      "    603198       迎驾贡酒 60.640       2.40       55839439.0           8\n",
      "    605208        永茂泰 15.870      -3.99       12710427.0           9\n",
      "    603993       洛阳钼业  7.700      -1.41       64061269.0           8\n",
      "    000596       古井贡酒 189.17       5.48      -16307812.0           8\n",
      "    600711       ST盛屯  5.550       2.78      -13048991.0           8\n",
      "已更新监控页面 -> stock_realtime_monitor.html\n"
     ]
    },
    {
     "name": "stderr",
     "output_type": "stream",
     "text": [
      "C:\\Users\\charl\\AppData\\Local\\Temp\\ipykernel_65656\\701453132.py:104: FutureWarning: Styler.applymap has been deprecated. Use Styler.map instead.\n",
      "  .applymap(style_predictions, subset=['prediction'])\n"
     ]
    },
    {
     "name": "stdout",
     "output_type": "stream",
     "text": [
      "最新更新：17:48:59\n",
      "stock_code short_name  price change_pct  main_net_inflow  prediction\n",
      "    600961       株冶集团  9.750       5.86       89664573.0          10\n",
      "    601020       华钰矿业 24.440       2.86       94040044.0           9\n",
      "    600367       红星发展 15.380       4.63       52339353.0           9\n",
      "    002155       湖南黄金  23.52       7.50      307973502.0           9\n",
      "    301368       丰立智能  88.00      -1.35     -133552529.0           9\n",
      "    603198       迎驾贡酒 60.640       2.40       55839439.0           8\n",
      "    605208        永茂泰 15.870      -3.99       12710427.0           9\n",
      "    603993       洛阳钼业  7.700      -1.41       64061269.0           8\n",
      "    000596       古井贡酒 189.17       5.48      -16307812.0           8\n",
      "    600711       ST盛屯  5.550       2.78      -13048991.0           8\n",
      "已更新监控页面 -> stock_realtime_monitor.html\n"
     ]
    },
    {
     "name": "stderr",
     "output_type": "stream",
     "text": [
      "C:\\Users\\charl\\AppData\\Local\\Temp\\ipykernel_65656\\701453132.py:104: FutureWarning: Styler.applymap has been deprecated. Use Styler.map instead.\n",
      "  .applymap(style_predictions, subset=['prediction'])\n"
     ]
    },
    {
     "name": "stdout",
     "output_type": "stream",
     "text": [
      "最新更新：17:49:30\n",
      "stock_code short_name  price change_pct  main_net_inflow  prediction\n",
      "    600961       株冶集团  9.750       5.86       89664573.0          10\n",
      "    601020       华钰矿业 24.440       2.86       94040044.0           9\n",
      "    600367       红星发展 15.380       4.63       52339353.0           9\n",
      "    002155       湖南黄金  23.52       7.50      307973502.0           9\n",
      "    301368       丰立智能  88.00      -1.35     -133552529.0           9\n",
      "    603198       迎驾贡酒 60.640       2.40       55839439.0           8\n",
      "    605208        永茂泰 15.870      -3.99       12710427.0           9\n",
      "    603993       洛阳钼业  7.700      -1.41       64061269.0           8\n",
      "    000596       古井贡酒 189.17       5.48      -16307812.0           8\n",
      "    600711       ST盛屯  5.550       2.78      -13048991.0           8\n",
      "已更新监控页面 -> stock_realtime_monitor.html\n"
     ]
    },
    {
     "name": "stderr",
     "output_type": "stream",
     "text": [
      "C:\\Users\\charl\\AppData\\Local\\Temp\\ipykernel_65656\\701453132.py:104: FutureWarning: Styler.applymap has been deprecated. Use Styler.map instead.\n",
      "  .applymap(style_predictions, subset=['prediction'])\n"
     ]
    },
    {
     "name": "stdout",
     "output_type": "stream",
     "text": [
      "最新更新：17:49:59\n",
      "stock_code short_name  price change_pct  main_net_inflow  prediction\n",
      "    600961       株冶集团  9.750       5.86       89664573.0          10\n",
      "    601020       华钰矿业 24.440       2.86       94040044.0           9\n",
      "    600367       红星发展 15.380       4.63       52339353.0           9\n",
      "    002155       湖南黄金  23.52       7.50      307973502.0           9\n",
      "    301368       丰立智能  88.00      -1.35     -133552529.0           9\n",
      "    603198       迎驾贡酒 60.640       2.40       55839439.0           8\n",
      "    605208        永茂泰 15.870      -3.99       12710427.0           9\n",
      "    603993       洛阳钼业  7.700      -1.41       64061269.0           8\n",
      "    000596       古井贡酒 189.17       5.48      -16307812.0           8\n",
      "    600711       ST盛屯  5.550       2.78      -13048991.0           8\n",
      "已更新监控页面 -> stock_realtime_monitor.html\n"
     ]
    },
    {
     "name": "stderr",
     "output_type": "stream",
     "text": [
      "C:\\Users\\charl\\AppData\\Local\\Temp\\ipykernel_65656\\701453132.py:104: FutureWarning: Styler.applymap has been deprecated. Use Styler.map instead.\n",
      "  .applymap(style_predictions, subset=['prediction'])\n"
     ]
    },
    {
     "name": "stdout",
     "output_type": "stream",
     "text": [
      "最新更新：17:50:29\n",
      "stock_code short_name  price change_pct  main_net_inflow  prediction\n",
      "    600961       株冶集团  9.750       5.86       89664573.0          10\n",
      "    601020       华钰矿业 24.440       2.86       94040044.0           9\n",
      "    600367       红星发展 15.380       4.63       52339353.0           9\n",
      "    002155       湖南黄金  23.52       7.50      307973502.0           9\n",
      "    301368       丰立智能  88.00      -1.35     -133552529.0           9\n",
      "    603198       迎驾贡酒 60.640       2.40       55839439.0           8\n",
      "    605208        永茂泰 15.870      -3.99       12710427.0           9\n",
      "    603993       洛阳钼业  7.700      -1.41       64061269.0           8\n",
      "    000596       古井贡酒 189.17       5.48      -16307812.0           8\n",
      "    600711       ST盛屯  5.550       2.78      -13048991.0           8\n",
      "已更新监控页面 -> stock_realtime_monitor.html\n"
     ]
    },
    {
     "name": "stderr",
     "output_type": "stream",
     "text": [
      "C:\\Users\\charl\\AppData\\Local\\Temp\\ipykernel_65656\\701453132.py:104: FutureWarning: Styler.applymap has been deprecated. Use Styler.map instead.\n",
      "  .applymap(style_predictions, subset=['prediction'])\n"
     ]
    },
    {
     "name": "stdout",
     "output_type": "stream",
     "text": [
      "最新更新：17:50:57\n",
      "stock_code short_name  price change_pct  main_net_inflow  prediction\n",
      "    600961       株冶集团  9.750       5.86       89664573.0          10\n",
      "    601020       华钰矿业 24.440       2.86       94040044.0           9\n",
      "    600367       红星发展 15.380       4.63       52339353.0           9\n",
      "    002155       湖南黄金  23.52       7.50      307973502.0           9\n",
      "    301368       丰立智能  88.00      -1.35     -133552529.0           9\n",
      "    603198       迎驾贡酒 60.640       2.40       55839439.0           8\n",
      "    605208        永茂泰 15.870      -3.99       12710427.0           9\n",
      "    603993       洛阳钼业  7.700      -1.41       64061269.0           8\n",
      "    000596       古井贡酒 189.17       5.48      -16307812.0           8\n",
      "    600711       ST盛屯  5.550       2.78      -13048991.0           8\n",
      "已更新监控页面 -> stock_realtime_monitor.html\n"
     ]
    },
    {
     "name": "stderr",
     "output_type": "stream",
     "text": [
      "C:\\Users\\charl\\AppData\\Local\\Temp\\ipykernel_65656\\701453132.py:104: FutureWarning: Styler.applymap has been deprecated. Use Styler.map instead.\n",
      "  .applymap(style_predictions, subset=['prediction'])\n"
     ]
    },
    {
     "name": "stdout",
     "output_type": "stream",
     "text": [
      "最新更新：17:51:26\n",
      "stock_code short_name  price change_pct  main_net_inflow  prediction\n",
      "    600961       株冶集团  9.750       5.86       89664573.0          10\n",
      "    601020       华钰矿业 24.440       2.86       94040044.0           9\n",
      "    600367       红星发展 15.380       4.63       52339353.0           9\n",
      "    002155       湖南黄金  23.52       7.50      307973502.0           9\n",
      "    301368       丰立智能  88.00      -1.35     -133552529.0           9\n",
      "    603198       迎驾贡酒 60.640       2.40       55839439.0           8\n",
      "    605208        永茂泰 15.870      -3.99       12710427.0           9\n",
      "    603993       洛阳钼业  7.700      -1.41       64061269.0           8\n",
      "    000596       古井贡酒 189.17       5.48      -16307812.0           8\n",
      "    600711       ST盛屯  5.550       2.78      -13048991.0           8\n",
      "已更新监控页面 -> stock_realtime_monitor.html\n"
     ]
    },
    {
     "name": "stderr",
     "output_type": "stream",
     "text": [
      "C:\\Users\\charl\\AppData\\Local\\Temp\\ipykernel_65656\\701453132.py:104: FutureWarning: Styler.applymap has been deprecated. Use Styler.map instead.\n",
      "  .applymap(style_predictions, subset=['prediction'])\n"
     ]
    },
    {
     "name": "stdout",
     "output_type": "stream",
     "text": [
      "最新更新：17:51:57\n",
      "stock_code short_name  price change_pct  main_net_inflow  prediction\n",
      "    600961       株冶集团  9.750       5.86       89664573.0          10\n",
      "    601020       华钰矿业 24.440       2.86       94040044.0           9\n",
      "    600367       红星发展 15.380       4.63       52339353.0           9\n",
      "    002155       湖南黄金  23.52       7.50      307973502.0           9\n",
      "    301368       丰立智能  88.00      -1.35     -133552529.0           9\n",
      "    603198       迎驾贡酒 60.640       2.40       55839439.0           8\n",
      "    605208        永茂泰 15.870      -3.99       12710427.0           9\n",
      "    603993       洛阳钼业  7.700      -1.41       64061269.0           8\n",
      "    000596       古井贡酒 189.17       5.48      -16307812.0           8\n",
      "    600711       ST盛屯  5.550       2.78      -13048991.0           8\n",
      "已更新监控页面 -> stock_realtime_monitor.html\n"
     ]
    },
    {
     "name": "stderr",
     "output_type": "stream",
     "text": [
      "C:\\Users\\charl\\AppData\\Local\\Temp\\ipykernel_65656\\701453132.py:104: FutureWarning: Styler.applymap has been deprecated. Use Styler.map instead.\n",
      "  .applymap(style_predictions, subset=['prediction'])\n"
     ]
    },
    {
     "name": "stdout",
     "output_type": "stream",
     "text": [
      "最新更新：17:52:27\n",
      "stock_code short_name  price change_pct  main_net_inflow  prediction\n",
      "    600961       株冶集团  9.750       5.86       89664573.0          10\n",
      "    601020       华钰矿业 24.440       2.86       94040044.0           9\n",
      "    600367       红星发展 15.380       4.63       52339353.0           9\n",
      "    002155       湖南黄金  23.52       7.50      307973502.0           9\n",
      "    301368       丰立智能  88.00      -1.35     -133552529.0           9\n",
      "    603198       迎驾贡酒 60.640       2.40       55839439.0           8\n",
      "    605208        永茂泰 15.870      -3.99       12710427.0           9\n",
      "    603993       洛阳钼业  7.700      -1.41       64061269.0           8\n",
      "    000596       古井贡酒 189.17       5.48      -16307812.0           8\n",
      "    600711       ST盛屯  5.550       2.78      -13048991.0           8\n",
      "已更新监控页面 -> stock_realtime_monitor.html\n"
     ]
    },
    {
     "name": "stderr",
     "output_type": "stream",
     "text": [
      "C:\\Users\\charl\\AppData\\Local\\Temp\\ipykernel_65656\\701453132.py:104: FutureWarning: Styler.applymap has been deprecated. Use Styler.map instead.\n",
      "  .applymap(style_predictions, subset=['prediction'])\n"
     ]
    },
    {
     "name": "stdout",
     "output_type": "stream",
     "text": [
      "最新更新：17:52:56\n",
      "stock_code short_name  price change_pct  main_net_inflow  prediction\n",
      "    600961       株冶集团  9.750       5.86       89664573.0          10\n",
      "    601020       华钰矿业 24.440       2.86       94040044.0           9\n",
      "    600367       红星发展 15.380       4.63       52339353.0           9\n",
      "    002155       湖南黄金  23.52       7.50      307973502.0           9\n",
      "    301368       丰立智能  88.00      -1.35     -133552529.0           9\n",
      "    603198       迎驾贡酒 60.640       2.40       55839439.0           8\n",
      "    605208        永茂泰 15.870      -3.99       12710427.0           9\n",
      "    603993       洛阳钼业  7.700      -1.41       64061269.0           8\n",
      "    000596       古井贡酒 189.17       5.48      -16307812.0           8\n",
      "    600711       ST盛屯  5.550       2.78      -13048991.0           8\n",
      "已更新监控页面 -> stock_realtime_monitor.html\n"
     ]
    },
    {
     "name": "stderr",
     "output_type": "stream",
     "text": [
      "C:\\Users\\charl\\AppData\\Local\\Temp\\ipykernel_65656\\701453132.py:104: FutureWarning: Styler.applymap has been deprecated. Use Styler.map instead.\n",
      "  .applymap(style_predictions, subset=['prediction'])\n"
     ]
    },
    {
     "name": "stdout",
     "output_type": "stream",
     "text": [
      "最新更新：17:53:28\n",
      "stock_code short_name  price change_pct  main_net_inflow  prediction\n",
      "    600961       株冶集团  9.750       5.86       89664573.0          10\n",
      "    601020       华钰矿业 24.440       2.86       94040044.0           9\n",
      "    600367       红星发展 15.380       4.63       52339353.0           9\n",
      "    002155       湖南黄金  23.52       7.50      307973502.0           9\n",
      "    301368       丰立智能  88.00      -1.35     -133552529.0           9\n",
      "    603198       迎驾贡酒 60.640       2.40       55839439.0           8\n",
      "    605208        永茂泰 15.870      -3.99       12710427.0           9\n",
      "    603993       洛阳钼业  7.700      -1.41       64061269.0           8\n",
      "    000596       古井贡酒 189.17       5.48      -16307812.0           8\n",
      "    600711       ST盛屯  5.550       2.78      -13048991.0           8\n",
      "已更新监控页面 -> stock_realtime_monitor.html\n"
     ]
    },
    {
     "name": "stderr",
     "output_type": "stream",
     "text": [
      "C:\\Users\\charl\\AppData\\Local\\Temp\\ipykernel_65656\\701453132.py:104: FutureWarning: Styler.applymap has been deprecated. Use Styler.map instead.\n",
      "  .applymap(style_predictions, subset=['prediction'])\n"
     ]
    },
    {
     "name": "stdout",
     "output_type": "stream",
     "text": [
      "最新更新：17:54:00\n",
      "stock_code short_name  price change_pct  main_net_inflow  prediction\n",
      "    600961       株冶集团  9.750       5.86       89664573.0          10\n",
      "    601020       华钰矿业 24.440       2.86       94040044.0           9\n",
      "    600367       红星发展 15.380       4.63       52339353.0           9\n",
      "    002155       湖南黄金  23.52       7.50      307973502.0           9\n",
      "    301368       丰立智能  88.00      -1.35     -133552529.0           9\n",
      "    603198       迎驾贡酒 60.640       2.40       55839439.0           8\n",
      "    605208        永茂泰 15.870      -3.99       12710427.0           9\n",
      "    603993       洛阳钼业  7.700      -1.41       64061269.0           8\n",
      "    000596       古井贡酒 189.17       5.48      -16307812.0           8\n",
      "    600711       ST盛屯  5.550       2.78      -13048991.0           8\n",
      "已更新监控页面 -> stock_realtime_monitor.html\n"
     ]
    },
    {
     "name": "stderr",
     "output_type": "stream",
     "text": [
      "C:\\Users\\charl\\AppData\\Local\\Temp\\ipykernel_65656\\701453132.py:104: FutureWarning: Styler.applymap has been deprecated. Use Styler.map instead.\n",
      "  .applymap(style_predictions, subset=['prediction'])\n"
     ]
    },
    {
     "name": "stdout",
     "output_type": "stream",
     "text": [
      "最新更新：17:54:30\n",
      "stock_code short_name  price change_pct  main_net_inflow  prediction\n",
      "    600961       株冶集团  9.750       5.86       89664573.0          10\n",
      "    601020       华钰矿业 24.440       2.86       94040044.0           9\n",
      "    600367       红星发展 15.380       4.63       52339353.0           9\n",
      "    002155       湖南黄金  23.52       7.50      307973502.0           9\n",
      "    301368       丰立智能  88.00      -1.35     -133552529.0           9\n",
      "    603198       迎驾贡酒 60.640       2.40       55839439.0           8\n",
      "    605208        永茂泰 15.870      -3.99       12710427.0           9\n",
      "    603993       洛阳钼业  7.700      -1.41       64061269.0           8\n",
      "    000596       古井贡酒 189.17       5.48      -16307812.0           8\n",
      "    600711       ST盛屯  5.550       2.78      -13048991.0           8\n",
      "已更新监控页面 -> stock_realtime_monitor.html\n"
     ]
    },
    {
     "name": "stderr",
     "output_type": "stream",
     "text": [
      "C:\\Users\\charl\\AppData\\Local\\Temp\\ipykernel_65656\\701453132.py:104: FutureWarning: Styler.applymap has been deprecated. Use Styler.map instead.\n",
      "  .applymap(style_predictions, subset=['prediction'])\n"
     ]
    },
    {
     "name": "stdout",
     "output_type": "stream",
     "text": [
      "最新更新：17:54:59\n",
      "stock_code short_name  price change_pct  main_net_inflow  prediction\n",
      "    600961       株冶集团  9.750       5.86       89664573.0          10\n",
      "    601020       华钰矿业 24.440       2.86       94040044.0           9\n",
      "    600367       红星发展 15.380       4.63       52339353.0           9\n",
      "    002155       湖南黄金  23.52       7.50      307973502.0           9\n",
      "    301368       丰立智能  88.00      -1.35     -133552529.0           9\n",
      "    603198       迎驾贡酒 60.640       2.40       55839439.0           8\n",
      "    605208        永茂泰 15.870      -3.99       12710427.0           9\n",
      "    603993       洛阳钼业  7.700      -1.41       64061269.0           8\n",
      "    000596       古井贡酒 189.17       5.48      -16307812.0           8\n",
      "    600711       ST盛屯  5.550       2.78      -13048991.0           8\n",
      "已更新监控页面 -> stock_realtime_monitor.html\n"
     ]
    },
    {
     "name": "stderr",
     "output_type": "stream",
     "text": [
      "C:\\Users\\charl\\AppData\\Local\\Temp\\ipykernel_65656\\701453132.py:104: FutureWarning: Styler.applymap has been deprecated. Use Styler.map instead.\n",
      "  .applymap(style_predictions, subset=['prediction'])\n"
     ]
    },
    {
     "name": "stdout",
     "output_type": "stream",
     "text": [
      "最新更新：17:55:30\n",
      "stock_code short_name  price change_pct  main_net_inflow  prediction\n",
      "    600961       株冶集团  9.750       5.86       89664573.0          10\n",
      "    601020       华钰矿业 24.440       2.86       94040044.0           9\n",
      "    600367       红星发展 15.380       4.63       52339353.0           9\n",
      "    002155       湖南黄金  23.52       7.50      307973502.0           9\n",
      "    301368       丰立智能  88.00      -1.35     -133552529.0           9\n",
      "    603198       迎驾贡酒 60.640       2.40       55839439.0           8\n",
      "    605208        永茂泰 15.870      -3.99       12710427.0           9\n",
      "    603993       洛阳钼业  7.700      -1.41       64061269.0           8\n",
      "    000596       古井贡酒 189.17       5.48      -16307812.0           8\n",
      "    600711       ST盛屯  5.550       2.78      -13048991.0           8\n",
      "已更新监控页面 -> stock_realtime_monitor.html\n"
     ]
    },
    {
     "name": "stderr",
     "output_type": "stream",
     "text": [
      "C:\\Users\\charl\\AppData\\Local\\Temp\\ipykernel_65656\\701453132.py:104: FutureWarning: Styler.applymap has been deprecated. Use Styler.map instead.\n",
      "  .applymap(style_predictions, subset=['prediction'])\n"
     ]
    },
    {
     "name": "stdout",
     "output_type": "stream",
     "text": [
      "最新更新：17:55:58\n",
      "stock_code short_name  price change_pct  main_net_inflow  prediction\n",
      "    600961       株冶集团  9.750       5.86       89664573.0          10\n",
      "    601020       华钰矿业 24.440       2.86       94040044.0           9\n",
      "    600367       红星发展 15.380       4.63       52339353.0           9\n",
      "    002155       湖南黄金  23.52       7.50      307973502.0           9\n",
      "    301368       丰立智能  88.00      -1.35     -133552529.0           9\n",
      "    603198       迎驾贡酒 60.640       2.40       55839439.0           8\n",
      "    605208        永茂泰 15.870      -3.99       12710427.0           9\n",
      "    603993       洛阳钼业  7.700      -1.41       64061269.0           8\n",
      "    000596       古井贡酒 189.17       5.48      -16307812.0           8\n",
      "    600711       ST盛屯  5.550       2.78      -13048991.0           8\n",
      "已更新监控页面 -> stock_realtime_monitor.html\n"
     ]
    },
    {
     "name": "stderr",
     "output_type": "stream",
     "text": [
      "C:\\Users\\charl\\AppData\\Local\\Temp\\ipykernel_65656\\701453132.py:104: FutureWarning: Styler.applymap has been deprecated. Use Styler.map instead.\n",
      "  .applymap(style_predictions, subset=['prediction'])\n"
     ]
    },
    {
     "name": "stdout",
     "output_type": "stream",
     "text": [
      "获取600961资金流数据失败: HTTPSConnectionPool(host='push2.eastmoney.com', port=443): Max retries exceeded with url: /api/qt/stock/fflow/kline/get?lmt=0&klt=1&fields1=f1,f2,f3,f7&fields2=f51,f52,f53,f54,f55,f56,f57,f58,f59,f60,f61,f62,f63,f64,f65&secid=1.600961 (Caused by ConnectTimeoutError(<urllib3.connection.HTTPSConnection object at 0x00000188EF239210>, 'Connection to push2.eastmoney.com timed out. (connect timeout=None)'))\n",
      "最新更新：17:56:47\n",
      "stock_code short_name  price change_pct  main_net_inflow  prediction\n",
      "    600961       株冶集团  9.750       5.86              NaN          10\n",
      "    601020       华钰矿业 24.440       2.86       94040044.0           9\n",
      "    600367       红星发展 15.380       4.63       52339353.0           9\n",
      "    002155       湖南黄金  23.52       7.50      307973502.0           9\n",
      "    301368       丰立智能  88.00      -1.35     -133552529.0           9\n",
      "    603198       迎驾贡酒 60.640       2.40       55839439.0           8\n",
      "    605208        永茂泰 15.870      -3.99       12710427.0           9\n",
      "    603993       洛阳钼业  7.700      -1.41       64061269.0           8\n",
      "    000596       古井贡酒 189.17       5.48      -16307812.0           8\n",
      "    600711       ST盛屯  5.550       2.78      -13048991.0           8\n",
      "已更新监控页面 -> stock_realtime_monitor.html\n"
     ]
    },
    {
     "name": "stderr",
     "output_type": "stream",
     "text": [
      "C:\\Users\\charl\\AppData\\Local\\Temp\\ipykernel_65656\\701453132.py:104: FutureWarning: Styler.applymap has been deprecated. Use Styler.map instead.\n",
      "  .applymap(style_predictions, subset=['prediction'])\n"
     ]
    },
    {
     "name": "stdout",
     "output_type": "stream",
     "text": [
      "最新更新：17:57:26\n",
      "stock_code short_name  price change_pct  main_net_inflow  prediction\n",
      "    600961       株冶集团  9.750       5.86       89664573.0          10\n",
      "    601020       华钰矿业 24.440       2.86       94040044.0           9\n",
      "    600367       红星发展 15.380       4.63       52339353.0           9\n",
      "    002155       湖南黄金  23.52       7.50      307973502.0           9\n",
      "    301368       丰立智能  88.00      -1.35     -133552529.0           9\n",
      "    603198       迎驾贡酒 60.640       2.40       55839439.0           8\n",
      "    605208        永茂泰 15.870      -3.99       12710427.0           9\n",
      "    603993       洛阳钼业  7.700      -1.41       64061269.0           8\n",
      "    000596       古井贡酒 189.17       5.48      -16307812.0           8\n",
      "    600711       ST盛屯  5.550       2.78      -13048991.0           8\n",
      "已更新监控页面 -> stock_realtime_monitor.html\n"
     ]
    },
    {
     "name": "stderr",
     "output_type": "stream",
     "text": [
      "C:\\Users\\charl\\AppData\\Local\\Temp\\ipykernel_65656\\701453132.py:104: FutureWarning: Styler.applymap has been deprecated. Use Styler.map instead.\n",
      "  .applymap(style_predictions, subset=['prediction'])\n"
     ]
    },
    {
     "name": "stdout",
     "output_type": "stream",
     "text": [
      "最新更新：17:57:56\n",
      "stock_code short_name  price change_pct  main_net_inflow  prediction\n",
      "    600961       株冶集团  9.750       5.86       89664573.0          10\n",
      "    601020       华钰矿业 24.440       2.86       94040044.0           9\n",
      "    600367       红星发展 15.380       4.63       52339353.0           9\n",
      "    002155       湖南黄金  23.52       7.50      307973502.0           9\n",
      "    301368       丰立智能  88.00      -1.35     -133552529.0           9\n",
      "    603198       迎驾贡酒 60.640       2.40       55839439.0           8\n",
      "    605208        永茂泰 15.870      -3.99       12710427.0           9\n",
      "    603993       洛阳钼业  7.700      -1.41       64061269.0           8\n",
      "    000596       古井贡酒 189.17       5.48      -16307812.0           8\n",
      "    600711       ST盛屯  5.550       2.78      -13048991.0           8\n",
      "已更新监控页面 -> stock_realtime_monitor.html\n"
     ]
    },
    {
     "name": "stderr",
     "output_type": "stream",
     "text": [
      "C:\\Users\\charl\\AppData\\Local\\Temp\\ipykernel_65656\\701453132.py:104: FutureWarning: Styler.applymap has been deprecated. Use Styler.map instead.\n",
      "  .applymap(style_predictions, subset=['prediction'])\n"
     ]
    },
    {
     "name": "stdout",
     "output_type": "stream",
     "text": [
      "最新更新：17:58:28\n",
      "stock_code short_name  price change_pct  main_net_inflow  prediction\n",
      "    600961       株冶集团  9.750       5.86       89664573.0          10\n",
      "    601020       华钰矿业 24.440       2.86       94040044.0           9\n",
      "    600367       红星发展 15.380       4.63       52339353.0           9\n",
      "    002155       湖南黄金  23.52       7.50      307973502.0           9\n",
      "    301368       丰立智能  88.00      -1.35     -133552529.0           9\n",
      "    603198       迎驾贡酒 60.640       2.40       55839439.0           8\n",
      "    605208        永茂泰 15.870      -3.99       12710427.0           9\n",
      "    603993       洛阳钼业  7.700      -1.41       64061269.0           8\n",
      "    000596       古井贡酒 189.17       5.48      -16307812.0           8\n",
      "    600711       ST盛屯  5.550       2.78      -13048991.0           8\n",
      "已更新监控页面 -> stock_realtime_monitor.html\n"
     ]
    },
    {
     "name": "stderr",
     "output_type": "stream",
     "text": [
      "C:\\Users\\charl\\AppData\\Local\\Temp\\ipykernel_65656\\701453132.py:104: FutureWarning: Styler.applymap has been deprecated. Use Styler.map instead.\n",
      "  .applymap(style_predictions, subset=['prediction'])\n"
     ]
    },
    {
     "name": "stdout",
     "output_type": "stream",
     "text": [
      "最新更新：17:58:57\n",
      "stock_code short_name  price change_pct  main_net_inflow  prediction\n",
      "    600961       株冶集团  9.750       5.86       89664573.0          10\n",
      "    601020       华钰矿业 24.440       2.86       94040044.0           9\n",
      "    600367       红星发展 15.380       4.63       52339353.0           9\n",
      "    002155       湖南黄金  23.52       7.50      307973502.0           9\n",
      "    301368       丰立智能  88.00      -1.35     -133552529.0           9\n",
      "    603198       迎驾贡酒 60.640       2.40       55839439.0           8\n",
      "    605208        永茂泰 15.870      -3.99       12710427.0           9\n",
      "    603993       洛阳钼业  7.700      -1.41       64061269.0           8\n",
      "    000596       古井贡酒 189.17       5.48      -16307812.0           8\n",
      "    600711       ST盛屯  5.550       2.78      -13048991.0           8\n",
      "已更新监控页面 -> stock_realtime_monitor.html\n"
     ]
    },
    {
     "name": "stderr",
     "output_type": "stream",
     "text": [
      "C:\\Users\\charl\\AppData\\Local\\Temp\\ipykernel_65656\\701453132.py:104: FutureWarning: Styler.applymap has been deprecated. Use Styler.map instead.\n",
      "  .applymap(style_predictions, subset=['prediction'])\n"
     ]
    },
    {
     "name": "stdout",
     "output_type": "stream",
     "text": [
      "最新更新：17:59:27\n",
      "stock_code short_name  price change_pct  main_net_inflow  prediction\n",
      "    600961       株冶集团  9.750       5.86       89664573.0          10\n",
      "    601020       华钰矿业 24.440       2.86       94040044.0           9\n",
      "    600367       红星发展 15.380       4.63       52339353.0           9\n",
      "    002155       湖南黄金  23.52       7.50      307973502.0           9\n",
      "    301368       丰立智能  88.00      -1.35     -133552529.0           9\n",
      "    603198       迎驾贡酒 60.640       2.40       55839439.0           8\n",
      "    605208        永茂泰 15.870      -3.99       12710427.0           9\n",
      "    603993       洛阳钼业  7.700      -1.41       64061269.0           8\n",
      "    000596       古井贡酒 189.17       5.48      -16307812.0           8\n",
      "    600711       ST盛屯  5.550       2.78      -13048991.0           8\n",
      "已更新监控页面 -> stock_realtime_monitor.html\n"
     ]
    },
    {
     "name": "stderr",
     "output_type": "stream",
     "text": [
      "C:\\Users\\charl\\AppData\\Local\\Temp\\ipykernel_65656\\701453132.py:104: FutureWarning: Styler.applymap has been deprecated. Use Styler.map instead.\n",
      "  .applymap(style_predictions, subset=['prediction'])\n"
     ]
    },
    {
     "name": "stdout",
     "output_type": "stream",
     "text": [
      "最新更新：18:00:00\n",
      "stock_code short_name  price change_pct  main_net_inflow  prediction\n",
      "    600961       株冶集团  9.750       5.86       89664573.0          10\n",
      "    601020       华钰矿业 24.440       2.86       94040044.0           9\n",
      "    600367       红星发展 15.380       4.63       52339353.0           9\n",
      "    002155       湖南黄金  23.52       7.50      307973502.0           9\n",
      "    301368       丰立智能  88.00      -1.35     -133552529.0           9\n",
      "    603198       迎驾贡酒 60.640       2.40       55839439.0           8\n",
      "    605208        永茂泰 15.870      -3.99       12710427.0           9\n",
      "    603993       洛阳钼业  7.700      -1.41       64061269.0           8\n",
      "    000596       古井贡酒 189.17       5.48      -16307812.0           8\n",
      "    600711       ST盛屯  5.550       2.78      -13048991.0           8\n",
      "已更新监控页面 -> stock_realtime_monitor.html\n"
     ]
    },
    {
     "name": "stderr",
     "output_type": "stream",
     "text": [
      "C:\\Users\\charl\\AppData\\Local\\Temp\\ipykernel_65656\\701453132.py:104: FutureWarning: Styler.applymap has been deprecated. Use Styler.map instead.\n",
      "  .applymap(style_predictions, subset=['prediction'])\n"
     ]
    },
    {
     "name": "stdout",
     "output_type": "stream",
     "text": [
      "最新更新：18:00:29\n",
      "stock_code short_name  price change_pct  main_net_inflow  prediction\n",
      "    600961       株冶集团  9.750       5.86       89664573.0          10\n",
      "    601020       华钰矿业 24.440       2.86       94040044.0           9\n",
      "    600367       红星发展 15.380       4.63       52339353.0           9\n",
      "    002155       湖南黄金  23.52       7.50      307973502.0           9\n",
      "    301368       丰立智能  88.00      -1.35     -133552529.0           9\n",
      "    603198       迎驾贡酒 60.640       2.40       55839439.0           8\n",
      "    605208        永茂泰 15.870      -3.99       12710427.0           9\n",
      "    603993       洛阳钼业  7.700      -1.41       64061269.0           8\n",
      "    000596       古井贡酒 189.17       5.48      -16307812.0           8\n",
      "    600711       ST盛屯  5.550       2.78      -13048991.0           8\n",
      "已更新监控页面 -> stock_realtime_monitor.html\n"
     ]
    },
    {
     "name": "stderr",
     "output_type": "stream",
     "text": [
      "C:\\Users\\charl\\AppData\\Local\\Temp\\ipykernel_65656\\701453132.py:104: FutureWarning: Styler.applymap has been deprecated. Use Styler.map instead.\n",
      "  .applymap(style_predictions, subset=['prediction'])\n"
     ]
    },
    {
     "name": "stdout",
     "output_type": "stream",
     "text": [
      "最新更新：18:00:59\n",
      "stock_code short_name  price change_pct  main_net_inflow  prediction\n",
      "    600961       株冶集团  9.750       5.86       89664573.0          10\n",
      "    601020       华钰矿业 24.440       2.86       94040044.0           9\n",
      "    600367       红星发展 15.380       4.63       52339353.0           9\n",
      "    002155       湖南黄金  23.52       7.50      307973502.0           9\n",
      "    301368       丰立智能  88.00      -1.35     -133552529.0           9\n",
      "    603198       迎驾贡酒 60.640       2.40       55839439.0           8\n",
      "    605208        永茂泰 15.870      -3.99       12710427.0           9\n",
      "    603993       洛阳钼业  7.700      -1.41       64061269.0           8\n",
      "    000596       古井贡酒 189.17       5.48      -16307812.0           8\n",
      "    600711       ST盛屯  5.550       2.78      -13048991.0           8\n",
      "已更新监控页面 -> stock_realtime_monitor.html\n"
     ]
    },
    {
     "name": "stderr",
     "output_type": "stream",
     "text": [
      "C:\\Users\\charl\\AppData\\Local\\Temp\\ipykernel_65656\\701453132.py:104: FutureWarning: Styler.applymap has been deprecated. Use Styler.map instead.\n",
      "  .applymap(style_predictions, subset=['prediction'])\n"
     ]
    },
    {
     "name": "stdout",
     "output_type": "stream",
     "text": [
      "获取603198资金流数据失败: HTTPSConnectionPool(host='push2.eastmoney.com', port=443): Max retries exceeded with url: /api/qt/stock/fflow/kline/get?lmt=0&klt=1&fields1=f1,f2,f3,f7&fields2=f51,f52,f53,f54,f55,f56,f57,f58,f59,f60,f61,f62,f63,f64,f65&secid=1.603198 (Caused by ConnectTimeoutError(<urllib3.connection.HTTPSConnection object at 0x00000188EED6DB10>, 'Connection to push2.eastmoney.com timed out. (connect timeout=None)'))\n",
      "最新更新：18:01:50\n",
      "stock_code short_name  price change_pct  main_net_inflow  prediction\n",
      "    600961       株冶集团  9.750       5.86       89664573.0          10\n",
      "    601020       华钰矿业 24.440       2.86       94040044.0           9\n",
      "    600367       红星发展 15.380       4.63       52339353.0           9\n",
      "    002155       湖南黄金  23.52       7.50      307973502.0           9\n",
      "    301368       丰立智能  88.00      -1.35     -133552529.0           9\n",
      "    603198       迎驾贡酒 60.640       2.40              NaN           8\n",
      "    605208        永茂泰 15.870      -3.99       12710427.0           9\n",
      "    603993       洛阳钼业  7.700      -1.41       64061269.0           8\n",
      "    000596       古井贡酒 189.17       5.48      -16307812.0           8\n",
      "    600711       ST盛屯  5.550       2.78      -13048991.0           8\n",
      "已更新监控页面 -> stock_realtime_monitor.html\n"
     ]
    },
    {
     "name": "stderr",
     "output_type": "stream",
     "text": [
      "C:\\Users\\charl\\AppData\\Local\\Temp\\ipykernel_65656\\701453132.py:104: FutureWarning: Styler.applymap has been deprecated. Use Styler.map instead.\n",
      "  .applymap(style_predictions, subset=['prediction'])\n"
     ]
    },
    {
     "name": "stdout",
     "output_type": "stream",
     "text": [
      "最新更新：18:02:27\n",
      "stock_code short_name  price change_pct  main_net_inflow  prediction\n",
      "    600961       株冶集团  9.750       5.86       89664573.0          10\n",
      "    601020       华钰矿业 24.440       2.86       94040044.0           9\n",
      "    600367       红星发展 15.380       4.63       52339353.0           9\n",
      "    002155       湖南黄金  23.52       7.50      307973502.0           9\n",
      "    301368       丰立智能  88.00      -1.35     -133552529.0           9\n",
      "    603198       迎驾贡酒 60.640       2.40       55839439.0           8\n",
      "    605208        永茂泰 15.870      -3.99       12710427.0           9\n",
      "    603993       洛阳钼业  7.700      -1.41       64061269.0           8\n",
      "    000596       古井贡酒 189.17       5.48      -16307812.0           8\n",
      "    600711       ST盛屯  5.550       2.78      -13048991.0           8\n",
      "已更新监控页面 -> stock_realtime_monitor.html\n"
     ]
    },
    {
     "name": "stderr",
     "output_type": "stream",
     "text": [
      "C:\\Users\\charl\\AppData\\Local\\Temp\\ipykernel_65656\\701453132.py:104: FutureWarning: Styler.applymap has been deprecated. Use Styler.map instead.\n",
      "  .applymap(style_predictions, subset=['prediction'])\n"
     ]
    },
    {
     "name": "stdout",
     "output_type": "stream",
     "text": [
      "最新更新：18:02:56\n",
      "stock_code short_name  price change_pct  main_net_inflow  prediction\n",
      "    600961       株冶集团  9.750       5.86       89664573.0          10\n",
      "    601020       华钰矿业 24.440       2.86       94040044.0           9\n",
      "    600367       红星发展 15.380       4.63       52339353.0           9\n",
      "    002155       湖南黄金  23.52       7.50      307973502.0           9\n",
      "    301368       丰立智能  88.00      -1.35     -133552529.0           9\n",
      "    603198       迎驾贡酒 60.640       2.40       55839439.0           8\n",
      "    605208        永茂泰 15.870      -3.99       12710427.0           9\n",
      "    603993       洛阳钼业  7.700      -1.41       64061269.0           8\n",
      "    000596       古井贡酒 189.17       5.48      -16307812.0           8\n",
      "    600711       ST盛屯  5.550       2.78      -13048991.0           8\n",
      "已更新监控页面 -> stock_realtime_monitor.html\n"
     ]
    },
    {
     "name": "stderr",
     "output_type": "stream",
     "text": [
      "C:\\Users\\charl\\AppData\\Local\\Temp\\ipykernel_65656\\701453132.py:104: FutureWarning: Styler.applymap has been deprecated. Use Styler.map instead.\n",
      "  .applymap(style_predictions, subset=['prediction'])\n"
     ]
    },
    {
     "name": "stdout",
     "output_type": "stream",
     "text": [
      "最新更新：18:03:26\n",
      "stock_code short_name  price change_pct  main_net_inflow  prediction\n",
      "    600961       株冶集团  9.750       5.86       89664573.0          10\n",
      "    601020       华钰矿业 24.440       2.86       94040044.0           9\n",
      "    600367       红星发展 15.380       4.63       52339353.0           9\n",
      "    002155       湖南黄金  23.52       7.50      307973502.0           9\n",
      "    301368       丰立智能  88.00      -1.35     -133552529.0           9\n",
      "    603198       迎驾贡酒 60.640       2.40       55839439.0           8\n",
      "    605208        永茂泰 15.870      -3.99       12710427.0           9\n",
      "    603993       洛阳钼业  7.700      -1.41       64061269.0           8\n",
      "    000596       古井贡酒 189.17       5.48      -16307812.0           8\n",
      "    600711       ST盛屯  5.550       2.78      -13048991.0           8\n",
      "已更新监控页面 -> stock_realtime_monitor.html\n"
     ]
    },
    {
     "name": "stderr",
     "output_type": "stream",
     "text": [
      "C:\\Users\\charl\\AppData\\Local\\Temp\\ipykernel_65656\\701453132.py:104: FutureWarning: Styler.applymap has been deprecated. Use Styler.map instead.\n",
      "  .applymap(style_predictions, subset=['prediction'])\n"
     ]
    },
    {
     "name": "stdout",
     "output_type": "stream",
     "text": [
      "获取301368资金流数据失败: HTTPSConnectionPool(host='push2delay.eastmoney.com', port=443): Max retries exceeded with url: /api/qt/stock/fflow/kline/get?lmt=0&klt=1&fields1=f1,f2,f3,f7&fields2=f51,f52,f53,f54,f55,f56,f57,f58,f59,f60,f61,f62,f63,f64,f65&secid=0.301368 (Caused by ConnectTimeoutError(<urllib3.connection.HTTPSConnection object at 0x00000188EED6D350>, 'Connection to push2delay.eastmoney.com timed out. (connect timeout=None)'))\n",
      "最新更新：18:04:17\n",
      "stock_code short_name  price change_pct  main_net_inflow  prediction\n",
      "    600961       株冶集团  9.750       5.86       89664573.0          10\n",
      "    601020       华钰矿业 24.440       2.86       94040044.0           9\n",
      "    600367       红星发展 15.380       4.63       52339353.0           9\n",
      "    002155       湖南黄金  23.52       7.50      307973502.0           9\n",
      "    301368       丰立智能  88.00      -1.35              NaN           9\n",
      "    603198       迎驾贡酒 60.640       2.40       55839439.0           8\n",
      "    605208        永茂泰 15.870      -3.99       12710427.0           9\n",
      "    603993       洛阳钼业  7.700      -1.41       64061269.0           8\n",
      "    000596       古井贡酒 189.17       5.48      -16307812.0           8\n",
      "    600711       ST盛屯  5.550       2.78      -13048991.0           8\n",
      "已更新监控页面 -> stock_realtime_monitor.html\n"
     ]
    },
    {
     "name": "stderr",
     "output_type": "stream",
     "text": [
      "C:\\Users\\charl\\AppData\\Local\\Temp\\ipykernel_65656\\701453132.py:104: FutureWarning: Styler.applymap has been deprecated. Use Styler.map instead.\n",
      "  .applymap(style_predictions, subset=['prediction'])\n"
     ]
    },
    {
     "name": "stdout",
     "output_type": "stream",
     "text": [
      "最新更新：18:04:58\n",
      "stock_code short_name  price change_pct  main_net_inflow  prediction\n",
      "    600961       株冶集团  9.750       5.86       89664573.0          10\n",
      "    601020       华钰矿业 24.440       2.86       94040044.0           9\n",
      "    600367       红星发展 15.380       4.63       52339353.0           9\n",
      "    002155       湖南黄金  23.52       7.50      307973502.0           9\n",
      "    301368       丰立智能  88.00      -1.35     -133552529.0           9\n",
      "    603198       迎驾贡酒 60.640       2.40       55839439.0           8\n",
      "    605208        永茂泰 15.870      -3.99       12710427.0           9\n",
      "    603993       洛阳钼业  7.700      -1.41       64061269.0           8\n",
      "    000596       古井贡酒 189.17       5.48      -16307812.0           8\n",
      "    600711       ST盛屯  5.550       2.78      -13048991.0           8\n",
      "已更新监控页面 -> stock_realtime_monitor.html\n"
     ]
    },
    {
     "name": "stderr",
     "output_type": "stream",
     "text": [
      "C:\\Users\\charl\\AppData\\Local\\Temp\\ipykernel_65656\\701453132.py:104: FutureWarning: Styler.applymap has been deprecated. Use Styler.map instead.\n",
      "  .applymap(style_predictions, subset=['prediction'])\n"
     ]
    },
    {
     "name": "stdout",
     "output_type": "stream",
     "text": [
      "最新更新：18:05:26\n",
      "stock_code short_name  price change_pct  main_net_inflow  prediction\n",
      "    600961       株冶集团  9.750       5.86       89664573.0          10\n",
      "    601020       华钰矿业 24.440       2.86       94040044.0           9\n",
      "    600367       红星发展 15.380       4.63       52339353.0           9\n",
      "    002155       湖南黄金  23.52       7.50      307973502.0           9\n",
      "    301368       丰立智能  88.00      -1.35     -133552529.0           9\n",
      "    603198       迎驾贡酒 60.640       2.40       55839439.0           8\n",
      "    605208        永茂泰 15.870      -3.99       12710427.0           9\n",
      "    603993       洛阳钼业  7.700      -1.41       64061269.0           8\n",
      "    000596       古井贡酒 189.17       5.48      -16307812.0           8\n",
      "    600711       ST盛屯  5.550       2.78      -13048991.0           8\n",
      "已更新监控页面 -> stock_realtime_monitor.html\n"
     ]
    },
    {
     "name": "stderr",
     "output_type": "stream",
     "text": [
      "C:\\Users\\charl\\AppData\\Local\\Temp\\ipykernel_65656\\701453132.py:104: FutureWarning: Styler.applymap has been deprecated. Use Styler.map instead.\n",
      "  .applymap(style_predictions, subset=['prediction'])\n"
     ]
    },
    {
     "name": "stdout",
     "output_type": "stream",
     "text": [
      "最新更新：18:05:59\n",
      "stock_code short_name  price change_pct  main_net_inflow  prediction\n",
      "    600961       株冶集团  9.750       5.86       89664573.0          10\n",
      "    601020       华钰矿业 24.440       2.86       94040044.0           9\n",
      "    600367       红星发展 15.380       4.63       52339353.0           9\n",
      "    002155       湖南黄金  23.52       7.50      307973502.0           9\n",
      "    301368       丰立智能  88.00      -1.35     -133552529.0           9\n",
      "    603198       迎驾贡酒 60.640       2.40       55839439.0           8\n",
      "    605208        永茂泰 15.870      -3.99       12710427.0           9\n",
      "    603993       洛阳钼业  7.700      -1.41       64061269.0           8\n",
      "    000596       古井贡酒 189.17       5.48      -16307812.0           8\n",
      "    600711       ST盛屯  5.550       2.78      -13048991.0           8\n",
      "已更新监控页面 -> stock_realtime_monitor.html\n"
     ]
    },
    {
     "name": "stderr",
     "output_type": "stream",
     "text": [
      "C:\\Users\\charl\\AppData\\Local\\Temp\\ipykernel_65656\\701453132.py:104: FutureWarning: Styler.applymap has been deprecated. Use Styler.map instead.\n",
      "  .applymap(style_predictions, subset=['prediction'])\n"
     ]
    },
    {
     "name": "stdout",
     "output_type": "stream",
     "text": [
      "最新更新：18:06:30\n",
      "stock_code short_name  price change_pct  main_net_inflow  prediction\n",
      "    600961       株冶集团  9.750       5.86       89664573.0          10\n",
      "    601020       华钰矿业 24.440       2.86       94040044.0           9\n",
      "    600367       红星发展 15.380       4.63       52339353.0           9\n",
      "    002155       湖南黄金  23.52       7.50      307973502.0           9\n",
      "    301368       丰立智能  88.00      -1.35     -133552529.0           9\n",
      "    603198       迎驾贡酒 60.640       2.40       55839439.0           8\n",
      "    605208        永茂泰 15.870      -3.99       12710427.0           9\n",
      "    603993       洛阳钼业  7.700      -1.41       64061269.0           8\n",
      "    000596       古井贡酒 189.17       5.48      -16307812.0           8\n",
      "    600711       ST盛屯  5.550       2.78      -13048991.0           8\n",
      "已更新监控页面 -> stock_realtime_monitor.html\n"
     ]
    },
    {
     "name": "stderr",
     "output_type": "stream",
     "text": [
      "C:\\Users\\charl\\AppData\\Local\\Temp\\ipykernel_65656\\701453132.py:104: FutureWarning: Styler.applymap has been deprecated. Use Styler.map instead.\n",
      "  .applymap(style_predictions, subset=['prediction'])\n"
     ]
    },
    {
     "name": "stdout",
     "output_type": "stream",
     "text": [
      "最新更新：18:06:58\n",
      "stock_code short_name  price change_pct  main_net_inflow  prediction\n",
      "    600961       株冶集团  9.750       5.86       89664573.0          10\n",
      "    601020       华钰矿业 24.440       2.86       94040044.0           9\n",
      "    600367       红星发展 15.380       4.63       52339353.0           9\n",
      "    002155       湖南黄金  23.52       7.50      307973502.0           9\n",
      "    301368       丰立智能  88.00      -1.35     -133552529.0           9\n",
      "    603198       迎驾贡酒 60.640       2.40       55839439.0           8\n",
      "    605208        永茂泰 15.870      -3.99       12710427.0           9\n",
      "    603993       洛阳钼业  7.700      -1.41       64061269.0           8\n",
      "    000596       古井贡酒 189.17       5.48      -16307812.0           8\n",
      "    600711       ST盛屯  5.550       2.78      -13048991.0           8\n",
      "已更新监控页面 -> stock_realtime_monitor.html\n"
     ]
    },
    {
     "name": "stderr",
     "output_type": "stream",
     "text": [
      "C:\\Users\\charl\\AppData\\Local\\Temp\\ipykernel_65656\\701453132.py:104: FutureWarning: Styler.applymap has been deprecated. Use Styler.map instead.\n",
      "  .applymap(style_predictions, subset=['prediction'])\n"
     ]
    },
    {
     "name": "stdout",
     "output_type": "stream",
     "text": [
      "最新更新：18:07:26\n",
      "stock_code short_name  price change_pct  main_net_inflow  prediction\n",
      "    600961       株冶集团  9.750       5.86       89664573.0          10\n",
      "    601020       华钰矿业 24.440       2.86       94040044.0           9\n",
      "    600367       红星发展 15.380       4.63       52339353.0           9\n",
      "    002155       湖南黄金  23.52       7.50      307973502.0           9\n",
      "    301368       丰立智能  88.00      -1.35     -133552529.0           9\n",
      "    603198       迎驾贡酒 60.640       2.40       55839439.0           8\n",
      "    605208        永茂泰 15.870      -3.99       12710427.0           9\n",
      "    603993       洛阳钼业  7.700      -1.41       64061269.0           8\n",
      "    000596       古井贡酒 189.17       5.48      -16307812.0           8\n",
      "    600711       ST盛屯  5.550       2.78      -13048991.0           8\n",
      "已更新监控页面 -> stock_realtime_monitor.html\n"
     ]
    },
    {
     "name": "stderr",
     "output_type": "stream",
     "text": [
      "C:\\Users\\charl\\AppData\\Local\\Temp\\ipykernel_65656\\701453132.py:104: FutureWarning: Styler.applymap has been deprecated. Use Styler.map instead.\n",
      "  .applymap(style_predictions, subset=['prediction'])\n"
     ]
    },
    {
     "name": "stdout",
     "output_type": "stream",
     "text": [
      "最新更新：18:07:57\n",
      "stock_code short_name  price change_pct  main_net_inflow  prediction\n",
      "    600961       株冶集团  9.750       5.86       89664573.0          10\n",
      "    601020       华钰矿业 24.440       2.86       94040044.0           9\n",
      "    600367       红星发展 15.380       4.63       52339353.0           9\n",
      "    002155       湖南黄金  23.52       7.50      307973502.0           9\n",
      "    301368       丰立智能  88.00      -1.35     -133552529.0           9\n",
      "    603198       迎驾贡酒 60.640       2.40       55839439.0           8\n",
      "    605208        永茂泰 15.870      -3.99       12710427.0           9\n",
      "    603993       洛阳钼业  7.700      -1.41       64061269.0           8\n",
      "    000596       古井贡酒 189.17       5.48      -16307812.0           8\n",
      "    600711       ST盛屯  5.550       2.78      -13048991.0           8\n",
      "已更新监控页面 -> stock_realtime_monitor.html\n"
     ]
    },
    {
     "name": "stderr",
     "output_type": "stream",
     "text": [
      "C:\\Users\\charl\\AppData\\Local\\Temp\\ipykernel_65656\\701453132.py:104: FutureWarning: Styler.applymap has been deprecated. Use Styler.map instead.\n",
      "  .applymap(style_predictions, subset=['prediction'])\n"
     ]
    },
    {
     "name": "stdout",
     "output_type": "stream",
     "text": [
      "最新更新：18:08:29\n",
      "stock_code short_name  price change_pct  main_net_inflow  prediction\n",
      "    600961       株冶集团  9.750       5.86       89664573.0          10\n",
      "    601020       华钰矿业 24.440       2.86       94040044.0           9\n",
      "    600367       红星发展 15.380       4.63       52339353.0           9\n",
      "    002155       湖南黄金  23.52       7.50      307973502.0           9\n",
      "    301368       丰立智能  88.00      -1.35     -133552529.0           9\n",
      "    603198       迎驾贡酒 60.640       2.40       55839439.0           8\n",
      "    605208        永茂泰 15.870      -3.99       12710427.0           9\n",
      "    603993       洛阳钼业  7.700      -1.41       64061269.0           8\n",
      "    000596       古井贡酒 189.17       5.48      -16307812.0           8\n",
      "    600711       ST盛屯  5.550       2.78      -13048991.0           8\n",
      "已更新监控页面 -> stock_realtime_monitor.html\n"
     ]
    },
    {
     "name": "stderr",
     "output_type": "stream",
     "text": [
      "C:\\Users\\charl\\AppData\\Local\\Temp\\ipykernel_65656\\701453132.py:104: FutureWarning: Styler.applymap has been deprecated. Use Styler.map instead.\n",
      "  .applymap(style_predictions, subset=['prediction'])\n"
     ]
    },
    {
     "name": "stdout",
     "output_type": "stream",
     "text": [
      "最新更新：18:09:00\n",
      "stock_code short_name  price change_pct  main_net_inflow  prediction\n",
      "    600961       株冶集团  9.750       5.86       89664573.0          10\n",
      "    601020       华钰矿业 24.440       2.86       94040044.0           9\n",
      "    600367       红星发展 15.380       4.63       52339353.0           9\n",
      "    002155       湖南黄金  23.52       7.50      307973502.0           9\n",
      "    301368       丰立智能  88.00      -1.35     -133552529.0           9\n",
      "    603198       迎驾贡酒 60.640       2.40       55839439.0           8\n",
      "    605208        永茂泰 15.870      -3.99       12710427.0           9\n",
      "    603993       洛阳钼业  7.700      -1.41       64061269.0           8\n",
      "    000596       古井贡酒 189.17       5.48      -16307812.0           8\n",
      "    600711       ST盛屯  5.550       2.78      -13048991.0           8\n",
      "已更新监控页面 -> stock_realtime_monitor.html\n"
     ]
    },
    {
     "name": "stderr",
     "output_type": "stream",
     "text": [
      "C:\\Users\\charl\\AppData\\Local\\Temp\\ipykernel_65656\\701453132.py:104: FutureWarning: Styler.applymap has been deprecated. Use Styler.map instead.\n",
      "  .applymap(style_predictions, subset=['prediction'])\n"
     ]
    },
    {
     "name": "stdout",
     "output_type": "stream",
     "text": [
      "最新更新：18:09:30\n",
      "stock_code short_name  price change_pct  main_net_inflow  prediction\n",
      "    600961       株冶集团  9.750       5.86       89664573.0          10\n",
      "    601020       华钰矿业 24.440       2.86       94040044.0           9\n",
      "    600367       红星发展 15.380       4.63       52339353.0           9\n",
      "    002155       湖南黄金  23.52       7.50      307973502.0           9\n",
      "    301368       丰立智能  88.00      -1.35     -133552529.0           9\n",
      "    603198       迎驾贡酒 60.640       2.40       55839439.0           8\n",
      "    605208        永茂泰 15.870      -3.99       12710427.0           9\n",
      "    603993       洛阳钼业  7.700      -1.41       64061269.0           8\n",
      "    000596       古井贡酒 189.17       5.48      -16307812.0           8\n",
      "    600711       ST盛屯  5.550       2.78      -13048991.0           8\n",
      "已更新监控页面 -> stock_realtime_monitor.html\n"
     ]
    },
    {
     "name": "stderr",
     "output_type": "stream",
     "text": [
      "C:\\Users\\charl\\AppData\\Local\\Temp\\ipykernel_65656\\701453132.py:104: FutureWarning: Styler.applymap has been deprecated. Use Styler.map instead.\n",
      "  .applymap(style_predictions, subset=['prediction'])\n"
     ]
    },
    {
     "name": "stdout",
     "output_type": "stream",
     "text": [
      "最新更新：18:09:59\n",
      "stock_code short_name  price change_pct  main_net_inflow  prediction\n",
      "    600961       株冶集团  9.750       5.86       89664573.0          10\n",
      "    601020       华钰矿业 24.440       2.86       94040044.0           9\n",
      "    600367       红星发展 15.380       4.63       52339353.0           9\n",
      "    002155       湖南黄金  23.52       7.50      307973502.0           9\n",
      "    301368       丰立智能  88.00      -1.35     -133552529.0           9\n",
      "    603198       迎驾贡酒 60.640       2.40       55839439.0           8\n",
      "    605208        永茂泰 15.870      -3.99       12710427.0           9\n",
      "    603993       洛阳钼业  7.700      -1.41       64061269.0           8\n",
      "    000596       古井贡酒 189.17       5.48      -16307812.0           8\n",
      "    600711       ST盛屯  5.550       2.78      -13048991.0           8\n",
      "已更新监控页面 -> stock_realtime_monitor.html\n"
     ]
    },
    {
     "name": "stderr",
     "output_type": "stream",
     "text": [
      "C:\\Users\\charl\\AppData\\Local\\Temp\\ipykernel_65656\\701453132.py:104: FutureWarning: Styler.applymap has been deprecated. Use Styler.map instead.\n",
      "  .applymap(style_predictions, subset=['prediction'])\n"
     ]
    },
    {
     "name": "stdout",
     "output_type": "stream",
     "text": [
      "最新更新：18:10:27\n",
      "stock_code short_name  price change_pct  main_net_inflow  prediction\n",
      "    600961       株冶集团  9.750       5.86       89664573.0          10\n",
      "    601020       华钰矿业 24.440       2.86       94040044.0           9\n",
      "    600367       红星发展 15.380       4.63       52339353.0           9\n",
      "    002155       湖南黄金  23.52       7.50      307973502.0           9\n",
      "    301368       丰立智能  88.00      -1.35     -133552529.0           9\n",
      "    603198       迎驾贡酒 60.640       2.40       55839439.0           8\n",
      "    605208        永茂泰 15.870      -3.99       12710427.0           9\n",
      "    603993       洛阳钼业  7.700      -1.41       64061269.0           8\n",
      "    000596       古井贡酒 189.17       5.48      -16307812.0           8\n",
      "    600711       ST盛屯  5.550       2.78      -13048991.0           8\n",
      "已更新监控页面 -> stock_realtime_monitor.html\n"
     ]
    },
    {
     "name": "stderr",
     "output_type": "stream",
     "text": [
      "C:\\Users\\charl\\AppData\\Local\\Temp\\ipykernel_65656\\701453132.py:104: FutureWarning: Styler.applymap has been deprecated. Use Styler.map instead.\n",
      "  .applymap(style_predictions, subset=['prediction'])\n"
     ]
    },
    {
     "name": "stdout",
     "output_type": "stream",
     "text": [
      "最新更新：18:10:57\n",
      "stock_code short_name  price change_pct  main_net_inflow  prediction\n",
      "    600961       株冶集团  9.750       5.86       89664573.0          10\n",
      "    601020       华钰矿业 24.440       2.86       94040044.0           9\n",
      "    600367       红星发展 15.380       4.63       52339353.0           9\n",
      "    002155       湖南黄金  23.52       7.50      307973502.0           9\n",
      "    301368       丰立智能  88.00      -1.35     -133552529.0           9\n",
      "    603198       迎驾贡酒 60.640       2.40       55839439.0           8\n",
      "    605208        永茂泰 15.870      -3.99       12710427.0           9\n",
      "    603993       洛阳钼业  7.700      -1.41       64061269.0           8\n",
      "    000596       古井贡酒 189.17       5.48      -16307812.0           8\n",
      "    600711       ST盛屯  5.550       2.78      -13048991.0           8\n",
      "已更新监控页面 -> stock_realtime_monitor.html\n"
     ]
    },
    {
     "name": "stderr",
     "output_type": "stream",
     "text": [
      "C:\\Users\\charl\\AppData\\Local\\Temp\\ipykernel_65656\\701453132.py:104: FutureWarning: Styler.applymap has been deprecated. Use Styler.map instead.\n",
      "  .applymap(style_predictions, subset=['prediction'])\n"
     ]
    },
    {
     "name": "stdout",
     "output_type": "stream",
     "text": [
      "最新更新：18:11:29\n",
      "stock_code short_name  price change_pct  main_net_inflow  prediction\n",
      "    600961       株冶集团  9.750       5.86       89664573.0          10\n",
      "    601020       华钰矿业 24.440       2.86       94040044.0           9\n",
      "    600367       红星发展 15.380       4.63       52339353.0           9\n",
      "    002155       湖南黄金  23.52       7.50      307973502.0           9\n",
      "    301368       丰立智能  88.00      -1.35     -133552529.0           9\n",
      "    603198       迎驾贡酒 60.640       2.40       55839439.0           8\n",
      "    605208        永茂泰 15.870      -3.99       12710427.0           9\n",
      "    603993       洛阳钼业  7.700      -1.41       64061269.0           8\n",
      "    000596       古井贡酒 189.17       5.48      -16307812.0           8\n",
      "    600711       ST盛屯  5.550       2.78      -13048991.0           8\n",
      "已更新监控页面 -> stock_realtime_monitor.html\n"
     ]
    },
    {
     "name": "stderr",
     "output_type": "stream",
     "text": [
      "C:\\Users\\charl\\AppData\\Local\\Temp\\ipykernel_65656\\701453132.py:104: FutureWarning: Styler.applymap has been deprecated. Use Styler.map instead.\n",
      "  .applymap(style_predictions, subset=['prediction'])\n"
     ]
    },
    {
     "name": "stdout",
     "output_type": "stream",
     "text": [
      "最新更新：18:11:58\n",
      "stock_code short_name  price change_pct  main_net_inflow  prediction\n",
      "    600961       株冶集团  9.750       5.86       89664573.0          10\n",
      "    601020       华钰矿业 24.440       2.86       94040044.0           9\n",
      "    600367       红星发展 15.380       4.63       52339353.0           9\n",
      "    002155       湖南黄金  23.52       7.50      307973502.0           9\n",
      "    301368       丰立智能  88.00      -1.35     -133552529.0           9\n",
      "    603198       迎驾贡酒 60.640       2.40       55839439.0           8\n",
      "    605208        永茂泰 15.870      -3.99       12710427.0           9\n",
      "    603993       洛阳钼业  7.700      -1.41       64061269.0           8\n",
      "    000596       古井贡酒 189.17       5.48      -16307812.0           8\n",
      "    600711       ST盛屯  5.550       2.78      -13048991.0           8\n",
      "已更新监控页面 -> stock_realtime_monitor.html\n"
     ]
    },
    {
     "name": "stderr",
     "output_type": "stream",
     "text": [
      "C:\\Users\\charl\\AppData\\Local\\Temp\\ipykernel_65656\\701453132.py:104: FutureWarning: Styler.applymap has been deprecated. Use Styler.map instead.\n",
      "  .applymap(style_predictions, subset=['prediction'])\n"
     ]
    },
    {
     "name": "stdout",
     "output_type": "stream",
     "text": [
      "最新更新：18:12:31\n",
      "stock_code short_name  price change_pct  main_net_inflow  prediction\n",
      "    600961       株冶集团  9.750       5.86       89664573.0          10\n",
      "    601020       华钰矿业 24.440       2.86       94040044.0           9\n",
      "    600367       红星发展 15.380       4.63       52339353.0           9\n",
      "    002155       湖南黄金  23.52       7.50      307973502.0           9\n",
      "    301368       丰立智能  88.00      -1.35     -133552529.0           9\n",
      "    603198       迎驾贡酒 60.640       2.40       55839439.0           8\n",
      "    605208        永茂泰 15.870      -3.99       12710427.0           9\n",
      "    603993       洛阳钼业  7.700      -1.41       64061269.0           8\n",
      "    000596       古井贡酒 189.17       5.48      -16307812.0           8\n",
      "    600711       ST盛屯  5.550       2.78      -13048991.0           8\n",
      "已更新监控页面 -> stock_realtime_monitor.html\n"
     ]
    },
    {
     "name": "stderr",
     "output_type": "stream",
     "text": [
      "C:\\Users\\charl\\AppData\\Local\\Temp\\ipykernel_65656\\701453132.py:104: FutureWarning: Styler.applymap has been deprecated. Use Styler.map instead.\n",
      "  .applymap(style_predictions, subset=['prediction'])\n"
     ]
    },
    {
     "name": "stdout",
     "output_type": "stream",
     "text": [
      "最新更新：18:13:00\n",
      "stock_code short_name  price change_pct  main_net_inflow  prediction\n",
      "    600961       株冶集团  9.750       5.86       89664573.0          10\n",
      "    601020       华钰矿业 24.440       2.86       94040044.0           9\n",
      "    600367       红星发展 15.380       4.63       52339353.0           9\n",
      "    002155       湖南黄金  23.52       7.50      307973502.0           9\n",
      "    301368       丰立智能  88.00      -1.35     -133552529.0           9\n",
      "    603198       迎驾贡酒 60.640       2.40       55839439.0           8\n",
      "    605208        永茂泰 15.870      -3.99       12710427.0           9\n",
      "    603993       洛阳钼业  7.700      -1.41       64061269.0           8\n",
      "    000596       古井贡酒 189.17       5.48      -16307812.0           8\n",
      "    600711       ST盛屯  5.550       2.78      -13048991.0           8\n",
      "已更新监控页面 -> stock_realtime_monitor.html\n"
     ]
    },
    {
     "name": "stderr",
     "output_type": "stream",
     "text": [
      "C:\\Users\\charl\\AppData\\Local\\Temp\\ipykernel_65656\\701453132.py:104: FutureWarning: Styler.applymap has been deprecated. Use Styler.map instead.\n",
      "  .applymap(style_predictions, subset=['prediction'])\n"
     ]
    },
    {
     "name": "stdout",
     "output_type": "stream",
     "text": [
      "最新更新：18:13:30\n",
      "stock_code short_name  price change_pct  main_net_inflow  prediction\n",
      "    600961       株冶集团  9.750       5.86       89664573.0          10\n",
      "    601020       华钰矿业 24.440       2.86       94040044.0           9\n",
      "    600367       红星发展 15.380       4.63       52339353.0           9\n",
      "    002155       湖南黄金  23.52       7.50      307973502.0           9\n",
      "    301368       丰立智能  88.00      -1.35     -133552529.0           9\n",
      "    603198       迎驾贡酒 60.640       2.40       55839439.0           8\n",
      "    605208        永茂泰 15.870      -3.99       12710427.0           9\n",
      "    603993       洛阳钼业  7.700      -1.41       64061269.0           8\n",
      "    000596       古井贡酒 189.17       5.48      -16307812.0           8\n",
      "    600711       ST盛屯  5.550       2.78      -13048991.0           8\n",
      "已更新监控页面 -> stock_realtime_monitor.html\n"
     ]
    },
    {
     "name": "stderr",
     "output_type": "stream",
     "text": [
      "C:\\Users\\charl\\AppData\\Local\\Temp\\ipykernel_65656\\701453132.py:104: FutureWarning: Styler.applymap has been deprecated. Use Styler.map instead.\n",
      "  .applymap(style_predictions, subset=['prediction'])\n"
     ]
    },
    {
     "name": "stdout",
     "output_type": "stream",
     "text": [
      "最新更新：18:13:59\n",
      "stock_code short_name  price change_pct  main_net_inflow  prediction\n",
      "    600961       株冶集团  9.750       5.86       89664573.0          10\n",
      "    601020       华钰矿业 24.440       2.86       94040044.0           9\n",
      "    600367       红星发展 15.380       4.63       52339353.0           9\n",
      "    002155       湖南黄金  23.52       7.50      307973502.0           9\n",
      "    301368       丰立智能  88.00      -1.35     -133552529.0           9\n",
      "    603198       迎驾贡酒 60.640       2.40       55839439.0           8\n",
      "    605208        永茂泰 15.870      -3.99       12710427.0           9\n",
      "    603993       洛阳钼业  7.700      -1.41       64061269.0           8\n",
      "    000596       古井贡酒 189.17       5.48      -16307812.0           8\n",
      "    600711       ST盛屯  5.550       2.78      -13048991.0           8\n",
      "已更新监控页面 -> stock_realtime_monitor.html\n"
     ]
    },
    {
     "name": "stderr",
     "output_type": "stream",
     "text": [
      "C:\\Users\\charl\\AppData\\Local\\Temp\\ipykernel_65656\\701453132.py:104: FutureWarning: Styler.applymap has been deprecated. Use Styler.map instead.\n",
      "  .applymap(style_predictions, subset=['prediction'])\n"
     ]
    },
    {
     "name": "stdout",
     "output_type": "stream",
     "text": [
      "最新更新：18:14:30\n",
      "stock_code short_name  price change_pct  main_net_inflow  prediction\n",
      "    600961       株冶集团  9.750       5.86       89664573.0          10\n",
      "    601020       华钰矿业 24.440       2.86       94040044.0           9\n",
      "    600367       红星发展 15.380       4.63       52339353.0           9\n",
      "    002155       湖南黄金  23.52       7.50      307973502.0           9\n",
      "    301368       丰立智能  88.00      -1.35     -133552529.0           9\n",
      "    603198       迎驾贡酒 60.640       2.40       55839439.0           8\n",
      "    605208        永茂泰 15.870      -3.99       12710427.0           9\n",
      "    603993       洛阳钼业  7.700      -1.41       64061269.0           8\n",
      "    000596       古井贡酒 189.17       5.48      -16307812.0           8\n",
      "    600711       ST盛屯  5.550       2.78      -13048991.0           8\n",
      "已更新监控页面 -> stock_realtime_monitor.html\n"
     ]
    },
    {
     "name": "stderr",
     "output_type": "stream",
     "text": [
      "C:\\Users\\charl\\AppData\\Local\\Temp\\ipykernel_65656\\701453132.py:104: FutureWarning: Styler.applymap has been deprecated. Use Styler.map instead.\n",
      "  .applymap(style_predictions, subset=['prediction'])\n"
     ]
    },
    {
     "name": "stdout",
     "output_type": "stream",
     "text": [
      "最新更新：18:14:58\n",
      "stock_code short_name  price change_pct  main_net_inflow  prediction\n",
      "    600961       株冶集团  9.750       5.86       89664573.0          10\n",
      "    601020       华钰矿业 24.440       2.86       94040044.0           9\n",
      "    600367       红星发展 15.380       4.63       52339353.0           9\n",
      "    002155       湖南黄金  23.52       7.50      307973502.0           9\n",
      "    301368       丰立智能  88.00      -1.35     -133552529.0           9\n",
      "    603198       迎驾贡酒 60.640       2.40       55839439.0           8\n",
      "    605208        永茂泰 15.870      -3.99       12710427.0           9\n",
      "    603993       洛阳钼业  7.700      -1.41       64061269.0           8\n",
      "    000596       古井贡酒 189.17       5.48      -16307812.0           8\n",
      "    600711       ST盛屯  5.550       2.78      -13048991.0           8\n",
      "已更新监控页面 -> stock_realtime_monitor.html\n"
     ]
    },
    {
     "name": "stderr",
     "output_type": "stream",
     "text": [
      "C:\\Users\\charl\\AppData\\Local\\Temp\\ipykernel_65656\\701453132.py:104: FutureWarning: Styler.applymap has been deprecated. Use Styler.map instead.\n",
      "  .applymap(style_predictions, subset=['prediction'])\n"
     ]
    },
    {
     "name": "stdout",
     "output_type": "stream",
     "text": [
      "最新更新：18:15:28\n",
      "stock_code short_name  price change_pct  main_net_inflow  prediction\n",
      "    600961       株冶集团  9.750       5.86       89664573.0          10\n",
      "    601020       华钰矿业 24.440       2.86       94040044.0           9\n",
      "    600367       红星发展 15.380       4.63       52339353.0           9\n",
      "    002155       湖南黄金  23.52       7.50      307973502.0           9\n",
      "    301368       丰立智能  88.00      -1.35     -133552529.0           9\n",
      "    603198       迎驾贡酒 60.640       2.40       55839439.0           8\n",
      "    605208        永茂泰 15.870      -3.99       12710427.0           9\n",
      "    603993       洛阳钼业  7.700      -1.41       64061269.0           8\n",
      "    000596       古井贡酒 189.17       5.48      -16307812.0           8\n",
      "    600711       ST盛屯  5.550       2.78      -13048991.0           8\n",
      "已更新监控页面 -> stock_realtime_monitor.html\n"
     ]
    },
    {
     "name": "stderr",
     "output_type": "stream",
     "text": [
      "C:\\Users\\charl\\AppData\\Local\\Temp\\ipykernel_65656\\701453132.py:104: FutureWarning: Styler.applymap has been deprecated. Use Styler.map instead.\n",
      "  .applymap(style_predictions, subset=['prediction'])\n"
     ]
    },
    {
     "name": "stdout",
     "output_type": "stream",
     "text": [
      "最新更新：18:15:56\n",
      "stock_code short_name  price change_pct  main_net_inflow  prediction\n",
      "    600961       株冶集团  9.750       5.86       89664573.0          10\n",
      "    601020       华钰矿业 24.440       2.86       94040044.0           9\n",
      "    600367       红星发展 15.380       4.63       52339353.0           9\n",
      "    002155       湖南黄金  23.52       7.50      307973502.0           9\n",
      "    301368       丰立智能  88.00      -1.35     -133552529.0           9\n",
      "    603198       迎驾贡酒 60.640       2.40       55839439.0           8\n",
      "    605208        永茂泰 15.870      -3.99       12710427.0           9\n",
      "    603993       洛阳钼业  7.700      -1.41       64061269.0           8\n",
      "    000596       古井贡酒 189.17       5.48      -16307812.0           8\n",
      "    600711       ST盛屯  5.550       2.78      -13048991.0           8\n",
      "已更新监控页面 -> stock_realtime_monitor.html\n"
     ]
    },
    {
     "name": "stderr",
     "output_type": "stream",
     "text": [
      "C:\\Users\\charl\\AppData\\Local\\Temp\\ipykernel_65656\\701453132.py:104: FutureWarning: Styler.applymap has been deprecated. Use Styler.map instead.\n",
      "  .applymap(style_predictions, subset=['prediction'])\n"
     ]
    },
    {
     "name": "stdout",
     "output_type": "stream",
     "text": [
      "最新更新：18:16:27\n",
      "stock_code short_name  price change_pct  main_net_inflow  prediction\n",
      "    600961       株冶集团  9.750       5.86       89664573.0          10\n",
      "    601020       华钰矿业 24.440       2.86       94040044.0           9\n",
      "    600367       红星发展 15.380       4.63       52339353.0           9\n",
      "    002155       湖南黄金  23.52       7.50      307973502.0           9\n",
      "    301368       丰立智能  88.00      -1.35     -133552529.0           9\n",
      "    603198       迎驾贡酒 60.640       2.40       55839439.0           8\n",
      "    605208        永茂泰 15.870      -3.99       12710427.0           9\n",
      "    603993       洛阳钼业  7.700      -1.41       64061269.0           8\n",
      "    000596       古井贡酒 189.17       5.48      -16307812.0           8\n",
      "    600711       ST盛屯  5.550       2.78      -13048991.0           8\n",
      "已更新监控页面 -> stock_realtime_monitor.html\n"
     ]
    },
    {
     "name": "stderr",
     "output_type": "stream",
     "text": [
      "C:\\Users\\charl\\AppData\\Local\\Temp\\ipykernel_65656\\701453132.py:104: FutureWarning: Styler.applymap has been deprecated. Use Styler.map instead.\n",
      "  .applymap(style_predictions, subset=['prediction'])\n"
     ]
    },
    {
     "name": "stdout",
     "output_type": "stream",
     "text": [
      "最新更新：18:16:56\n",
      "stock_code short_name  price change_pct  main_net_inflow  prediction\n",
      "    600961       株冶集团  9.750       5.86       89664573.0          10\n",
      "    601020       华钰矿业 24.440       2.86       94040044.0           9\n",
      "    600367       红星发展 15.380       4.63       52339353.0           9\n",
      "    002155       湖南黄金  23.52       7.50      307973502.0           9\n",
      "    301368       丰立智能  88.00      -1.35     -133552529.0           9\n",
      "    603198       迎驾贡酒 60.640       2.40       55839439.0           8\n",
      "    605208        永茂泰 15.870      -3.99       12710427.0           9\n",
      "    603993       洛阳钼业  7.700      -1.41       64061269.0           8\n",
      "    000596       古井贡酒 189.17       5.48      -16307812.0           8\n",
      "    600711       ST盛屯  5.550       2.78      -13048991.0           8\n",
      "已更新监控页面 -> stock_realtime_monitor.html\n"
     ]
    },
    {
     "name": "stderr",
     "output_type": "stream",
     "text": [
      "C:\\Users\\charl\\AppData\\Local\\Temp\\ipykernel_65656\\701453132.py:104: FutureWarning: Styler.applymap has been deprecated. Use Styler.map instead.\n",
      "  .applymap(style_predictions, subset=['prediction'])\n"
     ]
    },
    {
     "name": "stdout",
     "output_type": "stream",
     "text": [
      "最新更新：18:17:28\n",
      "stock_code short_name  price change_pct  main_net_inflow  prediction\n",
      "    600961       株冶集团  9.750       5.86       89664573.0          10\n",
      "    601020       华钰矿业 24.440       2.86       94040044.0           9\n",
      "    600367       红星发展 15.380       4.63       52339353.0           9\n",
      "    002155       湖南黄金  23.52       7.50      307973502.0           9\n",
      "    301368       丰立智能  88.00      -1.35     -133552529.0           9\n",
      "    603198       迎驾贡酒 60.640       2.40       55839439.0           8\n",
      "    605208        永茂泰 15.870      -3.99       12710427.0           9\n",
      "    603993       洛阳钼业  7.700      -1.41       64061269.0           8\n",
      "    000596       古井贡酒 189.17       5.48      -16307812.0           8\n",
      "    600711       ST盛屯  5.550       2.78      -13048991.0           8\n",
      "已更新监控页面 -> stock_realtime_monitor.html\n"
     ]
    },
    {
     "name": "stderr",
     "output_type": "stream",
     "text": [
      "C:\\Users\\charl\\AppData\\Local\\Temp\\ipykernel_65656\\701453132.py:104: FutureWarning: Styler.applymap has been deprecated. Use Styler.map instead.\n",
      "  .applymap(style_predictions, subset=['prediction'])\n"
     ]
    },
    {
     "name": "stdout",
     "output_type": "stream",
     "text": [
      "最新更新：18:17:56\n",
      "stock_code short_name  price change_pct  main_net_inflow  prediction\n",
      "    600961       株冶集团  9.750       5.86       89664573.0          10\n",
      "    601020       华钰矿业 24.440       2.86       94040044.0           9\n",
      "    600367       红星发展 15.380       4.63       52339353.0           9\n",
      "    002155       湖南黄金  23.52       7.50      307973502.0           9\n",
      "    301368       丰立智能  88.00      -1.35     -133552529.0           9\n",
      "    603198       迎驾贡酒 60.640       2.40       55839439.0           8\n",
      "    605208        永茂泰 15.870      -3.99       12710427.0           9\n",
      "    603993       洛阳钼业  7.700      -1.41       64061269.0           8\n",
      "    000596       古井贡酒 189.17       5.48      -16307812.0           8\n",
      "    600711       ST盛屯  5.550       2.78      -13048991.0           8\n",
      "已更新监控页面 -> stock_realtime_monitor.html\n"
     ]
    },
    {
     "name": "stderr",
     "output_type": "stream",
     "text": [
      "C:\\Users\\charl\\AppData\\Local\\Temp\\ipykernel_65656\\701453132.py:104: FutureWarning: Styler.applymap has been deprecated. Use Styler.map instead.\n",
      "  .applymap(style_predictions, subset=['prediction'])\n"
     ]
    },
    {
     "name": "stdout",
     "output_type": "stream",
     "text": [
      "最新更新：18:18:30\n",
      "stock_code short_name  price change_pct  main_net_inflow  prediction\n",
      "    600961       株冶集团  9.750       5.86       89664573.0          10\n",
      "    601020       华钰矿业 24.440       2.86       94040044.0           9\n",
      "    600367       红星发展 15.380       4.63       52339353.0           9\n",
      "    002155       湖南黄金  23.52       7.50      307973502.0           9\n",
      "    301368       丰立智能  88.00      -1.35     -133552529.0           9\n",
      "    603198       迎驾贡酒 60.640       2.40       55839439.0           8\n",
      "    605208        永茂泰 15.870      -3.99       12710427.0           9\n",
      "    603993       洛阳钼业  7.700      -1.41       64061269.0           8\n",
      "    000596       古井贡酒 189.17       5.48      -16307812.0           8\n",
      "    600711       ST盛屯  5.550       2.78      -13048991.0           8\n",
      "已更新监控页面 -> stock_realtime_monitor.html\n"
     ]
    },
    {
     "name": "stderr",
     "output_type": "stream",
     "text": [
      "C:\\Users\\charl\\AppData\\Local\\Temp\\ipykernel_65656\\701453132.py:104: FutureWarning: Styler.applymap has been deprecated. Use Styler.map instead.\n",
      "  .applymap(style_predictions, subset=['prediction'])\n"
     ]
    },
    {
     "name": "stdout",
     "output_type": "stream",
     "text": [
      "最新更新：18:18:59\n",
      "stock_code short_name  price change_pct  main_net_inflow  prediction\n",
      "    600961       株冶集团  9.750       5.86       89664573.0          10\n",
      "    601020       华钰矿业 24.440       2.86       94040044.0           9\n",
      "    600367       红星发展 15.380       4.63       52339353.0           9\n",
      "    002155       湖南黄金  23.52       7.50      307973502.0           9\n",
      "    301368       丰立智能  88.00      -1.35     -133552529.0           9\n",
      "    603198       迎驾贡酒 60.640       2.40       55839439.0           8\n",
      "    605208        永茂泰 15.870      -3.99       12710427.0           9\n",
      "    603993       洛阳钼业  7.700      -1.41       64061269.0           8\n",
      "    000596       古井贡酒 189.17       5.48      -16307812.0           8\n",
      "    600711       ST盛屯  5.550       2.78      -13048991.0           8\n",
      "已更新监控页面 -> stock_realtime_monitor.html\n"
     ]
    },
    {
     "name": "stderr",
     "output_type": "stream",
     "text": [
      "C:\\Users\\charl\\AppData\\Local\\Temp\\ipykernel_65656\\701453132.py:104: FutureWarning: Styler.applymap has been deprecated. Use Styler.map instead.\n",
      "  .applymap(style_predictions, subset=['prediction'])\n"
     ]
    },
    {
     "name": "stdout",
     "output_type": "stream",
     "text": [
      "最新更新：18:19:29\n",
      "stock_code short_name  price change_pct  main_net_inflow  prediction\n",
      "    600961       株冶集团  9.750       5.86       89664573.0          10\n",
      "    601020       华钰矿业 24.440       2.86       94040044.0           9\n",
      "    600367       红星发展 15.380       4.63       52339353.0           9\n",
      "    002155       湖南黄金  23.52       7.50      307973502.0           9\n",
      "    301368       丰立智能  88.00      -1.35     -133552529.0           9\n",
      "    603198       迎驾贡酒 60.640       2.40       55839439.0           8\n",
      "    605208        永茂泰 15.870      -3.99       12710427.0           9\n",
      "    603993       洛阳钼业  7.700      -1.41       64061269.0           8\n",
      "    000596       古井贡酒 189.17       5.48      -16307812.0           8\n",
      "    600711       ST盛屯  5.550       2.78      -13048991.0           8\n",
      "已更新监控页面 -> stock_realtime_monitor.html\n"
     ]
    },
    {
     "name": "stderr",
     "output_type": "stream",
     "text": [
      "C:\\Users\\charl\\AppData\\Local\\Temp\\ipykernel_65656\\701453132.py:104: FutureWarning: Styler.applymap has been deprecated. Use Styler.map instead.\n",
      "  .applymap(style_predictions, subset=['prediction'])\n"
     ]
    },
    {
     "name": "stdout",
     "output_type": "stream",
     "text": [
      "最新更新：18:19:58\n",
      "stock_code short_name  price change_pct  main_net_inflow  prediction\n",
      "    600961       株冶集团  9.750       5.86       89664573.0          10\n",
      "    601020       华钰矿业 24.440       2.86       94040044.0           9\n",
      "    600367       红星发展 15.380       4.63       52339353.0           9\n",
      "    002155       湖南黄金  23.52       7.50      307973502.0           9\n",
      "    301368       丰立智能  88.00      -1.35     -133552529.0           9\n",
      "    603198       迎驾贡酒 60.640       2.40       55839439.0           8\n",
      "    605208        永茂泰 15.870      -3.99       12710427.0           9\n",
      "    603993       洛阳钼业  7.700      -1.41       64061269.0           8\n",
      "    000596       古井贡酒 189.17       5.48      -16307812.0           8\n",
      "    600711       ST盛屯  5.550       2.78      -13048991.0           8\n",
      "已更新监控页面 -> stock_realtime_monitor.html\n"
     ]
    },
    {
     "name": "stderr",
     "output_type": "stream",
     "text": [
      "C:\\Users\\charl\\AppData\\Local\\Temp\\ipykernel_65656\\701453132.py:104: FutureWarning: Styler.applymap has been deprecated. Use Styler.map instead.\n",
      "  .applymap(style_predictions, subset=['prediction'])\n"
     ]
    },
    {
     "name": "stdout",
     "output_type": "stream",
     "text": [
      "最新更新：18:20:28\n",
      "stock_code short_name  price change_pct  main_net_inflow  prediction\n",
      "    600961       株冶集团  9.750       5.86       89664573.0          10\n",
      "    601020       华钰矿业 24.440       2.86       94040044.0           9\n",
      "    600367       红星发展 15.380       4.63       52339353.0           9\n",
      "    002155       湖南黄金  23.52       7.50      307973502.0           9\n",
      "    301368       丰立智能  88.00      -1.35     -133552529.0           9\n",
      "    603198       迎驾贡酒 60.640       2.40       55839439.0           8\n",
      "    605208        永茂泰 15.870      -3.99       12710427.0           9\n",
      "    603993       洛阳钼业  7.700      -1.41       64061269.0           8\n",
      "    000596       古井贡酒 189.17       5.48      -16307812.0           8\n",
      "    600711       ST盛屯  5.550       2.78      -13048991.0           8\n",
      "已更新监控页面 -> stock_realtime_monitor.html\n"
     ]
    },
    {
     "name": "stderr",
     "output_type": "stream",
     "text": [
      "C:\\Users\\charl\\AppData\\Local\\Temp\\ipykernel_65656\\701453132.py:104: FutureWarning: Styler.applymap has been deprecated. Use Styler.map instead.\n",
      "  .applymap(style_predictions, subset=['prediction'])\n"
     ]
    },
    {
     "name": "stdout",
     "output_type": "stream",
     "text": [
      "最新更新：18:20:57\n",
      "stock_code short_name  price change_pct  main_net_inflow  prediction\n",
      "    600961       株冶集团  9.750       5.86       89664573.0          10\n",
      "    601020       华钰矿业 24.440       2.86       94040044.0           9\n",
      "    600367       红星发展 15.380       4.63       52339353.0           9\n",
      "    002155       湖南黄金  23.52       7.50      307973502.0           9\n",
      "    301368       丰立智能  88.00      -1.35     -133552529.0           9\n",
      "    603198       迎驾贡酒 60.640       2.40       55839439.0           8\n",
      "    605208        永茂泰 15.870      -3.99       12710427.0           9\n",
      "    603993       洛阳钼业  7.700      -1.41       64061269.0           8\n",
      "    000596       古井贡酒 189.17       5.48      -16307812.0           8\n",
      "    600711       ST盛屯  5.550       2.78      -13048991.0           8\n",
      "已更新监控页面 -> stock_realtime_monitor.html\n"
     ]
    },
    {
     "name": "stderr",
     "output_type": "stream",
     "text": [
      "C:\\Users\\charl\\AppData\\Local\\Temp\\ipykernel_65656\\701453132.py:104: FutureWarning: Styler.applymap has been deprecated. Use Styler.map instead.\n",
      "  .applymap(style_predictions, subset=['prediction'])\n"
     ]
    },
    {
     "name": "stdout",
     "output_type": "stream",
     "text": [
      "最新更新：18:21:29\n",
      "stock_code short_name  price change_pct  main_net_inflow  prediction\n",
      "    600961       株冶集团  9.750       5.86       89664573.0          10\n",
      "    601020       华钰矿业 24.440       2.86       94040044.0           9\n",
      "    600367       红星发展 15.380       4.63       52339353.0           9\n",
      "    002155       湖南黄金  23.52       7.50      307973502.0           9\n",
      "    301368       丰立智能  88.00      -1.35     -133552529.0           9\n",
      "    603198       迎驾贡酒 60.640       2.40       55839439.0           8\n",
      "    605208        永茂泰 15.870      -3.99       12710427.0           9\n",
      "    603993       洛阳钼业  7.700      -1.41       64061269.0           8\n",
      "    000596       古井贡酒 189.17       5.48      -16307812.0           8\n",
      "    600711       ST盛屯  5.550       2.78      -13048991.0           8\n",
      "已更新监控页面 -> stock_realtime_monitor.html\n"
     ]
    },
    {
     "name": "stderr",
     "output_type": "stream",
     "text": [
      "C:\\Users\\charl\\AppData\\Local\\Temp\\ipykernel_65656\\701453132.py:104: FutureWarning: Styler.applymap has been deprecated. Use Styler.map instead.\n",
      "  .applymap(style_predictions, subset=['prediction'])\n"
     ]
    },
    {
     "name": "stdout",
     "output_type": "stream",
     "text": [
      "最新更新：18:21:56\n",
      "stock_code short_name  price change_pct  main_net_inflow  prediction\n",
      "    600961       株冶集团  9.750       5.86       89664573.0          10\n",
      "    601020       华钰矿业 24.440       2.86       94040044.0           9\n",
      "    600367       红星发展 15.380       4.63       52339353.0           9\n",
      "    002155       湖南黄金  23.52       7.50      307973502.0           9\n",
      "    301368       丰立智能  88.00      -1.35     -133552529.0           9\n",
      "    603198       迎驾贡酒 60.640       2.40       55839439.0           8\n",
      "    605208        永茂泰 15.870      -3.99       12710427.0           9\n",
      "    603993       洛阳钼业  7.700      -1.41       64061269.0           8\n",
      "    000596       古井贡酒 189.17       5.48      -16307812.0           8\n",
      "    600711       ST盛屯  5.550       2.78      -13048991.0           8\n",
      "已更新监控页面 -> stock_realtime_monitor.html\n"
     ]
    },
    {
     "name": "stderr",
     "output_type": "stream",
     "text": [
      "C:\\Users\\charl\\AppData\\Local\\Temp\\ipykernel_65656\\701453132.py:104: FutureWarning: Styler.applymap has been deprecated. Use Styler.map instead.\n",
      "  .applymap(style_predictions, subset=['prediction'])\n"
     ]
    },
    {
     "name": "stdout",
     "output_type": "stream",
     "text": [
      "最新更新：18:22:27\n",
      "stock_code short_name  price change_pct  main_net_inflow  prediction\n",
      "    600961       株冶集团  9.750       5.86       89664573.0          10\n",
      "    601020       华钰矿业 24.440       2.86       94040044.0           9\n",
      "    600367       红星发展 15.380       4.63       52339353.0           9\n",
      "    002155       湖南黄金  23.52       7.50      307973502.0           9\n",
      "    301368       丰立智能  88.00      -1.35     -133552529.0           9\n",
      "    603198       迎驾贡酒 60.640       2.40       55839439.0           8\n",
      "    605208        永茂泰 15.870      -3.99       12710427.0           9\n",
      "    603993       洛阳钼业  7.700      -1.41       64061269.0           8\n",
      "    000596       古井贡酒 189.17       5.48      -16307812.0           8\n",
      "    600711       ST盛屯  5.550       2.78      -13048991.0           8\n",
      "已更新监控页面 -> stock_realtime_monitor.html\n"
     ]
    },
    {
     "name": "stderr",
     "output_type": "stream",
     "text": [
      "C:\\Users\\charl\\AppData\\Local\\Temp\\ipykernel_65656\\701453132.py:104: FutureWarning: Styler.applymap has been deprecated. Use Styler.map instead.\n",
      "  .applymap(style_predictions, subset=['prediction'])\n"
     ]
    },
    {
     "name": "stdout",
     "output_type": "stream",
     "text": [
      "最新更新：18:22:55\n",
      "stock_code short_name  price change_pct  main_net_inflow  prediction\n",
      "    600961       株冶集团  9.750       5.86       89664573.0          10\n",
      "    601020       华钰矿业 24.440       2.86       94040044.0           9\n",
      "    600367       红星发展 15.380       4.63       52339353.0           9\n",
      "    002155       湖南黄金  23.52       7.50      307973502.0           9\n",
      "    301368       丰立智能  88.00      -1.35     -133552529.0           9\n",
      "    603198       迎驾贡酒 60.640       2.40       55839439.0           8\n",
      "    605208        永茂泰 15.870      -3.99       12710427.0           9\n",
      "    603993       洛阳钼业  7.700      -1.41       64061269.0           8\n",
      "    000596       古井贡酒 189.17       5.48      -16307812.0           8\n",
      "    600711       ST盛屯  5.550       2.78      -13048991.0           8\n",
      "已更新监控页面 -> stock_realtime_monitor.html\n"
     ]
    },
    {
     "name": "stderr",
     "output_type": "stream",
     "text": [
      "C:\\Users\\charl\\AppData\\Local\\Temp\\ipykernel_65656\\701453132.py:104: FutureWarning: Styler.applymap has been deprecated. Use Styler.map instead.\n",
      "  .applymap(style_predictions, subset=['prediction'])\n"
     ]
    },
    {
     "name": "stdout",
     "output_type": "stream",
     "text": [
      "最新更新：18:23:26\n",
      "stock_code short_name  price change_pct  main_net_inflow  prediction\n",
      "    600961       株冶集团  9.750       5.86       89664573.0          10\n",
      "    601020       华钰矿业 24.440       2.86       94040044.0           9\n",
      "    600367       红星发展 15.380       4.63       52339353.0           9\n",
      "    002155       湖南黄金  23.52       7.50      307973502.0           9\n",
      "    301368       丰立智能  88.00      -1.35     -133552529.0           9\n",
      "    603198       迎驾贡酒 60.640       2.40       55839439.0           8\n",
      "    605208        永茂泰 15.870      -3.99       12710427.0           9\n",
      "    603993       洛阳钼业  7.700      -1.41       64061269.0           8\n",
      "    000596       古井贡酒 189.17       5.48      -16307812.0           8\n",
      "    600711       ST盛屯  5.550       2.78      -13048991.0           8\n",
      "已更新监控页面 -> stock_realtime_monitor.html\n"
     ]
    },
    {
     "name": "stderr",
     "output_type": "stream",
     "text": [
      "C:\\Users\\charl\\AppData\\Local\\Temp\\ipykernel_65656\\701453132.py:104: FutureWarning: Styler.applymap has been deprecated. Use Styler.map instead.\n",
      "  .applymap(style_predictions, subset=['prediction'])\n"
     ]
    },
    {
     "name": "stdout",
     "output_type": "stream",
     "text": [
      "最新更新：18:23:56\n",
      "stock_code short_name  price change_pct  main_net_inflow  prediction\n",
      "    600961       株冶集团  9.750       5.86       89664573.0          10\n",
      "    601020       华钰矿业 24.440       2.86       94040044.0           9\n",
      "    600367       红星发展 15.380       4.63       52339353.0           9\n",
      "    002155       湖南黄金  23.52       7.50      307973502.0           9\n",
      "    301368       丰立智能  88.00      -1.35     -133552529.0           9\n",
      "    603198       迎驾贡酒 60.640       2.40       55839439.0           8\n",
      "    605208        永茂泰 15.870      -3.99       12710427.0           9\n",
      "    603993       洛阳钼业  7.700      -1.41       64061269.0           8\n",
      "    000596       古井贡酒 189.17       5.48      -16307812.0           8\n",
      "    600711       ST盛屯  5.550       2.78      -13048991.0           8\n",
      "已更新监控页面 -> stock_realtime_monitor.html\n"
     ]
    },
    {
     "name": "stderr",
     "output_type": "stream",
     "text": [
      "C:\\Users\\charl\\AppData\\Local\\Temp\\ipykernel_65656\\701453132.py:104: FutureWarning: Styler.applymap has been deprecated. Use Styler.map instead.\n",
      "  .applymap(style_predictions, subset=['prediction'])\n"
     ]
    },
    {
     "name": "stdout",
     "output_type": "stream",
     "text": [
      "最新更新：18:24:28\n",
      "stock_code short_name  price change_pct  main_net_inflow  prediction\n",
      "    600961       株冶集团  9.750       5.86       89664573.0          10\n",
      "    601020       华钰矿业 24.440       2.86       94040044.0           9\n",
      "    600367       红星发展 15.380       4.63       52339353.0           9\n",
      "    002155       湖南黄金  23.52       7.50      307973502.0           9\n",
      "    301368       丰立智能  88.00      -1.35     -133552529.0           9\n",
      "    603198       迎驾贡酒 60.640       2.40       55839439.0           8\n",
      "    605208        永茂泰 15.870      -3.99       12710427.0           9\n",
      "    603993       洛阳钼业  7.700      -1.41       64061269.0           8\n",
      "    000596       古井贡酒 189.17       5.48      -16307812.0           8\n",
      "    600711       ST盛屯  5.550       2.78      -13048991.0           8\n",
      "已更新监控页面 -> stock_realtime_monitor.html\n"
     ]
    },
    {
     "name": "stderr",
     "output_type": "stream",
     "text": [
      "C:\\Users\\charl\\AppData\\Local\\Temp\\ipykernel_65656\\701453132.py:104: FutureWarning: Styler.applymap has been deprecated. Use Styler.map instead.\n",
      "  .applymap(style_predictions, subset=['prediction'])\n"
     ]
    },
    {
     "name": "stdout",
     "output_type": "stream",
     "text": [
      "获取603993资金流数据失败: HTTPSConnectionPool(host='push2.eastmoney.com', port=443): Max retries exceeded with url: /api/qt/stock/fflow/kline/get?lmt=0&klt=1&fields1=f1,f2,f3,f7&fields2=f51,f52,f53,f54,f55,f56,f57,f58,f59,f60,f61,f62,f63,f64,f65&secid=1.603993 (Caused by ConnectTimeoutError(<urllib3.connection.HTTPSConnection object at 0x00000188EF213090>, 'Connection to push2.eastmoney.com timed out. (connect timeout=None)'))\n",
      "最新更新：18:25:18\n",
      "stock_code short_name  price change_pct  main_net_inflow  prediction\n",
      "    600961       株冶集团  9.750       5.86       89664573.0          10\n",
      "    601020       华钰矿业 24.440       2.86       94040044.0           9\n",
      "    600367       红星发展 15.380       4.63       52339353.0           9\n",
      "    002155       湖南黄金  23.52       7.50      307973502.0           9\n",
      "    301368       丰立智能  88.00      -1.35     -133552529.0           9\n",
      "    603198       迎驾贡酒 60.640       2.40       55839439.0           8\n",
      "    605208        永茂泰 15.870      -3.99       12710427.0           9\n",
      "    603993       洛阳钼业  7.700      -1.41              NaN           8\n",
      "    000596       古井贡酒 189.17       5.48      -16307812.0           8\n",
      "    600711       ST盛屯  5.550       2.78      -13048991.0           8\n",
      "已更新监控页面 -> stock_realtime_monitor.html\n"
     ]
    },
    {
     "name": "stderr",
     "output_type": "stream",
     "text": [
      "C:\\Users\\charl\\AppData\\Local\\Temp\\ipykernel_65656\\701453132.py:104: FutureWarning: Styler.applymap has been deprecated. Use Styler.map instead.\n",
      "  .applymap(style_predictions, subset=['prediction'])\n"
     ]
    },
    {
     "name": "stdout",
     "output_type": "stream",
     "text": [
      "最新更新：18:25:58\n",
      "stock_code short_name  price change_pct  main_net_inflow  prediction\n",
      "    600961       株冶集团  9.750       5.86       89664573.0          10\n",
      "    601020       华钰矿业 24.440       2.86       94040044.0           9\n",
      "    600367       红星发展 15.380       4.63       52339353.0           9\n",
      "    002155       湖南黄金  23.52       7.50      307973502.0           9\n",
      "    301368       丰立智能  88.00      -1.35     -133552529.0           9\n",
      "    603198       迎驾贡酒 60.640       2.40       55839439.0           8\n",
      "    605208        永茂泰 15.870      -3.99       12710427.0           9\n",
      "    603993       洛阳钼业  7.700      -1.41       64061269.0           8\n",
      "    000596       古井贡酒 189.17       5.48      -16307812.0           8\n",
      "    600711       ST盛屯  5.550       2.78      -13048991.0           8\n",
      "已更新监控页面 -> stock_realtime_monitor.html\n"
     ]
    },
    {
     "name": "stderr",
     "output_type": "stream",
     "text": [
      "C:\\Users\\charl\\AppData\\Local\\Temp\\ipykernel_65656\\701453132.py:104: FutureWarning: Styler.applymap has been deprecated. Use Styler.map instead.\n",
      "  .applymap(style_predictions, subset=['prediction'])\n"
     ]
    },
    {
     "name": "stdout",
     "output_type": "stream",
     "text": [
      "最新更新：18:26:30\n",
      "stock_code short_name  price change_pct  main_net_inflow  prediction\n",
      "    600961       株冶集团  9.750       5.86       89664573.0          10\n",
      "    601020       华钰矿业 24.440       2.86       94040044.0           9\n",
      "    600367       红星发展 15.380       4.63       52339353.0           9\n",
      "    002155       湖南黄金  23.52       7.50      307973502.0           9\n",
      "    301368       丰立智能  88.00      -1.35     -133552529.0           9\n",
      "    603198       迎驾贡酒 60.640       2.40       55839439.0           8\n",
      "    605208        永茂泰 15.870      -3.99       12710427.0           9\n",
      "    603993       洛阳钼业  7.700      -1.41       64061269.0           8\n",
      "    000596       古井贡酒 189.17       5.48      -16307812.0           8\n",
      "    600711       ST盛屯  5.550       2.78      -13048991.0           8\n",
      "已更新监控页面 -> stock_realtime_monitor.html\n"
     ]
    },
    {
     "name": "stderr",
     "output_type": "stream",
     "text": [
      "C:\\Users\\charl\\AppData\\Local\\Temp\\ipykernel_65656\\701453132.py:104: FutureWarning: Styler.applymap has been deprecated. Use Styler.map instead.\n",
      "  .applymap(style_predictions, subset=['prediction'])\n"
     ]
    },
    {
     "name": "stdout",
     "output_type": "stream",
     "text": [
      "最新更新：18:27:01\n",
      "stock_code short_name  price change_pct  main_net_inflow  prediction\n",
      "    600961       株冶集团  9.750       5.86       89664573.0          10\n",
      "    601020       华钰矿业 24.440       2.86       94040044.0           9\n",
      "    600367       红星发展 15.380       4.63       52339353.0           9\n",
      "    002155       湖南黄金  23.52       7.50      307973502.0           9\n",
      "    301368       丰立智能  88.00      -1.35     -133552529.0           9\n",
      "    603198       迎驾贡酒 60.640       2.40       55839439.0           8\n",
      "    605208        永茂泰 15.870      -3.99       12710427.0           9\n",
      "    603993       洛阳钼业  7.700      -1.41       64061269.0           8\n",
      "    000596       古井贡酒 189.17       5.48      -16307812.0           8\n",
      "    600711       ST盛屯  5.550       2.78      -13048991.0           8\n",
      "已更新监控页面 -> stock_realtime_monitor.html\n"
     ]
    },
    {
     "name": "stderr",
     "output_type": "stream",
     "text": [
      "C:\\Users\\charl\\AppData\\Local\\Temp\\ipykernel_65656\\701453132.py:104: FutureWarning: Styler.applymap has been deprecated. Use Styler.map instead.\n",
      "  .applymap(style_predictions, subset=['prediction'])\n"
     ]
    },
    {
     "name": "stdout",
     "output_type": "stream",
     "text": [
      "最新更新：18:27:29\n",
      "stock_code short_name  price change_pct  main_net_inflow  prediction\n",
      "    600961       株冶集团  9.750       5.86       89664573.0          10\n",
      "    601020       华钰矿业 24.440       2.86       94040044.0           9\n",
      "    600367       红星发展 15.380       4.63       52339353.0           9\n",
      "    002155       湖南黄金  23.52       7.50      307973502.0           9\n",
      "    301368       丰立智能  88.00      -1.35     -133552529.0           9\n",
      "    603198       迎驾贡酒 60.640       2.40       55839439.0           8\n",
      "    605208        永茂泰 15.870      -3.99       12710427.0           9\n",
      "    603993       洛阳钼业  7.700      -1.41       64061269.0           8\n",
      "    000596       古井贡酒 189.17       5.48      -16307812.0           8\n",
      "    600711       ST盛屯  5.550       2.78      -13048991.0           8\n",
      "已更新监控页面 -> stock_realtime_monitor.html\n"
     ]
    },
    {
     "name": "stderr",
     "output_type": "stream",
     "text": [
      "C:\\Users\\charl\\AppData\\Local\\Temp\\ipykernel_65656\\701453132.py:104: FutureWarning: Styler.applymap has been deprecated. Use Styler.map instead.\n",
      "  .applymap(style_predictions, subset=['prediction'])\n"
     ]
    },
    {
     "name": "stdout",
     "output_type": "stream",
     "text": [
      "最新更新：18:28:00\n",
      "stock_code short_name  price change_pct  main_net_inflow  prediction\n",
      "    600961       株冶集团  9.750       5.86       89664573.0          10\n",
      "    601020       华钰矿业 24.440       2.86       94040044.0           9\n",
      "    600367       红星发展 15.380       4.63       52339353.0           9\n",
      "    002155       湖南黄金  23.52       7.50      307973502.0           9\n",
      "    301368       丰立智能  88.00      -1.35     -133552529.0           9\n",
      "    603198       迎驾贡酒 60.640       2.40       55839439.0           8\n",
      "    605208        永茂泰 15.870      -3.99       12710427.0           9\n",
      "    603993       洛阳钼业  7.700      -1.41       64061269.0           8\n",
      "    000596       古井贡酒 189.17       5.48      -16307812.0           8\n",
      "    600711       ST盛屯  5.550       2.78      -13048991.0           8\n",
      "已更新监控页面 -> stock_realtime_monitor.html\n"
     ]
    },
    {
     "name": "stderr",
     "output_type": "stream",
     "text": [
      "C:\\Users\\charl\\AppData\\Local\\Temp\\ipykernel_65656\\701453132.py:104: FutureWarning: Styler.applymap has been deprecated. Use Styler.map instead.\n",
      "  .applymap(style_predictions, subset=['prediction'])\n"
     ]
    },
    {
     "name": "stdout",
     "output_type": "stream",
     "text": [
      "最新更新：18:28:27\n",
      "stock_code short_name  price change_pct  main_net_inflow  prediction\n",
      "    600961       株冶集团  9.750       5.86       89664573.0          10\n",
      "    601020       华钰矿业 24.440       2.86       94040044.0           9\n",
      "    600367       红星发展 15.380       4.63       52339353.0           9\n",
      "    002155       湖南黄金  23.52       7.50      307973502.0           9\n",
      "    301368       丰立智能  88.00      -1.35     -133552529.0           9\n",
      "    603198       迎驾贡酒 60.640       2.40       55839439.0           8\n",
      "    605208        永茂泰 15.870      -3.99       12710427.0           9\n",
      "    603993       洛阳钼业  7.700      -1.41       64061269.0           8\n",
      "    000596       古井贡酒 189.17       5.48      -16307812.0           8\n",
      "    600711       ST盛屯  5.550       2.78      -13048991.0           8\n",
      "已更新监控页面 -> stock_realtime_monitor.html\n"
     ]
    },
    {
     "name": "stderr",
     "output_type": "stream",
     "text": [
      "C:\\Users\\charl\\AppData\\Local\\Temp\\ipykernel_65656\\701453132.py:104: FutureWarning: Styler.applymap has been deprecated. Use Styler.map instead.\n",
      "  .applymap(style_predictions, subset=['prediction'])\n"
     ]
    },
    {
     "name": "stdout",
     "output_type": "stream",
     "text": [
      "最新更新：18:28:57\n",
      "stock_code short_name  price change_pct  main_net_inflow  prediction\n",
      "    600961       株冶集团  9.750       5.86       89664573.0          10\n",
      "    601020       华钰矿业 24.440       2.86       94040044.0           9\n",
      "    600367       红星发展 15.380       4.63       52339353.0           9\n",
      "    002155       湖南黄金  23.52       7.50      307973502.0           9\n",
      "    301368       丰立智能  88.00      -1.35     -133552529.0           9\n",
      "    603198       迎驾贡酒 60.640       2.40       55839439.0           8\n",
      "    605208        永茂泰 15.870      -3.99       12710427.0           9\n",
      "    603993       洛阳钼业  7.700      -1.41       64061269.0           8\n",
      "    000596       古井贡酒 189.17       5.48      -16307812.0           8\n",
      "    600711       ST盛屯  5.550       2.78      -13048991.0           8\n",
      "已更新监控页面 -> stock_realtime_monitor.html\n"
     ]
    },
    {
     "name": "stderr",
     "output_type": "stream",
     "text": [
      "C:\\Users\\charl\\AppData\\Local\\Temp\\ipykernel_65656\\701453132.py:104: FutureWarning: Styler.applymap has been deprecated. Use Styler.map instead.\n",
      "  .applymap(style_predictions, subset=['prediction'])\n"
     ]
    },
    {
     "name": "stdout",
     "output_type": "stream",
     "text": [
      "最新更新：18:29:27\n",
      "stock_code short_name  price change_pct  main_net_inflow  prediction\n",
      "    600961       株冶集团  9.750       5.86       89664573.0          10\n",
      "    601020       华钰矿业 24.440       2.86       94040044.0           9\n",
      "    600367       红星发展 15.380       4.63       52339353.0           9\n",
      "    002155       湖南黄金  23.52       7.50      307973502.0           9\n",
      "    301368       丰立智能  88.00      -1.35     -133552529.0           9\n",
      "    603198       迎驾贡酒 60.640       2.40       55839439.0           8\n",
      "    605208        永茂泰 15.870      -3.99       12710427.0           9\n",
      "    603993       洛阳钼业  7.700      -1.41       64061269.0           8\n",
      "    000596       古井贡酒 189.17       5.48      -16307812.0           8\n",
      "    600711       ST盛屯  5.550       2.78      -13048991.0           8\n",
      "已更新监控页面 -> stock_realtime_monitor.html\n"
     ]
    },
    {
     "name": "stderr",
     "output_type": "stream",
     "text": [
      "C:\\Users\\charl\\AppData\\Local\\Temp\\ipykernel_65656\\701453132.py:104: FutureWarning: Styler.applymap has been deprecated. Use Styler.map instead.\n",
      "  .applymap(style_predictions, subset=['prediction'])\n"
     ]
    },
    {
     "name": "stdout",
     "output_type": "stream",
     "text": [
      "最新更新：18:29:55\n",
      "stock_code short_name  price change_pct  main_net_inflow  prediction\n",
      "    600961       株冶集团  9.750       5.86       89664573.0          10\n",
      "    601020       华钰矿业 24.440       2.86       94040044.0           9\n",
      "    600367       红星发展 15.380       4.63       52339353.0           9\n",
      "    002155       湖南黄金  23.52       7.50      307973502.0           9\n",
      "    301368       丰立智能  88.00      -1.35     -133552529.0           9\n",
      "    603198       迎驾贡酒 60.640       2.40       55839439.0           8\n",
      "    605208        永茂泰 15.870      -3.99       12710427.0           9\n",
      "    603993       洛阳钼业  7.700      -1.41       64061269.0           8\n",
      "    000596       古井贡酒 189.17       5.48      -16307812.0           8\n",
      "    600711       ST盛屯  5.550       2.78      -13048991.0           8\n",
      "已更新监控页面 -> stock_realtime_monitor.html\n"
     ]
    },
    {
     "name": "stderr",
     "output_type": "stream",
     "text": [
      "C:\\Users\\charl\\AppData\\Local\\Temp\\ipykernel_65656\\701453132.py:104: FutureWarning: Styler.applymap has been deprecated. Use Styler.map instead.\n",
      "  .applymap(style_predictions, subset=['prediction'])\n"
     ]
    },
    {
     "name": "stdout",
     "output_type": "stream",
     "text": [
      "最新更新：18:30:30\n",
      "stock_code short_name  price change_pct  main_net_inflow  prediction\n",
      "    600961       株冶集团  9.750       5.86       89664573.0          10\n",
      "    601020       华钰矿业 24.440       2.86       94040044.0           9\n",
      "    600367       红星发展 15.380       4.63       52339353.0           9\n",
      "    002155       湖南黄金  23.52       7.50      307973502.0           9\n",
      "    301368       丰立智能  88.00      -1.35     -133552529.0           9\n",
      "    603198       迎驾贡酒 60.640       2.40       55839439.0           8\n",
      "    605208        永茂泰 15.870      -3.99       12710427.0           9\n",
      "    603993       洛阳钼业  7.700      -1.41       64061269.0           8\n",
      "    000596       古井贡酒 189.17       5.48      -16307812.0           8\n",
      "    600711       ST盛屯  5.550       2.78      -13048991.0           8\n",
      "已更新监控页面 -> stock_realtime_monitor.html\n"
     ]
    },
    {
     "name": "stderr",
     "output_type": "stream",
     "text": [
      "C:\\Users\\charl\\AppData\\Local\\Temp\\ipykernel_65656\\701453132.py:104: FutureWarning: Styler.applymap has been deprecated. Use Styler.map instead.\n",
      "  .applymap(style_predictions, subset=['prediction'])\n"
     ]
    },
    {
     "name": "stdout",
     "output_type": "stream",
     "text": [
      "最新更新：18:30:59\n",
      "stock_code short_name  price change_pct  main_net_inflow  prediction\n",
      "    600961       株冶集团  9.750       5.86       89664573.0          10\n",
      "    601020       华钰矿业 24.440       2.86       94040044.0           9\n",
      "    600367       红星发展 15.380       4.63       52339353.0           9\n",
      "    002155       湖南黄金  23.52       7.50      307973502.0           9\n",
      "    301368       丰立智能  88.00      -1.35     -133552529.0           9\n",
      "    603198       迎驾贡酒 60.640       2.40       55839439.0           8\n",
      "    605208        永茂泰 15.870      -3.99       12710427.0           9\n",
      "    603993       洛阳钼业  7.700      -1.41       64061269.0           8\n",
      "    000596       古井贡酒 189.17       5.48      -16307812.0           8\n",
      "    600711       ST盛屯  5.550       2.78      -13048991.0           8\n",
      "已更新监控页面 -> stock_realtime_monitor.html\n"
     ]
    },
    {
     "name": "stderr",
     "output_type": "stream",
     "text": [
      "C:\\Users\\charl\\AppData\\Local\\Temp\\ipykernel_65656\\701453132.py:104: FutureWarning: Styler.applymap has been deprecated. Use Styler.map instead.\n",
      "  .applymap(style_predictions, subset=['prediction'])\n"
     ]
    },
    {
     "name": "stdout",
     "output_type": "stream",
     "text": [
      "最新更新：18:31:28\n",
      "stock_code short_name  price change_pct  main_net_inflow  prediction\n",
      "    600961       株冶集团  9.750       5.86       89664573.0          10\n",
      "    601020       华钰矿业 24.440       2.86       94040044.0           9\n",
      "    600367       红星发展 15.380       4.63       52339353.0           9\n",
      "    002155       湖南黄金  23.52       7.50      307973502.0           9\n",
      "    301368       丰立智能  88.00      -1.35     -133552529.0           9\n",
      "    603198       迎驾贡酒 60.640       2.40       55839439.0           8\n",
      "    605208        永茂泰 15.870      -3.99       12710427.0           9\n",
      "    603993       洛阳钼业  7.700      -1.41       64061269.0           8\n",
      "    000596       古井贡酒 189.17       5.48      -16307812.0           8\n",
      "    600711       ST盛屯  5.550       2.78      -13048991.0           8\n",
      "已更新监控页面 -> stock_realtime_monitor.html\n"
     ]
    },
    {
     "name": "stderr",
     "output_type": "stream",
     "text": [
      "C:\\Users\\charl\\AppData\\Local\\Temp\\ipykernel_65656\\701453132.py:104: FutureWarning: Styler.applymap has been deprecated. Use Styler.map instead.\n",
      "  .applymap(style_predictions, subset=['prediction'])\n"
     ]
    },
    {
     "name": "stdout",
     "output_type": "stream",
     "text": [
      "获取600961资金流数据失败: HTTPSConnectionPool(host='push2delay.eastmoney.com', port=443): Max retries exceeded with url: /api/qt/stock/fflow/kline/get?lmt=0&klt=1&fields1=f1,f2,f3,f7&fields2=f51,f52,f53,f54,f55,f56,f57,f58,f59,f60,f61,f62,f63,f64,f65&secid=1.600961 (Caused by ConnectTimeoutError(<urllib3.connection.HTTPSConnection object at 0x00000188EF203D50>, 'Connection to push2delay.eastmoney.com timed out. (connect timeout=None)'))\n",
      "最新更新：18:32:19\n",
      "stock_code short_name  price change_pct  main_net_inflow  prediction\n",
      "    600961       株冶集团  9.750       5.86              NaN          10\n",
      "    601020       华钰矿业 24.440       2.86       94040044.0           9\n",
      "    600367       红星发展 15.380       4.63       52339353.0           9\n",
      "    002155       湖南黄金  23.52       7.50      307973502.0           9\n",
      "    301368       丰立智能  88.00      -1.35     -133552529.0           9\n",
      "    603198       迎驾贡酒 60.640       2.40       55839439.0           8\n",
      "    605208        永茂泰 15.870      -3.99       12710427.0           9\n",
      "    603993       洛阳钼业  7.700      -1.41       64061269.0           8\n",
      "    000596       古井贡酒 189.17       5.48      -16307812.0           8\n",
      "    600711       ST盛屯  5.550       2.78      -13048991.0           8\n",
      "已更新监控页面 -> stock_realtime_monitor.html\n"
     ]
    },
    {
     "name": "stderr",
     "output_type": "stream",
     "text": [
      "C:\\Users\\charl\\AppData\\Local\\Temp\\ipykernel_65656\\701453132.py:104: FutureWarning: Styler.applymap has been deprecated. Use Styler.map instead.\n",
      "  .applymap(style_predictions, subset=['prediction'])\n"
     ]
    },
    {
     "name": "stdout",
     "output_type": "stream",
     "text": [
      "获取603198资金流数据失败: HTTPSConnectionPool(host='push2.eastmoney.com', port=443): Max retries exceeded with url: /api/qt/stock/fflow/kline/get?lmt=0&klt=1&fields1=f1,f2,f3,f7&fields2=f51,f52,f53,f54,f55,f56,f57,f58,f59,f60,f61,f62,f63,f64,f65&secid=1.603198 (Caused by ConnectTimeoutError(<urllib3.connection.HTTPSConnection object at 0x00000188EF209B90>, 'Connection to push2.eastmoney.com timed out. (connect timeout=None)'))\n",
      "最新更新：18:33:17\n",
      "stock_code short_name  price change_pct  main_net_inflow  prediction\n",
      "    600961       株冶集团  9.750       5.86       89664573.0          10\n",
      "    601020       华钰矿业 24.440       2.86       94040044.0           9\n",
      "    600367       红星发展 15.380       4.63       52339353.0           9\n",
      "    002155       湖南黄金  23.52       7.50      307973502.0           9\n",
      "    301368       丰立智能  88.00      -1.35     -133552529.0           9\n",
      "    603198       迎驾贡酒 60.640       2.40              NaN           8\n",
      "    605208        永茂泰 15.870      -3.99       12710427.0           9\n",
      "    603993       洛阳钼业  7.700      -1.41       64061269.0           8\n",
      "    000596       古井贡酒 189.17       5.48      -16307812.0           8\n",
      "    600711       ST盛屯  5.550       2.78      -13048991.0           8\n",
      "已更新监控页面 -> stock_realtime_monitor.html\n"
     ]
    },
    {
     "name": "stderr",
     "output_type": "stream",
     "text": [
      "C:\\Users\\charl\\AppData\\Local\\Temp\\ipykernel_65656\\701453132.py:104: FutureWarning: Styler.applymap has been deprecated. Use Styler.map instead.\n",
      "  .applymap(style_predictions, subset=['prediction'])\n"
     ]
    },
    {
     "name": "stdout",
     "output_type": "stream",
     "text": [
      "获取002155资金流数据失败: HTTPSConnectionPool(host='push2delay.eastmoney.com', port=443): Max retries exceeded with url: /api/qt/stock/fflow/kline/get?lmt=0&klt=1&fields1=f1,f2,f3,f7&fields2=f51,f52,f53,f54,f55,f56,f57,f58,f59,f60,f61,f62,f63,f64,f65&secid=0.002155 (Caused by ConnectTimeoutError(<urllib3.connection.HTTPSConnection object at 0x00000188EF1AD7D0>, 'Connection to push2delay.eastmoney.com timed out. (connect timeout=None)'))\n",
      "最新更新：18:34:17\n",
      "stock_code short_name  price change_pct  main_net_inflow  prediction\n",
      "    600961       株冶集团  9.750       5.86       89664573.0          10\n",
      "    601020       华钰矿业 24.440       2.86       94040044.0           9\n",
      "    600367       红星发展 15.380       4.63       52339353.0           9\n",
      "    002155       湖南黄金  23.52       7.50              NaN           9\n",
      "    301368       丰立智能  88.00      -1.35     -133552529.0           9\n",
      "    603198       迎驾贡酒 60.640       2.40       55839439.0           8\n",
      "    605208        永茂泰 15.870      -3.99       12710427.0           9\n",
      "    603993       洛阳钼业  7.700      -1.41       64061269.0           8\n",
      "    000596       古井贡酒 189.17       5.48      -16307812.0           8\n",
      "    600711       ST盛屯  5.550       2.78      -13048991.0           8\n",
      "已更新监控页面 -> stock_realtime_monitor.html\n"
     ]
    },
    {
     "name": "stderr",
     "output_type": "stream",
     "text": [
      "C:\\Users\\charl\\AppData\\Local\\Temp\\ipykernel_65656\\701453132.py:104: FutureWarning: Styler.applymap has been deprecated. Use Styler.map instead.\n",
      "  .applymap(style_predictions, subset=['prediction'])\n"
     ]
    },
    {
     "name": "stdout",
     "output_type": "stream",
     "text": [
      "最新更新：18:34:57\n",
      "stock_code short_name  price change_pct  main_net_inflow  prediction\n",
      "    600961       株冶集团  9.750       5.86       89664573.0          10\n",
      "    601020       华钰矿业 24.440       2.86       94040044.0           9\n",
      "    600367       红星发展 15.380       4.63       52339353.0           9\n",
      "    002155       湖南黄金  23.52       7.50      307973502.0           9\n",
      "    301368       丰立智能  88.00      -1.35     -133552529.0           9\n",
      "    603198       迎驾贡酒 60.640       2.40       55839439.0           8\n",
      "    605208        永茂泰 15.870      -3.99       12710427.0           9\n",
      "    603993       洛阳钼业  7.700      -1.41       64061269.0           8\n",
      "    000596       古井贡酒 189.17       5.48      -16307812.0           8\n",
      "    600711       ST盛屯  5.550       2.78      -13048991.0           8\n",
      "已更新监控页面 -> stock_realtime_monitor.html\n"
     ]
    },
    {
     "name": "stderr",
     "output_type": "stream",
     "text": [
      "C:\\Users\\charl\\AppData\\Local\\Temp\\ipykernel_65656\\701453132.py:104: FutureWarning: Styler.applymap has been deprecated. Use Styler.map instead.\n",
      "  .applymap(style_predictions, subset=['prediction'])\n"
     ]
    },
    {
     "name": "stdout",
     "output_type": "stream",
     "text": [
      "最新更新：18:35:26\n",
      "stock_code short_name  price change_pct  main_net_inflow  prediction\n",
      "    600961       株冶集团  9.750       5.86       89664573.0          10\n",
      "    601020       华钰矿业 24.440       2.86       94040044.0           9\n",
      "    600367       红星发展 15.380       4.63       52339353.0           9\n",
      "    002155       湖南黄金  23.52       7.50      307973502.0           9\n",
      "    301368       丰立智能  88.00      -1.35     -133552529.0           9\n",
      "    603198       迎驾贡酒 60.640       2.40       55839439.0           8\n",
      "    605208        永茂泰 15.870      -3.99       12710427.0           9\n",
      "    603993       洛阳钼业  7.700      -1.41       64061269.0           8\n",
      "    000596       古井贡酒 189.17       5.48      -16307812.0           8\n",
      "    600711       ST盛屯  5.550       2.78      -13048991.0           8\n",
      "已更新监控页面 -> stock_realtime_monitor.html\n"
     ]
    },
    {
     "name": "stderr",
     "output_type": "stream",
     "text": [
      "C:\\Users\\charl\\AppData\\Local\\Temp\\ipykernel_65656\\701453132.py:104: FutureWarning: Styler.applymap has been deprecated. Use Styler.map instead.\n",
      "  .applymap(style_predictions, subset=['prediction'])\n"
     ]
    },
    {
     "name": "stdout",
     "output_type": "stream",
     "text": [
      "最新更新：18:35:56\n",
      "stock_code short_name  price change_pct  main_net_inflow  prediction\n",
      "    600961       株冶集团  9.750       5.86       89664573.0          10\n",
      "    601020       华钰矿业 24.440       2.86       94040044.0           9\n",
      "    600367       红星发展 15.380       4.63       52339353.0           9\n",
      "    002155       湖南黄金  23.52       7.50      307973502.0           9\n",
      "    301368       丰立智能  88.00      -1.35     -133552529.0           9\n",
      "    603198       迎驾贡酒 60.640       2.40       55839439.0           8\n",
      "    605208        永茂泰 15.870      -3.99       12710427.0           9\n",
      "    603993       洛阳钼业  7.700      -1.41       64061269.0           8\n",
      "    000596       古井贡酒 189.17       5.48      -16307812.0           8\n",
      "    600711       ST盛屯  5.550       2.78      -13048991.0           8\n",
      "已更新监控页面 -> stock_realtime_monitor.html\n"
     ]
    },
    {
     "name": "stderr",
     "output_type": "stream",
     "text": [
      "C:\\Users\\charl\\AppData\\Local\\Temp\\ipykernel_65656\\701453132.py:104: FutureWarning: Styler.applymap has been deprecated. Use Styler.map instead.\n",
      "  .applymap(style_predictions, subset=['prediction'])\n"
     ]
    },
    {
     "name": "stdout",
     "output_type": "stream",
     "text": [
      "最新更新：18:36:30\n",
      "stock_code short_name  price change_pct  main_net_inflow  prediction\n",
      "    600961       株冶集团  9.750       5.86       89664573.0          10\n",
      "    601020       华钰矿业 24.440       2.86       94040044.0           9\n",
      "    600367       红星发展 15.380       4.63       52339353.0           9\n",
      "    002155       湖南黄金  23.52       7.50      307973502.0           9\n",
      "    301368       丰立智能  88.00      -1.35     -133552529.0           9\n",
      "    603198       迎驾贡酒 60.640       2.40       55839439.0           8\n",
      "    605208        永茂泰 15.870      -3.99       12710427.0           9\n",
      "    603993       洛阳钼业  7.700      -1.41       64061269.0           8\n",
      "    000596       古井贡酒 189.17       5.48      -16307812.0           8\n",
      "    600711       ST盛屯  5.550       2.78      -13048991.0           8\n",
      "已更新监控页面 -> stock_realtime_monitor.html\n"
     ]
    },
    {
     "name": "stderr",
     "output_type": "stream",
     "text": [
      "C:\\Users\\charl\\AppData\\Local\\Temp\\ipykernel_65656\\701453132.py:104: FutureWarning: Styler.applymap has been deprecated. Use Styler.map instead.\n",
      "  .applymap(style_predictions, subset=['prediction'])\n"
     ]
    },
    {
     "name": "stdout",
     "output_type": "stream",
     "text": [
      "最新更新：18:36:58\n",
      "stock_code short_name  price change_pct  main_net_inflow  prediction\n",
      "    600961       株冶集团  9.750       5.86       89664573.0          10\n",
      "    601020       华钰矿业 24.440       2.86       94040044.0           9\n",
      "    600367       红星发展 15.380       4.63       52339353.0           9\n",
      "    002155       湖南黄金  23.52       7.50      307973502.0           9\n",
      "    301368       丰立智能  88.00      -1.35     -133552529.0           9\n",
      "    603198       迎驾贡酒 60.640       2.40       55839439.0           8\n",
      "    605208        永茂泰 15.870      -3.99       12710427.0           9\n",
      "    603993       洛阳钼业  7.700      -1.41       64061269.0           8\n",
      "    000596       古井贡酒 189.17       5.48      -16307812.0           8\n",
      "    600711       ST盛屯  5.550       2.78      -13048991.0           8\n",
      "已更新监控页面 -> stock_realtime_monitor.html\n"
     ]
    },
    {
     "name": "stderr",
     "output_type": "stream",
     "text": [
      "C:\\Users\\charl\\AppData\\Local\\Temp\\ipykernel_65656\\701453132.py:104: FutureWarning: Styler.applymap has been deprecated. Use Styler.map instead.\n",
      "  .applymap(style_predictions, subset=['prediction'])\n"
     ]
    },
    {
     "name": "stdout",
     "output_type": "stream",
     "text": [
      "最新更新：18:37:26\n",
      "stock_code short_name  price change_pct  main_net_inflow  prediction\n",
      "    600961       株冶集团  9.750       5.86       89664573.0          10\n",
      "    601020       华钰矿业 24.440       2.86       94040044.0           9\n",
      "    600367       红星发展 15.380       4.63       52339353.0           9\n",
      "    002155       湖南黄金  23.52       7.50      307973502.0           9\n",
      "    301368       丰立智能  88.00      -1.35     -133552529.0           9\n",
      "    603198       迎驾贡酒 60.640       2.40       55839439.0           8\n",
      "    605208        永茂泰 15.870      -3.99       12710427.0           9\n",
      "    603993       洛阳钼业  7.700      -1.41       64061269.0           8\n",
      "    000596       古井贡酒 189.17       5.48      -16307812.0           8\n",
      "    600711       ST盛屯  5.550       2.78      -13048991.0           8\n",
      "已更新监控页面 -> stock_realtime_monitor.html\n"
     ]
    },
    {
     "name": "stderr",
     "output_type": "stream",
     "text": [
      "C:\\Users\\charl\\AppData\\Local\\Temp\\ipykernel_65656\\701453132.py:104: FutureWarning: Styler.applymap has been deprecated. Use Styler.map instead.\n",
      "  .applymap(style_predictions, subset=['prediction'])\n"
     ]
    },
    {
     "name": "stdout",
     "output_type": "stream",
     "text": [
      "获取603993资金流数据失败: HTTPSConnectionPool(host='push2.eastmoney.com', port=443): Max retries exceeded with url: /api/qt/stock/fflow/kline/get?lmt=0&klt=1&fields1=f1,f2,f3,f7&fields2=f51,f52,f53,f54,f55,f56,f57,f58,f59,f60,f61,f62,f63,f64,f65&secid=1.603993 (Caused by ConnectTimeoutError(<urllib3.connection.HTTPSConnection object at 0x00000188EED71510>, 'Connection to push2.eastmoney.com timed out. (connect timeout=None)'))\n",
      "最新更新：18:38:16\n",
      "stock_code short_name  price change_pct  main_net_inflow  prediction\n",
      "    600961       株冶集团  9.750       5.86       89664573.0          10\n",
      "    601020       华钰矿业 24.440       2.86       94040044.0           9\n",
      "    600367       红星发展 15.380       4.63       52339353.0           9\n",
      "    002155       湖南黄金  23.52       7.50      307973502.0           9\n",
      "    301368       丰立智能  88.00      -1.35     -133552529.0           9\n",
      "    603198       迎驾贡酒 60.640       2.40       55839439.0           8\n",
      "    605208        永茂泰 15.870      -3.99       12710427.0           9\n",
      "    603993       洛阳钼业  7.700      -1.41              NaN           8\n",
      "    000596       古井贡酒 189.17       5.48      -16307812.0           8\n",
      "    600711       ST盛屯  5.550       2.78      -13048991.0           8\n",
      "已更新监控页面 -> stock_realtime_monitor.html\n"
     ]
    },
    {
     "name": "stderr",
     "output_type": "stream",
     "text": [
      "C:\\Users\\charl\\AppData\\Local\\Temp\\ipykernel_65656\\701453132.py:104: FutureWarning: Styler.applymap has been deprecated. Use Styler.map instead.\n",
      "  .applymap(style_predictions, subset=['prediction'])\n"
     ]
    },
    {
     "name": "stdout",
     "output_type": "stream",
     "text": [
      "最新更新：18:38:58\n",
      "stock_code short_name  price change_pct  main_net_inflow  prediction\n",
      "    600961       株冶集团  9.750       5.86       89664573.0          10\n",
      "    601020       华钰矿业 24.440       2.86       94040044.0           9\n",
      "    600367       红星发展 15.380       4.63       52339353.0           9\n",
      "    002155       湖南黄金  23.52       7.50      307973502.0           9\n",
      "    301368       丰立智能  88.00      -1.35     -133552529.0           9\n",
      "    603198       迎驾贡酒 60.640       2.40       55839439.0           8\n",
      "    605208        永茂泰 15.870      -3.99       12710427.0           9\n",
      "    603993       洛阳钼业  7.700      -1.41       64061269.0           8\n",
      "    000596       古井贡酒 189.17       5.48      -16307812.0           8\n",
      "    600711       ST盛屯  5.550       2.78      -13048991.0           8\n",
      "已更新监控页面 -> stock_realtime_monitor.html\n"
     ]
    },
    {
     "name": "stderr",
     "output_type": "stream",
     "text": [
      "C:\\Users\\charl\\AppData\\Local\\Temp\\ipykernel_65656\\701453132.py:104: FutureWarning: Styler.applymap has been deprecated. Use Styler.map instead.\n",
      "  .applymap(style_predictions, subset=['prediction'])\n"
     ]
    },
    {
     "name": "stdout",
     "output_type": "stream",
     "text": [
      "最新更新：18:39:30\n",
      "stock_code short_name  price change_pct  main_net_inflow  prediction\n",
      "    600961       株冶集团  9.750       5.86       89664573.0          10\n",
      "    601020       华钰矿业 24.440       2.86       94040044.0           9\n",
      "    600367       红星发展 15.380       4.63       52339353.0           9\n",
      "    002155       湖南黄金  23.52       7.50      307973502.0           9\n",
      "    301368       丰立智能  88.00      -1.35     -133552529.0           9\n",
      "    603198       迎驾贡酒 60.640       2.40       55839439.0           8\n",
      "    605208        永茂泰 15.870      -3.99       12710427.0           9\n",
      "    603993       洛阳钼业  7.700      -1.41       64061269.0           8\n",
      "    000596       古井贡酒 189.17       5.48      -16307812.0           8\n",
      "    600711       ST盛屯  5.550       2.78      -13048991.0           8\n",
      "已更新监控页面 -> stock_realtime_monitor.html\n"
     ]
    },
    {
     "name": "stderr",
     "output_type": "stream",
     "text": [
      "C:\\Users\\charl\\AppData\\Local\\Temp\\ipykernel_65656\\701453132.py:104: FutureWarning: Styler.applymap has been deprecated. Use Styler.map instead.\n",
      "  .applymap(style_predictions, subset=['prediction'])\n"
     ]
    },
    {
     "name": "stdout",
     "output_type": "stream",
     "text": [
      "最新更新：18:40:01\n",
      "stock_code short_name  price change_pct  main_net_inflow  prediction\n",
      "    600961       株冶集团  9.750       5.86       89664573.0          10\n",
      "    601020       华钰矿业 24.440       2.86       94040044.0           9\n",
      "    600367       红星发展 15.380       4.63       52339353.0           9\n",
      "    002155       湖南黄金  23.52       7.50      307973502.0           9\n",
      "    301368       丰立智能  88.00      -1.35     -133552529.0           9\n",
      "    603198       迎驾贡酒 60.640       2.40       55839439.0           8\n",
      "    605208        永茂泰 15.870      -3.99       12710427.0           9\n",
      "    603993       洛阳钼业  7.700      -1.41       64061269.0           8\n",
      "    000596       古井贡酒 189.17       5.48      -16307812.0           8\n",
      "    600711       ST盛屯  5.550       2.78      -13048991.0           8\n",
      "已更新监控页面 -> stock_realtime_monitor.html\n"
     ]
    },
    {
     "name": "stderr",
     "output_type": "stream",
     "text": [
      "C:\\Users\\charl\\AppData\\Local\\Temp\\ipykernel_65656\\701453132.py:104: FutureWarning: Styler.applymap has been deprecated. Use Styler.map instead.\n",
      "  .applymap(style_predictions, subset=['prediction'])\n"
     ]
    },
    {
     "name": "stdout",
     "output_type": "stream",
     "text": [
      "最新更新：18:40:30\n",
      "stock_code short_name  price change_pct  main_net_inflow  prediction\n",
      "    600961       株冶集团  9.750       5.86       89664573.0          10\n",
      "    601020       华钰矿业 24.440       2.86       94040044.0           9\n",
      "    600367       红星发展 15.380       4.63       52339353.0           9\n",
      "    002155       湖南黄金  23.52       7.50      307973502.0           9\n",
      "    301368       丰立智能  88.00      -1.35     -133552529.0           9\n",
      "    603198       迎驾贡酒 60.640       2.40       55839439.0           8\n",
      "    605208        永茂泰 15.870      -3.99       12710427.0           9\n",
      "    603993       洛阳钼业  7.700      -1.41       64061269.0           8\n",
      "    000596       古井贡酒 189.17       5.48      -16307812.0           8\n",
      "    600711       ST盛屯  5.550       2.78      -13048991.0           8\n",
      "已更新监控页面 -> stock_realtime_monitor.html\n"
     ]
    },
    {
     "name": "stderr",
     "output_type": "stream",
     "text": [
      "C:\\Users\\charl\\AppData\\Local\\Temp\\ipykernel_65656\\701453132.py:104: FutureWarning: Styler.applymap has been deprecated. Use Styler.map instead.\n",
      "  .applymap(style_predictions, subset=['prediction'])\n"
     ]
    },
    {
     "name": "stdout",
     "output_type": "stream",
     "text": [
      "最新更新：18:40:58\n",
      "stock_code short_name  price change_pct  main_net_inflow  prediction\n",
      "    600961       株冶集团  9.750       5.86       89664573.0          10\n",
      "    601020       华钰矿业 24.440       2.86       94040044.0           9\n",
      "    600367       红星发展 15.380       4.63       52339353.0           9\n",
      "    002155       湖南黄金  23.52       7.50      307973502.0           9\n",
      "    301368       丰立智能  88.00      -1.35     -133552529.0           9\n",
      "    603198       迎驾贡酒 60.640       2.40       55839439.0           8\n",
      "    605208        永茂泰 15.870      -3.99       12710427.0           9\n",
      "    603993       洛阳钼业  7.700      -1.41       64061269.0           8\n",
      "    000596       古井贡酒 189.17       5.48      -16307812.0           8\n",
      "    600711       ST盛屯  5.550       2.78      -13048991.0           8\n",
      "已更新监控页面 -> stock_realtime_monitor.html\n"
     ]
    },
    {
     "name": "stderr",
     "output_type": "stream",
     "text": [
      "C:\\Users\\charl\\AppData\\Local\\Temp\\ipykernel_65656\\701453132.py:104: FutureWarning: Styler.applymap has been deprecated. Use Styler.map instead.\n",
      "  .applymap(style_predictions, subset=['prediction'])\n"
     ]
    },
    {
     "name": "stdout",
     "output_type": "stream",
     "text": [
      "最新更新：18:41:28\n",
      "stock_code short_name  price change_pct  main_net_inflow  prediction\n",
      "    600961       株冶集团  9.750       5.86       89664573.0          10\n",
      "    601020       华钰矿业 24.440       2.86       94040044.0           9\n",
      "    600367       红星发展 15.380       4.63       52339353.0           9\n",
      "    002155       湖南黄金  23.52       7.50      307973502.0           9\n",
      "    301368       丰立智能  88.00      -1.35     -133552529.0           9\n",
      "    603198       迎驾贡酒 60.640       2.40       55839439.0           8\n",
      "    605208        永茂泰 15.870      -3.99       12710427.0           9\n",
      "    603993       洛阳钼业  7.700      -1.41       64061269.0           8\n",
      "    000596       古井贡酒 189.17       5.48      -16307812.0           8\n",
      "    600711       ST盛屯  5.550       2.78      -13048991.0           8\n",
      "已更新监控页面 -> stock_realtime_monitor.html\n"
     ]
    },
    {
     "name": "stderr",
     "output_type": "stream",
     "text": [
      "C:\\Users\\charl\\AppData\\Local\\Temp\\ipykernel_65656\\701453132.py:104: FutureWarning: Styler.applymap has been deprecated. Use Styler.map instead.\n",
      "  .applymap(style_predictions, subset=['prediction'])\n"
     ]
    },
    {
     "name": "stdout",
     "output_type": "stream",
     "text": [
      "最新更新：18:41:59\n",
      "stock_code short_name  price change_pct  main_net_inflow  prediction\n",
      "    600961       株冶集团  9.750       5.86       89664573.0          10\n",
      "    601020       华钰矿业 24.440       2.86       94040044.0           9\n",
      "    600367       红星发展 15.380       4.63       52339353.0           9\n",
      "    002155       湖南黄金  23.52       7.50      307973502.0           9\n",
      "    301368       丰立智能  88.00      -1.35     -133552529.0           9\n",
      "    603198       迎驾贡酒 60.640       2.40       55839439.0           8\n",
      "    605208        永茂泰 15.870      -3.99       12710427.0           9\n",
      "    603993       洛阳钼业  7.700      -1.41       64061269.0           8\n",
      "    000596       古井贡酒 189.17       5.48      -16307812.0           8\n",
      "    600711       ST盛屯  5.550       2.78      -13048991.0           8\n",
      "已更新监控页面 -> stock_realtime_monitor.html\n"
     ]
    },
    {
     "name": "stderr",
     "output_type": "stream",
     "text": [
      "C:\\Users\\charl\\AppData\\Local\\Temp\\ipykernel_65656\\701453132.py:104: FutureWarning: Styler.applymap has been deprecated. Use Styler.map instead.\n",
      "  .applymap(style_predictions, subset=['prediction'])\n"
     ]
    },
    {
     "name": "stdout",
     "output_type": "stream",
     "text": [
      "最新更新：18:42:27\n",
      "stock_code short_name  price change_pct  main_net_inflow  prediction\n",
      "    600961       株冶集团  9.750       5.86       89664573.0          10\n",
      "    601020       华钰矿业 24.440       2.86       94040044.0           9\n",
      "    600367       红星发展 15.380       4.63       52339353.0           9\n",
      "    002155       湖南黄金  23.52       7.50      307973502.0           9\n",
      "    301368       丰立智能  88.00      -1.35     -133552529.0           9\n",
      "    603198       迎驾贡酒 60.640       2.40       55839439.0           8\n",
      "    605208        永茂泰 15.870      -3.99       12710427.0           9\n",
      "    603993       洛阳钼业  7.700      -1.41       64061269.0           8\n",
      "    000596       古井贡酒 189.17       5.48      -16307812.0           8\n",
      "    600711       ST盛屯  5.550       2.78      -13048991.0           8\n",
      "已更新监控页面 -> stock_realtime_monitor.html\n"
     ]
    },
    {
     "name": "stderr",
     "output_type": "stream",
     "text": [
      "C:\\Users\\charl\\AppData\\Local\\Temp\\ipykernel_65656\\701453132.py:104: FutureWarning: Styler.applymap has been deprecated. Use Styler.map instead.\n",
      "  .applymap(style_predictions, subset=['prediction'])\n"
     ]
    },
    {
     "name": "stdout",
     "output_type": "stream",
     "text": [
      "最新更新：18:42:55\n",
      "stock_code short_name  price change_pct  main_net_inflow  prediction\n",
      "    600961       株冶集团  9.750       5.86       89664573.0          10\n",
      "    601020       华钰矿业 24.440       2.86       94040044.0           9\n",
      "    600367       红星发展 15.380       4.63       52339353.0           9\n",
      "    002155       湖南黄金  23.52       7.50      307973502.0           9\n",
      "    301368       丰立智能  88.00      -1.35     -133552529.0           9\n",
      "    603198       迎驾贡酒 60.640       2.40       55839439.0           8\n",
      "    605208        永茂泰 15.870      -3.99       12710427.0           9\n",
      "    603993       洛阳钼业  7.700      -1.41       64061269.0           8\n",
      "    000596       古井贡酒 189.17       5.48      -16307812.0           8\n",
      "    600711       ST盛屯  5.550       2.78      -13048991.0           8\n",
      "已更新监控页面 -> stock_realtime_monitor.html\n"
     ]
    },
    {
     "name": "stderr",
     "output_type": "stream",
     "text": [
      "C:\\Users\\charl\\AppData\\Local\\Temp\\ipykernel_65656\\701453132.py:104: FutureWarning: Styler.applymap has been deprecated. Use Styler.map instead.\n",
      "  .applymap(style_predictions, subset=['prediction'])\n"
     ]
    },
    {
     "name": "stdout",
     "output_type": "stream",
     "text": [
      "最新更新：18:43:27\n",
      "stock_code short_name  price change_pct  main_net_inflow  prediction\n",
      "    600961       株冶集团  9.750       5.86       89664573.0          10\n",
      "    601020       华钰矿业 24.440       2.86       94040044.0           9\n",
      "    600367       红星发展 15.380       4.63       52339353.0           9\n",
      "    002155       湖南黄金  23.52       7.50      307973502.0           9\n",
      "    301368       丰立智能  88.00      -1.35     -133552529.0           9\n",
      "    603198       迎驾贡酒 60.640       2.40       55839439.0           8\n",
      "    605208        永茂泰 15.870      -3.99       12710427.0           9\n",
      "    603993       洛阳钼业  7.700      -1.41       64061269.0           8\n",
      "    000596       古井贡酒 189.17       5.48      -16307812.0           8\n",
      "    600711       ST盛屯  5.550       2.78      -13048991.0           8\n",
      "已更新监控页面 -> stock_realtime_monitor.html\n"
     ]
    },
    {
     "name": "stderr",
     "output_type": "stream",
     "text": [
      "C:\\Users\\charl\\AppData\\Local\\Temp\\ipykernel_65656\\701453132.py:104: FutureWarning: Styler.applymap has been deprecated. Use Styler.map instead.\n",
      "  .applymap(style_predictions, subset=['prediction'])\n"
     ]
    },
    {
     "name": "stdout",
     "output_type": "stream",
     "text": [
      "最新更新：18:43:56\n",
      "stock_code short_name  price change_pct  main_net_inflow  prediction\n",
      "    600961       株冶集团  9.750       5.86       89664573.0          10\n",
      "    601020       华钰矿业 24.440       2.86       94040044.0           9\n",
      "    600367       红星发展 15.380       4.63       52339353.0           9\n",
      "    002155       湖南黄金  23.52       7.50      307973502.0           9\n",
      "    301368       丰立智能  88.00      -1.35     -133552529.0           9\n",
      "    603198       迎驾贡酒 60.640       2.40       55839439.0           8\n",
      "    605208        永茂泰 15.870      -3.99       12710427.0           9\n",
      "    603993       洛阳钼业  7.700      -1.41       64061269.0           8\n",
      "    000596       古井贡酒 189.17       5.48      -16307812.0           8\n",
      "    600711       ST盛屯  5.550       2.78      -13048991.0           8\n",
      "已更新监控页面 -> stock_realtime_monitor.html\n"
     ]
    },
    {
     "name": "stderr",
     "output_type": "stream",
     "text": [
      "C:\\Users\\charl\\AppData\\Local\\Temp\\ipykernel_65656\\701453132.py:104: FutureWarning: Styler.applymap has been deprecated. Use Styler.map instead.\n",
      "  .applymap(style_predictions, subset=['prediction'])\n"
     ]
    },
    {
     "name": "stdout",
     "output_type": "stream",
     "text": [
      "最新更新：18:44:29\n",
      "stock_code short_name  price change_pct  main_net_inflow  prediction\n",
      "    600961       株冶集团  9.750       5.86       89664573.0          10\n",
      "    601020       华钰矿业 24.440       2.86       94040044.0           9\n",
      "    600367       红星发展 15.380       4.63       52339353.0           9\n",
      "    002155       湖南黄金  23.52       7.50      307973502.0           9\n",
      "    301368       丰立智能  88.00      -1.35     -133552529.0           9\n",
      "    603198       迎驾贡酒 60.640       2.40       55839439.0           8\n",
      "    605208        永茂泰 15.870      -3.99       12710427.0           9\n",
      "    603993       洛阳钼业  7.700      -1.41       64061269.0           8\n",
      "    000596       古井贡酒 189.17       5.48      -16307812.0           8\n",
      "    600711       ST盛屯  5.550       2.78      -13048991.0           8\n",
      "已更新监控页面 -> stock_realtime_monitor.html\n"
     ]
    },
    {
     "name": "stderr",
     "output_type": "stream",
     "text": [
      "C:\\Users\\charl\\AppData\\Local\\Temp\\ipykernel_65656\\701453132.py:104: FutureWarning: Styler.applymap has been deprecated. Use Styler.map instead.\n",
      "  .applymap(style_predictions, subset=['prediction'])\n"
     ]
    },
    {
     "name": "stdout",
     "output_type": "stream",
     "text": [
      "最新更新：18:44:57\n",
      "stock_code short_name  price change_pct  main_net_inflow  prediction\n",
      "    600961       株冶集团  9.750       5.86       89664573.0          10\n",
      "    601020       华钰矿业 24.440       2.86       94040044.0           9\n",
      "    600367       红星发展 15.380       4.63       52339353.0           9\n",
      "    002155       湖南黄金  23.52       7.50      307973502.0           9\n",
      "    301368       丰立智能  88.00      -1.35     -133552529.0           9\n",
      "    603198       迎驾贡酒 60.640       2.40       55839439.0           8\n",
      "    605208        永茂泰 15.870      -3.99       12710427.0           9\n",
      "    603993       洛阳钼业  7.700      -1.41       64061269.0           8\n",
      "    000596       古井贡酒 189.17       5.48      -16307812.0           8\n",
      "    600711       ST盛屯  5.550       2.78      -13048991.0           8\n",
      "已更新监控页面 -> stock_realtime_monitor.html\n"
     ]
    },
    {
     "name": "stderr",
     "output_type": "stream",
     "text": [
      "C:\\Users\\charl\\AppData\\Local\\Temp\\ipykernel_65656\\701453132.py:104: FutureWarning: Styler.applymap has been deprecated. Use Styler.map instead.\n",
      "  .applymap(style_predictions, subset=['prediction'])\n"
     ]
    },
    {
     "name": "stdout",
     "output_type": "stream",
     "text": [
      "获取600367资金流数据失败: HTTPSConnectionPool(host='push2delay.eastmoney.com', port=443): Max retries exceeded with url: /api/qt/stock/fflow/kline/get?lmt=0&klt=1&fields1=f1,f2,f3,f7&fields2=f51,f52,f53,f54,f55,f56,f57,f58,f59,f60,f61,f62,f63,f64,f65&secid=1.600367 (Caused by ConnectTimeoutError(<urllib3.connection.HTTPSConnection object at 0x00000188EF200BD0>, 'Connection to push2delay.eastmoney.com timed out. (connect timeout=None)'))\n",
      "最新更新：18:45:51\n",
      "stock_code short_name  price change_pct  main_net_inflow  prediction\n",
      "    600961       株冶集团  9.750       5.86       89664573.0          10\n",
      "    601020       华钰矿业 24.440       2.86       94040044.0           9\n",
      "    600367       红星发展 15.380       4.63              NaN           9\n",
      "    002155       湖南黄金  23.52       7.50      307973502.0           9\n",
      "    301368       丰立智能  88.00      -1.35     -133552529.0           9\n",
      "    603198       迎驾贡酒 60.640       2.40       55839439.0           8\n",
      "    605208        永茂泰 15.870      -3.99       12710427.0           9\n",
      "    603993       洛阳钼业  7.700      -1.41       64061269.0           8\n",
      "    000596       古井贡酒 189.17       5.48      -16307812.0           8\n",
      "    600711       ST盛屯  5.550       2.78      -13048991.0           8\n",
      "已更新监控页面 -> stock_realtime_monitor.html\n"
     ]
    },
    {
     "name": "stderr",
     "output_type": "stream",
     "text": [
      "C:\\Users\\charl\\AppData\\Local\\Temp\\ipykernel_65656\\701453132.py:104: FutureWarning: Styler.applymap has been deprecated. Use Styler.map instead.\n",
      "  .applymap(style_predictions, subset=['prediction'])\n"
     ]
    },
    {
     "name": "stdout",
     "output_type": "stream",
     "text": [
      "最新更新：18:46:29\n",
      "stock_code short_name  price change_pct  main_net_inflow  prediction\n",
      "    600961       株冶集团  9.750       5.86       89664573.0          10\n",
      "    601020       华钰矿业 24.440       2.86       94040044.0           9\n",
      "    600367       红星发展 15.380       4.63       52339353.0           9\n",
      "    002155       湖南黄金  23.52       7.50      307973502.0           9\n",
      "    301368       丰立智能  88.00      -1.35     -133552529.0           9\n",
      "    603198       迎驾贡酒 60.640       2.40       55839439.0           8\n",
      "    605208        永茂泰 15.870      -3.99       12710427.0           9\n",
      "    603993       洛阳钼业  7.700      -1.41       64061269.0           8\n",
      "    000596       古井贡酒 189.17       5.48      -16307812.0           8\n",
      "    600711       ST盛屯  5.550       2.78      -13048991.0           8\n",
      "已更新监控页面 -> stock_realtime_monitor.html\n"
     ]
    },
    {
     "name": "stderr",
     "output_type": "stream",
     "text": [
      "C:\\Users\\charl\\AppData\\Local\\Temp\\ipykernel_65656\\701453132.py:104: FutureWarning: Styler.applymap has been deprecated. Use Styler.map instead.\n",
      "  .applymap(style_predictions, subset=['prediction'])\n"
     ]
    },
    {
     "name": "stdout",
     "output_type": "stream",
     "text": [
      "最新更新：18:47:00\n",
      "stock_code short_name  price change_pct  main_net_inflow  prediction\n",
      "    600961       株冶集团  9.750       5.86       89664573.0          10\n",
      "    601020       华钰矿业 24.440       2.86       94040044.0           9\n",
      "    600367       红星发展 15.380       4.63       52339353.0           9\n",
      "    002155       湖南黄金  23.52       7.50      307973502.0           9\n",
      "    301368       丰立智能  88.00      -1.35     -133552529.0           9\n",
      "    603198       迎驾贡酒 60.640       2.40       55839439.0           8\n",
      "    605208        永茂泰 15.870      -3.99       12710427.0           9\n",
      "    603993       洛阳钼业  7.700      -1.41       64061269.0           8\n",
      "    000596       古井贡酒 189.17       5.48      -16307812.0           8\n",
      "    600711       ST盛屯  5.550       2.78      -13048991.0           8\n",
      "已更新监控页面 -> stock_realtime_monitor.html\n"
     ]
    },
    {
     "name": "stderr",
     "output_type": "stream",
     "text": [
      "C:\\Users\\charl\\AppData\\Local\\Temp\\ipykernel_65656\\701453132.py:104: FutureWarning: Styler.applymap has been deprecated. Use Styler.map instead.\n",
      "  .applymap(style_predictions, subset=['prediction'])\n"
     ]
    },
    {
     "name": "stdout",
     "output_type": "stream",
     "text": [
      "最新更新：18:47:28\n",
      "stock_code short_name  price change_pct  main_net_inflow  prediction\n",
      "    600961       株冶集团  9.750       5.86       89664573.0          10\n",
      "    601020       华钰矿业 24.440       2.86       94040044.0           9\n",
      "    600367       红星发展 15.380       4.63       52339353.0           9\n",
      "    002155       湖南黄金  23.52       7.50      307973502.0           9\n",
      "    301368       丰立智能  88.00      -1.35     -133552529.0           9\n",
      "    603198       迎驾贡酒 60.640       2.40       55839439.0           8\n",
      "    605208        永茂泰 15.870      -3.99       12710427.0           9\n",
      "    603993       洛阳钼业  7.700      -1.41       64061269.0           8\n",
      "    000596       古井贡酒 189.17       5.48      -16307812.0           8\n",
      "    600711       ST盛屯  5.550       2.78      -13048991.0           8\n",
      "已更新监控页面 -> stock_realtime_monitor.html\n"
     ]
    },
    {
     "name": "stderr",
     "output_type": "stream",
     "text": [
      "C:\\Users\\charl\\AppData\\Local\\Temp\\ipykernel_65656\\701453132.py:104: FutureWarning: Styler.applymap has been deprecated. Use Styler.map instead.\n",
      "  .applymap(style_predictions, subset=['prediction'])\n"
     ]
    },
    {
     "name": "stdout",
     "output_type": "stream",
     "text": [
      "最新更新：18:47:57\n",
      "stock_code short_name  price change_pct  main_net_inflow  prediction\n",
      "    600961       株冶集团  9.750       5.86       89664573.0          10\n",
      "    601020       华钰矿业 24.440       2.86       94040044.0           9\n",
      "    600367       红星发展 15.380       4.63       52339353.0           9\n",
      "    002155       湖南黄金  23.52       7.50      307973502.0           9\n",
      "    301368       丰立智能  88.00      -1.35     -133552529.0           9\n",
      "    603198       迎驾贡酒 60.640       2.40       55839439.0           8\n",
      "    605208        永茂泰 15.870      -3.99       12710427.0           9\n",
      "    603993       洛阳钼业  7.700      -1.41       64061269.0           8\n",
      "    000596       古井贡酒 189.17       5.48      -16307812.0           8\n",
      "    600711       ST盛屯  5.550       2.78      -13048991.0           8\n",
      "已更新监控页面 -> stock_realtime_monitor.html\n"
     ]
    },
    {
     "name": "stderr",
     "output_type": "stream",
     "text": [
      "C:\\Users\\charl\\AppData\\Local\\Temp\\ipykernel_65656\\701453132.py:104: FutureWarning: Styler.applymap has been deprecated. Use Styler.map instead.\n",
      "  .applymap(style_predictions, subset=['prediction'])\n"
     ]
    },
    {
     "name": "stdout",
     "output_type": "stream",
     "text": [
      "最新更新：18:48:31\n",
      "stock_code short_name  price change_pct  main_net_inflow  prediction\n",
      "    600961       株冶集团  9.750       5.86       89664573.0          10\n",
      "    601020       华钰矿业 24.440       2.86       94040044.0           9\n",
      "    600367       红星发展 15.380       4.63       52339353.0           9\n",
      "    002155       湖南黄金  23.52       7.50      307973502.0           9\n",
      "    301368       丰立智能  88.00      -1.35     -133552529.0           9\n",
      "    603198       迎驾贡酒 60.640       2.40       55839439.0           8\n",
      "    605208        永茂泰 15.870      -3.99       12710427.0           9\n",
      "    603993       洛阳钼业  7.700      -1.41       64061269.0           8\n",
      "    000596       古井贡酒 189.17       5.48      -16307812.0           8\n",
      "    600711       ST盛屯  5.550       2.78      -13048991.0           8\n",
      "已更新监控页面 -> stock_realtime_monitor.html\n"
     ]
    },
    {
     "name": "stderr",
     "output_type": "stream",
     "text": [
      "C:\\Users\\charl\\AppData\\Local\\Temp\\ipykernel_65656\\701453132.py:104: FutureWarning: Styler.applymap has been deprecated. Use Styler.map instead.\n",
      "  .applymap(style_predictions, subset=['prediction'])\n"
     ]
    },
    {
     "name": "stdout",
     "output_type": "stream",
     "text": [
      "最新更新：18:48:58\n",
      "stock_code short_name  price change_pct  main_net_inflow  prediction\n",
      "    600961       株冶集团  9.750       5.86       89664573.0          10\n",
      "    601020       华钰矿业 24.440       2.86       94040044.0           9\n",
      "    600367       红星发展 15.380       4.63       52339353.0           9\n",
      "    002155       湖南黄金  23.52       7.50      307973502.0           9\n",
      "    301368       丰立智能  88.00      -1.35     -133552529.0           9\n",
      "    603198       迎驾贡酒 60.640       2.40       55839439.0           8\n",
      "    605208        永茂泰 15.870      -3.99       12710427.0           9\n",
      "    603993       洛阳钼业  7.700      -1.41       64061269.0           8\n",
      "    000596       古井贡酒 189.17       5.48      -16307812.0           8\n",
      "    600711       ST盛屯  5.550       2.78      -13048991.0           8\n",
      "已更新监控页面 -> stock_realtime_monitor.html\n"
     ]
    },
    {
     "name": "stderr",
     "output_type": "stream",
     "text": [
      "C:\\Users\\charl\\AppData\\Local\\Temp\\ipykernel_65656\\701453132.py:104: FutureWarning: Styler.applymap has been deprecated. Use Styler.map instead.\n",
      "  .applymap(style_predictions, subset=['prediction'])\n"
     ]
    },
    {
     "name": "stdout",
     "output_type": "stream",
     "text": [
      "最新更新：18:49:26\n",
      "stock_code short_name  price change_pct  main_net_inflow  prediction\n",
      "    600961       株冶集团  9.750       5.86       89664573.0          10\n",
      "    601020       华钰矿业 24.440       2.86       94040044.0           9\n",
      "    600367       红星发展 15.380       4.63       52339353.0           9\n",
      "    002155       湖南黄金  23.52       7.50      307973502.0           9\n",
      "    301368       丰立智能  88.00      -1.35     -133552529.0           9\n",
      "    603198       迎驾贡酒 60.640       2.40       55839439.0           8\n",
      "    605208        永茂泰 15.870      -3.99       12710427.0           9\n",
      "    603993       洛阳钼业  7.700      -1.41       64061269.0           8\n",
      "    000596       古井贡酒 189.17       5.48      -16307812.0           8\n",
      "    600711       ST盛屯  5.550       2.78      -13048991.0           8\n",
      "已更新监控页面 -> stock_realtime_monitor.html\n"
     ]
    },
    {
     "name": "stderr",
     "output_type": "stream",
     "text": [
      "C:\\Users\\charl\\AppData\\Local\\Temp\\ipykernel_65656\\701453132.py:104: FutureWarning: Styler.applymap has been deprecated. Use Styler.map instead.\n",
      "  .applymap(style_predictions, subset=['prediction'])\n"
     ]
    },
    {
     "name": "stdout",
     "output_type": "stream",
     "text": [
      "最新更新：18:49:57\n",
      "stock_code short_name  price change_pct  main_net_inflow  prediction\n",
      "    600961       株冶集团  9.750       5.86       89664573.0          10\n",
      "    601020       华钰矿业 24.440       2.86       94040044.0           9\n",
      "    600367       红星发展 15.380       4.63       52339353.0           9\n",
      "    002155       湖南黄金  23.52       7.50      307973502.0           9\n",
      "    301368       丰立智能  88.00      -1.35     -133552529.0           9\n",
      "    603198       迎驾贡酒 60.640       2.40       55839439.0           8\n",
      "    605208        永茂泰 15.870      -3.99       12710427.0           9\n",
      "    603993       洛阳钼业  7.700      -1.41       64061269.0           8\n",
      "    000596       古井贡酒 189.17       5.48      -16307812.0           8\n",
      "    600711       ST盛屯  5.550       2.78      -13048991.0           8\n",
      "已更新监控页面 -> stock_realtime_monitor.html\n"
     ]
    },
    {
     "name": "stderr",
     "output_type": "stream",
     "text": [
      "C:\\Users\\charl\\AppData\\Local\\Temp\\ipykernel_65656\\701453132.py:104: FutureWarning: Styler.applymap has been deprecated. Use Styler.map instead.\n",
      "  .applymap(style_predictions, subset=['prediction'])\n"
     ]
    },
    {
     "name": "stdout",
     "output_type": "stream",
     "text": [
      "最新更新：18:50:27\n",
      "stock_code short_name  price change_pct  main_net_inflow  prediction\n",
      "    600961       株冶集团  9.750       5.86       89664573.0          10\n",
      "    601020       华钰矿业 24.440       2.86       94040044.0           9\n",
      "    600367       红星发展 15.380       4.63       52339353.0           9\n",
      "    002155       湖南黄金  23.52       7.50      307973502.0           9\n",
      "    301368       丰立智能  88.00      -1.35     -133552529.0           9\n",
      "    603198       迎驾贡酒 60.640       2.40       55839439.0           8\n",
      "    605208        永茂泰 15.870      -3.99       12710427.0           9\n",
      "    603993       洛阳钼业  7.700      -1.41       64061269.0           8\n",
      "    000596       古井贡酒 189.17       5.48      -16307812.0           8\n",
      "    600711       ST盛屯  5.550       2.78      -13048991.0           8\n",
      "已更新监控页面 -> stock_realtime_monitor.html\n"
     ]
    },
    {
     "name": "stderr",
     "output_type": "stream",
     "text": [
      "C:\\Users\\charl\\AppData\\Local\\Temp\\ipykernel_65656\\701453132.py:104: FutureWarning: Styler.applymap has been deprecated. Use Styler.map instead.\n",
      "  .applymap(style_predictions, subset=['prediction'])\n"
     ]
    },
    {
     "name": "stdout",
     "output_type": "stream",
     "text": [
      "最新更新：18:50:58\n",
      "stock_code short_name  price change_pct  main_net_inflow  prediction\n",
      "    600961       株冶集团  9.750       5.86       89664573.0          10\n",
      "    601020       华钰矿业 24.440       2.86       94040044.0           9\n",
      "    600367       红星发展 15.380       4.63       52339353.0           9\n",
      "    002155       湖南黄金  23.52       7.50      307973502.0           9\n",
      "    301368       丰立智能  88.00      -1.35     -133552529.0           9\n",
      "    603198       迎驾贡酒 60.640       2.40       55839439.0           8\n",
      "    605208        永茂泰 15.870      -3.99       12710427.0           9\n",
      "    603993       洛阳钼业  7.700      -1.41       64061269.0           8\n",
      "    000596       古井贡酒 189.17       5.48      -16307812.0           8\n",
      "    600711       ST盛屯  5.550       2.78      -13048991.0           8\n",
      "已更新监控页面 -> stock_realtime_monitor.html\n"
     ]
    },
    {
     "name": "stderr",
     "output_type": "stream",
     "text": [
      "C:\\Users\\charl\\AppData\\Local\\Temp\\ipykernel_65656\\701453132.py:104: FutureWarning: Styler.applymap has been deprecated. Use Styler.map instead.\n",
      "  .applymap(style_predictions, subset=['prediction'])\n"
     ]
    },
    {
     "name": "stdout",
     "output_type": "stream",
     "text": [
      "最新更新：18:51:28\n",
      "stock_code short_name  price change_pct  main_net_inflow  prediction\n",
      "    600961       株冶集团  9.750       5.86       89664573.0          10\n",
      "    601020       华钰矿业 24.440       2.86       94040044.0           9\n",
      "    600367       红星发展 15.380       4.63       52339353.0           9\n",
      "    002155       湖南黄金  23.52       7.50      307973502.0           9\n",
      "    301368       丰立智能  88.00      -1.35     -133552529.0           9\n",
      "    603198       迎驾贡酒 60.640       2.40       55839439.0           8\n",
      "    605208        永茂泰 15.870      -3.99       12710427.0           9\n",
      "    603993       洛阳钼业  7.700      -1.41       64061269.0           8\n",
      "    000596       古井贡酒 189.17       5.48      -16307812.0           8\n",
      "    600711       ST盛屯  5.550       2.78      -13048991.0           8\n",
      "已更新监控页面 -> stock_realtime_monitor.html\n"
     ]
    },
    {
     "name": "stderr",
     "output_type": "stream",
     "text": [
      "C:\\Users\\charl\\AppData\\Local\\Temp\\ipykernel_65656\\701453132.py:104: FutureWarning: Styler.applymap has been deprecated. Use Styler.map instead.\n",
      "  .applymap(style_predictions, subset=['prediction'])\n"
     ]
    },
    {
     "name": "stdout",
     "output_type": "stream",
     "text": [
      "最新更新：18:52:01\n",
      "stock_code short_name  price change_pct  main_net_inflow  prediction\n",
      "    600961       株冶集团  9.750       5.86       89664573.0          10\n",
      "    601020       华钰矿业 24.440       2.86       94040044.0           9\n",
      "    600367       红星发展 15.380       4.63       52339353.0           9\n",
      "    002155       湖南黄金  23.52       7.50      307973502.0           9\n",
      "    301368       丰立智能  88.00      -1.35     -133552529.0           9\n",
      "    603198       迎驾贡酒 60.640       2.40       55839439.0           8\n",
      "    605208        永茂泰 15.870      -3.99       12710427.0           9\n",
      "    603993       洛阳钼业  7.700      -1.41       64061269.0           8\n",
      "    000596       古井贡酒 189.17       5.48      -16307812.0           8\n",
      "    600711       ST盛屯  5.550       2.78      -13048991.0           8\n",
      "已更新监控页面 -> stock_realtime_monitor.html\n"
     ]
    },
    {
     "name": "stderr",
     "output_type": "stream",
     "text": [
      "C:\\Users\\charl\\AppData\\Local\\Temp\\ipykernel_65656\\701453132.py:104: FutureWarning: Styler.applymap has been deprecated. Use Styler.map instead.\n",
      "  .applymap(style_predictions, subset=['prediction'])\n"
     ]
    },
    {
     "name": "stdout",
     "output_type": "stream",
     "text": [
      "最新更新：18:52:30\n",
      "stock_code short_name  price change_pct  main_net_inflow  prediction\n",
      "    600961       株冶集团  9.750       5.86       89664573.0          10\n",
      "    601020       华钰矿业 24.440       2.86       94040044.0           9\n",
      "    600367       红星发展 15.380       4.63       52339353.0           9\n",
      "    002155       湖南黄金  23.52       7.50      307973502.0           9\n",
      "    301368       丰立智能  88.00      -1.35     -133552529.0           9\n",
      "    603198       迎驾贡酒 60.640       2.40       55839439.0           8\n",
      "    605208        永茂泰 15.870      -3.99       12710427.0           9\n",
      "    603993       洛阳钼业  7.700      -1.41       64061269.0           8\n",
      "    000596       古井贡酒 189.17       5.48      -16307812.0           8\n",
      "    600711       ST盛屯  5.550       2.78      -13048991.0           8\n",
      "已更新监控页面 -> stock_realtime_monitor.html\n"
     ]
    },
    {
     "name": "stderr",
     "output_type": "stream",
     "text": [
      "C:\\Users\\charl\\AppData\\Local\\Temp\\ipykernel_65656\\701453132.py:104: FutureWarning: Styler.applymap has been deprecated. Use Styler.map instead.\n",
      "  .applymap(style_predictions, subset=['prediction'])\n"
     ]
    },
    {
     "name": "stdout",
     "output_type": "stream",
     "text": [
      "最新更新：18:53:01\n",
      "stock_code short_name  price change_pct  main_net_inflow  prediction\n",
      "    600961       株冶集团  9.750       5.86       89664573.0          10\n",
      "    601020       华钰矿业 24.440       2.86       94040044.0           9\n",
      "    600367       红星发展 15.380       4.63       52339353.0           9\n",
      "    002155       湖南黄金  23.52       7.50      307973502.0           9\n",
      "    301368       丰立智能  88.00      -1.35     -133552529.0           9\n",
      "    603198       迎驾贡酒 60.640       2.40       55839439.0           8\n",
      "    605208        永茂泰 15.870      -3.99       12710427.0           9\n",
      "    603993       洛阳钼业  7.700      -1.41       64061269.0           8\n",
      "    000596       古井贡酒 189.17       5.48      -16307812.0           8\n",
      "    600711       ST盛屯  5.550       2.78      -13048991.0           8\n",
      "已更新监控页面 -> stock_realtime_monitor.html\n"
     ]
    },
    {
     "name": "stderr",
     "output_type": "stream",
     "text": [
      "C:\\Users\\charl\\AppData\\Local\\Temp\\ipykernel_65656\\701453132.py:104: FutureWarning: Styler.applymap has been deprecated. Use Styler.map instead.\n",
      "  .applymap(style_predictions, subset=['prediction'])\n"
     ]
    },
    {
     "name": "stdout",
     "output_type": "stream",
     "text": [
      "最新更新：18:53:31\n",
      "stock_code short_name  price change_pct  main_net_inflow  prediction\n",
      "    600961       株冶集团  9.750       5.86       89664573.0          10\n",
      "    601020       华钰矿业 24.440       2.86       94040044.0           9\n",
      "    600367       红星发展 15.380       4.63       52339353.0           9\n",
      "    002155       湖南黄金  23.52       7.50      307973502.0           9\n",
      "    301368       丰立智能  88.00      -1.35     -133552529.0           9\n",
      "    603198       迎驾贡酒 60.640       2.40       55839439.0           8\n",
      "    605208        永茂泰 15.870      -3.99       12710427.0           9\n",
      "    603993       洛阳钼业  7.700      -1.41       64061269.0           8\n",
      "    000596       古井贡酒 189.17       5.48      -16307812.0           8\n",
      "    600711       ST盛屯  5.550       2.78      -13048991.0           8\n",
      "已更新监控页面 -> stock_realtime_monitor.html\n"
     ]
    },
    {
     "name": "stderr",
     "output_type": "stream",
     "text": [
      "C:\\Users\\charl\\AppData\\Local\\Temp\\ipykernel_65656\\701453132.py:104: FutureWarning: Styler.applymap has been deprecated. Use Styler.map instead.\n",
      "  .applymap(style_predictions, subset=['prediction'])\n"
     ]
    },
    {
     "name": "stdout",
     "output_type": "stream",
     "text": [
      "最新更新：18:53:55\n",
      "stock_code short_name  price change_pct  main_net_inflow  prediction\n",
      "    600961       株冶集团  9.750       5.86       89664573.0          10\n",
      "    601020       华钰矿业 24.440       2.86       94040044.0           9\n",
      "    600367       红星发展 15.380       4.63       52339353.0           9\n",
      "    002155       湖南黄金  23.52       7.50      307973502.0           9\n",
      "    301368       丰立智能  88.00      -1.35     -133552529.0           9\n",
      "    603198       迎驾贡酒 60.640       2.40       55839439.0           8\n",
      "    605208        永茂泰 15.870      -3.99       12710427.0           9\n",
      "    603993       洛阳钼业  7.700      -1.41       64061269.0           8\n",
      "    000596       古井贡酒 189.17       5.48      -16307812.0           8\n",
      "    600711       ST盛屯  5.550       2.78      -13048991.0           8\n",
      "已更新监控页面 -> stock_realtime_monitor.html\n"
     ]
    },
    {
     "name": "stderr",
     "output_type": "stream",
     "text": [
      "C:\\Users\\charl\\AppData\\Local\\Temp\\ipykernel_65656\\701453132.py:104: FutureWarning: Styler.applymap has been deprecated. Use Styler.map instead.\n",
      "  .applymap(style_predictions, subset=['prediction'])\n"
     ]
    },
    {
     "name": "stdout",
     "output_type": "stream",
     "text": [
      "最新更新：18:54:28\n",
      "stock_code short_name  price change_pct  main_net_inflow  prediction\n",
      "    600961       株冶集团  9.750       5.86       89664573.0          10\n",
      "    601020       华钰矿业 24.440       2.86       94040044.0           9\n",
      "    600367       红星发展 15.380       4.63       52339353.0           9\n",
      "    002155       湖南黄金  23.52       7.50      307973502.0           9\n",
      "    301368       丰立智能  88.00      -1.35     -133552529.0           9\n",
      "    603198       迎驾贡酒 60.640       2.40       55839439.0           8\n",
      "    605208        永茂泰 15.870      -3.99       12710427.0           9\n",
      "    603993       洛阳钼业  7.700      -1.41       64061269.0           8\n",
      "    000596       古井贡酒 189.17       5.48      -16307812.0           8\n",
      "    600711       ST盛屯  5.550       2.78      -13048991.0           8\n",
      "已更新监控页面 -> stock_realtime_monitor.html\n"
     ]
    },
    {
     "name": "stderr",
     "output_type": "stream",
     "text": [
      "C:\\Users\\charl\\AppData\\Local\\Temp\\ipykernel_65656\\701453132.py:104: FutureWarning: Styler.applymap has been deprecated. Use Styler.map instead.\n",
      "  .applymap(style_predictions, subset=['prediction'])\n"
     ]
    },
    {
     "name": "stdout",
     "output_type": "stream",
     "text": [
      "最新更新：18:54:59\n",
      "stock_code short_name  price change_pct  main_net_inflow  prediction\n",
      "    600961       株冶集团  9.750       5.86       89664573.0          10\n",
      "    601020       华钰矿业 24.440       2.86       94040044.0           9\n",
      "    600367       红星发展 15.380       4.63       52339353.0           9\n",
      "    002155       湖南黄金  23.52       7.50      307973502.0           9\n",
      "    301368       丰立智能  88.00      -1.35     -133552529.0           9\n",
      "    603198       迎驾贡酒 60.640       2.40       55839439.0           8\n",
      "    605208        永茂泰 15.870      -3.99       12710427.0           9\n",
      "    603993       洛阳钼业  7.700      -1.41       64061269.0           8\n",
      "    000596       古井贡酒 189.17       5.48      -16307812.0           8\n",
      "    600711       ST盛屯  5.550       2.78      -13048991.0           8\n",
      "已更新监控页面 -> stock_realtime_monitor.html\n"
     ]
    },
    {
     "name": "stderr",
     "output_type": "stream",
     "text": [
      "C:\\Users\\charl\\AppData\\Local\\Temp\\ipykernel_65656\\701453132.py:104: FutureWarning: Styler.applymap has been deprecated. Use Styler.map instead.\n",
      "  .applymap(style_predictions, subset=['prediction'])\n"
     ]
    },
    {
     "name": "stdout",
     "output_type": "stream",
     "text": [
      "最新更新：18:55:29\n",
      "stock_code short_name  price change_pct  main_net_inflow  prediction\n",
      "    600961       株冶集团  9.750       5.86       89664573.0          10\n",
      "    601020       华钰矿业 24.440       2.86       94040044.0           9\n",
      "    600367       红星发展 15.380       4.63       52339353.0           9\n",
      "    002155       湖南黄金  23.52       7.50      307973502.0           9\n",
      "    301368       丰立智能  88.00      -1.35     -133552529.0           9\n",
      "    603198       迎驾贡酒 60.640       2.40       55839439.0           8\n",
      "    605208        永茂泰 15.870      -3.99       12710427.0           9\n",
      "    603993       洛阳钼业  7.700      -1.41       64061269.0           8\n",
      "    000596       古井贡酒 189.17       5.48      -16307812.0           8\n",
      "    600711       ST盛屯  5.550       2.78      -13048991.0           8\n",
      "已更新监控页面 -> stock_realtime_monitor.html\n"
     ]
    },
    {
     "name": "stderr",
     "output_type": "stream",
     "text": [
      "C:\\Users\\charl\\AppData\\Local\\Temp\\ipykernel_65656\\701453132.py:104: FutureWarning: Styler.applymap has been deprecated. Use Styler.map instead.\n",
      "  .applymap(style_predictions, subset=['prediction'])\n"
     ]
    },
    {
     "name": "stdout",
     "output_type": "stream",
     "text": [
      "获取605208资金流数据失败: HTTPSConnectionPool(host='push2delay.eastmoney.com', port=443): Max retries exceeded with url: /api/qt/stock/fflow/kline/get?lmt=0&klt=1&fields1=f1,f2,f3,f7&fields2=f51,f52,f53,f54,f55,f56,f57,f58,f59,f60,f61,f62,f63,f64,f65&secid=1.605208 (Caused by ConnectTimeoutError(<urllib3.connection.HTTPSConnection object at 0x00000188EF213890>, 'Connection to push2delay.eastmoney.com timed out. (connect timeout=None)'))\n",
      "最新更新：18:56:20\n",
      "stock_code short_name  price change_pct  main_net_inflow  prediction\n",
      "    600961       株冶集团  9.750       5.86       89664573.0          10\n",
      "    601020       华钰矿业 24.440       2.86       94040044.0           9\n",
      "    600367       红星发展 15.380       4.63       52339353.0           9\n",
      "    002155       湖南黄金  23.52       7.50      307973502.0           9\n",
      "    301368       丰立智能  88.00      -1.35     -133552529.0           9\n",
      "    603198       迎驾贡酒 60.640       2.40       55839439.0           8\n",
      "    605208        永茂泰 15.870      -3.99              NaN           9\n",
      "    603993       洛阳钼业  7.700      -1.41       64061269.0           8\n",
      "    000596       古井贡酒 189.17       5.48      -16307812.0           8\n",
      "    600711       ST盛屯  5.550       2.78      -13048991.0           8\n",
      "已更新监控页面 -> stock_realtime_monitor.html\n"
     ]
    },
    {
     "name": "stderr",
     "output_type": "stream",
     "text": [
      "C:\\Users\\charl\\AppData\\Local\\Temp\\ipykernel_65656\\701453132.py:104: FutureWarning: Styler.applymap has been deprecated. Use Styler.map instead.\n",
      "  .applymap(style_predictions, subset=['prediction'])\n"
     ]
    },
    {
     "name": "stdout",
     "output_type": "stream",
     "text": [
      "最新更新：18:56:57\n",
      "stock_code short_name  price change_pct  main_net_inflow  prediction\n",
      "    600961       株冶集团  9.750       5.86       89664573.0          10\n",
      "    601020       华钰矿业 24.440       2.86       94040044.0           9\n",
      "    600367       红星发展 15.380       4.63       52339353.0           9\n",
      "    002155       湖南黄金  23.52       7.50      307973502.0           9\n",
      "    301368       丰立智能  88.00      -1.35     -133552529.0           9\n",
      "    603198       迎驾贡酒 60.640       2.40       55839439.0           8\n",
      "    605208        永茂泰 15.870      -3.99       12710427.0           9\n",
      "    603993       洛阳钼业  7.700      -1.41       64061269.0           8\n",
      "    000596       古井贡酒 189.17       5.48      -16307812.0           8\n",
      "    600711       ST盛屯  5.550       2.78      -13048991.0           8\n",
      "已更新监控页面 -> stock_realtime_monitor.html\n"
     ]
    },
    {
     "name": "stderr",
     "output_type": "stream",
     "text": [
      "C:\\Users\\charl\\AppData\\Local\\Temp\\ipykernel_65656\\701453132.py:104: FutureWarning: Styler.applymap has been deprecated. Use Styler.map instead.\n",
      "  .applymap(style_predictions, subset=['prediction'])\n"
     ]
    },
    {
     "name": "stdout",
     "output_type": "stream",
     "text": [
      "最新更新：18:57:28\n",
      "stock_code short_name  price change_pct  main_net_inflow  prediction\n",
      "    600961       株冶集团  9.750       5.86       89664573.0          10\n",
      "    601020       华钰矿业 24.440       2.86       94040044.0           9\n",
      "    600367       红星发展 15.380       4.63       52339353.0           9\n",
      "    002155       湖南黄金  23.52       7.50      307973502.0           9\n",
      "    301368       丰立智能  88.00      -1.35     -133552529.0           9\n",
      "    603198       迎驾贡酒 60.640       2.40       55839439.0           8\n",
      "    605208        永茂泰 15.870      -3.99       12710427.0           9\n",
      "    603993       洛阳钼业  7.700      -1.41       64061269.0           8\n",
      "    000596       古井贡酒 189.17       5.48      -16307812.0           8\n",
      "    600711       ST盛屯  5.550       2.78      -13048991.0           8\n",
      "已更新监控页面 -> stock_realtime_monitor.html\n"
     ]
    },
    {
     "name": "stderr",
     "output_type": "stream",
     "text": [
      "C:\\Users\\charl\\AppData\\Local\\Temp\\ipykernel_65656\\701453132.py:104: FutureWarning: Styler.applymap has been deprecated. Use Styler.map instead.\n",
      "  .applymap(style_predictions, subset=['prediction'])\n"
     ]
    },
    {
     "name": "stdout",
     "output_type": "stream",
     "text": [
      "最新更新：18:57:58\n",
      "stock_code short_name  price change_pct  main_net_inflow  prediction\n",
      "    600961       株冶集团  9.750       5.86       89664573.0          10\n",
      "    601020       华钰矿业 24.440       2.86       94040044.0           9\n",
      "    600367       红星发展 15.380       4.63       52339353.0           9\n",
      "    002155       湖南黄金  23.52       7.50      307973502.0           9\n",
      "    301368       丰立智能  88.00      -1.35     -133552529.0           9\n",
      "    603198       迎驾贡酒 60.640       2.40       55839439.0           8\n",
      "    605208        永茂泰 15.870      -3.99       12710427.0           9\n",
      "    603993       洛阳钼业  7.700      -1.41       64061269.0           8\n",
      "    000596       古井贡酒 189.17       5.48      -16307812.0           8\n",
      "    600711       ST盛屯  5.550       2.78      -13048991.0           8\n",
      "已更新监控页面 -> stock_realtime_monitor.html\n"
     ]
    },
    {
     "name": "stderr",
     "output_type": "stream",
     "text": [
      "C:\\Users\\charl\\AppData\\Local\\Temp\\ipykernel_65656\\701453132.py:104: FutureWarning: Styler.applymap has been deprecated. Use Styler.map instead.\n",
      "  .applymap(style_predictions, subset=['prediction'])\n"
     ]
    },
    {
     "name": "stdout",
     "output_type": "stream",
     "text": [
      "最新更新：18:58:29\n",
      "stock_code short_name  price change_pct  main_net_inflow  prediction\n",
      "    600961       株冶集团  9.750       5.86       89664573.0          10\n",
      "    601020       华钰矿业 24.440       2.86       94040044.0           9\n",
      "    600367       红星发展 15.380       4.63       52339353.0           9\n",
      "    002155       湖南黄金  23.52       7.50      307973502.0           9\n",
      "    301368       丰立智能  88.00      -1.35     -133552529.0           9\n",
      "    603198       迎驾贡酒 60.640       2.40       55839439.0           8\n",
      "    605208        永茂泰 15.870      -3.99       12710427.0           9\n",
      "    603993       洛阳钼业  7.700      -1.41       64061269.0           8\n",
      "    000596       古井贡酒 189.17       5.48      -16307812.0           8\n",
      "    600711       ST盛屯  5.550       2.78      -13048991.0           8\n",
      "已更新监控页面 -> stock_realtime_monitor.html\n"
     ]
    },
    {
     "name": "stderr",
     "output_type": "stream",
     "text": [
      "C:\\Users\\charl\\AppData\\Local\\Temp\\ipykernel_65656\\701453132.py:104: FutureWarning: Styler.applymap has been deprecated. Use Styler.map instead.\n",
      "  .applymap(style_predictions, subset=['prediction'])\n"
     ]
    },
    {
     "name": "stdout",
     "output_type": "stream",
     "text": [
      "最新更新：18:58:59\n",
      "stock_code short_name  price change_pct  main_net_inflow  prediction\n",
      "    600961       株冶集团  9.750       5.86       89664573.0          10\n",
      "    601020       华钰矿业 24.440       2.86       94040044.0           9\n",
      "    600367       红星发展 15.380       4.63       52339353.0           9\n",
      "    002155       湖南黄金  23.52       7.50      307973502.0           9\n",
      "    301368       丰立智能  88.00      -1.35     -133552529.0           9\n",
      "    603198       迎驾贡酒 60.640       2.40       55839439.0           8\n",
      "    605208        永茂泰 15.870      -3.99       12710427.0           9\n",
      "    603993       洛阳钼业  7.700      -1.41       64061269.0           8\n",
      "    000596       古井贡酒 189.17       5.48      -16307812.0           8\n",
      "    600711       ST盛屯  5.550       2.78      -13048991.0           8\n",
      "已更新监控页面 -> stock_realtime_monitor.html\n"
     ]
    },
    {
     "name": "stderr",
     "output_type": "stream",
     "text": [
      "C:\\Users\\charl\\AppData\\Local\\Temp\\ipykernel_65656\\701453132.py:104: FutureWarning: Styler.applymap has been deprecated. Use Styler.map instead.\n",
      "  .applymap(style_predictions, subset=['prediction'])\n"
     ]
    },
    {
     "name": "stdout",
     "output_type": "stream",
     "text": [
      "最新更新：18:59:27\n",
      "stock_code short_name  price change_pct  main_net_inflow  prediction\n",
      "    600961       株冶集团  9.750       5.86       89664573.0          10\n",
      "    601020       华钰矿业 24.440       2.86       94040044.0           9\n",
      "    600367       红星发展 15.380       4.63       52339353.0           9\n",
      "    002155       湖南黄金  23.52       7.50      307973502.0           9\n",
      "    301368       丰立智能  88.00      -1.35     -133552529.0           9\n",
      "    603198       迎驾贡酒 60.640       2.40       55839439.0           8\n",
      "    605208        永茂泰 15.870      -3.99       12710427.0           9\n",
      "    603993       洛阳钼业  7.700      -1.41       64061269.0           8\n",
      "    000596       古井贡酒 189.17       5.48      -16307812.0           8\n",
      "    600711       ST盛屯  5.550       2.78      -13048991.0           8\n",
      "已更新监控页面 -> stock_realtime_monitor.html\n"
     ]
    },
    {
     "name": "stderr",
     "output_type": "stream",
     "text": [
      "C:\\Users\\charl\\AppData\\Local\\Temp\\ipykernel_65656\\701453132.py:104: FutureWarning: Styler.applymap has been deprecated. Use Styler.map instead.\n",
      "  .applymap(style_predictions, subset=['prediction'])\n"
     ]
    },
    {
     "name": "stdout",
     "output_type": "stream",
     "text": [
      "最新更新：18:59:56\n",
      "stock_code short_name  price change_pct  main_net_inflow  prediction\n",
      "    600961       株冶集团  9.750       5.86       89664573.0          10\n",
      "    601020       华钰矿业 24.440       2.86       94040044.0           9\n",
      "    600367       红星发展 15.380       4.63       52339353.0           9\n",
      "    002155       湖南黄金  23.52       7.50      307973502.0           9\n",
      "    301368       丰立智能  88.00      -1.35     -133552529.0           9\n",
      "    603198       迎驾贡酒 60.640       2.40       55839439.0           8\n",
      "    605208        永茂泰 15.870      -3.99       12710427.0           9\n",
      "    603993       洛阳钼业  7.700      -1.41       64061269.0           8\n",
      "    000596       古井贡酒 189.17       5.48      -16307812.0           8\n",
      "    600711       ST盛屯  5.550       2.78      -13048991.0           8\n",
      "已更新监控页面 -> stock_realtime_monitor.html\n"
     ]
    },
    {
     "name": "stderr",
     "output_type": "stream",
     "text": [
      "C:\\Users\\charl\\AppData\\Local\\Temp\\ipykernel_65656\\701453132.py:104: FutureWarning: Styler.applymap has been deprecated. Use Styler.map instead.\n",
      "  .applymap(style_predictions, subset=['prediction'])\n"
     ]
    },
    {
     "name": "stdout",
     "output_type": "stream",
     "text": [
      "获取605208资金流数据失败: HTTPSConnectionPool(host='push2delay.eastmoney.com', port=443): Max retries exceeded with url: /api/qt/stock/fflow/kline/get?lmt=0&klt=1&fields1=f1,f2,f3,f7&fields2=f51,f52,f53,f54,f55,f56,f57,f58,f59,f60,f61,f62,f63,f64,f65&secid=1.605208 (Caused by ConnectTimeoutError(<urllib3.connection.HTTPSConnection object at 0x00000188EDA11810>, 'Connection to push2delay.eastmoney.com timed out. (connect timeout=None)'))\n",
      "最新更新：19:00:49\n",
      "stock_code short_name  price change_pct  main_net_inflow  prediction\n",
      "    600961       株冶集团  9.750       5.86       89664573.0          10\n",
      "    601020       华钰矿业 24.440       2.86       94040044.0           9\n",
      "    600367       红星发展 15.380       4.63       52339353.0           9\n",
      "    002155       湖南黄金  23.52       7.50      307973502.0           9\n",
      "    301368       丰立智能  88.00      -1.35     -133552529.0           9\n",
      "    603198       迎驾贡酒 60.640       2.40       55839439.0           8\n",
      "    605208        永茂泰 15.870      -3.99              NaN           9\n",
      "    603993       洛阳钼业  7.700      -1.41       64061269.0           8\n",
      "    000596       古井贡酒 189.17       5.48      -16307812.0           8\n",
      "    600711       ST盛屯  5.550       2.78      -13048991.0           8\n",
      "已更新监控页面 -> stock_realtime_monitor.html\n"
     ]
    },
    {
     "name": "stderr",
     "output_type": "stream",
     "text": [
      "C:\\Users\\charl\\AppData\\Local\\Temp\\ipykernel_65656\\701453132.py:104: FutureWarning: Styler.applymap has been deprecated. Use Styler.map instead.\n",
      "  .applymap(style_predictions, subset=['prediction'])\n"
     ]
    },
    {
     "name": "stdout",
     "output_type": "stream",
     "text": [
      "最新更新：19:01:29\n",
      "stock_code short_name  price change_pct  main_net_inflow  prediction\n",
      "    600961       株冶集团  9.750       5.86       89664573.0          10\n",
      "    601020       华钰矿业 24.440       2.86       94040044.0           9\n",
      "    600367       红星发展 15.380       4.63       52339353.0           9\n",
      "    002155       湖南黄金  23.52       7.50      307973502.0           9\n",
      "    301368       丰立智能  88.00      -1.35     -133552529.0           9\n",
      "    603198       迎驾贡酒 60.640       2.40       55839439.0           8\n",
      "    605208        永茂泰 15.870      -3.99       12710427.0           9\n",
      "    603993       洛阳钼业  7.700      -1.41       64061269.0           8\n",
      "    000596       古井贡酒 189.17       5.48      -16307812.0           8\n",
      "    600711       ST盛屯  5.550       2.78      -13048991.0           8\n",
      "已更新监控页面 -> stock_realtime_monitor.html\n"
     ]
    },
    {
     "name": "stderr",
     "output_type": "stream",
     "text": [
      "C:\\Users\\charl\\AppData\\Local\\Temp\\ipykernel_65656\\701453132.py:104: FutureWarning: Styler.applymap has been deprecated. Use Styler.map instead.\n",
      "  .applymap(style_predictions, subset=['prediction'])\n"
     ]
    },
    {
     "name": "stdout",
     "output_type": "stream",
     "text": [
      "最新更新：19:01:58\n",
      "stock_code short_name  price change_pct  main_net_inflow  prediction\n",
      "    600961       株冶集团  9.750       5.86       89664573.0          10\n",
      "    601020       华钰矿业 24.440       2.86       94040044.0           9\n",
      "    600367       红星发展 15.380       4.63       52339353.0           9\n",
      "    002155       湖南黄金  23.52       7.50      307973502.0           9\n",
      "    301368       丰立智能  88.00      -1.35     -133552529.0           9\n",
      "    603198       迎驾贡酒 60.640       2.40       55839439.0           8\n",
      "    605208        永茂泰 15.870      -3.99       12710427.0           9\n",
      "    603993       洛阳钼业  7.700      -1.41       64061269.0           8\n",
      "    000596       古井贡酒 189.17       5.48      -16307812.0           8\n",
      "    600711       ST盛屯  5.550       2.78      -13048991.0           8\n",
      "已更新监控页面 -> stock_realtime_monitor.html\n"
     ]
    },
    {
     "name": "stderr",
     "output_type": "stream",
     "text": [
      "C:\\Users\\charl\\AppData\\Local\\Temp\\ipykernel_65656\\701453132.py:104: FutureWarning: Styler.applymap has been deprecated. Use Styler.map instead.\n",
      "  .applymap(style_predictions, subset=['prediction'])\n"
     ]
    },
    {
     "name": "stdout",
     "output_type": "stream",
     "text": [
      "最新更新：19:02:28\n",
      "stock_code short_name  price change_pct  main_net_inflow  prediction\n",
      "    600961       株冶集团  9.750       5.86       89664573.0          10\n",
      "    601020       华钰矿业 24.440       2.86       94040044.0           9\n",
      "    600367       红星发展 15.380       4.63       52339353.0           9\n",
      "    002155       湖南黄金  23.52       7.50      307973502.0           9\n",
      "    301368       丰立智能  88.00      -1.35     -133552529.0           9\n",
      "    603198       迎驾贡酒 60.640       2.40       55839439.0           8\n",
      "    605208        永茂泰 15.870      -3.99       12710427.0           9\n",
      "    603993       洛阳钼业  7.700      -1.41       64061269.0           8\n",
      "    000596       古井贡酒 189.17       5.48      -16307812.0           8\n",
      "    600711       ST盛屯  5.550       2.78      -13048991.0           8\n",
      "已更新监控页面 -> stock_realtime_monitor.html\n"
     ]
    },
    {
     "name": "stderr",
     "output_type": "stream",
     "text": [
      "C:\\Users\\charl\\AppData\\Local\\Temp\\ipykernel_65656\\701453132.py:104: FutureWarning: Styler.applymap has been deprecated. Use Styler.map instead.\n",
      "  .applymap(style_predictions, subset=['prediction'])\n"
     ]
    },
    {
     "name": "stdout",
     "output_type": "stream",
     "text": [
      "最新更新：19:02:56\n",
      "stock_code short_name  price change_pct  main_net_inflow  prediction\n",
      "    600961       株冶集团  9.750       5.86       89664573.0          10\n",
      "    601020       华钰矿业 24.440       2.86       94040044.0           9\n",
      "    600367       红星发展 15.380       4.63       52339353.0           9\n",
      "    002155       湖南黄金  23.52       7.50      307973502.0           9\n",
      "    301368       丰立智能  88.00      -1.35     -133552529.0           9\n",
      "    603198       迎驾贡酒 60.640       2.40       55839439.0           8\n",
      "    605208        永茂泰 15.870      -3.99       12710427.0           9\n",
      "    603993       洛阳钼业  7.700      -1.41       64061269.0           8\n",
      "    000596       古井贡酒 189.17       5.48      -16307812.0           8\n",
      "    600711       ST盛屯  5.550       2.78      -13048991.0           8\n",
      "已更新监控页面 -> stock_realtime_monitor.html\n"
     ]
    },
    {
     "name": "stderr",
     "output_type": "stream",
     "text": [
      "C:\\Users\\charl\\AppData\\Local\\Temp\\ipykernel_65656\\701453132.py:104: FutureWarning: Styler.applymap has been deprecated. Use Styler.map instead.\n",
      "  .applymap(style_predictions, subset=['prediction'])\n"
     ]
    },
    {
     "name": "stdout",
     "output_type": "stream",
     "text": [
      "最新更新：19:03:28\n",
      "stock_code short_name  price change_pct  main_net_inflow  prediction\n",
      "    600961       株冶集团  9.750       5.86       89664573.0          10\n",
      "    601020       华钰矿业 24.440       2.86       94040044.0           9\n",
      "    600367       红星发展 15.380       4.63       52339353.0           9\n",
      "    002155       湖南黄金  23.52       7.50      307973502.0           9\n",
      "    301368       丰立智能  88.00      -1.35     -133552529.0           9\n",
      "    603198       迎驾贡酒 60.640       2.40       55839439.0           8\n",
      "    605208        永茂泰 15.870      -3.99       12710427.0           9\n",
      "    603993       洛阳钼业  7.700      -1.41       64061269.0           8\n",
      "    000596       古井贡酒 189.17       5.48      -16307812.0           8\n",
      "    600711       ST盛屯  5.550       2.78      -13048991.0           8\n",
      "已更新监控页面 -> stock_realtime_monitor.html\n"
     ]
    },
    {
     "name": "stderr",
     "output_type": "stream",
     "text": [
      "C:\\Users\\charl\\AppData\\Local\\Temp\\ipykernel_65656\\701453132.py:104: FutureWarning: Styler.applymap has been deprecated. Use Styler.map instead.\n",
      "  .applymap(style_predictions, subset=['prediction'])\n"
     ]
    },
    {
     "name": "stdout",
     "output_type": "stream",
     "text": [
      "获取600711资金流数据失败: HTTPSConnectionPool(host='push2.eastmoney.com', port=443): Max retries exceeded with url: /api/qt/stock/fflow/kline/get?lmt=0&klt=1&fields1=f1,f2,f3,f7&fields2=f51,f52,f53,f54,f55,f56,f57,f58,f59,f60,f61,f62,f63,f64,f65&secid=1.600711 (Caused by ConnectTimeoutError(<urllib3.connection.HTTPSConnection object at 0x00000188EF10EB90>, 'Connection to push2.eastmoney.com timed out. (connect timeout=None)'))\n",
      "最新更新：19:04:17\n",
      "stock_code short_name  price change_pct  main_net_inflow  prediction\n",
      "    600961       株冶集团  9.750       5.86       89664573.0          10\n",
      "    601020       华钰矿业 24.440       2.86       94040044.0           9\n",
      "    600367       红星发展 15.380       4.63       52339353.0           9\n",
      "    002155       湖南黄金  23.52       7.50      307973502.0           9\n",
      "    301368       丰立智能  88.00      -1.35     -133552529.0           9\n",
      "    603198       迎驾贡酒 60.640       2.40       55839439.0           8\n",
      "    605208        永茂泰 15.870      -3.99       12710427.0           9\n",
      "    603993       洛阳钼业  7.700      -1.41       64061269.0           8\n",
      "    000596       古井贡酒 189.17       5.48      -16307812.0           8\n",
      "    600711       ST盛屯  5.550       2.78              NaN           8\n",
      "已更新监控页面 -> stock_realtime_monitor.html\n"
     ]
    },
    {
     "name": "stderr",
     "output_type": "stream",
     "text": [
      "C:\\Users\\charl\\AppData\\Local\\Temp\\ipykernel_65656\\701453132.py:104: FutureWarning: Styler.applymap has been deprecated. Use Styler.map instead.\n",
      "  .applymap(style_predictions, subset=['prediction'])\n"
     ]
    },
    {
     "name": "stdout",
     "output_type": "stream",
     "text": [
      "最新更新：19:05:01\n",
      "stock_code short_name  price change_pct  main_net_inflow  prediction\n",
      "    600961       株冶集团  9.750       5.86       89664573.0          10\n",
      "    601020       华钰矿业 24.440       2.86       94040044.0           9\n",
      "    600367       红星发展 15.380       4.63       52339353.0           9\n",
      "    002155       湖南黄金  23.52       7.50      307973502.0           9\n",
      "    301368       丰立智能  88.00      -1.35     -133552529.0           9\n",
      "    603198       迎驾贡酒 60.640       2.40       55839439.0           8\n",
      "    605208        永茂泰 15.870      -3.99       12710427.0           9\n",
      "    603993       洛阳钼业  7.700      -1.41       64061269.0           8\n",
      "    000596       古井贡酒 189.17       5.48      -16307812.0           8\n",
      "    600711       ST盛屯  5.550       2.78      -13048991.0           8\n",
      "已更新监控页面 -> stock_realtime_monitor.html\n"
     ]
    },
    {
     "name": "stderr",
     "output_type": "stream",
     "text": [
      "C:\\Users\\charl\\AppData\\Local\\Temp\\ipykernel_65656\\701453132.py:104: FutureWarning: Styler.applymap has been deprecated. Use Styler.map instead.\n",
      "  .applymap(style_predictions, subset=['prediction'])\n"
     ]
    },
    {
     "name": "stdout",
     "output_type": "stream",
     "text": [
      "获取600711资金流数据失败: HTTPSConnectionPool(host='push2delay.eastmoney.com', port=443): Max retries exceeded with url: /api/qt/stock/fflow/kline/get?lmt=0&klt=1&fields1=f1,f2,f3,f7&fields2=f51,f52,f53,f54,f55,f56,f57,f58,f59,f60,f61,f62,f63,f64,f65&secid=1.600711 (Caused by ConnectTimeoutError(<urllib3.connection.HTTPSConnection object at 0x00000188EF20A910>, 'Connection to push2delay.eastmoney.com timed out. (connect timeout=None)'))\n",
      "最新更新：19:05:50\n",
      "stock_code short_name  price change_pct  main_net_inflow  prediction\n",
      "    600961       株冶集团  9.750       5.86       89664573.0          10\n",
      "    601020       华钰矿业 24.440       2.86       94040044.0           9\n",
      "    600367       红星发展 15.380       4.63       52339353.0           9\n",
      "    002155       湖南黄金  23.52       7.50      307973502.0           9\n",
      "    301368       丰立智能  88.00      -1.35     -133552529.0           9\n",
      "    603198       迎驾贡酒 60.640       2.40       55839439.0           8\n",
      "    605208        永茂泰 15.870      -3.99       12710427.0           9\n",
      "    603993       洛阳钼业  7.700      -1.41       64061269.0           8\n",
      "    000596       古井贡酒 189.17       5.48      -16307812.0           8\n",
      "    600711       ST盛屯  5.550       2.78              NaN           8\n",
      "已更新监控页面 -> stock_realtime_monitor.html\n"
     ]
    },
    {
     "name": "stderr",
     "output_type": "stream",
     "text": [
      "C:\\Users\\charl\\AppData\\Local\\Temp\\ipykernel_65656\\701453132.py:104: FutureWarning: Styler.applymap has been deprecated. Use Styler.map instead.\n",
      "  .applymap(style_predictions, subset=['prediction'])\n"
     ]
    },
    {
     "name": "stdout",
     "output_type": "stream",
     "text": [
      "最新更新：19:06:29\n",
      "stock_code short_name  price change_pct  main_net_inflow  prediction\n",
      "    600961       株冶集团  9.750       5.86       89664573.0          10\n",
      "    601020       华钰矿业 24.440       2.86       94040044.0           9\n",
      "    600367       红星发展 15.380       4.63       52339353.0           9\n",
      "    002155       湖南黄金  23.52       7.50      307973502.0           9\n",
      "    301368       丰立智能  88.00      -1.35     -133552529.0           9\n",
      "    603198       迎驾贡酒 60.640       2.40       55839439.0           8\n",
      "    605208        永茂泰 15.870      -3.99       12710427.0           9\n",
      "    603993       洛阳钼业  7.700      -1.41       64061269.0           8\n",
      "    000596       古井贡酒 189.17       5.48      -16307812.0           8\n",
      "    600711       ST盛屯  5.550       2.78      -13048991.0           8\n",
      "已更新监控页面 -> stock_realtime_monitor.html\n"
     ]
    },
    {
     "name": "stderr",
     "output_type": "stream",
     "text": [
      "C:\\Users\\charl\\AppData\\Local\\Temp\\ipykernel_65656\\701453132.py:104: FutureWarning: Styler.applymap has been deprecated. Use Styler.map instead.\n",
      "  .applymap(style_predictions, subset=['prediction'])\n"
     ]
    },
    {
     "name": "stdout",
     "output_type": "stream",
     "text": [
      "最新更新：19:06:57\n",
      "stock_code short_name  price change_pct  main_net_inflow  prediction\n",
      "    600961       株冶集团  9.750       5.86       89664573.0          10\n",
      "    601020       华钰矿业 24.440       2.86       94040044.0           9\n",
      "    600367       红星发展 15.380       4.63       52339353.0           9\n",
      "    002155       湖南黄金  23.52       7.50      307973502.0           9\n",
      "    301368       丰立智能  88.00      -1.35     -133552529.0           9\n",
      "    603198       迎驾贡酒 60.640       2.40       55839439.0           8\n",
      "    605208        永茂泰 15.870      -3.99       12710427.0           9\n",
      "    603993       洛阳钼业  7.700      -1.41       64061269.0           8\n",
      "    000596       古井贡酒 189.17       5.48      -16307812.0           8\n",
      "    600711       ST盛屯  5.550       2.78      -13048991.0           8\n",
      "已更新监控页面 -> stock_realtime_monitor.html\n"
     ]
    },
    {
     "name": "stderr",
     "output_type": "stream",
     "text": [
      "C:\\Users\\charl\\AppData\\Local\\Temp\\ipykernel_65656\\701453132.py:104: FutureWarning: Styler.applymap has been deprecated. Use Styler.map instead.\n",
      "  .applymap(style_predictions, subset=['prediction'])\n"
     ]
    },
    {
     "name": "stdout",
     "output_type": "stream",
     "text": [
      "获取002155资金流数据失败: HTTPSConnectionPool(host='push2delay.eastmoney.com', port=443): Max retries exceeded with url: /api/qt/stock/fflow/kline/get?lmt=0&klt=1&fields1=f1,f2,f3,f7&fields2=f51,f52,f53,f54,f55,f56,f57,f58,f59,f60,f61,f62,f63,f64,f65&secid=0.002155 (Caused by ConnectTimeoutError(<urllib3.connection.HTTPSConnection object at 0x00000188EE965F10>, 'Connection to push2delay.eastmoney.com timed out. (connect timeout=None)'))\n",
      "最新更新：19:07:48\n",
      "stock_code short_name  price change_pct  main_net_inflow  prediction\n",
      "    600961       株冶集团  9.750       5.86       89664573.0          10\n",
      "    601020       华钰矿业 24.440       2.86       94040044.0           9\n",
      "    600367       红星发展 15.380       4.63       52339353.0           9\n",
      "    002155       湖南黄金  23.52       7.50              NaN           9\n",
      "    301368       丰立智能  88.00      -1.35     -133552529.0           9\n",
      "    603198       迎驾贡酒 60.640       2.40       55839439.0           8\n",
      "    605208        永茂泰 15.870      -3.99       12710427.0           9\n",
      "    603993       洛阳钼业  7.700      -1.41       64061269.0           8\n",
      "    000596       古井贡酒 189.17       5.48      -16307812.0           8\n",
      "    600711       ST盛屯  5.550       2.78      -13048991.0           8\n",
      "已更新监控页面 -> stock_realtime_monitor.html\n"
     ]
    },
    {
     "name": "stderr",
     "output_type": "stream",
     "text": [
      "C:\\Users\\charl\\AppData\\Local\\Temp\\ipykernel_65656\\701453132.py:104: FutureWarning: Styler.applymap has been deprecated. Use Styler.map instead.\n",
      "  .applymap(style_predictions, subset=['prediction'])\n"
     ]
    },
    {
     "name": "stdout",
     "output_type": "stream",
     "text": [
      "最新更新：19:08:30\n",
      "stock_code short_name  price change_pct  main_net_inflow  prediction\n",
      "    600961       株冶集团  9.750       5.86       89664573.0          10\n",
      "    601020       华钰矿业 24.440       2.86       94040044.0           9\n",
      "    600367       红星发展 15.380       4.63       52339353.0           9\n",
      "    002155       湖南黄金  23.52       7.50      307973502.0           9\n",
      "    301368       丰立智能  88.00      -1.35     -133552529.0           9\n",
      "    603198       迎驾贡酒 60.640       2.40       55839439.0           8\n",
      "    605208        永茂泰 15.870      -3.99       12710427.0           9\n",
      "    603993       洛阳钼业  7.700      -1.41       64061269.0           8\n",
      "    000596       古井贡酒 189.17       5.48      -16307812.0           8\n",
      "    600711       ST盛屯  5.550       2.78      -13048991.0           8\n",
      "已更新监控页面 -> stock_realtime_monitor.html\n"
     ]
    },
    {
     "name": "stderr",
     "output_type": "stream",
     "text": [
      "C:\\Users\\charl\\AppData\\Local\\Temp\\ipykernel_65656\\701453132.py:104: FutureWarning: Styler.applymap has been deprecated. Use Styler.map instead.\n",
      "  .applymap(style_predictions, subset=['prediction'])\n"
     ]
    },
    {
     "name": "stdout",
     "output_type": "stream",
     "text": [
      "最新更新：19:09:00\n",
      "stock_code short_name  price change_pct  main_net_inflow  prediction\n",
      "    600961       株冶集团  9.750       5.86       89664573.0          10\n",
      "    601020       华钰矿业 24.440       2.86       94040044.0           9\n",
      "    600367       红星发展 15.380       4.63       52339353.0           9\n",
      "    002155       湖南黄金  23.52       7.50      307973502.0           9\n",
      "    301368       丰立智能  88.00      -1.35     -133552529.0           9\n",
      "    603198       迎驾贡酒 60.640       2.40       55839439.0           8\n",
      "    605208        永茂泰 15.870      -3.99       12710427.0           9\n",
      "    603993       洛阳钼业  7.700      -1.41       64061269.0           8\n",
      "    000596       古井贡酒 189.17       5.48      -16307812.0           8\n",
      "    600711       ST盛屯  5.550       2.78      -13048991.0           8\n",
      "已更新监控页面 -> stock_realtime_monitor.html\n"
     ]
    },
    {
     "name": "stderr",
     "output_type": "stream",
     "text": [
      "C:\\Users\\charl\\AppData\\Local\\Temp\\ipykernel_65656\\701453132.py:104: FutureWarning: Styler.applymap has been deprecated. Use Styler.map instead.\n",
      "  .applymap(style_predictions, subset=['prediction'])\n"
     ]
    },
    {
     "name": "stdout",
     "output_type": "stream",
     "text": [
      "最新更新：19:09:28\n",
      "stock_code short_name  price change_pct  main_net_inflow  prediction\n",
      "    600961       株冶集团  9.750       5.86       89664573.0          10\n",
      "    601020       华钰矿业 24.440       2.86       94040044.0           9\n",
      "    600367       红星发展 15.380       4.63       52339353.0           9\n",
      "    002155       湖南黄金  23.52       7.50      307973502.0           9\n",
      "    301368       丰立智能  88.00      -1.35     -133552529.0           9\n",
      "    603198       迎驾贡酒 60.640       2.40       55839439.0           8\n",
      "    605208        永茂泰 15.870      -3.99       12710427.0           9\n",
      "    603993       洛阳钼业  7.700      -1.41       64061269.0           8\n",
      "    000596       古井贡酒 189.17       5.48      -16307812.0           8\n",
      "    600711       ST盛屯  5.550       2.78      -13048991.0           8\n",
      "已更新监控页面 -> stock_realtime_monitor.html\n"
     ]
    },
    {
     "name": "stderr",
     "output_type": "stream",
     "text": [
      "C:\\Users\\charl\\AppData\\Local\\Temp\\ipykernel_65656\\701453132.py:104: FutureWarning: Styler.applymap has been deprecated. Use Styler.map instead.\n",
      "  .applymap(style_predictions, subset=['prediction'])\n"
     ]
    },
    {
     "name": "stdout",
     "output_type": "stream",
     "text": [
      "最新更新：19:09:57\n",
      "stock_code short_name  price change_pct  main_net_inflow  prediction\n",
      "    600961       株冶集团  9.750       5.86       89664573.0          10\n",
      "    601020       华钰矿业 24.440       2.86       94040044.0           9\n",
      "    600367       红星发展 15.380       4.63       52339353.0           9\n",
      "    002155       湖南黄金  23.52       7.50      307973502.0           9\n",
      "    301368       丰立智能  88.00      -1.35     -133552529.0           9\n",
      "    603198       迎驾贡酒 60.640       2.40       55839439.0           8\n",
      "    605208        永茂泰 15.870      -3.99       12710427.0           9\n",
      "    603993       洛阳钼业  7.700      -1.41       64061269.0           8\n",
      "    000596       古井贡酒 189.17       5.48      -16307812.0           8\n",
      "    600711       ST盛屯  5.550       2.78      -13048991.0           8\n",
      "已更新监控页面 -> stock_realtime_monitor.html\n"
     ]
    },
    {
     "name": "stderr",
     "output_type": "stream",
     "text": [
      "C:\\Users\\charl\\AppData\\Local\\Temp\\ipykernel_65656\\701453132.py:104: FutureWarning: Styler.applymap has been deprecated. Use Styler.map instead.\n",
      "  .applymap(style_predictions, subset=['prediction'])\n"
     ]
    },
    {
     "name": "stdout",
     "output_type": "stream",
     "text": [
      "最新更新：19:10:29\n",
      "stock_code short_name  price change_pct  main_net_inflow  prediction\n",
      "    600961       株冶集团  9.750       5.86       89664573.0          10\n",
      "    601020       华钰矿业 24.440       2.86       94040044.0           9\n",
      "    600367       红星发展 15.380       4.63       52339353.0           9\n",
      "    002155       湖南黄金  23.52       7.50      307973502.0           9\n",
      "    301368       丰立智能  88.00      -1.35     -133552529.0           9\n",
      "    603198       迎驾贡酒 60.640       2.40       55839439.0           8\n",
      "    605208        永茂泰 15.870      -3.99       12710427.0           9\n",
      "    603993       洛阳钼业  7.700      -1.41       64061269.0           8\n",
      "    000596       古井贡酒 189.17       5.48      -16307812.0           8\n",
      "    600711       ST盛屯  5.550       2.78      -13048991.0           8\n",
      "已更新监控页面 -> stock_realtime_monitor.html\n"
     ]
    },
    {
     "name": "stderr",
     "output_type": "stream",
     "text": [
      "C:\\Users\\charl\\AppData\\Local\\Temp\\ipykernel_65656\\701453132.py:104: FutureWarning: Styler.applymap has been deprecated. Use Styler.map instead.\n",
      "  .applymap(style_predictions, subset=['prediction'])\n"
     ]
    },
    {
     "name": "stdout",
     "output_type": "stream",
     "text": [
      "最新更新：19:10:58\n",
      "stock_code short_name  price change_pct  main_net_inflow  prediction\n",
      "    600961       株冶集团  9.750       5.86       89664573.0          10\n",
      "    601020       华钰矿业 24.440       2.86       94040044.0           9\n",
      "    600367       红星发展 15.380       4.63       52339353.0           9\n",
      "    002155       湖南黄金  23.52       7.50      307973502.0           9\n",
      "    301368       丰立智能  88.00      -1.35     -133552529.0           9\n",
      "    603198       迎驾贡酒 60.640       2.40       55839439.0           8\n",
      "    605208        永茂泰 15.870      -3.99       12710427.0           9\n",
      "    603993       洛阳钼业  7.700      -1.41       64061269.0           8\n",
      "    000596       古井贡酒 189.17       5.48      -16307812.0           8\n",
      "    600711       ST盛屯  5.550       2.78      -13048991.0           8\n",
      "已更新监控页面 -> stock_realtime_monitor.html\n"
     ]
    },
    {
     "name": "stderr",
     "output_type": "stream",
     "text": [
      "C:\\Users\\charl\\AppData\\Local\\Temp\\ipykernel_65656\\701453132.py:104: FutureWarning: Styler.applymap has been deprecated. Use Styler.map instead.\n",
      "  .applymap(style_predictions, subset=['prediction'])\n"
     ]
    },
    {
     "name": "stdout",
     "output_type": "stream",
     "text": [
      "最新更新：19:11:28\n",
      "stock_code short_name  price change_pct  main_net_inflow  prediction\n",
      "    600961       株冶集团  9.750       5.86       89664573.0          10\n",
      "    601020       华钰矿业 24.440       2.86       94040044.0           9\n",
      "    600367       红星发展 15.380       4.63       52339353.0           9\n",
      "    002155       湖南黄金  23.52       7.50      307973502.0           9\n",
      "    301368       丰立智能  88.00      -1.35     -133552529.0           9\n",
      "    603198       迎驾贡酒 60.640       2.40       55839439.0           8\n",
      "    605208        永茂泰 15.870      -3.99       12710427.0           9\n",
      "    603993       洛阳钼业  7.700      -1.41       64061269.0           8\n",
      "    000596       古井贡酒 189.17       5.48      -16307812.0           8\n",
      "    600711       ST盛屯  5.550       2.78      -13048991.0           8\n",
      "已更新监控页面 -> stock_realtime_monitor.html\n"
     ]
    },
    {
     "name": "stderr",
     "output_type": "stream",
     "text": [
      "C:\\Users\\charl\\AppData\\Local\\Temp\\ipykernel_65656\\701453132.py:104: FutureWarning: Styler.applymap has been deprecated. Use Styler.map instead.\n",
      "  .applymap(style_predictions, subset=['prediction'])\n"
     ]
    },
    {
     "name": "stdout",
     "output_type": "stream",
     "text": [
      "最新更新：19:11:57\n",
      "stock_code short_name  price change_pct  main_net_inflow  prediction\n",
      "    600961       株冶集团  9.750       5.86       89664573.0          10\n",
      "    601020       华钰矿业 24.440       2.86       94040044.0           9\n",
      "    600367       红星发展 15.380       4.63       52339353.0           9\n",
      "    002155       湖南黄金  23.52       7.50      307973502.0           9\n",
      "    301368       丰立智能  88.00      -1.35     -133552529.0           9\n",
      "    603198       迎驾贡酒 60.640       2.40       55839439.0           8\n",
      "    605208        永茂泰 15.870      -3.99       12710427.0           9\n",
      "    603993       洛阳钼业  7.700      -1.41       64061269.0           8\n",
      "    000596       古井贡酒 189.17       5.48      -16307812.0           8\n",
      "    600711       ST盛屯  5.550       2.78      -13048991.0           8\n",
      "已更新监控页面 -> stock_realtime_monitor.html\n"
     ]
    },
    {
     "name": "stderr",
     "output_type": "stream",
     "text": [
      "C:\\Users\\charl\\AppData\\Local\\Temp\\ipykernel_65656\\701453132.py:104: FutureWarning: Styler.applymap has been deprecated. Use Styler.map instead.\n",
      "  .applymap(style_predictions, subset=['prediction'])\n"
     ]
    },
    {
     "name": "stdout",
     "output_type": "stream",
     "text": [
      "最新更新：19:12:28\n",
      "stock_code short_name  price change_pct  main_net_inflow  prediction\n",
      "    600961       株冶集团  9.750       5.86       89664573.0          10\n",
      "    601020       华钰矿业 24.440       2.86       94040044.0           9\n",
      "    600367       红星发展 15.380       4.63       52339353.0           9\n",
      "    002155       湖南黄金  23.52       7.50      307973502.0           9\n",
      "    301368       丰立智能  88.00      -1.35     -133552529.0           9\n",
      "    603198       迎驾贡酒 60.640       2.40       55839439.0           8\n",
      "    605208        永茂泰 15.870      -3.99       12710427.0           9\n",
      "    603993       洛阳钼业  7.700      -1.41       64061269.0           8\n",
      "    000596       古井贡酒 189.17       5.48      -16307812.0           8\n",
      "    600711       ST盛屯  5.550       2.78      -13048991.0           8\n",
      "已更新监控页面 -> stock_realtime_monitor.html\n"
     ]
    },
    {
     "name": "stderr",
     "output_type": "stream",
     "text": [
      "C:\\Users\\charl\\AppData\\Local\\Temp\\ipykernel_65656\\701453132.py:104: FutureWarning: Styler.applymap has been deprecated. Use Styler.map instead.\n",
      "  .applymap(style_predictions, subset=['prediction'])\n"
     ]
    },
    {
     "name": "stdout",
     "output_type": "stream",
     "text": [
      "最新更新：19:12:57\n",
      "stock_code short_name  price change_pct  main_net_inflow  prediction\n",
      "    600961       株冶集团  9.750       5.86       89664573.0          10\n",
      "    601020       华钰矿业 24.440       2.86       94040044.0           9\n",
      "    600367       红星发展 15.380       4.63       52339353.0           9\n",
      "    002155       湖南黄金  23.52       7.50      307973502.0           9\n",
      "    301368       丰立智能  88.00      -1.35     -133552529.0           9\n",
      "    603198       迎驾贡酒 60.640       2.40       55839439.0           8\n",
      "    605208        永茂泰 15.870      -3.99       12710427.0           9\n",
      "    603993       洛阳钼业  7.700      -1.41       64061269.0           8\n",
      "    000596       古井贡酒 189.17       5.48      -16307812.0           8\n",
      "    600711       ST盛屯  5.550       2.78      -13048991.0           8\n",
      "已更新监控页面 -> stock_realtime_monitor.html\n"
     ]
    },
    {
     "name": "stderr",
     "output_type": "stream",
     "text": [
      "C:\\Users\\charl\\AppData\\Local\\Temp\\ipykernel_65656\\701453132.py:104: FutureWarning: Styler.applymap has been deprecated. Use Styler.map instead.\n",
      "  .applymap(style_predictions, subset=['prediction'])\n"
     ]
    },
    {
     "name": "stdout",
     "output_type": "stream",
     "text": [
      "最新更新：19:13:28\n",
      "stock_code short_name  price change_pct  main_net_inflow  prediction\n",
      "    600961       株冶集团  9.750       5.86       89664573.0          10\n",
      "    601020       华钰矿业 24.440       2.86       94040044.0           9\n",
      "    600367       红星发展 15.380       4.63       52339353.0           9\n",
      "    002155       湖南黄金  23.52       7.50      307973502.0           9\n",
      "    301368       丰立智能  88.00      -1.35     -133552529.0           9\n",
      "    603198       迎驾贡酒 60.640       2.40       55839439.0           8\n",
      "    605208        永茂泰 15.870      -3.99       12710427.0           9\n",
      "    603993       洛阳钼业  7.700      -1.41       64061269.0           8\n",
      "    000596       古井贡酒 189.17       5.48      -16307812.0           8\n",
      "    600711       ST盛屯  5.550       2.78      -13048991.0           8\n",
      "已更新监控页面 -> stock_realtime_monitor.html\n"
     ]
    },
    {
     "name": "stderr",
     "output_type": "stream",
     "text": [
      "C:\\Users\\charl\\AppData\\Local\\Temp\\ipykernel_65656\\701453132.py:104: FutureWarning: Styler.applymap has been deprecated. Use Styler.map instead.\n",
      "  .applymap(style_predictions, subset=['prediction'])\n"
     ]
    },
    {
     "name": "stdout",
     "output_type": "stream",
     "text": [
      "最新更新：19:13:57\n",
      "stock_code short_name  price change_pct  main_net_inflow  prediction\n",
      "    600961       株冶集团  9.750       5.86       89664573.0          10\n",
      "    601020       华钰矿业 24.440       2.86       94040044.0           9\n",
      "    600367       红星发展 15.380       4.63       52339353.0           9\n",
      "    002155       湖南黄金  23.52       7.50      307973502.0           9\n",
      "    301368       丰立智能  88.00      -1.35     -133552529.0           9\n",
      "    603198       迎驾贡酒 60.640       2.40       55839439.0           8\n",
      "    605208        永茂泰 15.870      -3.99       12710427.0           9\n",
      "    603993       洛阳钼业  7.700      -1.41       64061269.0           8\n",
      "    000596       古井贡酒 189.17       5.48      -16307812.0           8\n",
      "    600711       ST盛屯  5.550       2.78      -13048991.0           8\n",
      "已更新监控页面 -> stock_realtime_monitor.html\n"
     ]
    },
    {
     "name": "stderr",
     "output_type": "stream",
     "text": [
      "C:\\Users\\charl\\AppData\\Local\\Temp\\ipykernel_65656\\701453132.py:104: FutureWarning: Styler.applymap has been deprecated. Use Styler.map instead.\n",
      "  .applymap(style_predictions, subset=['prediction'])\n"
     ]
    },
    {
     "name": "stdout",
     "output_type": "stream",
     "text": [
      "获取600711资金流数据失败: HTTPSConnectionPool(host='push2delay.eastmoney.com', port=443): Max retries exceeded with url: /api/qt/stock/fflow/kline/get?lmt=0&klt=1&fields1=f1,f2,f3,f7&fields2=f51,f52,f53,f54,f55,f56,f57,f58,f59,f60,f61,f62,f63,f64,f65&secid=1.600711 (Caused by ConnectTimeoutError(<urllib3.connection.HTTPSConnection object at 0x00000188EED6BFD0>, 'Connection to push2delay.eastmoney.com timed out. (connect timeout=None)'))\n",
      "最新更新：19:14:52\n",
      "stock_code short_name  price change_pct  main_net_inflow  prediction\n",
      "    600961       株冶集团  9.750       5.86       89664573.0          10\n",
      "    601020       华钰矿业 24.440       2.86       94040044.0           9\n",
      "    600367       红星发展 15.380       4.63       52339353.0           9\n",
      "    002155       湖南黄金  23.52       7.50      307973502.0           9\n",
      "    301368       丰立智能  88.00      -1.35     -133552529.0           9\n",
      "    603198       迎驾贡酒 60.640       2.40       55839439.0           8\n",
      "    605208        永茂泰 15.870      -3.99       12710427.0           9\n",
      "    603993       洛阳钼业  7.700      -1.41       64061269.0           8\n",
      "    000596       古井贡酒 189.17       5.48      -16307812.0           8\n",
      "    600711       ST盛屯  5.550       2.78              NaN           8\n",
      "已更新监控页面 -> stock_realtime_monitor.html\n"
     ]
    },
    {
     "name": "stderr",
     "output_type": "stream",
     "text": [
      "C:\\Users\\charl\\AppData\\Local\\Temp\\ipykernel_65656\\701453132.py:104: FutureWarning: Styler.applymap has been deprecated. Use Styler.map instead.\n",
      "  .applymap(style_predictions, subset=['prediction'])\n"
     ]
    },
    {
     "name": "stdout",
     "output_type": "stream",
     "text": [
      "最新更新：19:15:27\n",
      "stock_code short_name  price change_pct  main_net_inflow  prediction\n",
      "    600961       株冶集团  9.750       5.86       89664573.0          10\n",
      "    601020       华钰矿业 24.440       2.86       94040044.0           9\n",
      "    600367       红星发展 15.380       4.63       52339353.0           9\n",
      "    002155       湖南黄金  23.52       7.50      307973502.0           9\n",
      "    301368       丰立智能  88.00      -1.35     -133552529.0           9\n",
      "    603198       迎驾贡酒 60.640       2.40       55839439.0           8\n",
      "    605208        永茂泰 15.870      -3.99       12710427.0           9\n",
      "    603993       洛阳钼业  7.700      -1.41       64061269.0           8\n",
      "    000596       古井贡酒 189.17       5.48      -16307812.0           8\n",
      "    600711       ST盛屯  5.550       2.78      -13048991.0           8\n",
      "已更新监控页面 -> stock_realtime_monitor.html\n"
     ]
    },
    {
     "name": "stderr",
     "output_type": "stream",
     "text": [
      "C:\\Users\\charl\\AppData\\Local\\Temp\\ipykernel_65656\\701453132.py:104: FutureWarning: Styler.applymap has been deprecated. Use Styler.map instead.\n",
      "  .applymap(style_predictions, subset=['prediction'])\n"
     ]
    },
    {
     "name": "stdout",
     "output_type": "stream",
     "text": [
      "最新更新：19:15:59\n",
      "stock_code short_name  price change_pct  main_net_inflow  prediction\n",
      "    600961       株冶集团  9.750       5.86       89664573.0          10\n",
      "    601020       华钰矿业 24.440       2.86       94040044.0           9\n",
      "    600367       红星发展 15.380       4.63       52339353.0           9\n",
      "    002155       湖南黄金  23.52       7.50      307973502.0           9\n",
      "    301368       丰立智能  88.00      -1.35     -133552529.0           9\n",
      "    603198       迎驾贡酒 60.640       2.40       55839439.0           8\n",
      "    605208        永茂泰 15.870      -3.99       12710427.0           9\n",
      "    603993       洛阳钼业  7.700      -1.41       64061269.0           8\n",
      "    000596       古井贡酒 189.17       5.48      -16307812.0           8\n",
      "    600711       ST盛屯  5.550       2.78      -13048991.0           8\n",
      "已更新监控页面 -> stock_realtime_monitor.html\n"
     ]
    },
    {
     "name": "stderr",
     "output_type": "stream",
     "text": [
      "C:\\Users\\charl\\AppData\\Local\\Temp\\ipykernel_65656\\701453132.py:104: FutureWarning: Styler.applymap has been deprecated. Use Styler.map instead.\n",
      "  .applymap(style_predictions, subset=['prediction'])\n"
     ]
    },
    {
     "name": "stdout",
     "output_type": "stream",
     "text": [
      "最新更新：19:16:31\n",
      "stock_code short_name  price change_pct  main_net_inflow  prediction\n",
      "    600961       株冶集团  9.750       5.86       89664573.0          10\n",
      "    601020       华钰矿业 24.440       2.86       94040044.0           9\n",
      "    600367       红星发展 15.380       4.63       52339353.0           9\n",
      "    002155       湖南黄金  23.52       7.50      307973502.0           9\n",
      "    301368       丰立智能  88.00      -1.35     -133552529.0           9\n",
      "    603198       迎驾贡酒 60.640       2.40       55839439.0           8\n",
      "    605208        永茂泰 15.870      -3.99       12710427.0           9\n",
      "    603993       洛阳钼业  7.700      -1.41       64061269.0           8\n",
      "    000596       古井贡酒 189.17       5.48      -16307812.0           8\n",
      "    600711       ST盛屯  5.550       2.78      -13048991.0           8\n",
      "已更新监控页面 -> stock_realtime_monitor.html\n"
     ]
    },
    {
     "name": "stderr",
     "output_type": "stream",
     "text": [
      "C:\\Users\\charl\\AppData\\Local\\Temp\\ipykernel_65656\\701453132.py:104: FutureWarning: Styler.applymap has been deprecated. Use Styler.map instead.\n",
      "  .applymap(style_predictions, subset=['prediction'])\n"
     ]
    },
    {
     "name": "stdout",
     "output_type": "stream",
     "text": [
      "最新更新：19:17:00\n",
      "stock_code short_name  price change_pct  main_net_inflow  prediction\n",
      "    600961       株冶集团  9.750       5.86       89664573.0          10\n",
      "    601020       华钰矿业 24.440       2.86       94040044.0           9\n",
      "    600367       红星发展 15.380       4.63       52339353.0           9\n",
      "    002155       湖南黄金  23.52       7.50      307973502.0           9\n",
      "    301368       丰立智能  88.00      -1.35     -133552529.0           9\n",
      "    603198       迎驾贡酒 60.640       2.40       55839439.0           8\n",
      "    605208        永茂泰 15.870      -3.99       12710427.0           9\n",
      "    603993       洛阳钼业  7.700      -1.41       64061269.0           8\n",
      "    000596       古井贡酒 189.17       5.48      -16307812.0           8\n",
      "    600711       ST盛屯  5.550       2.78      -13048991.0           8\n",
      "已更新监控页面 -> stock_realtime_monitor.html\n"
     ]
    },
    {
     "name": "stderr",
     "output_type": "stream",
     "text": [
      "C:\\Users\\charl\\AppData\\Local\\Temp\\ipykernel_65656\\701453132.py:104: FutureWarning: Styler.applymap has been deprecated. Use Styler.map instead.\n",
      "  .applymap(style_predictions, subset=['prediction'])\n"
     ]
    },
    {
     "name": "stdout",
     "output_type": "stream",
     "text": [
      "最新更新：19:17:30\n",
      "stock_code short_name  price change_pct  main_net_inflow  prediction\n",
      "    600961       株冶集团  9.750       5.86       89664573.0          10\n",
      "    601020       华钰矿业 24.440       2.86       94040044.0           9\n",
      "    600367       红星发展 15.380       4.63       52339353.0           9\n",
      "    002155       湖南黄金  23.52       7.50      307973502.0           9\n",
      "    301368       丰立智能  88.00      -1.35     -133552529.0           9\n",
      "    603198       迎驾贡酒 60.640       2.40       55839439.0           8\n",
      "    605208        永茂泰 15.870      -3.99       12710427.0           9\n",
      "    603993       洛阳钼业  7.700      -1.41       64061269.0           8\n",
      "    000596       古井贡酒 189.17       5.48      -16307812.0           8\n",
      "    600711       ST盛屯  5.550       2.78      -13048991.0           8\n",
      "已更新监控页面 -> stock_realtime_monitor.html\n"
     ]
    },
    {
     "name": "stderr",
     "output_type": "stream",
     "text": [
      "C:\\Users\\charl\\AppData\\Local\\Temp\\ipykernel_65656\\701453132.py:104: FutureWarning: Styler.applymap has been deprecated. Use Styler.map instead.\n",
      "  .applymap(style_predictions, subset=['prediction'])\n"
     ]
    },
    {
     "name": "stdout",
     "output_type": "stream",
     "text": [
      "最新更新：19:17:59\n",
      "stock_code short_name  price change_pct  main_net_inflow  prediction\n",
      "    600961       株冶集团  9.750       5.86       89664573.0          10\n",
      "    601020       华钰矿业 24.440       2.86       94040044.0           9\n",
      "    600367       红星发展 15.380       4.63       52339353.0           9\n",
      "    002155       湖南黄金  23.52       7.50      307973502.0           9\n",
      "    301368       丰立智能  88.00      -1.35     -133552529.0           9\n",
      "    603198       迎驾贡酒 60.640       2.40       55839439.0           8\n",
      "    605208        永茂泰 15.870      -3.99       12710427.0           9\n",
      "    603993       洛阳钼业  7.700      -1.41       64061269.0           8\n",
      "    000596       古井贡酒 189.17       5.48      -16307812.0           8\n",
      "    600711       ST盛屯  5.550       2.78      -13048991.0           8\n",
      "已更新监控页面 -> stock_realtime_monitor.html\n"
     ]
    },
    {
     "name": "stderr",
     "output_type": "stream",
     "text": [
      "C:\\Users\\charl\\AppData\\Local\\Temp\\ipykernel_65656\\701453132.py:104: FutureWarning: Styler.applymap has been deprecated. Use Styler.map instead.\n",
      "  .applymap(style_predictions, subset=['prediction'])\n"
     ]
    },
    {
     "name": "stdout",
     "output_type": "stream",
     "text": [
      "最新更新：19:18:30\n",
      "stock_code short_name  price change_pct  main_net_inflow  prediction\n",
      "    600961       株冶集团  9.750       5.86       89664573.0          10\n",
      "    601020       华钰矿业 24.440       2.86       94040044.0           9\n",
      "    600367       红星发展 15.380       4.63       52339353.0           9\n",
      "    002155       湖南黄金  23.52       7.50      307973502.0           9\n",
      "    301368       丰立智能  88.00      -1.35     -133552529.0           9\n",
      "    603198       迎驾贡酒 60.640       2.40       55839439.0           8\n",
      "    605208        永茂泰 15.870      -3.99       12710427.0           9\n",
      "    603993       洛阳钼业  7.700      -1.41       64061269.0           8\n",
      "    000596       古井贡酒 189.17       5.48      -16307812.0           8\n",
      "    600711       ST盛屯  5.550       2.78      -13048991.0           8\n",
      "已更新监控页面 -> stock_realtime_monitor.html\n"
     ]
    },
    {
     "name": "stderr",
     "output_type": "stream",
     "text": [
      "C:\\Users\\charl\\AppData\\Local\\Temp\\ipykernel_65656\\701453132.py:104: FutureWarning: Styler.applymap has been deprecated. Use Styler.map instead.\n",
      "  .applymap(style_predictions, subset=['prediction'])\n"
     ]
    },
    {
     "name": "stdout",
     "output_type": "stream",
     "text": [
      "最新更新：19:18:59\n",
      "stock_code short_name  price change_pct  main_net_inflow  prediction\n",
      "    600961       株冶集团  9.750       5.86       89664573.0          10\n",
      "    601020       华钰矿业 24.440       2.86       94040044.0           9\n",
      "    600367       红星发展 15.380       4.63       52339353.0           9\n",
      "    002155       湖南黄金  23.52       7.50      307973502.0           9\n",
      "    301368       丰立智能  88.00      -1.35     -133552529.0           9\n",
      "    603198       迎驾贡酒 60.640       2.40       55839439.0           8\n",
      "    605208        永茂泰 15.870      -3.99       12710427.0           9\n",
      "    603993       洛阳钼业  7.700      -1.41       64061269.0           8\n",
      "    000596       古井贡酒 189.17       5.48      -16307812.0           8\n",
      "    600711       ST盛屯  5.550       2.78      -13048991.0           8\n",
      "已更新监控页面 -> stock_realtime_monitor.html\n"
     ]
    },
    {
     "name": "stderr",
     "output_type": "stream",
     "text": [
      "C:\\Users\\charl\\AppData\\Local\\Temp\\ipykernel_65656\\701453132.py:104: FutureWarning: Styler.applymap has been deprecated. Use Styler.map instead.\n",
      "  .applymap(style_predictions, subset=['prediction'])\n"
     ]
    },
    {
     "name": "stdout",
     "output_type": "stream",
     "text": [
      "最新更新：19:19:29\n",
      "stock_code short_name  price change_pct  main_net_inflow  prediction\n",
      "    600961       株冶集团  9.750       5.86       89664573.0          10\n",
      "    601020       华钰矿业 24.440       2.86       94040044.0           9\n",
      "    600367       红星发展 15.380       4.63       52339353.0           9\n",
      "    002155       湖南黄金  23.52       7.50      307973502.0           9\n",
      "    301368       丰立智能  88.00      -1.35     -133552529.0           9\n",
      "    603198       迎驾贡酒 60.640       2.40       55839439.0           8\n",
      "    605208        永茂泰 15.870      -3.99       12710427.0           9\n",
      "    603993       洛阳钼业  7.700      -1.41       64061269.0           8\n",
      "    000596       古井贡酒 189.17       5.48      -16307812.0           8\n",
      "    600711       ST盛屯  5.550       2.78      -13048991.0           8\n",
      "已更新监控页面 -> stock_realtime_monitor.html\n"
     ]
    },
    {
     "name": "stderr",
     "output_type": "stream",
     "text": [
      "C:\\Users\\charl\\AppData\\Local\\Temp\\ipykernel_65656\\701453132.py:104: FutureWarning: Styler.applymap has been deprecated. Use Styler.map instead.\n",
      "  .applymap(style_predictions, subset=['prediction'])\n"
     ]
    },
    {
     "name": "stdout",
     "output_type": "stream",
     "text": [
      "最新更新：19:20:00\n",
      "stock_code short_name  price change_pct  main_net_inflow  prediction\n",
      "    600961       株冶集团  9.750       5.86       89664573.0          10\n",
      "    601020       华钰矿业 24.440       2.86       94040044.0           9\n",
      "    600367       红星发展 15.380       4.63       52339353.0           9\n",
      "    002155       湖南黄金  23.52       7.50      307973502.0           9\n",
      "    301368       丰立智能  88.00      -1.35     -133552529.0           9\n",
      "    603198       迎驾贡酒 60.640       2.40       55839439.0           8\n",
      "    605208        永茂泰 15.870      -3.99       12710427.0           9\n",
      "    603993       洛阳钼业  7.700      -1.41       64061269.0           8\n",
      "    000596       古井贡酒 189.17       5.48      -16307812.0           8\n",
      "    600711       ST盛屯  5.550       2.78      -13048991.0           8\n",
      "已更新监控页面 -> stock_realtime_monitor.html\n"
     ]
    },
    {
     "name": "stderr",
     "output_type": "stream",
     "text": [
      "C:\\Users\\charl\\AppData\\Local\\Temp\\ipykernel_65656\\701453132.py:104: FutureWarning: Styler.applymap has been deprecated. Use Styler.map instead.\n",
      "  .applymap(style_predictions, subset=['prediction'])\n"
     ]
    },
    {
     "name": "stdout",
     "output_type": "stream",
     "text": [
      "获取601020资金流数据失败: HTTPSConnectionPool(host='push2.eastmoney.com', port=443): Max retries exceeded with url: /api/qt/stock/fflow/kline/get?lmt=0&klt=1&fields1=f1,f2,f3,f7&fields2=f51,f52,f53,f54,f55,f56,f57,f58,f59,f60,f61,f62,f63,f64,f65&secid=1.601020 (Caused by ConnectTimeoutError(<urllib3.connection.HTTPSConnection object at 0x00000188EF0644D0>, 'Connection to push2.eastmoney.com timed out. (connect timeout=None)'))\n",
      "最新更新：19:20:49\n",
      "stock_code short_name  price change_pct  main_net_inflow  prediction\n",
      "    600961       株冶集团  9.750       5.86       89664573.0          10\n",
      "    601020       华钰矿业 24.440       2.86              NaN           9\n",
      "    600367       红星发展 15.380       4.63       52339353.0           9\n",
      "    002155       湖南黄金  23.52       7.50      307973502.0           9\n",
      "    301368       丰立智能  88.00      -1.35     -133552529.0           9\n",
      "    603198       迎驾贡酒 60.640       2.40       55839439.0           8\n",
      "    605208        永茂泰 15.870      -3.99       12710427.0           9\n",
      "    603993       洛阳钼业  7.700      -1.41       64061269.0           8\n",
      "    000596       古井贡酒 189.17       5.48      -16307812.0           8\n",
      "    600711       ST盛屯  5.550       2.78      -13048991.0           8\n",
      "已更新监控页面 -> stock_realtime_monitor.html\n"
     ]
    },
    {
     "name": "stderr",
     "output_type": "stream",
     "text": [
      "C:\\Users\\charl\\AppData\\Local\\Temp\\ipykernel_65656\\701453132.py:104: FutureWarning: Styler.applymap has been deprecated. Use Styler.map instead.\n",
      "  .applymap(style_predictions, subset=['prediction'])\n"
     ]
    },
    {
     "name": "stdout",
     "output_type": "stream",
     "text": [
      "最新更新：19:21:27\n",
      "stock_code short_name  price change_pct  main_net_inflow  prediction\n",
      "    600961       株冶集团  9.750       5.86       89664573.0          10\n",
      "    601020       华钰矿业 24.440       2.86       94040044.0           9\n",
      "    600367       红星发展 15.380       4.63       52339353.0           9\n",
      "    002155       湖南黄金  23.52       7.50      307973502.0           9\n",
      "    301368       丰立智能  88.00      -1.35     -133552529.0           9\n",
      "    603198       迎驾贡酒 60.640       2.40       55839439.0           8\n",
      "    605208        永茂泰 15.870      -3.99       12710427.0           9\n",
      "    603993       洛阳钼业  7.700      -1.41       64061269.0           8\n",
      "    000596       古井贡酒 189.17       5.48      -16307812.0           8\n",
      "    600711       ST盛屯  5.550       2.78      -13048991.0           8\n",
      "已更新监控页面 -> stock_realtime_monitor.html\n"
     ]
    },
    {
     "name": "stderr",
     "output_type": "stream",
     "text": [
      "C:\\Users\\charl\\AppData\\Local\\Temp\\ipykernel_65656\\701453132.py:104: FutureWarning: Styler.applymap has been deprecated. Use Styler.map instead.\n",
      "  .applymap(style_predictions, subset=['prediction'])\n"
     ]
    },
    {
     "name": "stdout",
     "output_type": "stream",
     "text": [
      "最新更新：19:22:00\n",
      "stock_code short_name  price change_pct  main_net_inflow  prediction\n",
      "    600961       株冶集团  9.750       5.86       89664573.0          10\n",
      "    601020       华钰矿业 24.440       2.86       94040044.0           9\n",
      "    600367       红星发展 15.380       4.63       52339353.0           9\n",
      "    002155       湖南黄金  23.52       7.50      307973502.0           9\n",
      "    301368       丰立智能  88.00      -1.35     -133552529.0           9\n",
      "    603198       迎驾贡酒 60.640       2.40       55839439.0           8\n",
      "    605208        永茂泰 15.870      -3.99       12710427.0           9\n",
      "    603993       洛阳钼业  7.700      -1.41       64061269.0           8\n",
      "    000596       古井贡酒 189.17       5.48      -16307812.0           8\n",
      "    600711       ST盛屯  5.550       2.78      -13048991.0           8\n",
      "已更新监控页面 -> stock_realtime_monitor.html\n"
     ]
    },
    {
     "name": "stderr",
     "output_type": "stream",
     "text": [
      "C:\\Users\\charl\\AppData\\Local\\Temp\\ipykernel_65656\\701453132.py:104: FutureWarning: Styler.applymap has been deprecated. Use Styler.map instead.\n",
      "  .applymap(style_predictions, subset=['prediction'])\n"
     ]
    },
    {
     "name": "stdout",
     "output_type": "stream",
     "text": [
      "最新更新：19:22:28\n",
      "stock_code short_name  price change_pct  main_net_inflow  prediction\n",
      "    600961       株冶集团  9.750       5.86       89664573.0          10\n",
      "    601020       华钰矿业 24.440       2.86       94040044.0           9\n",
      "    600367       红星发展 15.380       4.63       52339353.0           9\n",
      "    002155       湖南黄金  23.52       7.50      307973502.0           9\n",
      "    301368       丰立智能  88.00      -1.35     -133552529.0           9\n",
      "    603198       迎驾贡酒 60.640       2.40       55839439.0           8\n",
      "    605208        永茂泰 15.870      -3.99       12710427.0           9\n",
      "    603993       洛阳钼业  7.700      -1.41       64061269.0           8\n",
      "    000596       古井贡酒 189.17       5.48      -16307812.0           8\n",
      "    600711       ST盛屯  5.550       2.78      -13048991.0           8\n",
      "已更新监控页面 -> stock_realtime_monitor.html\n"
     ]
    },
    {
     "name": "stderr",
     "output_type": "stream",
     "text": [
      "C:\\Users\\charl\\AppData\\Local\\Temp\\ipykernel_65656\\701453132.py:104: FutureWarning: Styler.applymap has been deprecated. Use Styler.map instead.\n",
      "  .applymap(style_predictions, subset=['prediction'])\n"
     ]
    },
    {
     "name": "stdout",
     "output_type": "stream",
     "text": [
      "最新更新：19:22:56\n",
      "stock_code short_name  price change_pct  main_net_inflow  prediction\n",
      "    600961       株冶集团  9.750       5.86       89664573.0          10\n",
      "    601020       华钰矿业 24.440       2.86       94040044.0           9\n",
      "    600367       红星发展 15.380       4.63       52339353.0           9\n",
      "    002155       湖南黄金  23.52       7.50      307973502.0           9\n",
      "    301368       丰立智能  88.00      -1.35     -133552529.0           9\n",
      "    603198       迎驾贡酒 60.640       2.40       55839439.0           8\n",
      "    605208        永茂泰 15.870      -3.99       12710427.0           9\n",
      "    603993       洛阳钼业  7.700      -1.41       64061269.0           8\n",
      "    000596       古井贡酒 189.17       5.48      -16307812.0           8\n",
      "    600711       ST盛屯  5.550       2.78      -13048991.0           8\n",
      "已更新监控页面 -> stock_realtime_monitor.html\n"
     ]
    },
    {
     "name": "stderr",
     "output_type": "stream",
     "text": [
      "C:\\Users\\charl\\AppData\\Local\\Temp\\ipykernel_65656\\701453132.py:104: FutureWarning: Styler.applymap has been deprecated. Use Styler.map instead.\n",
      "  .applymap(style_predictions, subset=['prediction'])\n"
     ]
    },
    {
     "name": "stdout",
     "output_type": "stream",
     "text": [
      "最新更新：19:23:29\n",
      "stock_code short_name  price change_pct  main_net_inflow  prediction\n",
      "    600961       株冶集团  9.750       5.86       89664573.0          10\n",
      "    601020       华钰矿业 24.440       2.86       94040044.0           9\n",
      "    600367       红星发展 15.380       4.63       52339353.0           9\n",
      "    002155       湖南黄金  23.52       7.50      307973502.0           9\n",
      "    301368       丰立智能  88.00      -1.35     -133552529.0           9\n",
      "    603198       迎驾贡酒 60.640       2.40       55839439.0           8\n",
      "    605208        永茂泰 15.870      -3.99       12710427.0           9\n",
      "    603993       洛阳钼业  7.700      -1.41       64061269.0           8\n",
      "    000596       古井贡酒 189.17       5.48      -16307812.0           8\n",
      "    600711       ST盛屯  5.550       2.78      -13048991.0           8\n",
      "已更新监控页面 -> stock_realtime_monitor.html\n"
     ]
    },
    {
     "name": "stderr",
     "output_type": "stream",
     "text": [
      "C:\\Users\\charl\\AppData\\Local\\Temp\\ipykernel_65656\\701453132.py:104: FutureWarning: Styler.applymap has been deprecated. Use Styler.map instead.\n",
      "  .applymap(style_predictions, subset=['prediction'])\n"
     ]
    },
    {
     "name": "stdout",
     "output_type": "stream",
     "text": [
      "最新更新：19:23:58\n",
      "stock_code short_name  price change_pct  main_net_inflow  prediction\n",
      "    600961       株冶集团  9.750       5.86       89664573.0          10\n",
      "    601020       华钰矿业 24.440       2.86       94040044.0           9\n",
      "    600367       红星发展 15.380       4.63       52339353.0           9\n",
      "    002155       湖南黄金  23.52       7.50      307973502.0           9\n",
      "    301368       丰立智能  88.00      -1.35     -133552529.0           9\n",
      "    603198       迎驾贡酒 60.640       2.40       55839439.0           8\n",
      "    605208        永茂泰 15.870      -3.99       12710427.0           9\n",
      "    603993       洛阳钼业  7.700      -1.41       64061269.0           8\n",
      "    000596       古井贡酒 189.17       5.48      -16307812.0           8\n",
      "    600711       ST盛屯  5.550       2.78      -13048991.0           8\n",
      "已更新监控页面 -> stock_realtime_monitor.html\n"
     ]
    },
    {
     "name": "stderr",
     "output_type": "stream",
     "text": [
      "C:\\Users\\charl\\AppData\\Local\\Temp\\ipykernel_65656\\701453132.py:104: FutureWarning: Styler.applymap has been deprecated. Use Styler.map instead.\n",
      "  .applymap(style_predictions, subset=['prediction'])\n"
     ]
    },
    {
     "name": "stdout",
     "output_type": "stream",
     "text": [
      "最新更新：19:24:27\n",
      "stock_code short_name  price change_pct  main_net_inflow  prediction\n",
      "    600961       株冶集团  9.750       5.86       89664573.0          10\n",
      "    601020       华钰矿业 24.440       2.86       94040044.0           9\n",
      "    600367       红星发展 15.380       4.63       52339353.0           9\n",
      "    002155       湖南黄金  23.52       7.50      307973502.0           9\n",
      "    301368       丰立智能  88.00      -1.35     -133552529.0           9\n",
      "    603198       迎驾贡酒 60.640       2.40       55839439.0           8\n",
      "    605208        永茂泰 15.870      -3.99       12710427.0           9\n",
      "    603993       洛阳钼业  7.700      -1.41       64061269.0           8\n",
      "    000596       古井贡酒 189.17       5.48      -16307812.0           8\n",
      "    600711       ST盛屯  5.550       2.78      -13048991.0           8\n",
      "已更新监控页面 -> stock_realtime_monitor.html\n"
     ]
    },
    {
     "name": "stderr",
     "output_type": "stream",
     "text": [
      "C:\\Users\\charl\\AppData\\Local\\Temp\\ipykernel_65656\\701453132.py:104: FutureWarning: Styler.applymap has been deprecated. Use Styler.map instead.\n",
      "  .applymap(style_predictions, subset=['prediction'])\n"
     ]
    },
    {
     "name": "stdout",
     "output_type": "stream",
     "text": [
      "最新更新：19:24:58\n",
      "stock_code short_name  price change_pct  main_net_inflow  prediction\n",
      "    600961       株冶集团  9.750       5.86       89664573.0          10\n",
      "    601020       华钰矿业 24.440       2.86       94040044.0           9\n",
      "    600367       红星发展 15.380       4.63       52339353.0           9\n",
      "    002155       湖南黄金  23.52       7.50      307973502.0           9\n",
      "    301368       丰立智能  88.00      -1.35     -133552529.0           9\n",
      "    603198       迎驾贡酒 60.640       2.40       55839439.0           8\n",
      "    605208        永茂泰 15.870      -3.99       12710427.0           9\n",
      "    603993       洛阳钼业  7.700      -1.41       64061269.0           8\n",
      "    000596       古井贡酒 189.17       5.48      -16307812.0           8\n",
      "    600711       ST盛屯  5.550       2.78      -13048991.0           8\n",
      "已更新监控页面 -> stock_realtime_monitor.html\n"
     ]
    },
    {
     "name": "stderr",
     "output_type": "stream",
     "text": [
      "C:\\Users\\charl\\AppData\\Local\\Temp\\ipykernel_65656\\701453132.py:104: FutureWarning: Styler.applymap has been deprecated. Use Styler.map instead.\n",
      "  .applymap(style_predictions, subset=['prediction'])\n"
     ]
    },
    {
     "name": "stdout",
     "output_type": "stream",
     "text": [
      "最新更新：19:25:27\n",
      "stock_code short_name  price change_pct  main_net_inflow  prediction\n",
      "    600961       株冶集团  9.750       5.86       89664573.0          10\n",
      "    601020       华钰矿业 24.440       2.86       94040044.0           9\n",
      "    600367       红星发展 15.380       4.63       52339353.0           9\n",
      "    002155       湖南黄金  23.52       7.50      307973502.0           9\n",
      "    301368       丰立智能  88.00      -1.35     -133552529.0           9\n",
      "    603198       迎驾贡酒 60.640       2.40       55839439.0           8\n",
      "    605208        永茂泰 15.870      -3.99       12710427.0           9\n",
      "    603993       洛阳钼业  7.700      -1.41       64061269.0           8\n",
      "    000596       古井贡酒 189.17       5.48      -16307812.0           8\n",
      "    600711       ST盛屯  5.550       2.78      -13048991.0           8\n",
      "已更新监控页面 -> stock_realtime_monitor.html\n"
     ]
    },
    {
     "name": "stderr",
     "output_type": "stream",
     "text": [
      "C:\\Users\\charl\\AppData\\Local\\Temp\\ipykernel_65656\\701453132.py:104: FutureWarning: Styler.applymap has been deprecated. Use Styler.map instead.\n",
      "  .applymap(style_predictions, subset=['prediction'])\n"
     ]
    },
    {
     "name": "stdout",
     "output_type": "stream",
     "text": [
      "最新更新：19:26:01\n",
      "stock_code short_name  price change_pct  main_net_inflow  prediction\n",
      "    600961       株冶集团  9.750       5.86       89664573.0          10\n",
      "    601020       华钰矿业 24.440       2.86       94040044.0           9\n",
      "    600367       红星发展 15.380       4.63       52339353.0           9\n",
      "    002155       湖南黄金  23.52       7.50      307973502.0           9\n",
      "    301368       丰立智能  88.00      -1.35     -133552529.0           9\n",
      "    603198       迎驾贡酒 60.640       2.40       55839439.0           8\n",
      "    605208        永茂泰 15.870      -3.99       12710427.0           9\n",
      "    603993       洛阳钼业  7.700      -1.41       64061269.0           8\n",
      "    000596       古井贡酒 189.17       5.48      -16307812.0           8\n",
      "    600711       ST盛屯  5.550       2.78      -13048991.0           8\n",
      "已更新监控页面 -> stock_realtime_monitor.html\n"
     ]
    },
    {
     "name": "stderr",
     "output_type": "stream",
     "text": [
      "C:\\Users\\charl\\AppData\\Local\\Temp\\ipykernel_65656\\701453132.py:104: FutureWarning: Styler.applymap has been deprecated. Use Styler.map instead.\n",
      "  .applymap(style_predictions, subset=['prediction'])\n"
     ]
    },
    {
     "name": "stdout",
     "output_type": "stream",
     "text": [
      "最新更新：19:26:31\n",
      "stock_code short_name  price change_pct  main_net_inflow  prediction\n",
      "    600961       株冶集团  9.750       5.86       89664573.0          10\n",
      "    601020       华钰矿业 24.440       2.86       94040044.0           9\n",
      "    600367       红星发展 15.380       4.63       52339353.0           9\n",
      "    002155       湖南黄金  23.52       7.50      307973502.0           9\n",
      "    301368       丰立智能  88.00      -1.35     -133552529.0           9\n",
      "    603198       迎驾贡酒 60.640       2.40       55839439.0           8\n",
      "    605208        永茂泰 15.870      -3.99       12710427.0           9\n",
      "    603993       洛阳钼业  7.700      -1.41       64061269.0           8\n",
      "    000596       古井贡酒 189.17       5.48      -16307812.0           8\n",
      "    600711       ST盛屯  5.550       2.78      -13048991.0           8\n",
      "已更新监控页面 -> stock_realtime_monitor.html\n"
     ]
    },
    {
     "name": "stderr",
     "output_type": "stream",
     "text": [
      "C:\\Users\\charl\\AppData\\Local\\Temp\\ipykernel_65656\\701453132.py:104: FutureWarning: Styler.applymap has been deprecated. Use Styler.map instead.\n",
      "  .applymap(style_predictions, subset=['prediction'])\n"
     ]
    },
    {
     "name": "stdout",
     "output_type": "stream",
     "text": [
      "最新更新：19:27:02\n",
      "stock_code short_name  price change_pct  main_net_inflow  prediction\n",
      "    600961       株冶集团  9.750       5.86       89664573.0          10\n",
      "    601020       华钰矿业 24.440       2.86       94040044.0           9\n",
      "    600367       红星发展 15.380       4.63       52339353.0           9\n",
      "    002155       湖南黄金  23.52       7.50      307973502.0           9\n",
      "    301368       丰立智能  88.00      -1.35     -133552529.0           9\n",
      "    603198       迎驾贡酒 60.640       2.40       55839439.0           8\n",
      "    605208        永茂泰 15.870      -3.99       12710427.0           9\n",
      "    603993       洛阳钼业  7.700      -1.41       64061269.0           8\n",
      "    000596       古井贡酒 189.17       5.48      -16307812.0           8\n",
      "    600711       ST盛屯  5.550       2.78      -13048991.0           8\n",
      "已更新监控页面 -> stock_realtime_monitor.html\n"
     ]
    },
    {
     "name": "stderr",
     "output_type": "stream",
     "text": [
      "C:\\Users\\charl\\AppData\\Local\\Temp\\ipykernel_65656\\701453132.py:104: FutureWarning: Styler.applymap has been deprecated. Use Styler.map instead.\n",
      "  .applymap(style_predictions, subset=['prediction'])\n"
     ]
    },
    {
     "name": "stdout",
     "output_type": "stream",
     "text": [
      "最新更新：19:27:31\n",
      "stock_code short_name  price change_pct  main_net_inflow  prediction\n",
      "    600961       株冶集团  9.750       5.86       89664573.0          10\n",
      "    601020       华钰矿业 24.440       2.86       94040044.0           9\n",
      "    600367       红星发展 15.380       4.63       52339353.0           9\n",
      "    002155       湖南黄金  23.52       7.50      307973502.0           9\n",
      "    301368       丰立智能  88.00      -1.35     -133552529.0           9\n",
      "    603198       迎驾贡酒 60.640       2.40       55839439.0           8\n",
      "    605208        永茂泰 15.870      -3.99       12710427.0           9\n",
      "    603993       洛阳钼业  7.700      -1.41       64061269.0           8\n",
      "    000596       古井贡酒 189.17       5.48      -16307812.0           8\n",
      "    600711       ST盛屯  5.550       2.78      -13048991.0           8\n",
      "已更新监控页面 -> stock_realtime_monitor.html\n"
     ]
    },
    {
     "name": "stderr",
     "output_type": "stream",
     "text": [
      "C:\\Users\\charl\\AppData\\Local\\Temp\\ipykernel_65656\\701453132.py:104: FutureWarning: Styler.applymap has been deprecated. Use Styler.map instead.\n",
      "  .applymap(style_predictions, subset=['prediction'])\n"
     ]
    },
    {
     "name": "stdout",
     "output_type": "stream",
     "text": [
      "最新更新：19:28:00\n",
      "stock_code short_name  price change_pct  main_net_inflow  prediction\n",
      "    600961       株冶集团  9.750       5.86       89664573.0          10\n",
      "    601020       华钰矿业 24.440       2.86       94040044.0           9\n",
      "    600367       红星发展 15.380       4.63       52339353.0           9\n",
      "    002155       湖南黄金  23.52       7.50      307973502.0           9\n",
      "    301368       丰立智能  88.00      -1.35     -133552529.0           9\n",
      "    603198       迎驾贡酒 60.640       2.40       55839439.0           8\n",
      "    605208        永茂泰 15.870      -3.99       12710427.0           9\n",
      "    603993       洛阳钼业  7.700      -1.41       64061269.0           8\n",
      "    000596       古井贡酒 189.17       5.48      -16307812.0           8\n",
      "    600711       ST盛屯  5.550       2.78      -13048991.0           8\n",
      "已更新监控页面 -> stock_realtime_monitor.html\n"
     ]
    },
    {
     "name": "stderr",
     "output_type": "stream",
     "text": [
      "C:\\Users\\charl\\AppData\\Local\\Temp\\ipykernel_65656\\701453132.py:104: FutureWarning: Styler.applymap has been deprecated. Use Styler.map instead.\n",
      "  .applymap(style_predictions, subset=['prediction'])\n"
     ]
    },
    {
     "name": "stdout",
     "output_type": "stream",
     "text": [
      "获取301368资金流数据失败: HTTPSConnectionPool(host='push2.eastmoney.com', port=443): Max retries exceeded with url: /api/qt/stock/fflow/kline/get?lmt=0&klt=1&fields1=f1,f2,f3,f7&fields2=f51,f52,f53,f54,f55,f56,f57,f58,f59,f60,f61,f62,f63,f64,f65&secid=0.301368 (Caused by ConnectTimeoutError(<urllib3.connection.HTTPSConnection object at 0x00000188EE982990>, 'Connection to push2.eastmoney.com timed out. (connect timeout=None)'))\n",
      "最新更新：19:28:48\n",
      "stock_code short_name  price change_pct  main_net_inflow  prediction\n",
      "    600961       株冶集团  9.750       5.86       89664573.0          10\n",
      "    601020       华钰矿业 24.440       2.86       94040044.0           9\n",
      "    600367       红星发展 15.380       4.63       52339353.0           9\n",
      "    002155       湖南黄金  23.52       7.50      307973502.0           9\n",
      "    301368       丰立智能  88.00      -1.35              NaN           9\n",
      "    603198       迎驾贡酒 60.640       2.40       55839439.0           8\n",
      "    605208        永茂泰 15.870      -3.99       12710427.0           9\n",
      "    603993       洛阳钼业  7.700      -1.41       64061269.0           8\n",
      "    000596       古井贡酒 189.17       5.48      -16307812.0           8\n",
      "    600711       ST盛屯  5.550       2.78      -13048991.0           8\n",
      "已更新监控页面 -> stock_realtime_monitor.html\n"
     ]
    },
    {
     "name": "stderr",
     "output_type": "stream",
     "text": [
      "C:\\Users\\charl\\AppData\\Local\\Temp\\ipykernel_65656\\701453132.py:104: FutureWarning: Styler.applymap has been deprecated. Use Styler.map instead.\n",
      "  .applymap(style_predictions, subset=['prediction'])\n"
     ]
    },
    {
     "name": "stdout",
     "output_type": "stream",
     "text": [
      "最新更新：19:29:31\n",
      "stock_code short_name  price change_pct  main_net_inflow  prediction\n",
      "    600961       株冶集团  9.750       5.86       89664573.0          10\n",
      "    601020       华钰矿业 24.440       2.86       94040044.0           9\n",
      "    600367       红星发展 15.380       4.63       52339353.0           9\n",
      "    002155       湖南黄金  23.52       7.50      307973502.0           9\n",
      "    301368       丰立智能  88.00      -1.35     -133552529.0           9\n",
      "    603198       迎驾贡酒 60.640       2.40       55839439.0           8\n",
      "    605208        永茂泰 15.870      -3.99       12710427.0           9\n",
      "    603993       洛阳钼业  7.700      -1.41       64061269.0           8\n",
      "    000596       古井贡酒 189.17       5.48      -16307812.0           8\n",
      "    600711       ST盛屯  5.550       2.78      -13048991.0           8\n",
      "已更新监控页面 -> stock_realtime_monitor.html\n"
     ]
    },
    {
     "name": "stderr",
     "output_type": "stream",
     "text": [
      "C:\\Users\\charl\\AppData\\Local\\Temp\\ipykernel_65656\\701453132.py:104: FutureWarning: Styler.applymap has been deprecated. Use Styler.map instead.\n",
      "  .applymap(style_predictions, subset=['prediction'])\n"
     ]
    },
    {
     "name": "stdout",
     "output_type": "stream",
     "text": [
      "最新更新：19:30:03\n",
      "stock_code short_name  price change_pct  main_net_inflow  prediction\n",
      "    600961       株冶集团  9.750       5.86       89664573.0          10\n",
      "    601020       华钰矿业 24.440       2.86       94040044.0           9\n",
      "    600367       红星发展 15.380       4.63       52339353.0           9\n",
      "    002155       湖南黄金  23.52       7.50      307973502.0           9\n",
      "    301368       丰立智能  88.00      -1.35     -133552529.0           9\n",
      "    603198       迎驾贡酒 60.640       2.40       55839439.0           8\n",
      "    605208        永茂泰 15.870      -3.99       12710427.0           9\n",
      "    603993       洛阳钼业  7.700      -1.41       64061269.0           8\n",
      "    000596       古井贡酒 189.17       5.48      -16307812.0           8\n",
      "    600711       ST盛屯  5.550       2.78      -13048991.0           8\n",
      "已更新监控页面 -> stock_realtime_monitor.html\n"
     ]
    },
    {
     "name": "stderr",
     "output_type": "stream",
     "text": [
      "C:\\Users\\charl\\AppData\\Local\\Temp\\ipykernel_65656\\701453132.py:104: FutureWarning: Styler.applymap has been deprecated. Use Styler.map instead.\n",
      "  .applymap(style_predictions, subset=['prediction'])\n"
     ]
    },
    {
     "name": "stdout",
     "output_type": "stream",
     "text": [
      "最新更新：19:30:32\n",
      "stock_code short_name  price change_pct  main_net_inflow  prediction\n",
      "    600961       株冶集团  9.750       5.86       89664573.0          10\n",
      "    601020       华钰矿业 24.440       2.86       94040044.0           9\n",
      "    600367       红星发展 15.380       4.63       52339353.0           9\n",
      "    002155       湖南黄金  23.52       7.50      307973502.0           9\n",
      "    301368       丰立智能  88.00      -1.35     -133552529.0           9\n",
      "    603198       迎驾贡酒 60.640       2.40       55839439.0           8\n",
      "    605208        永茂泰 15.870      -3.99       12710427.0           9\n",
      "    603993       洛阳钼业  7.700      -1.41       64061269.0           8\n",
      "    000596       古井贡酒 189.17       5.48      -16307812.0           8\n",
      "    600711       ST盛屯  5.550       2.78      -13048991.0           8\n"
     ]
    },
    {
     "name": "stderr",
     "output_type": "stream",
     "text": [
      "C:\\Users\\charl\\AppData\\Local\\Temp\\ipykernel_65656\\701453132.py:104: FutureWarning: Styler.applymap has been deprecated. Use Styler.map instead.\n",
      "  .applymap(style_predictions, subset=['prediction'])\n"
     ]
    },
    {
     "name": "stdout",
     "output_type": "stream",
     "text": [
      "已更新监控页面 -> stock_realtime_monitor.html\n",
      "最新更新：19:31:02\n",
      "stock_code short_name  price change_pct  main_net_inflow  prediction\n",
      "    600961       株冶集团  9.750       5.86       89664573.0          10\n",
      "    601020       华钰矿业 24.440       2.86       94040044.0           9\n",
      "    600367       红星发展 15.380       4.63       52339353.0           9\n",
      "    002155       湖南黄金  23.52       7.50      307973502.0           9\n",
      "    301368       丰立智能  88.00      -1.35     -133552529.0           9\n",
      "    603198       迎驾贡酒 60.640       2.40       55839439.0           8\n",
      "    605208        永茂泰 15.870      -3.99       12710427.0           9\n",
      "    603993       洛阳钼业  7.700      -1.41       64061269.0           8\n",
      "    000596       古井贡酒 189.17       5.48      -16307812.0           8\n",
      "    600711       ST盛屯  5.550       2.78      -13048991.0           8\n",
      "已更新监控页面 -> stock_realtime_monitor.html\n"
     ]
    },
    {
     "name": "stderr",
     "output_type": "stream",
     "text": [
      "C:\\Users\\charl\\AppData\\Local\\Temp\\ipykernel_65656\\701453132.py:104: FutureWarning: Styler.applymap has been deprecated. Use Styler.map instead.\n",
      "  .applymap(style_predictions, subset=['prediction'])\n"
     ]
    },
    {
     "name": "stdout",
     "output_type": "stream",
     "text": [
      "最新更新：19:31:32\n",
      "stock_code short_name  price change_pct  main_net_inflow  prediction\n",
      "    600961       株冶集团  9.750       5.86       89664573.0          10\n",
      "    601020       华钰矿业 24.440       2.86       94040044.0           9\n",
      "    600367       红星发展 15.380       4.63       52339353.0           9\n",
      "    002155       湖南黄金  23.52       7.50      307973502.0           9\n",
      "    301368       丰立智能  88.00      -1.35     -133552529.0           9\n",
      "    603198       迎驾贡酒 60.640       2.40       55839439.0           8\n",
      "    605208        永茂泰 15.870      -3.99       12710427.0           9\n",
      "    603993       洛阳钼业  7.700      -1.41       64061269.0           8\n",
      "    000596       古井贡酒 189.17       5.48      -16307812.0           8\n",
      "    600711       ST盛屯  5.550       2.78      -13048991.0           8\n",
      "已更新监控页面 -> stock_realtime_monitor.html\n"
     ]
    },
    {
     "name": "stderr",
     "output_type": "stream",
     "text": [
      "C:\\Users\\charl\\AppData\\Local\\Temp\\ipykernel_65656\\701453132.py:104: FutureWarning: Styler.applymap has been deprecated. Use Styler.map instead.\n",
      "  .applymap(style_predictions, subset=['prediction'])\n"
     ]
    },
    {
     "name": "stdout",
     "output_type": "stream",
     "text": [
      "最新更新：19:32:01\n",
      "stock_code short_name  price change_pct  main_net_inflow  prediction\n",
      "    600961       株冶集团  9.750       5.86       89664573.0          10\n",
      "    601020       华钰矿业 24.440       2.86       94040044.0           9\n",
      "    600367       红星发展 15.380       4.63       52339353.0           9\n",
      "    002155       湖南黄金  23.52       7.50      307973502.0           9\n",
      "    301368       丰立智能  88.00      -1.35     -133552529.0           9\n",
      "    603198       迎驾贡酒 60.640       2.40       55839439.0           8\n",
      "    605208        永茂泰 15.870      -3.99       12710427.0           9\n",
      "    603993       洛阳钼业  7.700      -1.41       64061269.0           8\n",
      "    000596       古井贡酒 189.17       5.48      -16307812.0           8\n",
      "    600711       ST盛屯  5.550       2.78      -13048991.0           8\n",
      "已更新监控页面 -> stock_realtime_monitor.html\n"
     ]
    },
    {
     "name": "stderr",
     "output_type": "stream",
     "text": [
      "C:\\Users\\charl\\AppData\\Local\\Temp\\ipykernel_65656\\701453132.py:104: FutureWarning: Styler.applymap has been deprecated. Use Styler.map instead.\n",
      "  .applymap(style_predictions, subset=['prediction'])\n"
     ]
    },
    {
     "name": "stdout",
     "output_type": "stream",
     "text": [
      "最新更新：19:32:31\n",
      "stock_code short_name  price change_pct  main_net_inflow  prediction\n",
      "    600961       株冶集团  9.750       5.86       89664573.0          10\n",
      "    601020       华钰矿业 24.440       2.86       94040044.0           9\n",
      "    600367       红星发展 15.380       4.63       52339353.0           9\n",
      "    002155       湖南黄金  23.52       7.50      307973502.0           9\n",
      "    301368       丰立智能  88.00      -1.35     -133552529.0           9\n",
      "    603198       迎驾贡酒 60.640       2.40       55839439.0           8\n",
      "    605208        永茂泰 15.870      -3.99       12710427.0           9\n",
      "    603993       洛阳钼业  7.700      -1.41       64061269.0           8\n",
      "    000596       古井贡酒 189.17       5.48      -16307812.0           8\n",
      "    600711       ST盛屯  5.550       2.78      -13048991.0           8\n",
      "已更新监控页面 -> stock_realtime_monitor.html\n"
     ]
    },
    {
     "name": "stderr",
     "output_type": "stream",
     "text": [
      "C:\\Users\\charl\\AppData\\Local\\Temp\\ipykernel_65656\\701453132.py:104: FutureWarning: Styler.applymap has been deprecated. Use Styler.map instead.\n",
      "  .applymap(style_predictions, subset=['prediction'])\n"
     ]
    },
    {
     "name": "stdout",
     "output_type": "stream",
     "text": [
      "最新更新：19:33:04\n",
      "stock_code short_name  price change_pct  main_net_inflow  prediction\n",
      "    600961       株冶集团  9.750       5.86       89664573.0          10\n",
      "    601020       华钰矿业 24.440       2.86       94040044.0           9\n",
      "    600367       红星发展 15.380       4.63       52339353.0           9\n",
      "    002155       湖南黄金  23.52       7.50      307973502.0           9\n",
      "    301368       丰立智能  88.00      -1.35     -133552529.0           9\n",
      "    603198       迎驾贡酒 60.640       2.40       55839439.0           8\n",
      "    605208        永茂泰 15.870      -3.99       12710427.0           9\n",
      "    603993       洛阳钼业  7.700      -1.41       64061269.0           8\n",
      "    000596       古井贡酒 189.17       5.48      -16307812.0           8\n",
      "    600711       ST盛屯  5.550       2.78      -13048991.0           8\n",
      "已更新监控页面 -> stock_realtime_monitor.html\n"
     ]
    },
    {
     "name": "stderr",
     "output_type": "stream",
     "text": [
      "C:\\Users\\charl\\AppData\\Local\\Temp\\ipykernel_65656\\701453132.py:104: FutureWarning: Styler.applymap has been deprecated. Use Styler.map instead.\n",
      "  .applymap(style_predictions, subset=['prediction'])\n"
     ]
    },
    {
     "name": "stdout",
     "output_type": "stream",
     "text": [
      "最新更新：19:33:33\n",
      "stock_code short_name  price change_pct  main_net_inflow  prediction\n",
      "    600961       株冶集团  9.750       5.86       89664573.0          10\n",
      "    601020       华钰矿业 24.440       2.86       94040044.0           9\n",
      "    600367       红星发展 15.380       4.63       52339353.0           9\n",
      "    002155       湖南黄金  23.52       7.50      307973502.0           9\n",
      "    301368       丰立智能  88.00      -1.35     -133552529.0           9\n",
      "    603198       迎驾贡酒 60.640       2.40       55839439.0           8\n",
      "    605208        永茂泰 15.870      -3.99       12710427.0           9\n",
      "    603993       洛阳钼业  7.700      -1.41       64061269.0           8\n",
      "    000596       古井贡酒 189.17       5.48      -16307812.0           8\n",
      "    600711       ST盛屯  5.550       2.78      -13048991.0           8\n",
      "已更新监控页面 -> stock_realtime_monitor.html\n"
     ]
    },
    {
     "name": "stderr",
     "output_type": "stream",
     "text": [
      "C:\\Users\\charl\\AppData\\Local\\Temp\\ipykernel_65656\\701453132.py:104: FutureWarning: Styler.applymap has been deprecated. Use Styler.map instead.\n",
      "  .applymap(style_predictions, subset=['prediction'])\n"
     ]
    },
    {
     "name": "stdout",
     "output_type": "stream",
     "text": [
      "最新更新：19:34:01\n",
      "stock_code short_name  price change_pct  main_net_inflow  prediction\n",
      "    600961       株冶集团  9.750       5.86       89664573.0          10\n",
      "    601020       华钰矿业 24.440       2.86       94040044.0           9\n",
      "    600367       红星发展 15.380       4.63       52339353.0           9\n",
      "    002155       湖南黄金  23.52       7.50      307973502.0           9\n",
      "    301368       丰立智能  88.00      -1.35     -133552529.0           9\n",
      "    603198       迎驾贡酒 60.640       2.40       55839439.0           8\n",
      "    605208        永茂泰 15.870      -3.99       12710427.0           9\n",
      "    603993       洛阳钼业  7.700      -1.41       64061269.0           8\n",
      "    000596       古井贡酒 189.17       5.48      -16307812.0           8\n",
      "    600711       ST盛屯  5.550       2.78      -13048991.0           8\n",
      "已更新监控页面 -> stock_realtime_monitor.html\n"
     ]
    },
    {
     "name": "stderr",
     "output_type": "stream",
     "text": [
      "C:\\Users\\charl\\AppData\\Local\\Temp\\ipykernel_65656\\701453132.py:104: FutureWarning: Styler.applymap has been deprecated. Use Styler.map instead.\n",
      "  .applymap(style_predictions, subset=['prediction'])\n"
     ]
    },
    {
     "name": "stdout",
     "output_type": "stream",
     "text": [
      "最新更新：19:34:35\n",
      "stock_code short_name  price change_pct  main_net_inflow  prediction\n",
      "    600961       株冶集团  9.750       5.86       89664573.0          10\n",
      "    601020       华钰矿业 24.440       2.86       94040044.0           9\n",
      "    600367       红星发展 15.380       4.63       52339353.0           9\n",
      "    002155       湖南黄金  23.52       7.50      307973502.0           9\n",
      "    301368       丰立智能  88.00      -1.35     -133552529.0           9\n",
      "    603198       迎驾贡酒 60.640       2.40       55839439.0           8\n",
      "    605208        永茂泰 15.870      -3.99       12710427.0           9\n",
      "    603993       洛阳钼业  7.700      -1.41       64061269.0           8\n",
      "    000596       古井贡酒 189.17       5.48      -16307812.0           8\n",
      "    600711       ST盛屯  5.550       2.78      -13048991.0           8\n",
      "已更新监控页面 -> stock_realtime_monitor.html\n"
     ]
    },
    {
     "name": "stderr",
     "output_type": "stream",
     "text": [
      "C:\\Users\\charl\\AppData\\Local\\Temp\\ipykernel_65656\\701453132.py:104: FutureWarning: Styler.applymap has been deprecated. Use Styler.map instead.\n",
      "  .applymap(style_predictions, subset=['prediction'])\n"
     ]
    },
    {
     "name": "stdout",
     "output_type": "stream",
     "text": [
      "最新更新：19:35:01\n",
      "stock_code short_name  price change_pct  main_net_inflow  prediction\n",
      "    600961       株冶集团  9.750       5.86       89664573.0          10\n",
      "    601020       华钰矿业 24.440       2.86       94040044.0           9\n",
      "    600367       红星发展 15.380       4.63       52339353.0           9\n",
      "    002155       湖南黄金  23.52       7.50      307973502.0           9\n",
      "    301368       丰立智能  88.00      -1.35     -133552529.0           9\n",
      "    603198       迎驾贡酒 60.640       2.40       55839439.0           8\n",
      "    605208        永茂泰 15.870      -3.99       12710427.0           9\n",
      "    603993       洛阳钼业  7.700      -1.41       64061269.0           8\n",
      "    000596       古井贡酒 189.17       5.48      -16307812.0           8\n",
      "    600711       ST盛屯  5.550       2.78      -13048991.0           8\n",
      "已更新监控页面 -> stock_realtime_monitor.html\n"
     ]
    },
    {
     "name": "stderr",
     "output_type": "stream",
     "text": [
      "C:\\Users\\charl\\AppData\\Local\\Temp\\ipykernel_65656\\701453132.py:104: FutureWarning: Styler.applymap has been deprecated. Use Styler.map instead.\n",
      "  .applymap(style_predictions, subset=['prediction'])\n"
     ]
    },
    {
     "name": "stdout",
     "output_type": "stream",
     "text": [
      "最新更新：19:35:34\n",
      "stock_code short_name  price change_pct  main_net_inflow  prediction\n",
      "    600961       株冶集团  9.750       5.86       89664573.0          10\n",
      "    601020       华钰矿业 24.440       2.86       94040044.0           9\n",
      "    600367       红星发展 15.380       4.63       52339353.0           9\n",
      "    002155       湖南黄金  23.52       7.50      307973502.0           9\n",
      "    301368       丰立智能  88.00      -1.35     -133552529.0           9\n",
      "    603198       迎驾贡酒 60.640       2.40       55839439.0           8\n",
      "    605208        永茂泰 15.870      -3.99       12710427.0           9\n",
      "    603993       洛阳钼业  7.700      -1.41       64061269.0           8\n",
      "    000596       古井贡酒 189.17       5.48      -16307812.0           8\n",
      "    600711       ST盛屯  5.550       2.78      -13048991.0           8\n",
      "已更新监控页面 -> stock_realtime_monitor.html\n"
     ]
    },
    {
     "name": "stderr",
     "output_type": "stream",
     "text": [
      "C:\\Users\\charl\\AppData\\Local\\Temp\\ipykernel_65656\\701453132.py:104: FutureWarning: Styler.applymap has been deprecated. Use Styler.map instead.\n",
      "  .applymap(style_predictions, subset=['prediction'])\n"
     ]
    },
    {
     "name": "stdout",
     "output_type": "stream",
     "text": [
      "最新更新：19:36:05\n",
      "stock_code short_name  price change_pct  main_net_inflow  prediction\n",
      "    600961       株冶集团  9.750       5.86       89664573.0          10\n",
      "    601020       华钰矿业 24.440       2.86       94040044.0           9\n",
      "    600367       红星发展 15.380       4.63       52339353.0           9\n",
      "    002155       湖南黄金  23.52       7.50      307973502.0           9\n",
      "    301368       丰立智能  88.00      -1.35     -133552529.0           9\n",
      "    603198       迎驾贡酒 60.640       2.40       55839439.0           8\n",
      "    605208        永茂泰 15.870      -3.99       12710427.0           9\n",
      "    603993       洛阳钼业  7.700      -1.41       64061269.0           8\n",
      "    000596       古井贡酒 189.17       5.48      -16307812.0           8\n",
      "    600711       ST盛屯  5.550       2.78      -13048991.0           8\n",
      "已更新监控页面 -> stock_realtime_monitor.html\n"
     ]
    },
    {
     "name": "stderr",
     "output_type": "stream",
     "text": [
      "C:\\Users\\charl\\AppData\\Local\\Temp\\ipykernel_65656\\701453132.py:104: FutureWarning: Styler.applymap has been deprecated. Use Styler.map instead.\n",
      "  .applymap(style_predictions, subset=['prediction'])\n"
     ]
    },
    {
     "name": "stdout",
     "output_type": "stream",
     "text": [
      "最新更新：19:36:33\n",
      "stock_code short_name  price change_pct  main_net_inflow  prediction\n",
      "    600961       株冶集团  9.750       5.86       89664573.0          10\n",
      "    601020       华钰矿业 24.440       2.86       94040044.0           9\n",
      "    600367       红星发展 15.380       4.63       52339353.0           9\n",
      "    002155       湖南黄金  23.52       7.50      307973502.0           9\n",
      "    301368       丰立智能  88.00      -1.35     -133552529.0           9\n",
      "    603198       迎驾贡酒 60.640       2.40       55839439.0           8\n",
      "    605208        永茂泰 15.870      -3.99       12710427.0           9\n",
      "    603993       洛阳钼业  7.700      -1.41       64061269.0           8\n",
      "    000596       古井贡酒 189.17       5.48      -16307812.0           8\n",
      "    600711       ST盛屯  5.550       2.78      -13048991.0           8\n"
     ]
    },
    {
     "name": "stderr",
     "output_type": "stream",
     "text": [
      "C:\\Users\\charl\\AppData\\Local\\Temp\\ipykernel_65656\\701453132.py:104: FutureWarning: Styler.applymap has been deprecated. Use Styler.map instead.\n",
      "  .applymap(style_predictions, subset=['prediction'])\n"
     ]
    },
    {
     "name": "stdout",
     "output_type": "stream",
     "text": [
      "已更新监控页面 -> stock_realtime_monitor.html\n",
      "最新更新：19:37:03\n",
      "stock_code short_name  price change_pct  main_net_inflow  prediction\n",
      "    600961       株冶集团  9.750       5.86       89664573.0          10\n",
      "    601020       华钰矿业 24.440       2.86       94040044.0           9\n",
      "    600367       红星发展 15.380       4.63       52339353.0           9\n",
      "    002155       湖南黄金  23.52       7.50      307973502.0           9\n",
      "    301368       丰立智能  88.00      -1.35     -133552529.0           9\n",
      "    603198       迎驾贡酒 60.640       2.40       55839439.0           8\n",
      "    605208        永茂泰 15.870      -3.99       12710427.0           9\n",
      "    603993       洛阳钼业  7.700      -1.41       64061269.0           8\n",
      "    000596       古井贡酒 189.17       5.48      -16307812.0           8\n",
      "    600711       ST盛屯  5.550       2.78      -13048991.0           8\n",
      "已更新监控页面 -> stock_realtime_monitor.html\n"
     ]
    },
    {
     "name": "stderr",
     "output_type": "stream",
     "text": [
      "C:\\Users\\charl\\AppData\\Local\\Temp\\ipykernel_65656\\701453132.py:104: FutureWarning: Styler.applymap has been deprecated. Use Styler.map instead.\n",
      "  .applymap(style_predictions, subset=['prediction'])\n"
     ]
    },
    {
     "name": "stdout",
     "output_type": "stream",
     "text": [
      "最新更新：19:37:31\n",
      "stock_code short_name  price change_pct  main_net_inflow  prediction\n",
      "    600961       株冶集团  9.750       5.86       89664573.0          10\n",
      "    601020       华钰矿业 24.440       2.86       94040044.0           9\n",
      "    600367       红星发展 15.380       4.63       52339353.0           9\n",
      "    002155       湖南黄金  23.52       7.50      307973502.0           9\n",
      "    301368       丰立智能  88.00      -1.35     -133552529.0           9\n",
      "    603198       迎驾贡酒 60.640       2.40       55839439.0           8\n",
      "    605208        永茂泰 15.870      -3.99       12710427.0           9\n",
      "    603993       洛阳钼业  7.700      -1.41       64061269.0           8\n",
      "    000596       古井贡酒 189.17       5.48      -16307812.0           8\n",
      "    600711       ST盛屯  5.550       2.78      -13048991.0           8\n",
      "已更新监控页面 -> stock_realtime_monitor.html\n"
     ]
    },
    {
     "name": "stderr",
     "output_type": "stream",
     "text": [
      "C:\\Users\\charl\\AppData\\Local\\Temp\\ipykernel_65656\\701453132.py:104: FutureWarning: Styler.applymap has been deprecated. Use Styler.map instead.\n",
      "  .applymap(style_predictions, subset=['prediction'])\n"
     ]
    },
    {
     "name": "stdout",
     "output_type": "stream",
     "text": [
      "最新更新：19:38:01\n",
      "stock_code short_name  price change_pct  main_net_inflow  prediction\n",
      "    600961       株冶集团  9.750       5.86       89664573.0          10\n",
      "    601020       华钰矿业 24.440       2.86       94040044.0           9\n",
      "    600367       红星发展 15.380       4.63       52339353.0           9\n",
      "    002155       湖南黄金  23.52       7.50      307973502.0           9\n",
      "    301368       丰立智能  88.00      -1.35     -133552529.0           9\n",
      "    603198       迎驾贡酒 60.640       2.40       55839439.0           8\n",
      "    605208        永茂泰 15.870      -3.99       12710427.0           9\n",
      "    603993       洛阳钼业  7.700      -1.41       64061269.0           8\n",
      "    000596       古井贡酒 189.17       5.48      -16307812.0           8\n",
      "    600711       ST盛屯  5.550       2.78      -13048991.0           8\n",
      "已更新监控页面 -> stock_realtime_monitor.html\n"
     ]
    },
    {
     "name": "stderr",
     "output_type": "stream",
     "text": [
      "C:\\Users\\charl\\AppData\\Local\\Temp\\ipykernel_65656\\701453132.py:104: FutureWarning: Styler.applymap has been deprecated. Use Styler.map instead.\n",
      "  .applymap(style_predictions, subset=['prediction'])\n"
     ]
    },
    {
     "name": "stdout",
     "output_type": "stream",
     "text": [
      "最新更新：19:38:32\n",
      "stock_code short_name  price change_pct  main_net_inflow  prediction\n",
      "    600961       株冶集团  9.750       5.86       89664573.0          10\n",
      "    601020       华钰矿业 24.440       2.86       94040044.0           9\n",
      "    600367       红星发展 15.380       4.63       52339353.0           9\n",
      "    002155       湖南黄金  23.52       7.50      307973502.0           9\n",
      "    301368       丰立智能  88.00      -1.35     -133552529.0           9\n",
      "    603198       迎驾贡酒 60.640       2.40       55839439.0           8\n",
      "    605208        永茂泰 15.870      -3.99       12710427.0           9\n",
      "    603993       洛阳钼业  7.700      -1.41       64061269.0           8\n",
      "    000596       古井贡酒 189.17       5.48      -16307812.0           8\n",
      "    600711       ST盛屯  5.550       2.78      -13048991.0           8\n",
      "已更新监控页面 -> stock_realtime_monitor.html\n"
     ]
    },
    {
     "name": "stderr",
     "output_type": "stream",
     "text": [
      "C:\\Users\\charl\\AppData\\Local\\Temp\\ipykernel_65656\\701453132.py:104: FutureWarning: Styler.applymap has been deprecated. Use Styler.map instead.\n",
      "  .applymap(style_predictions, subset=['prediction'])\n"
     ]
    },
    {
     "name": "stdout",
     "output_type": "stream",
     "text": [
      "最新更新：19:39:02\n",
      "stock_code short_name  price change_pct  main_net_inflow  prediction\n",
      "    600961       株冶集团  9.750       5.86       89664573.0          10\n",
      "    601020       华钰矿业 24.440       2.86       94040044.0           9\n",
      "    600367       红星发展 15.380       4.63       52339353.0           9\n",
      "    002155       湖南黄金  23.52       7.50      307973502.0           9\n",
      "    301368       丰立智能  88.00      -1.35     -133552529.0           9\n",
      "    603198       迎驾贡酒 60.640       2.40       55839439.0           8\n",
      "    605208        永茂泰 15.870      -3.99       12710427.0           9\n",
      "    603993       洛阳钼业  7.700      -1.41       64061269.0           8\n",
      "    000596       古井贡酒 189.17       5.48      -16307812.0           8\n",
      "    600711       ST盛屯  5.550       2.78      -13048991.0           8\n",
      "已更新监控页面 -> stock_realtime_monitor.html\n"
     ]
    },
    {
     "name": "stderr",
     "output_type": "stream",
     "text": [
      "C:\\Users\\charl\\AppData\\Local\\Temp\\ipykernel_65656\\701453132.py:104: FutureWarning: Styler.applymap has been deprecated. Use Styler.map instead.\n",
      "  .applymap(style_predictions, subset=['prediction'])\n"
     ]
    },
    {
     "name": "stdout",
     "output_type": "stream",
     "text": [
      "最新更新：19:39:30\n",
      "stock_code short_name  price change_pct  main_net_inflow  prediction\n",
      "    600961       株冶集团  9.750       5.86       89664573.0          10\n",
      "    601020       华钰矿业 24.440       2.86       94040044.0           9\n",
      "    600367       红星发展 15.380       4.63       52339353.0           9\n",
      "    002155       湖南黄金  23.52       7.50      307973502.0           9\n",
      "    301368       丰立智能  88.00      -1.35     -133552529.0           9\n",
      "    603198       迎驾贡酒 60.640       2.40       55839439.0           8\n",
      "    605208        永茂泰 15.870      -3.99       12710427.0           9\n",
      "    603993       洛阳钼业  7.700      -1.41       64061269.0           8\n",
      "    000596       古井贡酒 189.17       5.48      -16307812.0           8\n",
      "    600711       ST盛屯  5.550       2.78      -13048991.0           8\n",
      "已更新监控页面 -> stock_realtime_monitor.html\n"
     ]
    },
    {
     "name": "stderr",
     "output_type": "stream",
     "text": [
      "C:\\Users\\charl\\AppData\\Local\\Temp\\ipykernel_65656\\701453132.py:104: FutureWarning: Styler.applymap has been deprecated. Use Styler.map instead.\n",
      "  .applymap(style_predictions, subset=['prediction'])\n"
     ]
    },
    {
     "name": "stdout",
     "output_type": "stream",
     "text": [
      "最新更新：19:40:00\n",
      "stock_code short_name  price change_pct  main_net_inflow  prediction\n",
      "    600961       株冶集团  9.750       5.86       89664573.0          10\n",
      "    601020       华钰矿业 24.440       2.86       94040044.0           9\n",
      "    600367       红星发展 15.380       4.63       52339353.0           9\n",
      "    002155       湖南黄金  23.52       7.50      307973502.0           9\n",
      "    301368       丰立智能  88.00      -1.35     -133552529.0           9\n",
      "    603198       迎驾贡酒 60.640       2.40       55839439.0           8\n",
      "    605208        永茂泰 15.870      -3.99       12710427.0           9\n",
      "    603993       洛阳钼业  7.700      -1.41       64061269.0           8\n",
      "    000596       古井贡酒 189.17       5.48      -16307812.0           8\n",
      "    600711       ST盛屯  5.550       2.78      -13048991.0           8\n",
      "已更新监控页面 -> stock_realtime_monitor.html\n"
     ]
    },
    {
     "name": "stderr",
     "output_type": "stream",
     "text": [
      "C:\\Users\\charl\\AppData\\Local\\Temp\\ipykernel_65656\\701453132.py:104: FutureWarning: Styler.applymap has been deprecated. Use Styler.map instead.\n",
      "  .applymap(style_predictions, subset=['prediction'])\n"
     ]
    },
    {
     "name": "stdout",
     "output_type": "stream",
     "text": [
      "最新更新：19:40:31\n",
      "stock_code short_name  price change_pct  main_net_inflow  prediction\n",
      "    600961       株冶集团  9.750       5.86       89664573.0          10\n",
      "    601020       华钰矿业 24.440       2.86       94040044.0           9\n",
      "    600367       红星发展 15.380       4.63       52339353.0           9\n",
      "    002155       湖南黄金  23.52       7.50      307973502.0           9\n",
      "    301368       丰立智能  88.00      -1.35     -133552529.0           9\n",
      "    603198       迎驾贡酒 60.640       2.40       55839439.0           8\n",
      "    605208        永茂泰 15.870      -3.99       12710427.0           9\n",
      "    603993       洛阳钼业  7.700      -1.41       64061269.0           8\n",
      "    000596       古井贡酒 189.17       5.48      -16307812.0           8\n",
      "    600711       ST盛屯  5.550       2.78      -13048991.0           8\n",
      "已更新监控页面 -> stock_realtime_monitor.html\n"
     ]
    },
    {
     "name": "stderr",
     "output_type": "stream",
     "text": [
      "C:\\Users\\charl\\AppData\\Local\\Temp\\ipykernel_65656\\701453132.py:104: FutureWarning: Styler.applymap has been deprecated. Use Styler.map instead.\n",
      "  .applymap(style_predictions, subset=['prediction'])\n"
     ]
    },
    {
     "name": "stdout",
     "output_type": "stream",
     "text": [
      "最新更新：19:41:01\n",
      "stock_code short_name  price change_pct  main_net_inflow  prediction\n",
      "    600961       株冶集团  9.750       5.86       89664573.0          10\n",
      "    601020       华钰矿业 24.440       2.86       94040044.0           9\n",
      "    600367       红星发展 15.380       4.63       52339353.0           9\n",
      "    002155       湖南黄金  23.52       7.50      307973502.0           9\n",
      "    301368       丰立智能  88.00      -1.35     -133552529.0           9\n",
      "    603198       迎驾贡酒 60.640       2.40       55839439.0           8\n",
      "    605208        永茂泰 15.870      -3.99       12710427.0           9\n",
      "    603993       洛阳钼业  7.700      -1.41       64061269.0           8\n",
      "    000596       古井贡酒 189.17       5.48      -16307812.0           8\n",
      "    600711       ST盛屯  5.550       2.78      -13048991.0           8\n",
      "已更新监控页面 -> stock_realtime_monitor.html\n"
     ]
    },
    {
     "name": "stderr",
     "output_type": "stream",
     "text": [
      "C:\\Users\\charl\\AppData\\Local\\Temp\\ipykernel_65656\\701453132.py:104: FutureWarning: Styler.applymap has been deprecated. Use Styler.map instead.\n",
      "  .applymap(style_predictions, subset=['prediction'])\n"
     ]
    },
    {
     "name": "stdout",
     "output_type": "stream",
     "text": [
      "最新更新：19:41:32\n",
      "stock_code short_name  price change_pct  main_net_inflow  prediction\n",
      "    600961       株冶集团  9.750       5.86       89664573.0          10\n",
      "    601020       华钰矿业 24.440       2.86       94040044.0           9\n",
      "    600367       红星发展 15.380       4.63       52339353.0           9\n",
      "    002155       湖南黄金  23.52       7.50      307973502.0           9\n",
      "    301368       丰立智能  88.00      -1.35     -133552529.0           9\n",
      "    603198       迎驾贡酒 60.640       2.40       55839439.0           8\n",
      "    605208        永茂泰 15.870      -3.99       12710427.0           9\n",
      "    603993       洛阳钼业  7.700      -1.41       64061269.0           8\n",
      "    000596       古井贡酒 189.17       5.48      -16307812.0           8\n",
      "    600711       ST盛屯  5.550       2.78      -13048991.0           8\n",
      "已更新监控页面 -> stock_realtime_monitor.html\n"
     ]
    },
    {
     "name": "stderr",
     "output_type": "stream",
     "text": [
      "C:\\Users\\charl\\AppData\\Local\\Temp\\ipykernel_65656\\701453132.py:104: FutureWarning: Styler.applymap has been deprecated. Use Styler.map instead.\n",
      "  .applymap(style_predictions, subset=['prediction'])\n"
     ]
    },
    {
     "name": "stdout",
     "output_type": "stream",
     "text": [
      "最新更新：19:42:01\n",
      "stock_code short_name  price change_pct  main_net_inflow  prediction\n",
      "    600961       株冶集团  9.750       5.86       89664573.0          10\n",
      "    601020       华钰矿业 24.440       2.86       94040044.0           9\n",
      "    600367       红星发展 15.380       4.63       52339353.0           9\n",
      "    002155       湖南黄金  23.52       7.50      307973502.0           9\n",
      "    301368       丰立智能  88.00      -1.35     -133552529.0           9\n",
      "    603198       迎驾贡酒 60.640       2.40       55839439.0           8\n",
      "    605208        永茂泰 15.870      -3.99       12710427.0           9\n",
      "    603993       洛阳钼业  7.700      -1.41       64061269.0           8\n",
      "    000596       古井贡酒 189.17       5.48      -16307812.0           8\n",
      "    600711       ST盛屯  5.550       2.78      -13048991.0           8\n",
      "已更新监控页面 -> stock_realtime_monitor.html\n"
     ]
    },
    {
     "name": "stderr",
     "output_type": "stream",
     "text": [
      "C:\\Users\\charl\\AppData\\Local\\Temp\\ipykernel_65656\\701453132.py:104: FutureWarning: Styler.applymap has been deprecated. Use Styler.map instead.\n",
      "  .applymap(style_predictions, subset=['prediction'])\n"
     ]
    },
    {
     "name": "stdout",
     "output_type": "stream",
     "text": [
      "最新更新：19:42:30\n",
      "stock_code short_name  price change_pct  main_net_inflow  prediction\n",
      "    600961       株冶集团  9.750       5.86       89664573.0          10\n",
      "    601020       华钰矿业 24.440       2.86       94040044.0           9\n",
      "    600367       红星发展 15.380       4.63       52339353.0           9\n",
      "    002155       湖南黄金  23.52       7.50      307973502.0           9\n",
      "    301368       丰立智能  88.00      -1.35     -133552529.0           9\n",
      "    603198       迎驾贡酒 60.640       2.40       55839439.0           8\n",
      "    605208        永茂泰 15.870      -3.99       12710427.0           9\n",
      "    603993       洛阳钼业  7.700      -1.41       64061269.0           8\n",
      "    000596       古井贡酒 189.17       5.48      -16307812.0           8\n",
      "    600711       ST盛屯  5.550       2.78      -13048991.0           8\n",
      "已更新监控页面 -> stock_realtime_monitor.html\n"
     ]
    },
    {
     "name": "stderr",
     "output_type": "stream",
     "text": [
      "C:\\Users\\charl\\AppData\\Local\\Temp\\ipykernel_65656\\701453132.py:104: FutureWarning: Styler.applymap has been deprecated. Use Styler.map instead.\n",
      "  .applymap(style_predictions, subset=['prediction'])\n"
     ]
    },
    {
     "name": "stdout",
     "output_type": "stream",
     "text": [
      "最新更新：19:43:01\n",
      "stock_code short_name  price change_pct  main_net_inflow  prediction\n",
      "    600961       株冶集团  9.750       5.86       89664573.0          10\n",
      "    601020       华钰矿业 24.440       2.86       94040044.0           9\n",
      "    600367       红星发展 15.380       4.63       52339353.0           9\n",
      "    002155       湖南黄金  23.52       7.50      307973502.0           9\n",
      "    301368       丰立智能  88.00      -1.35     -133552529.0           9\n",
      "    603198       迎驾贡酒 60.640       2.40       55839439.0           8\n",
      "    605208        永茂泰 15.870      -3.99       12710427.0           9\n",
      "    603993       洛阳钼业  7.700      -1.41       64061269.0           8\n",
      "    000596       古井贡酒 189.17       5.48      -16307812.0           8\n",
      "    600711       ST盛屯  5.550       2.78      -13048991.0           8\n",
      "已更新监控页面 -> stock_realtime_monitor.html\n"
     ]
    },
    {
     "name": "stderr",
     "output_type": "stream",
     "text": [
      "C:\\Users\\charl\\AppData\\Local\\Temp\\ipykernel_65656\\701453132.py:104: FutureWarning: Styler.applymap has been deprecated. Use Styler.map instead.\n",
      "  .applymap(style_predictions, subset=['prediction'])\n"
     ]
    },
    {
     "name": "stdout",
     "output_type": "stream",
     "text": [
      "最新更新：19:43:32\n",
      "stock_code short_name  price change_pct  main_net_inflow  prediction\n",
      "    600961       株冶集团  9.750       5.86       89664573.0          10\n",
      "    601020       华钰矿业 24.440       2.86       94040044.0           9\n",
      "    600367       红星发展 15.380       4.63       52339353.0           9\n",
      "    002155       湖南黄金  23.52       7.50      307973502.0           9\n",
      "    301368       丰立智能  88.00      -1.35     -133552529.0           9\n",
      "    603198       迎驾贡酒 60.640       2.40       55839439.0           8\n",
      "    605208        永茂泰 15.870      -3.99       12710427.0           9\n",
      "    603993       洛阳钼业  7.700      -1.41       64061269.0           8\n",
      "    000596       古井贡酒 189.17       5.48      -16307812.0           8\n",
      "    600711       ST盛屯  5.550       2.78      -13048991.0           8\n",
      "已更新监控页面 -> stock_realtime_monitor.html\n"
     ]
    },
    {
     "name": "stderr",
     "output_type": "stream",
     "text": [
      "C:\\Users\\charl\\AppData\\Local\\Temp\\ipykernel_65656\\701453132.py:104: FutureWarning: Styler.applymap has been deprecated. Use Styler.map instead.\n",
      "  .applymap(style_predictions, subset=['prediction'])\n"
     ]
    },
    {
     "name": "stdout",
     "output_type": "stream",
     "text": [
      "最新更新：19:44:03\n",
      "stock_code short_name  price change_pct  main_net_inflow  prediction\n",
      "    600961       株冶集团  9.750       5.86       89664573.0          10\n",
      "    601020       华钰矿业 24.440       2.86       94040044.0           9\n",
      "    600367       红星发展 15.380       4.63       52339353.0           9\n",
      "    002155       湖南黄金  23.52       7.50      307973502.0           9\n",
      "    301368       丰立智能  88.00      -1.35     -133552529.0           9\n",
      "    603198       迎驾贡酒 60.640       2.40       55839439.0           8\n",
      "    605208        永茂泰 15.870      -3.99       12710427.0           9\n",
      "    603993       洛阳钼业  7.700      -1.41       64061269.0           8\n",
      "    000596       古井贡酒 189.17       5.48      -16307812.0           8\n",
      "    600711       ST盛屯  5.550       2.78      -13048991.0           8\n",
      "已更新监控页面 -> stock_realtime_monitor.html\n"
     ]
    },
    {
     "name": "stderr",
     "output_type": "stream",
     "text": [
      "C:\\Users\\charl\\AppData\\Local\\Temp\\ipykernel_65656\\701453132.py:104: FutureWarning: Styler.applymap has been deprecated. Use Styler.map instead.\n",
      "  .applymap(style_predictions, subset=['prediction'])\n"
     ]
    },
    {
     "name": "stdout",
     "output_type": "stream",
     "text": [
      "最新更新：19:44:31\n",
      "stock_code short_name  price change_pct  main_net_inflow  prediction\n",
      "    600961       株冶集团  9.750       5.86       89664573.0          10\n",
      "    601020       华钰矿业 24.440       2.86       94040044.0           9\n",
      "    600367       红星发展 15.380       4.63       52339353.0           9\n",
      "    002155       湖南黄金  23.52       7.50      307973502.0           9\n",
      "    301368       丰立智能  88.00      -1.35     -133552529.0           9\n",
      "    603198       迎驾贡酒 60.640       2.40       55839439.0           8\n",
      "    605208        永茂泰 15.870      -3.99       12710427.0           9\n",
      "    603993       洛阳钼业  7.700      -1.41       64061269.0           8\n",
      "    000596       古井贡酒 189.17       5.48      -16307812.0           8\n",
      "    600711       ST盛屯  5.550       2.78      -13048991.0           8\n",
      "已更新监控页面 -> stock_realtime_monitor.html\n"
     ]
    },
    {
     "name": "stderr",
     "output_type": "stream",
     "text": [
      "C:\\Users\\charl\\AppData\\Local\\Temp\\ipykernel_65656\\701453132.py:104: FutureWarning: Styler.applymap has been deprecated. Use Styler.map instead.\n",
      "  .applymap(style_predictions, subset=['prediction'])\n"
     ]
    },
    {
     "name": "stdout",
     "output_type": "stream",
     "text": [
      "最新更新：19:45:01\n",
      "stock_code short_name  price change_pct  main_net_inflow  prediction\n",
      "    600961       株冶集团  9.750       5.86       89664573.0          10\n",
      "    601020       华钰矿业 24.440       2.86       94040044.0           9\n",
      "    600367       红星发展 15.380       4.63       52339353.0           9\n",
      "    002155       湖南黄金  23.52       7.50      307973502.0           9\n",
      "    301368       丰立智能  88.00      -1.35     -133552529.0           9\n",
      "    603198       迎驾贡酒 60.640       2.40       55839439.0           8\n",
      "    605208        永茂泰 15.870      -3.99       12710427.0           9\n",
      "    603993       洛阳钼业  7.700      -1.41       64061269.0           8\n",
      "    000596       古井贡酒 189.17       5.48      -16307812.0           8\n",
      "    600711       ST盛屯  5.550       2.78      -13048991.0           8\n",
      "已更新监控页面 -> stock_realtime_monitor.html\n"
     ]
    },
    {
     "name": "stderr",
     "output_type": "stream",
     "text": [
      "C:\\Users\\charl\\AppData\\Local\\Temp\\ipykernel_65656\\701453132.py:104: FutureWarning: Styler.applymap has been deprecated. Use Styler.map instead.\n",
      "  .applymap(style_predictions, subset=['prediction'])\n"
     ]
    },
    {
     "name": "stdout",
     "output_type": "stream",
     "text": [
      "最新更新：19:45:31\n",
      "stock_code short_name  price change_pct  main_net_inflow  prediction\n",
      "    600961       株冶集团  9.750       5.86       89664573.0          10\n",
      "    601020       华钰矿业 24.440       2.86       94040044.0           9\n",
      "    600367       红星发展 15.380       4.63       52339353.0           9\n",
      "    002155       湖南黄金  23.52       7.50      307973502.0           9\n",
      "    301368       丰立智能  88.00      -1.35     -133552529.0           9\n",
      "    603198       迎驾贡酒 60.640       2.40       55839439.0           8\n",
      "    605208        永茂泰 15.870      -3.99       12710427.0           9\n",
      "    603993       洛阳钼业  7.700      -1.41       64061269.0           8\n",
      "    000596       古井贡酒 189.17       5.48      -16307812.0           8\n",
      "    600711       ST盛屯  5.550       2.78      -13048991.0           8\n",
      "已更新监控页面 -> stock_realtime_monitor.html\n"
     ]
    },
    {
     "name": "stderr",
     "output_type": "stream",
     "text": [
      "C:\\Users\\charl\\AppData\\Local\\Temp\\ipykernel_65656\\701453132.py:104: FutureWarning: Styler.applymap has been deprecated. Use Styler.map instead.\n",
      "  .applymap(style_predictions, subset=['prediction'])\n"
     ]
    },
    {
     "name": "stdout",
     "output_type": "stream",
     "text": [
      "获取603993资金流数据失败: HTTPSConnectionPool(host='push2delay.eastmoney.com', port=443): Max retries exceeded with url: /api/qt/stock/fflow/kline/get?lmt=0&klt=1&fields1=f1,f2,f3,f7&fields2=f51,f52,f53,f54,f55,f56,f57,f58,f59,f60,f61,f62,f63,f64,f65&secid=1.603993 (Caused by ConnectTimeoutError(<urllib3.connection.HTTPSConnection object at 0x00000188EED713D0>, 'Connection to push2delay.eastmoney.com timed out. (connect timeout=None)'))\n",
      "最新更新：19:46:22\n",
      "stock_code short_name  price change_pct  main_net_inflow  prediction\n",
      "    600961       株冶集团  9.750       5.86       89664573.0          10\n",
      "    601020       华钰矿业 24.440       2.86       94040044.0           9\n",
      "    600367       红星发展 15.380       4.63       52339353.0           9\n",
      "    002155       湖南黄金  23.52       7.50      307973502.0           9\n",
      "    301368       丰立智能  88.00      -1.35     -133552529.0           9\n",
      "    603198       迎驾贡酒 60.640       2.40       55839439.0           8\n",
      "    605208        永茂泰 15.870      -3.99       12710427.0           9\n",
      "    603993       洛阳钼业  7.700      -1.41              NaN           8\n",
      "    000596       古井贡酒 189.17       5.48      -16307812.0           8\n",
      "    600711       ST盛屯  5.550       2.78      -13048991.0           8\n",
      "已更新监控页面 -> stock_realtime_monitor.html\n"
     ]
    },
    {
     "name": "stderr",
     "output_type": "stream",
     "text": [
      "C:\\Users\\charl\\AppData\\Local\\Temp\\ipykernel_65656\\701453132.py:104: FutureWarning: Styler.applymap has been deprecated. Use Styler.map instead.\n",
      "  .applymap(style_predictions, subset=['prediction'])\n"
     ]
    },
    {
     "name": "stdout",
     "output_type": "stream",
     "text": [
      "最新更新：19:47:01\n"
     ]
    },
    {
     "ename": "KeyError",
     "evalue": "\"['main_net_inflow'] not in index\"",
     "output_type": "error",
     "traceback": [
      "\u001b[1;31m---------------------------------------------------------------------------\u001b[0m",
      "\u001b[1;31mKeyError\u001b[0m                                  Traceback (most recent call last)",
      "Cell \u001b[1;32mIn[4], line 190\u001b[0m\n\u001b[0;32m    187\u001b[0m         time\u001b[38;5;241m.\u001b[39msleep(\u001b[38;5;28mmax\u001b[39m(sleep_time, \u001b[38;5;241m1\u001b[39m))\n\u001b[0;32m    189\u001b[0m \u001b[38;5;28;01mif\u001b[39;00m \u001b[38;5;18m__name__\u001b[39m \u001b[38;5;241m==\u001b[39m \u001b[38;5;124m\"\u001b[39m\u001b[38;5;124m__main__\u001b[39m\u001b[38;5;124m\"\u001b[39m:\n\u001b[1;32m--> 190\u001b[0m     \u001b[43mmain\u001b[49m\u001b[43m(\u001b[49m\u001b[43m)\u001b[49m\n",
      "Cell \u001b[1;32mIn[4], line 176\u001b[0m, in \u001b[0;36mmain\u001b[1;34m()\u001b[0m\n\u001b[0;32m    173\u001b[0m \u001b[38;5;28;01mif\u001b[39;00m \u001b[38;5;129;01mnot\u001b[39;00m valid_df\u001b[38;5;241m.\u001b[39mempty:\n\u001b[0;32m    174\u001b[0m     display_cols \u001b[38;5;241m=\u001b[39m [\u001b[38;5;124m'\u001b[39m\u001b[38;5;124mstock_code\u001b[39m\u001b[38;5;124m'\u001b[39m, \u001b[38;5;124m'\u001b[39m\u001b[38;5;124mshort_name\u001b[39m\u001b[38;5;124m'\u001b[39m, \u001b[38;5;124m'\u001b[39m\u001b[38;5;124mprice\u001b[39m\u001b[38;5;124m'\u001b[39m, \u001b[38;5;124m'\u001b[39m\u001b[38;5;124mchange_pct\u001b[39m\u001b[38;5;124m'\u001b[39m, \n\u001b[0;32m    175\u001b[0m                    \u001b[38;5;124m'\u001b[39m\u001b[38;5;124mmain_net_inflow\u001b[39m\u001b[38;5;124m'\u001b[39m, \u001b[38;5;124m'\u001b[39m\u001b[38;5;124mprediction\u001b[39m\u001b[38;5;124m'\u001b[39m]\n\u001b[1;32m--> 176\u001b[0m     \u001b[38;5;28mprint\u001b[39m(\u001b[43mvalid_df\u001b[49m\u001b[43m[\u001b[49m\u001b[43mdisplay_cols\u001b[49m\u001b[43m]\u001b[49m\u001b[38;5;241m.\u001b[39mto_string(index\u001b[38;5;241m=\u001b[39m\u001b[38;5;28;01mFalse\u001b[39;00m))\n\u001b[0;32m    177\u001b[0m \u001b[38;5;28;01melse\u001b[39;00m:\n\u001b[0;32m    178\u001b[0m     \u001b[38;5;28mprint\u001b[39m(\u001b[38;5;124m\"\u001b[39m\u001b[38;5;124m暂无有效数据\u001b[39m\u001b[38;5;124m\"\u001b[39m)\n",
      "File \u001b[1;32m~\\AppData\\Local\\Packages\\PythonSoftwareFoundation.Python.3.11_qbz5n2kfra8p0\\LocalCache\\local-packages\\Python311\\site-packages\\pandas\\core\\frame.py:3902\u001b[0m, in \u001b[0;36mDataFrame.__getitem__\u001b[1;34m(self, key)\u001b[0m\n\u001b[0;32m   3900\u001b[0m     \u001b[38;5;28;01mif\u001b[39;00m is_iterator(key):\n\u001b[0;32m   3901\u001b[0m         key \u001b[38;5;241m=\u001b[39m \u001b[38;5;28mlist\u001b[39m(key)\n\u001b[1;32m-> 3902\u001b[0m     indexer \u001b[38;5;241m=\u001b[39m \u001b[38;5;28;43mself\u001b[39;49m\u001b[38;5;241;43m.\u001b[39;49m\u001b[43mcolumns\u001b[49m\u001b[38;5;241;43m.\u001b[39;49m\u001b[43m_get_indexer_strict\u001b[49m\u001b[43m(\u001b[49m\u001b[43mkey\u001b[49m\u001b[43m,\u001b[49m\u001b[43m \u001b[49m\u001b[38;5;124;43m\"\u001b[39;49m\u001b[38;5;124;43mcolumns\u001b[39;49m\u001b[38;5;124;43m\"\u001b[39;49m\u001b[43m)\u001b[49m[\u001b[38;5;241m1\u001b[39m]\n\u001b[0;32m   3904\u001b[0m \u001b[38;5;66;03m# take() does not accept boolean indexers\u001b[39;00m\n\u001b[0;32m   3905\u001b[0m \u001b[38;5;28;01mif\u001b[39;00m \u001b[38;5;28mgetattr\u001b[39m(indexer, \u001b[38;5;124m\"\u001b[39m\u001b[38;5;124mdtype\u001b[39m\u001b[38;5;124m\"\u001b[39m, \u001b[38;5;28;01mNone\u001b[39;00m) \u001b[38;5;241m==\u001b[39m \u001b[38;5;28mbool\u001b[39m:\n",
      "File \u001b[1;32m~\\AppData\\Local\\Packages\\PythonSoftwareFoundation.Python.3.11_qbz5n2kfra8p0\\LocalCache\\local-packages\\Python311\\site-packages\\pandas\\core\\indexes\\base.py:6114\u001b[0m, in \u001b[0;36mIndex._get_indexer_strict\u001b[1;34m(self, key, axis_name)\u001b[0m\n\u001b[0;32m   6111\u001b[0m \u001b[38;5;28;01melse\u001b[39;00m:\n\u001b[0;32m   6112\u001b[0m     keyarr, indexer, new_indexer \u001b[38;5;241m=\u001b[39m \u001b[38;5;28mself\u001b[39m\u001b[38;5;241m.\u001b[39m_reindex_non_unique(keyarr)\n\u001b[1;32m-> 6114\u001b[0m \u001b[38;5;28;43mself\u001b[39;49m\u001b[38;5;241;43m.\u001b[39;49m\u001b[43m_raise_if_missing\u001b[49m\u001b[43m(\u001b[49m\u001b[43mkeyarr\u001b[49m\u001b[43m,\u001b[49m\u001b[43m \u001b[49m\u001b[43mindexer\u001b[49m\u001b[43m,\u001b[49m\u001b[43m \u001b[49m\u001b[43maxis_name\u001b[49m\u001b[43m)\u001b[49m\n\u001b[0;32m   6116\u001b[0m keyarr \u001b[38;5;241m=\u001b[39m \u001b[38;5;28mself\u001b[39m\u001b[38;5;241m.\u001b[39mtake(indexer)\n\u001b[0;32m   6117\u001b[0m \u001b[38;5;28;01mif\u001b[39;00m \u001b[38;5;28misinstance\u001b[39m(key, Index):\n\u001b[0;32m   6118\u001b[0m     \u001b[38;5;66;03m# GH 42790 - Preserve name from an Index\u001b[39;00m\n",
      "File \u001b[1;32m~\\AppData\\Local\\Packages\\PythonSoftwareFoundation.Python.3.11_qbz5n2kfra8p0\\LocalCache\\local-packages\\Python311\\site-packages\\pandas\\core\\indexes\\base.py:6178\u001b[0m, in \u001b[0;36mIndex._raise_if_missing\u001b[1;34m(self, key, indexer, axis_name)\u001b[0m\n\u001b[0;32m   6175\u001b[0m     \u001b[38;5;28;01mraise\u001b[39;00m \u001b[38;5;167;01mKeyError\u001b[39;00m(\u001b[38;5;124mf\u001b[39m\u001b[38;5;124m\"\u001b[39m\u001b[38;5;124mNone of [\u001b[39m\u001b[38;5;132;01m{\u001b[39;00mkey\u001b[38;5;132;01m}\u001b[39;00m\u001b[38;5;124m] are in the [\u001b[39m\u001b[38;5;132;01m{\u001b[39;00maxis_name\u001b[38;5;132;01m}\u001b[39;00m\u001b[38;5;124m]\u001b[39m\u001b[38;5;124m\"\u001b[39m)\n\u001b[0;32m   6177\u001b[0m not_found \u001b[38;5;241m=\u001b[39m \u001b[38;5;28mlist\u001b[39m(ensure_index(key)[missing_mask\u001b[38;5;241m.\u001b[39mnonzero()[\u001b[38;5;241m0\u001b[39m]]\u001b[38;5;241m.\u001b[39munique())\n\u001b[1;32m-> 6178\u001b[0m \u001b[38;5;28;01mraise\u001b[39;00m \u001b[38;5;167;01mKeyError\u001b[39;00m(\u001b[38;5;124mf\u001b[39m\u001b[38;5;124m\"\u001b[39m\u001b[38;5;132;01m{\u001b[39;00mnot_found\u001b[38;5;132;01m}\u001b[39;00m\u001b[38;5;124m not in index\u001b[39m\u001b[38;5;124m\"\u001b[39m)\n",
      "\u001b[1;31mKeyError\u001b[0m: \"['main_net_inflow'] not in index\""
     ]
    }
   ],
   "source": [
    "import adata\n",
    "import pandas as pd\n",
    "import time\n",
    "import os\n",
    "from datetime import datetime\n",
    "from html import escape\n",
    "\n",
    "HTML_FILENAME = 'stock_realtime_monitor.html'\n",
    "\n",
    "STOCK_LIST = [\n",
    "    '600961', '601020', '600367', '002155', '301368',\n",
    "    '603198', '605208', '603993', '000596', '600711'\n",
    "]\n",
    "\n",
    "\n",
    "def get_prediction_info(stock_code):\n",
    "    \"\"\"安全获取预测信息\"\"\"\n",
    "    return PREDICTION_DICT.get(stock_code, {\n",
    "        'prediction': 0,\n",
    "        'stop_loss': 0.0,\n",
    "        'take_profit': 0.0\n",
    "    })\n",
    "\n",
    "def fetch_combined_data():\n",
    "    \"\"\"获取并合并实时行情和资金流数据\"\"\"\n",
    "    try:\n",
    "        # 获取实时行情数据\n",
    "        realtime_df = adata.stock.market.list_market_current(code_list=STOCK_LIST)\n",
    "        if realtime_df.empty:\n",
    "            print(\"无实时行情数据\")\n",
    "            return pd.DataFrame()\n",
    "\n",
    "        # 获取资金流数据\n",
    "        capital_flow_data = []\n",
    "        for code in STOCK_LIST:\n",
    "            try:\n",
    "                flow_df = adata.stock.market.get_capital_flow_min(stock_code=code)\n",
    "                if not flow_df.empty:\n",
    "                    latest_flow = flow_df.iloc[-1].to_dict()\n",
    "                    latest_flow['stock_code'] = code\n",
    "                    capital_flow_data.append(latest_flow)\n",
    "            except Exception as e:\n",
    "                print(f\"获取{code}资金流数据失败: {str(e)}\")\n",
    "        \n",
    "        # 合并数据\n",
    "        capital_df = pd.DataFrame(capital_flow_data)\n",
    "        if not capital_df.empty:\n",
    "            merged_df = pd.merge(realtime_df, capital_df, on='stock_code', how='left')\n",
    "        else:\n",
    "            merged_df = realtime_df\n",
    "\n",
    "        # 添加预测信息\n",
    "        predictions = []\n",
    "        for code in merged_df['stock_code']:\n",
    "            predictions.append(get_prediction_info(code))\n",
    "        pred_df = pd.DataFrame(predictions)\n",
    "        \n",
    "        return pd.concat([merged_df, pred_df], axis=1)\n",
    "    \n",
    "    except Exception as e:\n",
    "        print(f\"数据获取异常: {str(e)}\")\n",
    "        return pd.DataFrame()\n",
    "\n",
    "def style_predictions(val):\n",
    "    \"\"\"预测分数样式\"\"\"\n",
    "    try:\n",
    "        score = int(val)\n",
    "        if score >= 9:\n",
    "            return 'background: #4CAF50; color: white; font-weight: bold;'\n",
    "        elif score >= 7:\n",
    "            return 'background: #FFC107; color: black; font-weight: bold;'\n",
    "        return 'background: #F44336; color: white; font-weight: bold;'\n",
    "    except:\n",
    "        return ''\n",
    "\n",
    "def generate_html(df):\n",
    "    \"\"\"生成带样式的监控页面\"\"\"\n",
    "    # 数据清洗\n",
    "    valid_df = df.copy()\n",
    "    \n",
    "    # 强制转换关键字段为数值类型\n",
    "    numeric_columns = ['prediction', 'stop_loss', 'take_profit', 'price', \n",
    "                     'change_pct', 'main_net_inflow', 'amount']\n",
    "    for col in numeric_columns:\n",
    "        valid_df[col] = pd.to_numeric(valid_df[col], errors='coerce')\n",
    "    \n",
    "    # 过滤无效数据\n",
    "    valid_df = valid_df.dropna(subset=['prediction']).reset_index(drop=True)\n",
    "    safe_timestamp = escape(datetime.now().strftime('%Y-%m-%d %H:%M:%S'))\n",
    "\n",
    "    # 创建样式化表格（增加空值处理）\n",
    "    styled_df = (\n",
    "        valid_df.style\n",
    "        .hide(axis='index')\n",
    "        .format({\n",
    "            'prediction': '{:.0f}',\n",
    "            'stop_loss': '{:.2f}',\n",
    "            'take_profit': '{:.2f}',\n",
    "            'price': '{:.2f}',\n",
    "            'change_pct': '{:.2f}%',\n",
    "            'main_net_inflow': '¥{:,.0f}',\n",
    "            'amount': '¥{:,.0f}'\n",
    "        }, na_rep=\"N/A\")  # 处理空值显示\n",
    "        .applymap(style_predictions, subset=['prediction'])\n",
    "        .set_properties(subset=numeric_columns, \n",
    "                      **{'text-align': 'right'})\n",
    "    )\n",
    "\n",
    "    html_template = f'''\n",
    "    <!DOCTYPE html>\n",
    "    <html>\n",
    "    <head>\n",
    "        <title>股票综合监控系统</title>\n",
    "        <meta charset=\"UTF-8\">\n",
    "        <meta http-equiv=\"refresh\" content=\"30\">\n",
    "        <style>\n",
    "            body {{ font-family: Arial, sans-serif; margin: 20px; }}\n",
    "            .header {{ \n",
    "                background: #2196F3; \n",
    "                color: white; \n",
    "                padding: 20px; \n",
    "                border-radius: 5px;\n",
    "                margin-bottom: 20px;\n",
    "            }}\n",
    "            .timestamp {{ \n",
    "                color: #666; \n",
    "                margin-bottom: 15px;\n",
    "                font-size: 0.9em;\n",
    "            }}\n",
    "            table {{\n",
    "                width: 100%;\n",
    "                border-collapse: collapse;\n",
    "                box-shadow: 0 1px 3px rgba(0,0,0,0.12);\n",
    "            }}\n",
    "            th {{\n",
    "                background: #f5f5f5;\n",
    "                padding: 12px;\n",
    "                text-align: left;\n",
    "                border-bottom: 2px solid #ddd;\n",
    "            }}\n",
    "            td {{\n",
    "                padding: 12px;\n",
    "                border-bottom: 1px solid #eee;\n",
    "            }}\n",
    "            tr:hover {{ background: #f9f9f9; }}\n",
    "            .numeric {{ text-align: right; }}\n",
    "        </style>\n",
    "    </head>\n",
    "    <body>\n",
    "        <div class=\"header\">\n",
    "            <h2>股票综合监控看板</h2>\n",
    "            <div>监控标的：{', '.join(STOCK_LIST)}</div>\n",
    "        </div>\n",
    "        <div class=\"timestamp\">最后更新时间：{safe_timestamp}</div>\n",
    "        {styled_df.to_html() if not valid_df.empty else \"<p>暂时无法获取数据</p>\"}\n",
    "    </body>\n",
    "    </html>\n",
    "    '''\n",
    "    with open(HTML_FILENAME, 'w', encoding='utf-8') as f:\n",
    "        f.write(html_template)\n",
    "\n",
    "def main():\n",
    "    while True:\n",
    "        start_time = time.time()\n",
    "        \n",
    "        # 获取数据\n",
    "        combined_df = fetch_combined_data()\n",
    "        valid_df = combined_df.dropna(subset=['prediction']) if not combined_df.empty else pd.DataFrame()\n",
    "        \n",
    "        # 清屏并打印控制台信息\n",
    "        os.system('cls' if os.name == 'nt' else 'clear')\n",
    "        print(f\"最新更新：{datetime.now().strftime('%H:%M:%S')}\")\n",
    "        if not valid_df.empty:\n",
    "            display_cols = ['stock_code', 'short_name', 'price', 'change_pct', \n",
    "                           'main_net_inflow', 'prediction']\n",
    "            print(valid_df[display_cols].to_string(index=False))\n",
    "        else:\n",
    "            print(\"暂无有效数据\")\n",
    "        \n",
    "        # 生成网页文件\n",
    "        if not valid_df.empty:\n",
    "            generate_html(valid_df)\n",
    "            print(f\"已更新监控页面 -> {HTML_FILENAME}\")\n",
    "        \n",
    "        # 精确间隔控制\n",
    "        sleep_time = 30 - (time.time() - start_time) % 30\n",
    "        time.sleep(max(sleep_time, 1))\n",
    "\n",
    "if __name__ == \"__main__\":\n",
    "    main()"
   ]
  },
  {
   "cell_type": "code",
   "execution_count": 1,
   "metadata": {},
   "outputs": [
    {
     "name": "stdout",
     "output_type": "stream",
     "text": [
      "[动态分Δ] -0.1\n",
      "[最终评分] 0\n",
      "[操作建议] 中性观望\n"
     ]
    }
   ],
   "source": [
    "class StockScorer:\n",
    "\n",
    "    def calculate_delta(self, main, big, medium, small, turnover_change, price_change):\n",
    "        \"\"\"\n",
    "        计算实时动态分Δ\n",
    "        :param main:     主力资金净流入（万元）\n",
    "        :param big:      大户资金净流入（万元）\n",
    "        :param medium:   中单资金净流入（万元）\n",
    "        :param small:    小单资金净流入（万元）\n",
    "        :param turnover_change: 换手率较前日变化（百分比，如+50表示增加50%）\n",
    "        :param price_change:    价格涨跌幅（百分比，如-2表示下跌2%）\n",
    "        :return: 动态分Δ（范围±5）\n",
    "        \"\"\"\n",
    "        # 计算各指标得分\n",
    "        main_score = self._calc_main(main)\n",
    "        big_score = self._calc_big(big)\n",
    "        medium_score = self._calc_medium(medium)\n",
    "        small_score = self._calc_small(small)\n",
    "        turnover_score = self._calc_turnover(turnover_change)\n",
    "        price_score = self._calc_price(price_change)\n",
    "\n",
    "        # 加权求和并限制范围\n",
    "        delta = sum([\n",
    "            main_score,     # 主力权重已包含在公式中\n",
    "            big_score,      # 大户权重已包含在公式中\n",
    "            medium_score,   # 中单权重已包含在公式中\n",
    "            small_score,    # 小单权重已包含在公式中\n",
    "            turnover_score, # 换手率权重已包含在公式中\n",
    "            price_score     # 价格权重已包含在公式中\n",
    "        ])\n",
    "        return max(min(delta, 5), -5)\n",
    "\n",
    "    def _calc_main(self, amount):\n",
    "        \"\"\"主力资金得分（权重30%）\"\"\"\n",
    "        score = (amount / 100) * 0.3  # 每100万±0.3分\n",
    "        return max(min(score, 3), -3)  # 限制±3分\n",
    "\n",
    "    def _calc_big(self, amount):\n",
    "        \"\"\"大户资金得分（权重20%）\"\"\"\n",
    "        score = (amount / 50) * 0.2   # 每50万±0.2分\n",
    "        return max(min(score, 2), -2)  # 限制±2分\n",
    "\n",
    "    def _calc_medium(self, amount):\n",
    "        \"\"\"中单资金得分（权重-10%）\"\"\"\n",
    "        score = -(amount / 100) * 0.1 # 每100万-0.1分\n",
    "        return max(score, -1)         # 下限-1分\n",
    "\n",
    "    def _calc_small(self, amount):\n",
    "        \"\"\"小单资金得分（权重-10%）\"\"\"\n",
    "        score = -(amount / 50) * 0.1  # 每50万-0.1分\n",
    "        return max(score, -1)         # 下限-1分\n",
    "\n",
    "    def _calc_turnover(self, change):\n",
    "        \"\"\"换手率得分（权重15%）\"\"\"\n",
    "        if change >= 50:    # 增超50% → +1分\n",
    "            return 1\n",
    "        elif change <= -20: # 减少20% → -1分\n",
    "            return -1\n",
    "        else:\n",
    "            return 0\n",
    "\n",
    "    def _calc_price(self, change):\n",
    "        \"\"\"价格涨幅得分（权重15%）\"\"\"\n",
    "        score = change * 0.5  # 每1%涨跌±0.5分\n",
    "        return max(min(score, 3), -3)  # 限制±3分\n",
    "\n",
    "    def get_final_score(self, delta):\n",
    "        \"\"\"计算最终评分（0-10）\"\"\"\n",
    "        final = delta\n",
    "        return max(min(round(final, 1), 10), 0)  # 保留1位小数\n",
    "\n",
    "    def get_recommendation(self, final_score):\n",
    "        \"\"\"生成操作建议\"\"\"\n",
    "        if final_score <= -3:\n",
    "            return \"强烈卖出\"\n",
    "        elif -2 <= final_score <= -1:\n",
    "            return \"卖出\"\n",
    "        elif 0 <= final_score < 2:\n",
    "            return \"中性观望\"\n",
    "        elif 2 <= final_score <= 4:\n",
    "            return \"买入\"\n",
    "        else:  # 5\n",
    "            return \"强烈买入\"\n",
    "\n",
    "if __name__ == \"__main__\":\n",
    "    # 示例测试（对应文档案例）\n",
    "    scorer = StockScorer()\n",
    "    \n",
    "    # 实时数据输入\n",
    "    delta = scorer.calculate_delta(\n",
    "        main=600,       # 主力+600万\n",
    "        big=-100,       # 大户-100万\n",
    "        medium=200,     # 中单+200万\n",
    "        small=150,      # 小单+150万\n",
    "        turnover_change=30,  # 换手率增30%\n",
    "        price_change=-2      # 价格跌2%\n",
    "    )\n",
    "    \n",
    "    final_score = scorer.get_final_score(delta)\n",
    "    recommendation = scorer.get_recommendation(final_score)\n",
    "    \n",
    "    print(f\"[动态分Δ] {delta:.1f}\")\n",
    "    print(f\"[最终评分] {final_score}\")\n",
    "    print(f\"[操作建议] {recommendation}\")"
   ]
  },
  {
   "cell_type": "code",
   "execution_count": null,
   "metadata": {},
   "outputs": [
    {
     "name": "stdout",
     "output_type": "stream",
     "text": [
      "DEBUG - main类型: <class 'float'>, 值: -8225.691\n",
      "DEBUG - price_change类型: <class 'float'>, 值: -0.08\n",
      "DEBUG - turnover_change类型: <class 'float'>, 值: 0.68\n",
      "[2025-03-13 14:28:04.899587] 评分结果: 0 (中性观望)\n",
      "DEBUG - main类型: <class 'float'>, 值: -8225.691\n",
      "DEBUG - price_change类型: <class 'float'>, 值: -0.08\n",
      "DEBUG - turnover_change类型: <class 'float'>, 值: 0.68\n",
      "[2025-03-13 14:29:08.052482] 评分结果: 0 (中性观望)\n",
      "DEBUG - main类型: <class 'float'>, 值: -8225.691\n",
      "DEBUG - price_change类型: <class 'float'>, 值: -0.08\n",
      "DEBUG - turnover_change类型: <class 'float'>, 值: 0.68\n",
      "[2025-03-13 14:30:11.079500] 评分结果: 0 (中性观望)\n",
      "DEBUG - main类型: <class 'float'>, 值: -8225.691\n",
      "DEBUG - price_change类型: <class 'float'>, 值: -0.08\n",
      "DEBUG - turnover_change类型: <class 'float'>, 值: 0.68\n",
      "[2025-03-13 14:31:14.288657] 评分结果: 0 (中性观望)\n"
     ]
    },
    {
     "ename": "KeyboardInterrupt",
     "evalue": "",
     "output_type": "error",
     "traceback": [
      "\u001b[1;31m---------------------------------------------------------------------------\u001b[0m",
      "\u001b[1;31mKeyboardInterrupt\u001b[0m                         Traceback (most recent call last)",
      "Cell \u001b[1;32mIn[2], line 177\u001b[0m\n\u001b[0;32m    175\u001b[0m \u001b[38;5;28;01mif\u001b[39;00m \u001b[38;5;18m__name__\u001b[39m \u001b[38;5;241m==\u001b[39m \u001b[38;5;124m\"\u001b[39m\u001b[38;5;124m__main__\u001b[39m\u001b[38;5;124m\"\u001b[39m:\n\u001b[0;32m    176\u001b[0m     monitor \u001b[38;5;241m=\u001b[39m StockMonitor(stock_code\u001b[38;5;241m=\u001b[39m\u001b[38;5;124m'\u001b[39m\u001b[38;5;124m000001\u001b[39m\u001b[38;5;124m'\u001b[39m)\n\u001b[1;32m--> 177\u001b[0m     \u001b[43mmonitor\u001b[49m\u001b[38;5;241;43m.\u001b[39;49m\u001b[43mstart_monitoring\u001b[49m\u001b[43m(\u001b[49m\u001b[43m)\u001b[49m\n",
      "Cell \u001b[1;32mIn[2], line 173\u001b[0m, in \u001b[0;36mStockMonitor.start_monitoring\u001b[1;34m(self)\u001b[0m\n\u001b[0;32m    171\u001b[0m \u001b[38;5;28;01mif\u001b[39;00m during_trading_hours():\n\u001b[0;32m    172\u001b[0m     schedule\u001b[38;5;241m.\u001b[39mrun_pending()\n\u001b[1;32m--> 173\u001b[0m \u001b[43mtime\u001b[49m\u001b[38;5;241;43m.\u001b[39;49m\u001b[43msleep\u001b[49m\u001b[43m(\u001b[49m\u001b[38;5;241;43m60\u001b[39;49m\u001b[43m)\u001b[49m\n",
      "\u001b[1;31mKeyboardInterrupt\u001b[0m: "
     ]
    }
   ],
   "source": [
    "import schedule\n",
    "import time\n",
    "import pytz\n",
    "import adata\n",
    "import pandas as pd\n",
    "from datetime import datetime, time as dt_time\n",
    "#from StockScorer import StockScorer  # 假设原评分器代码保存为StockScorer.py\n",
    "\n",
    "\n",
    "def get_today_date():\n",
    "    \"\"\"\n",
    "    Returns today's date in 'YYYY-MM-DD' format using China Standard Time (CST).\n",
    "    \n",
    "    Returns:\n",
    "        str: Today's date string in 'YYYY-MM-DD' format\n",
    "    \"\"\"\n",
    "    # Get current time in China Standard Time\n",
    "    china_tz = pytz.timezone('Asia/Shanghai')\n",
    "    current_time_china = datetime.now(china_tz)\n",
    "    \n",
    "    # Format the date as YYYY-MM-DD\n",
    "    formatted_date = current_time_china.strftime('%Y-%m-%d')\n",
    "    \n",
    "    return formatted_date\n",
    "\n",
    "\n",
    "class StockMonitor:\n",
    "    def __init__(self, stock_code='000001'):\n",
    "        self.stock_code = stock_code\n",
    "        self.scorer = StockScorer()\n",
    "        \n",
    "        # 缓存股本数据（避免频繁查询）\n",
    "        self._cached_shares = None\n",
    "        self._last_share_update = None\n",
    "    def _get_capital_data(self):\n",
    "        \"\"\"获取资金流数据并转换为万元\"\"\"\n",
    "        try:\n",
    "            df = adata.stock.market.get_capital_flow_min(stock_code=self.stock_code)\n",
    "            latest = df.iloc[-1]\n",
    "            return {\n",
    "                'main': float(latest['main_net_inflow']) / 10000,  # 强制转换为浮点\n",
    "                'big': float(latest['lg_net_inflow']) / 10000,\n",
    "                'medium': float(latest['mid_net_inflow']) / 10000,\n",
    "                'small': float(latest['sm_net_inflow']) / 10000,\n",
    "                'timestamp': latest['trade_time']   \n",
    "            }\n",
    "        except Exception as e:\n",
    "            print(f\"资金流数据获取失败: {str(e)}\")\n",
    "            return None\n",
    "\n",
    "\n",
    "    \n",
    "    def _get_market_data(self):\n",
    "        \"\"\"获取市场数据（新方案）\"\"\"\n",
    "        try:\n",
    "            # 获取实时价格数据\n",
    "            price_df = adata.stock.market.list_market_current(code_list=[self.stock_code])\n",
    "            if price_df.empty:\n",
    "                return None\n",
    "                \n",
    "            latest_price = price_df.iloc[0]\n",
    "            volume = float(latest_price['volume'])\n",
    "            \n",
    "            # 计算换手率\n",
    "            turnover_ratio = self._calculate_turnover(volume)\n",
    "            if turnover_ratio is None:\n",
    "                return None\n",
    "                \n",
    "            return {\n",
    "                'price_change': float(latest_price['change_pct']),  # 强制转换\n",
    "                'turnover_change': float(turnover_ratio),\n",
    "                'timestamp': datetime.now()\n",
    "            }\n",
    "        except Exception as e:\n",
    "            print(f\"市场数据获取异常: {str(e)}\")\n",
    "            return None\n",
    "        \n",
    "    \n",
    "    def _get_share_structure(self):\n",
    "        \"\"\"获取最新流通A股股本\"\"\"\n",
    "        try:\n",
    "            # 每天只更新一次股本数据\n",
    "            if self._cached_shares and (datetime.now() - self._last_share_update).days < 1:\n",
    "                return self._cached_shares\n",
    "            \n",
    "            df = adata.stock.info.get_stock_shares(\n",
    "                stock_code=self.stock_code,\n",
    "                is_history=False  # 获取全部历史数据\n",
    "            )\n",
    "            \n",
    "            if not df.empty:\n",
    "                # 取最新日期的流通A股数据\n",
    "                latest = df.iloc[0]\n",
    "                self._cached_shares = latest['list_a_shares']\n",
    "                self._last_share_update = datetime.now()\n",
    "                return self._cached_shares\n",
    "            return None\n",
    "        except Exception as e:\n",
    "            print(f\"股本数据获取失败: {str(e)}\")\n",
    "            return None\n",
    "        \n",
    "    def _calculate_turnover(self, volume):\n",
    "        \"\"\"计算换手率\"\"\"\n",
    "        shares = self._get_share_structure()\n",
    "        if not shares or shares <= 0:\n",
    "            print(\"错误：流通股本数据无效\")\n",
    "            return 0.0\n",
    "            \n",
    "        try:\n",
    "            return round((volume / shares) * 100, 2)  # 换手率百分比\n",
    "        except ZeroDivisionError:\n",
    "            print(\"错误：流通股本为零\")\n",
    "            return 0.0\n",
    "        \n",
    "    def _run_scoring(self):\n",
    "        \"\"\"执行评分任务\"\"\"\n",
    "        capital = self._get_capital_data()\n",
    "        market = self._get_market_data()\n",
    "        \n",
    "        if capital and market:\n",
    "            try:\n",
    "                # 数据对齐检查\n",
    "                #if (capital['timestamp'] - market['timestamp']).total_seconds() > 300:\n",
    "                    #print(\"警告：资金流与市场数据时间不匹配\")\n",
    "                \n",
    "                # 在_run_scoring中添加类型检查\n",
    "                print(f\"DEBUG - main类型: {type(capital['main'])}, 值: {capital['main']}\")\n",
    "                print(f\"DEBUG - price_change类型: {type(market['price_change'])}, 值: {market['price_change']}\")\n",
    "                print(f\"DEBUG - turnover_change类型: {type(market['turnover_change'])}, 值: {market['turnover_change']}\")\n",
    "                delta = self.scorer.calculate_delta(\n",
    "                    main=capital['main'],\n",
    "                    big=capital['big'],\n",
    "                    medium=capital['medium'],\n",
    "                    small=capital['small'],\n",
    "                    turnover_change=market['turnover_change'],\n",
    "                    price_change=market['price_change']\n",
    "                )\n",
    "                \n",
    "\n",
    "                final_score = self.scorer.get_final_score(delta)\n",
    "                recommendation = self.scorer.get_recommendation(final_score)\n",
    "                \n",
    "                # 存储结果（示例存储到CSV）\n",
    "                result = {\n",
    "                    'timestamp': datetime.now(),\n",
    "                    \"涨幅\": market['price_change'],\n",
    "                    \"换手率\": market['turnover_change'],\n",
    "                    'main': capital['main'],\n",
    "                    'big': capital['big'],\n",
    "                    'medium': capital['medium'],\n",
    "                    'small': capital['small'],\n",
    "                    'delta': delta,\n",
    "                    'final_score': final_score,\n",
    "                    'recommendation': recommendation\n",
    "                }\n",
    "                pd.DataFrame([result]).to_csv('scores.csv', mode='a', header=False)\n",
    "                \n",
    "                print(f\"[{datetime.now()}] 评分结果: {final_score} ({recommendation})\")\n",
    "                \n",
    "            except Exception as e:\n",
    "                print(f\"评分计算失败: {str(e)}\")\n",
    "\n",
    "    def start_monitoring(self):\n",
    "        \"\"\"启动定时监控\"\"\"\n",
    "        schedule.every(1).minutes.do(self._run_scoring)\n",
    "        \n",
    "        # 仅在交易时段运行（示例为A股时间）\n",
    "        def during_trading_hours():\n",
    "            now = datetime.now().time()\n",
    "            is_weekday = datetime.now().weekday() < 5  # 0-4为周一到周五\n",
    "            \n",
    "            return is_weekday and (\n",
    "                (dt_time(9, 30) <= now <= dt_time(11, 30) or \n",
    "                (dt_time(13, 0) <= now <= dt_time(15, 0))))\n",
    "        \n",
    "        while True:\n",
    "            if during_trading_hours():\n",
    "                schedule.run_pending()\n",
    "            time.sleep(60)  # 每分钟检查一次\n",
    "\n",
    "if __name__ == \"__main__\":\n",
    "    monitor = StockMonitor(stock_code='000001')\n",
    "    monitor.start_monitoring()"
   ]
  },
  {
   "cell_type": "code",
   "execution_count": null,
   "metadata": {},
   "outputs": [],
   "source": []
  }
 ],
 "metadata": {
  "kernelspec": {
   "display_name": "Python 3",
   "language": "python",
   "name": "python3"
  },
  "language_info": {
   "codemirror_mode": {
    "name": "ipython",
    "version": 3
   },
   "file_extension": ".py",
   "mimetype": "text/x-python",
   "name": "python",
   "nbconvert_exporter": "python",
   "pygments_lexer": "ipython3",
   "version": "3.11.9"
  }
 },
 "nbformat": 4,
 "nbformat_minor": 2
}
