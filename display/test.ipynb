{
 "cells": [
  {
   "cell_type": "code",
   "execution_count": 1,
   "metadata": {},
   "outputs": [
    {
     "name": "stdout",
     "output_type": "stream",
     "text": [
      "  stock_code short_name   price  change change_pct     volume        amount\n",
      "0     000001       平安银行   11.84   -0.01      -0.08  131237100  1555120000.0\n",
      "1     000795        英洛华   11.70   -0.54      -4.41   79305400   932640000.0\n",
      "2     872925       锦好医疗  14.160  -0.520     -3.542    3401775  48949309.220\n"
     ]
    }
   ],
   "source": [
    "import adata\n",
    "df = adata.stock.market.list_market_current(code_list=['000001', '600001', '000795', '872925'])\n",
    "print(df)\n"
   ]
  },
  {
   "cell_type": "code",
   "execution_count": 4,
   "metadata": {},
   "outputs": [
    {
     "name": "stdout",
     "output_type": "stream",
     "text": [
      "  stock_code change_date  total_shares  limit_shares  list_a_shares  \\\n",
      "0     000001  2024-06-30   19405918198        300670    19405617528   \n",
      "\n",
      "  change_reason  \n",
      "0        高管股份变动  \n"
     ]
    }
   ],
   "source": [
    "import adata\n",
    "df = adata.stock.info.get_stock_shares(stock_code='000001', is_history=False)\n",
    "print(df)\n"
   ]
  },
  {
   "cell_type": "code",
   "execution_count": null,
   "metadata": {},
   "outputs": [
    {
     "data": {
      "text/plain": [
       "0.006762840698609073"
      ]
     },
     "execution_count": 5,
     "metadata": {},
     "output_type": "execute_result"
    }
   ],
   "source": [
    "131237100/19405617528"
   ]
  }
 ],
 "metadata": {
  "kernelspec": {
   "display_name": "Python 3",
   "language": "python",
   "name": "python3"
  },
  "language_info": {
   "codemirror_mode": {
    "name": "ipython",
    "version": 3
   },
   "file_extension": ".py",
   "mimetype": "text/x-python",
   "name": "python",
   "nbconvert_exporter": "python",
   "pygments_lexer": "ipython3",
   "version": "3.11.9"
  }
 },
 "nbformat": 4,
 "nbformat_minor": 2
}
