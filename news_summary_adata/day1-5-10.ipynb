{
 "cells": [
  {
   "cell_type": "code",
   "execution_count": null,
   "metadata": {},
   "outputs": [],
   "source": [
    "import adata\n",
    "import json\n",
    "import pandas as pd\n",
    "\n",
    "# Get the capital flow data for different time periods\n"
   ]
  },
  {
   "cell_type": "code",
   "execution_count": 2,
   "metadata": {},
   "outputs": [],
   "source": [
    "df_1day = adata.stock.market.all_capital_flow_east(days_type=1)"
   ]
  },
  {
   "cell_type": "code",
   "execution_count": 3,
   "metadata": {},
   "outputs": [],
   "source": [
    "df_5day = adata.stock.market.all_capital_flow_east(days_type=5)"
   ]
  },
  {
   "cell_type": "code",
   "execution_count": 4,
   "metadata": {},
   "outputs": [],
   "source": [
    "df_10day = adata.stock.market.all_capital_flow_east(days_type=10)"
   ]
  },
  {
   "cell_type": "code",
   "execution_count": 5,
   "metadata": {},
   "outputs": [
    {
     "name": "stdout",
     "output_type": "stream",
     "text": [
      "Restructured data saved to capital_flow_restructured.json with 579 records\n"
     ]
    }
   ],
   "source": [
    "# Create a dictionary to store the restructured data\n",
    "restructured_data = {}\n",
    "\n",
    "# Process 1-day data\n",
    "for _, row in df_1day.iterrows():\n",
    "    index_code = row['index_code']\n",
    "    if index_code not in restructured_data:\n",
    "        restructured_data[index_code] = {\n",
    "            'index_code': index_code,\n",
    "            'index_name': row['index_name'],\n",
    "            'days_type_1': {},\n",
    "            'days_type_5': {},\n",
    "            'days_type_10': {}\n",
    "        }\n",
    "    \n",
    "    # Add all columns except index_code and index_name to days_type_1\n",
    "    days_type_1_data = {col: row[col] for col in row.index if col not in ['index_code', 'index_name']}\n",
    "    restructured_data[index_code]['days_type_1'] = days_type_1_data\n",
    "\n",
    "# Process 5-day data\n",
    "for _, row in df_5day.iterrows():\n",
    "    index_code = row['index_code']\n",
    "    if index_code not in restructured_data:\n",
    "        restructured_data[index_code] = {\n",
    "            'index_code': index_code,\n",
    "            'index_name': row['index_name'],\n",
    "            'days_type_1': {},\n",
    "            'days_type_5': {},\n",
    "            'days_type_10': {}\n",
    "        }\n",
    "    \n",
    "    # Add all columns except index_code and index_name to days_type_5\n",
    "    days_type_5_data = {col: row[col] for col in row.index if col not in ['index_code', 'index_name']}\n",
    "    restructured_data[index_code]['days_type_5'] = days_type_5_data\n",
    "\n",
    "# Process 10-day data\n",
    "for _, row in df_10day.iterrows():\n",
    "    index_code = row['index_code']\n",
    "    if index_code not in restructured_data:\n",
    "        restructured_data[index_code] = {\n",
    "            'index_code': index_code,\n",
    "            'index_name': row['index_name'],\n",
    "            'days_type_1': {},\n",
    "            'days_type_5': {},\n",
    "            'days_type_10': {}\n",
    "        }\n",
    "    \n",
    "    # Add all columns except index_code and index_name to days_type_10\n",
    "    days_type_10_data = {col: row[col] for col in row.index if col not in ['index_code', 'index_name']}\n",
    "    restructured_data[index_code]['days_type_10'] = days_type_10_data\n",
    "\n",
    "# Convert the dictionary to a list for JSON serialization\n",
    "restructured_list = list(restructured_data.values())\n",
    "\n",
    "# Save to JSON file with proper encoding for Chinese characters\n",
    "with open('f:/AI/quant_HC/news_summary_adata/capital_flow_restructured.json', 'w', encoding='utf-8') as f:\n",
    "    json.dump(restructured_list, f, ensure_ascii=False, indent=2)\n",
    "\n",
    "print(f\"Restructured data saved to capital_flow_restructured.json with {len(restructured_list)} records\")"
   ]
  }
 ],
 "metadata": {
  "kernelspec": {
   "display_name": "news",
   "language": "python",
   "name": "python3"
  },
  "language_info": {
   "codemirror_mode": {
    "name": "ipython",
    "version": 3
   },
   "file_extension": ".py",
   "mimetype": "text/x-python",
   "name": "python",
   "nbconvert_exporter": "python",
   "pygments_lexer": "ipython3",
   "version": "3.13.2"
  }
 },
 "nbformat": 4,
 "nbformat_minor": 2
}
