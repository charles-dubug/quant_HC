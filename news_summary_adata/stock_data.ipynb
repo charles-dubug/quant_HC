{
 "cells": [
  {
   "cell_type": "code",
   "execution_count": 2,
   "metadata": {},
   "outputs": [],
   "source": [
    "import adata\n",
    "import utils"
   ]
  },
  {
   "cell_type": "code",
   "execution_count": 3,
   "metadata": {},
   "outputs": [
    {
     "name": "stdout",
     "output_type": "stream",
     "text": [
      "2025-02-20\n",
      "2025-03-06\n"
     ]
    }
   ],
   "source": [
    "date = utils.get_date_ten_trading_days_ago()\n",
    "today = utils.get_today_date()\n",
    "print(date)\n",
    "print(today)"
   ]
  },
  {
   "cell_type": "code",
   "execution_count": 4,
   "metadata": {},
   "outputs": [],
   "source": [
    "df = adata.stock.market.get_capital_flow(stock_code='603616', start_date=date)\n"
   ]
  },
  {
   "cell_type": "code",
   "execution_count": 5,
   "metadata": {},
   "outputs": [],
   "source": [
    "json_data = utils.stock_capital_flow_df_to_json(df)"
   ]
  },
  {
   "cell_type": "code",
   "execution_count": 6,
   "metadata": {},
   "outputs": [
    {
     "name": "stdout",
     "output_type": "stream",
     "text": [
      "{\n",
      "  \"stock_code\": \"603616\",\n",
      "  \"capital_flow\": [\n",
      "    {\n",
      "      \"trade_date\": \"2025-03-04\",\n",
      "      \"main_net_inflow\": -2745800.0,\n",
      "      \"sm_net_inflow\": -1794600.0,\n",
      "      \"mid_net_inflow\": 4540400.0,\n",
      "      \"lg_net_inflow\": -2745800.0,\n",
      "      \"max_net_inflow\": 0.0\n",
      "    },\n",
      "    {\n",
      "      \"trade_date\": \"2025-03-03\",\n",
      "      \"main_net_inflow\": -586400.0,\n",
      "      \"sm_net_inflow\": -737600.0,\n",
      "      \"mid_net_inflow\": 1324000.0,\n",
      "      \"lg_net_inflow\": -586400.0,\n",
      "      \"max_net_inflow\": 0.0\n",
      "    },\n",
      "    {\n",
      "      \"trade_date\": \"2025-02-28\",\n",
      "      \"main_net_inflow\": 890500.0,\n",
      "      \"sm_net_inflow\": 1490000.0,\n",
      "      \"mid_net_inflow\": -2380600.0,\n",
      "      \"lg_net_inflow\": 890500.0,\n",
      "      \"max_net_inflow\": 0.0\n",
      "    },\n",
      "    {\n",
      "      \"trade_date\": \"2025-02-27\",\n",
      "      \"main_net_inflow\": -769700.0,\n",
      "      \"sm_net_inflow\": 671400.0,\n",
      "      \"mid_net_inflow\": 98300.0,\n",
      "      \"lg_net_inflow\": -769700.0,\n",
      "      \"max_net_inflow\": 0.0\n",
      "    },\n",
      "    {\n",
      "      \"trade_date\": \"2025-02-26\",\n",
      "      \"main_net_inflow\": -3523500.0,\n",
      "      \"sm_net_inflow\": 1109400.0,\n",
      "      \"mid_net_inflow\": 2414100.0,\n",
      "      \"lg_net_inflow\": -1661399.9999999998,\n",
      "      \"max_net_inflow\": -1862200.0\n",
      "    },\n",
      "    {\n",
      "      \"trade_date\": \"2025-02-25\",\n",
      "      \"main_net_inflow\": 913000.0,\n",
      "      \"sm_net_inflow\": -1217700.0,\n",
      "      \"mid_net_inflow\": 304700.0,\n",
      "      \"lg_net_inflow\": 913000.0,\n",
      "      \"max_net_inflow\": 0.0\n",
      "    },\n",
      "    {\n",
      "      \"trade_date\": \"2025-02-24\",\n",
      "      \"main_net_inflow\": -4375100.0,\n",
      "      \"sm_net_inflow\": 6101400.0,\n",
      "      \"mid_net_inflow\": -1726300.0,\n",
      "      \"lg_net_inflow\": -4212700.0,\n",
      "      \"max_net_inflow\": -162399.99999999997\n",
      "    },\n",
      "    {\n",
      "      \"trade_date\": \"2025-02-21\",\n",
      "      \"main_net_inflow\": -245900.0,\n",
      "      \"sm_net_inflow\": -418200.0,\n",
      "      \"mid_net_inflow\": 664200.0,\n",
      "      \"lg_net_inflow\": -2374500.0,\n",
      "      \"max_net_inflow\": 2128500.0\n",
      "    },\n",
      "    {\n",
      "      \"trade_date\": \"2025-02-20\",\n",
      "      \"main_net_inflow\": -1883400.0,\n",
      "      \"sm_net_inflow\": 509900.0,\n",
      "      \"mid_net_inflow\": 1373500.0,\n",
      "      \"lg_net_inflow\": -1883400.0,\n",
      "      \"max_net_inflow\": 0.0\n",
      "    }\n",
      "  ]\n",
      "}\n"
     ]
    }
   ],
   "source": [
    "# Print the JSON data (or you can use json.dumps for pretty printing)\n",
    "import json\n",
    "print(json.dumps(json_data, indent=2))"
   ]
  },
  {
   "cell_type": "code",
   "execution_count": 7,
   "metadata": {},
   "outputs": [
    {
     "name": "stdout",
     "output_type": "stream",
     "text": [
      "    stock_code          trade_time  main_net_inflow  sm_net_inflow  \\\n",
      "0       603616 2025-03-05 09:31:00              0.0      -303204.0   \n",
      "1       603616 2025-03-05 09:32:00        -219198.0        -9311.0   \n",
      "2       603616 2025-03-05 09:33:00        -219198.0       -90589.0   \n",
      "3       603616 2025-03-05 09:34:00        -219198.0      -155658.0   \n",
      "4       603616 2025-03-05 09:35:00        -588083.0      -217316.0   \n",
      "..         ...                 ...              ...            ...   \n",
      "235     603616 2025-03-05 14:56:00        2607751.0     -1147593.0   \n",
      "236     603616 2025-03-05 14:57:00        2607751.0     -1147593.0   \n",
      "237     603616 2025-03-05 14:58:00        2607751.0     -1147593.0   \n",
      "238     603616 2025-03-05 14:59:00        2607751.0     -1147593.0   \n",
      "239     603616 2025-03-05 15:00:00        2607751.0     -1147593.0   \n",
      "\n",
      "     mid_net_inflow  lg_net_inflow  max_net_inflow  \n",
      "0          303204.0            0.0             0.0  \n",
      "1          228509.0      -219198.0             0.0  \n",
      "2          309787.0      -219198.0             0.0  \n",
      "3          374856.0      -219198.0             0.0  \n",
      "4          805399.0      -588083.0             0.0  \n",
      "..              ...            ...             ...  \n",
      "235      -1460158.0      1308047.0       1299704.0  \n",
      "236      -1460158.0      1308047.0       1299704.0  \n",
      "237      -1460158.0      1308047.0       1299704.0  \n",
      "238      -1460158.0      1308047.0       1299704.0  \n",
      "239      -1460158.0      1308047.0       1299704.0  \n",
      "\n",
      "[240 rows x 7 columns]\n"
     ]
    }
   ],
   "source": [
    "data = adata.stock.market.get_capital_flow_min(stock_code='603616')\n",
    "print(data)"
   ]
  }
 ],
 "metadata": {
  "kernelspec": {
   "display_name": "news",
   "language": "python",
   "name": "python3"
  },
  "language_info": {
   "codemirror_mode": {
    "name": "ipython",
    "version": 3
   },
   "file_extension": ".py",
   "mimetype": "text/x-python",
   "name": "python",
   "nbconvert_exporter": "python",
   "pygments_lexer": "ipython3",
   "version": "3.13.2"
  }
 },
 "nbformat": 4,
 "nbformat_minor": 2
}
