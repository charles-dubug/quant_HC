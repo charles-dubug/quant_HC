{
 "cells": [
  {
   "cell_type": "code",
   "execution_count": 4,
   "metadata": {},
   "outputs": [
    {
     "name": "stdout",
     "output_type": "stream",
     "text": [
      "Sorted 579 predictions by score (highest to lowest)\n",
      "Saved to: f:\\AI\\quant_HC\\news_summary_adata\\predictions_sorted.json\n"
     ]
    }
   ],
   "source": [
    "import utils\n",
    "\n",
    "input_file = r\"f:\\AI\\quant_HC\\news_summary_adata\\predictions.json\"\n",
    "output_file = r\"f:\\AI\\quant_HC\\news_summary_adata\\predictions_sorted.json\"\n",
    "    \n",
    "utils.sort_predictions_by_score(input_file, output_file)"
   ]
  }
 ],
 "metadata": {
  "kernelspec": {
   "display_name": "news",
   "language": "python",
   "name": "python3"
  },
  "language_info": {
   "codemirror_mode": {
    "name": "ipython",
    "version": 3
   },
   "file_extension": ".py",
   "mimetype": "text/x-python",
   "name": "python",
   "nbconvert_exporter": "python",
   "pygments_lexer": "ipython3",
   "version": "3.13.2"
  }
 },
 "nbformat": 4,
 "nbformat_minor": 2
}
